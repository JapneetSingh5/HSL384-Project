{
 "cells": [
  {
   "cell_type": "code",
   "execution_count": 3,
   "metadata": {},
   "outputs": [],
   "source": [
    "import pandas as pd\n",
    "import numpy as np\n",
    "import seaborn as sns"
   ]
  },
  {
   "cell_type": "code",
   "execution_count": 4,
   "metadata": {},
   "outputs": [],
   "source": [
    "df =  pd.read_csv('male_comprehensive_final_3Nov.csv')\n",
    "df['topic_x'] = df['topic'].apply(lambda x: 'T'+str(x))"
   ]
  },
  {
   "cell_type": "code",
   "execution_count": 5,
   "metadata": {},
   "outputs": [
    {
     "name": "stderr",
     "output_type": "stream",
     "text": [
      "/var/folders/lk/c66jcxc517j4m73kkh93rvwr0000gn/T/ipykernel_77215/1582958187.py:2: SettingWithCopyWarning: \n",
      "A value is trying to be set on a copy of a slice from a DataFrame.\n",
      "Try using .loc[row_indexer,col_indexer] = value instead\n",
      "\n",
      "See the caveats in the documentation: https://pandas.pydata.org/pandas-docs/stable/user_guide/indexing.html#returning-a-view-versus-a-copy\n",
      "  extractf['decade'] = extractf['year_x'].apply(lambda x : str(x)[2]+'0s')\n"
     ]
    },
    {
     "data": {
      "text/html": [
       "<div>\n",
       "<style scoped>\n",
       "    .dataframe tbody tr th:only-of-type {\n",
       "        vertical-align: middle;\n",
       "    }\n",
       "\n",
       "    .dataframe tbody tr th {\n",
       "        vertical-align: top;\n",
       "    }\n",
       "\n",
       "    .dataframe thead th {\n",
       "        text-align: right;\n",
       "    }\n",
       "</style>\n",
       "<table border=\"1\" class=\"dataframe\">\n",
       "  <thead>\n",
       "    <tr style=\"text-align: right;\">\n",
       "      <th></th>\n",
       "      <th>year_x</th>\n",
       "      <th>processed_tokens</th>\n",
       "      <th>decade</th>\n",
       "      <th>topic_x</th>\n",
       "    </tr>\n",
       "  </thead>\n",
       "  <tbody>\n",
       "    <tr>\n",
       "      <th>0</th>\n",
       "      <td>1959</td>\n",
       "      <td>['heartache', 'number', 'trouble', 'score', 'e...</td>\n",
       "      <td>50s</td>\n",
       "      <td>T3</td>\n",
       "    </tr>\n",
       "    <tr>\n",
       "      <th>1</th>\n",
       "      <td>1959</td>\n",
       "      <td>['going', 'kansa', 'city', 'kansa', 'city', 'c...</td>\n",
       "      <td>50s</td>\n",
       "      <td>T4</td>\n",
       "    </tr>\n",
       "    <tr>\n",
       "      <th>2</th>\n",
       "      <td>1959</td>\n",
       "      <td>['going', 'kansa', 'city', 'kansa', 'city', 'c...</td>\n",
       "      <td>50s</td>\n",
       "      <td>T1</td>\n",
       "    </tr>\n",
       "    <tr>\n",
       "      <th>3</th>\n",
       "      <td>1959</td>\n",
       "      <td>['lonely', 'boy', 'lonely', 'blue', 'alone', '...</td>\n",
       "      <td>50s</td>\n",
       "      <td>T3</td>\n",
       "    </tr>\n",
       "    <tr>\n",
       "      <th>4</th>\n",
       "      <td>1959</td>\n",
       "      <td>['shark', 'babe', 'teeth', 'dear', 'show', 'pe...</td>\n",
       "      <td>50s</td>\n",
       "      <td>T1</td>\n",
       "    </tr>\n",
       "    <tr>\n",
       "      <th>...</th>\n",
       "      <td>...</td>\n",
       "      <td>...</td>\n",
       "      <td>...</td>\n",
       "      <td>...</td>\n",
       "    </tr>\n",
       "    <tr>\n",
       "      <th>10961</th>\n",
       "      <td>2022</td>\n",
       "      <td>['day', 'intro', 'got', 'hitman', 'beat', 'lov...</td>\n",
       "      <td>20s</td>\n",
       "      <td>T2</td>\n",
       "    </tr>\n",
       "    <tr>\n",
       "      <th>10962</th>\n",
       "      <td>2022</td>\n",
       "      <td>['brambleton', 'intro', 'pusha', 'pharrell', '...</td>\n",
       "      <td>20s</td>\n",
       "      <td>T2</td>\n",
       "    </tr>\n",
       "    <tr>\n",
       "      <th>10963</th>\n",
       "      <td>2022</td>\n",
       "      <td>['burn', 'burn', 'burn', 'well', 'everyone', '...</td>\n",
       "      <td>20s</td>\n",
       "      <td>T1</td>\n",
       "    </tr>\n",
       "    <tr>\n",
       "      <th>10964</th>\n",
       "      <td>2022</td>\n",
       "      <td>['home', 'bet', 'makin', 'new', 'friend', 'pre...</td>\n",
       "      <td>20s</td>\n",
       "      <td>T3</td>\n",
       "    </tr>\n",
       "    <tr>\n",
       "      <th>10965</th>\n",
       "      <td>2022</td>\n",
       "      <td>['euthanasia', 'took', 'fuckin', 'sip', 'ash',...</td>\n",
       "      <td>20s</td>\n",
       "      <td>T3</td>\n",
       "    </tr>\n",
       "  </tbody>\n",
       "</table>\n",
       "<p>10966 rows × 4 columns</p>\n",
       "</div>"
      ],
      "text/plain": [
       "       year_x                                   processed_tokens decade  \\\n",
       "0        1959  ['heartache', 'number', 'trouble', 'score', 'e...    50s   \n",
       "1        1959  ['going', 'kansa', 'city', 'kansa', 'city', 'c...    50s   \n",
       "2        1959  ['going', 'kansa', 'city', 'kansa', 'city', 'c...    50s   \n",
       "3        1959  ['lonely', 'boy', 'lonely', 'blue', 'alone', '...    50s   \n",
       "4        1959  ['shark', 'babe', 'teeth', 'dear', 'show', 'pe...    50s   \n",
       "...       ...                                                ...    ...   \n",
       "10961    2022  ['day', 'intro', 'got', 'hitman', 'beat', 'lov...    20s   \n",
       "10962    2022  ['brambleton', 'intro', 'pusha', 'pharrell', '...    20s   \n",
       "10963    2022  ['burn', 'burn', 'burn', 'well', 'everyone', '...    20s   \n",
       "10964    2022  ['home', 'bet', 'makin', 'new', 'friend', 'pre...    20s   \n",
       "10965    2022  ['euthanasia', 'took', 'fuckin', 'sip', 'ash',...    20s   \n",
       "\n",
       "      topic_x  \n",
       "0          T3  \n",
       "1          T4  \n",
       "2          T1  \n",
       "3          T3  \n",
       "4          T1  \n",
       "...       ...  \n",
       "10961      T2  \n",
       "10962      T2  \n",
       "10963      T1  \n",
       "10964      T3  \n",
       "10965      T3  \n",
       "\n",
       "[10966 rows x 4 columns]"
      ]
     },
     "execution_count": 5,
     "metadata": {},
     "output_type": "execute_result"
    }
   ],
   "source": [
    "extractf = df[['year_x','processed_tokens','decade','topic_x']]\n",
    "extractf['decade'] = extractf['year_x'].apply(lambda x : str(x)[2]+'0s')\n",
    "extractf['decade'].isna().sum()\n",
    "extractf"
   ]
  },
  {
   "cell_type": "code",
   "execution_count": 6,
   "metadata": {},
   "outputs": [
    {
     "data": {
      "text/plain": [
       "['T1', 'T2', 'T3', 'T4']"
      ]
     },
     "execution_count": 6,
     "metadata": {},
     "output_type": "execute_result"
    }
   ],
   "source": [
    "extractf['topic_x'].value_counts()\n",
    "topic_options = extractf['topic_x'].unique()\n",
    "topic_options = sorted(topic_options)\n",
    "topic_options"
   ]
  },
  {
   "cell_type": "code",
   "execution_count": 7,
   "metadata": {},
   "outputs": [
    {
     "name": "stdout",
     "output_type": "stream",
     "text": [
      "<pandas.core.groupby.generic.SeriesGroupBy object at 0x10f5c6dd0>\n"
     ]
    }
   ],
   "source": [
    "decadal_groups = extractf.groupby(by=['decade']).agg('topic_x')\n",
    "print(decadal_groups)"
   ]
  },
  {
   "cell_type": "code",
   "execution_count": 8,
   "metadata": {},
   "outputs": [
    {
     "data": {
      "text/plain": [
       "<pandas.core.groupby.generic.DataFrameGroupBy object at 0x13bd2e920>"
      ]
     },
     "execution_count": 8,
     "metadata": {},
     "output_type": "execute_result"
    }
   ],
   "source": [
    "decade_topic = extractf.groupby(by='decade')[['decade','topic_x']]\n",
    "decade_topic"
   ]
  },
  {
   "cell_type": "code",
   "execution_count": 9,
   "metadata": {},
   "outputs": [
    {
     "data": {
      "text/plain": [
       "array(['50s', '60s', '70s', '80s', '90s', '00s', '10s', '20s'],\n",
       "      dtype=object)"
      ]
     },
     "execution_count": 9,
     "metadata": {},
     "output_type": "execute_result"
    }
   ],
   "source": [
    "decades = extractf['decade'].unique()\n",
    "decades"
   ]
  },
  {
   "cell_type": "code",
   "execution_count": 10,
   "metadata": {},
   "outputs": [
    {
     "data": {
      "text/plain": [
       "decade\n",
       "00s    520\n",
       "Name: T1, dtype: int64"
      ]
     },
     "execution_count": 10,
     "metadata": {},
     "output_type": "execute_result"
    }
   ],
   "source": [
    "decade_df = decade_topic.get_group('00s')\n",
    "decades_final = decade_df.pivot_table(index=\"topic_x\", columns=\"decade\", values=\"topic_x\", aggfunc=np.count_nonzero)\n",
    "decade_df.head()\n",
    "decades_final.loc['T1']"
   ]
  },
  {
   "cell_type": "code",
   "execution_count": 11,
   "metadata": {},
   "outputs": [
    {
     "name": "stdout",
     "output_type": "stream",
     "text": [
      "T1 []\n",
      "T2 []\n",
      "T3 []\n",
      "T4 []\n",
      "T1 [118, 1258, 974, 632, 246, 520, 684, 202]\n",
      "T2 [32, 292, 310, 234, 266, 546, 1284, 676]\n",
      "T3 [164, 1952, 1588, 1582, 948, 1262, 1292, 444]\n",
      "T4 [114, 1066, 848, 792, 486, 386, 622, 112]\n"
     ]
    }
   ],
   "source": [
    "topic_counts =[[],[],[],[]]\n",
    "for i in range(len(topic_options)):\n",
    "    print(topic_options[i], topic_counts[i])\n",
    "for decade in decades:\n",
    "    # print(decade)\n",
    "    decade_df = decade_topic.get_group(decade)\n",
    "    # print(decade_df)\n",
    "    decades_final = decade_df.pivot_table(index=\"topic_x\", columns=\"decade\", values=\"topic_x\", aggfunc=np.count_nonzero)\n",
    "    for i in range(len(topic_options)):\n",
    "        try:\n",
    "            topic_counts[i].append(int(decades_final.loc[topic_options[i]])) \n",
    "        except:\n",
    "            topic_counts[i].append(0) \n",
    "for i in range(len(topic_options)):\n",
    "    print(topic_options[i], topic_counts[i])"
   ]
  },
  {
   "cell_type": "code",
   "execution_count": 12,
   "metadata": {},
   "outputs": [],
   "source": [
    "import pandas as pd\n",
    "import seaborn as sns\n",
    "import matplotlib.pyplot as plt"
   ]
  },
  {
   "cell_type": "code",
   "execution_count": 13,
   "metadata": {},
   "outputs": [
    {
     "data": {
      "image/png": "[encoded data removed]",
      "text/plain": [
       "<Figure size 432x288 with 1 Axes>"
      ]
     },
     "metadata": {
      "needs_background": "light"
     },
     "output_type": "display_data"
    }
   ],
   "source": [
    "df = pd.DataFrame({'Topic1': topic_counts[0],\n",
    "                   'Topic2': topic_counts[1],\n",
    "                   'Topic3': topic_counts[2],\n",
    "                   'Topic4': topic_counts[3]},\n",
    "                  index=decades)\n",
    "                  # create stacked bar chart for monthly temperatures\n",
    "df.plot(kind='bar', stacked=True, color=['red', 'skyblue', 'green','black'])\n",
    " \n",
    "# labels for x & y axis\n",
    "plt.xlabel('Decades')\n",
    "plt.ylabel('Song Count')\n",
    " \n",
    "# title of plot\n",
    "plt.title('Topic Wise Distribution for Male Artists in Billboard Hot 100 over the years')\n",
    "\n",
    "plt.savefig('male-topics-decades.png', dpi=300)"
   ]
  },
  {
   "cell_type": "code",
   "execution_count": 14,
   "metadata": {},
   "outputs": [
    {
     "name": "stderr",
     "output_type": "stream",
     "text": [
      "/var/folders/lk/c66jcxc517j4m73kkh93rvwr0000gn/T/ipykernel_77215/2745948995.py:3: SettingWithCopyWarning: \n",
      "A value is trying to be set on a copy of a slice from a DataFrame.\n",
      "Try using .loc[row_indexer,col_indexer] = value instead\n",
      "\n",
      "See the caveats in the documentation: https://pandas.pydata.org/pandas-docs/stable/user_guide/indexing.html#returning-a-view-versus-a-copy\n",
      "  df_perct['Topic1'] = df['Topic1']*100/df['total']\n",
      "/var/folders/lk/c66jcxc517j4m73kkh93rvwr0000gn/T/ipykernel_77215/2745948995.py:4: SettingWithCopyWarning: \n",
      "A value is trying to be set on a copy of a slice from a DataFrame.\n",
      "Try using .loc[row_indexer,col_indexer] = value instead\n",
      "\n",
      "See the caveats in the documentation: https://pandas.pydata.org/pandas-docs/stable/user_guide/indexing.html#returning-a-view-versus-a-copy\n",
      "  df_perct['Topic2'] = df['Topic2']*100/df['total']\n",
      "/var/folders/lk/c66jcxc517j4m73kkh93rvwr0000gn/T/ipykernel_77215/2745948995.py:5: SettingWithCopyWarning: \n",
      "A value is trying to be set on a copy of a slice from a DataFrame.\n",
      "Try using .loc[row_indexer,col_indexer] = value instead\n",
      "\n",
      "See the caveats in the documentation: https://pandas.pydata.org/pandas-docs/stable/user_guide/indexing.html#returning-a-view-versus-a-copy\n",
      "  df_perct['Topic3'] = df['Topic3']*100/df['total']\n",
      "/var/folders/lk/c66jcxc517j4m73kkh93rvwr0000gn/T/ipykernel_77215/2745948995.py:6: SettingWithCopyWarning: \n",
      "A value is trying to be set on a copy of a slice from a DataFrame.\n",
      "Try using .loc[row_indexer,col_indexer] = value instead\n",
      "\n",
      "See the caveats in the documentation: https://pandas.pydata.org/pandas-docs/stable/user_guide/indexing.html#returning-a-view-versus-a-copy\n",
      "  df_perct['Topic4'] = 100 - df_perct['Topic1'] - df_perct['Topic2'] - df_perct['Topic3']\n"
     ]
    },
    {
     "data": {
      "image/png": "[encoded data removed]",
      "text/plain": [
       "<Figure size 432x288 with 1 Axes>"
      ]
     },
     "metadata": {
      "needs_background": "light"
     },
     "output_type": "display_data"
    }
   ],
   "source": [
    "df['total'] =  df['Topic1'] + df['Topic2'] + df['Topic3'] + df['Topic4']\n",
    "df_perct = df[['Topic1','Topic2','Topic3', 'Topic4']]\n",
    "df_perct['Topic1'] = df['Topic1']*100/df['total']\n",
    "df_perct['Topic2'] = df['Topic2']*100/df['total']\n",
    "df_perct['Topic3'] = df['Topic3']*100/df['total']\n",
    "df_perct['Topic4'] = 100 - df_perct['Topic1'] - df_perct['Topic2'] - df_perct['Topic3']\n",
    "df_perct.plot(\n",
    "    kind = 'barh',\n",
    "    stacked = True,\n",
    "    title = 'Stacked Bar Graph',\n",
    "    mark_right = True)\n",
    "df_perct\n",
    "\n",
    "# labels for x & y axis\n",
    "plt.ylabel('Decades')\n",
    "plt.xlabel('Percentage of Songs')\n",
    " \n",
    "# title of plot\n",
    "plt.title('Topic Wise Distribution for Male Artists in Billboard Hot 100 over the years')\n",
    "\n",
    "plt.savefig('male-topics-decades-perct.png', dpi=300)"
   ]
  },
  {
   "cell_type": "code",
   "execution_count": 15,
   "metadata": {},
   "outputs": [
    {
     "data": {
      "image/png": "[encoded data removed]",
      "text/plain": [
       "<Figure size 432x288 with 1 Axes>"
      ]
     },
     "metadata": {},
     "output_type": "display_data"
    }
   ],
   "source": [
    "import seaborn as sns\n",
    "sns.set_theme(style=\"darkgrid\")\n",
    "sns.lineplot(data=df_perct)\n",
    "# labels for x & y axis\n",
    "# labels for x & y axis\n",
    "plt.ylabel('Decades')\n",
    "plt.xlabel('Percentage of Songs')\n",
    " \n",
    "# title of plot\n",
    "plt.title('Topic Wise Distribution for Male Artists in Billboard Hot 100 over the years')\n",
    "\n",
    "plt.savefig('male-topics-decades-perct-line.png', dpi=300)"
   ]
  }
 ],
 "metadata": {
  "kernelspec": {
   "display_name": "Python 3.10.2 64-bit",
   "language": "python",
   "name": "python3"
  },
  "language_info": {
   "codemirror_mode": {
    "name": "ipython",
    "version": 3
   },
   "file_extension": ".py",
   "mimetype": "text/x-python",
   "name": "python",
   "nbconvert_exporter": "python",
   "pygments_lexer": "ipython3",
   "version": "3.10.2"
  },
  "orig_nbformat": 4,
  "vscode": {
   "interpreter": {
    "hash": "aee8b7b246df8f9039afb4144a1f6fd8d2ca17a180786b69acc140d282b71a49"
   }
  }
 },
 "nbformat": 4,
 "nbformat_minor": 2
}
