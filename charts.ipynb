{
 "cells": [
  {
   "cell_type": "code",
   "execution_count": 3,
   "metadata": {},
   "outputs": [],
   "source": [
    "import pandas as pd\n",
    "import seaborn as sns"
   ]
  },
  {
   "cell_type": "code",
   "execution_count": 10,
   "metadata": {},
   "outputs": [],
   "source": [
    "dict = {'1966': 740, '1967': 736, '1964': 717, '1965': 706, '1961': 686, '1968': 679, '2020': 674, '1962': 670, '1969': 667, '1959': 663, '1963': 662, '2021': 647, '1970': 633, '1971': 612, '2018': 595, '1960': 590, '1972': 583, '1975': 556, '1976': 523, '2019': 519, '1973': 506, '2022': 495, '1974': 494, '2011': 484, '1979': 483, '2010': 474, '1977': 467, '2017': 453, '1980': 450, '1978': 441, '1983': 440, '1984': 431, '2009': 429, '1982': 429, '2008': 411, '2016': 410, '1981': 410, '1985': 404, '1986': 396, '2015': 392, '1987': 388, '1989': 385, '2013': 381, '1991': 380, '1988': 380, '1990': 377, '2006': 366, '2012': 363, '2014': 361, '1992': 358, '1998': 355, '2007': 352, '2005': 344, '1993': 341, '1994': 338, '1995': 332, '1997': 327, '2000': 316, '1999': 310, '2003': 307, '1996': 306, '2004': 303, '2002': 302, '2001': 288}"
   ]
  },
  {
   "cell_type": "code",
   "execution_count": 11,
   "metadata": {},
   "outputs": [
    {
     "name": "stdout",
     "output_type": "stream",
     "text": [
      "OrderedDict([('1959', 663), ('1960', 590), ('1961', 686), ('1962', 670), ('1963', 662), ('1964', 717), ('1965', 706), ('1966', 740), ('1967', 736), ('1968', 679), ('1969', 667), ('1970', 633), ('1971', 612), ('1972', 583), ('1973', 506), ('1974', 494), ('1975', 556), ('1976', 523), ('1977', 467), ('1978', 441), ('1979', 483), ('1980', 450), ('1981', 410), ('1982', 429), ('1983', 440), ('1984', 431), ('1985', 404), ('1986', 396), ('1987', 388), ('1988', 380), ('1989', 385), ('1990', 377), ('1991', 380), ('1992', 358), ('1993', 341), ('1994', 338), ('1995', 332), ('1996', 306), ('1997', 327), ('1998', 355), ('1999', 310), ('2000', 316), ('2001', 288), ('2002', 302), ('2003', 307), ('2004', 303), ('2005', 344), ('2006', 366), ('2007', 352), ('2008', 411), ('2009', 429), ('2010', 474), ('2011', 484), ('2012', 363), ('2013', 381), ('2014', 361), ('2015', 392), ('2016', 410), ('2017', 453), ('2018', 595), ('2019', 519), ('2020', 674), ('2021', 647), ('2022', 495)])\n"
     ]
    }
   ],
   "source": [
    "\n",
    "\n",
    "from collections import OrderedDict\n",
    "dict1 = OrderedDict(sorted(dict.items()))\n",
    "print(dict1)\n"
   ]
  },
  {
   "cell_type": "code",
   "execution_count": 13,
   "metadata": {},
   "outputs": [
    {
     "data": {
      "text/plain": [
       "OrderedDict([('1959', 663),\n",
       "             ('1960', 590),\n",
       "             ('1961', 686),\n",
       "             ('1962', 670),\n",
       "             ('1963', 662),\n",
       "             ('1964', 717),\n",
       "             ('1965', 706),\n",
       "             ('1966', 740),\n",
       "             ('1967', 736),\n",
       "             ('1968', 679),\n",
       "             ('1969', 667),\n",
       "             ('1970', 633),\n",
       "             ('1971', 612),\n",
       "             ('1972', 583),\n",
       "             ('1973', 506),\n",
       "             ('1974', 494),\n",
       "             ('1975', 556),\n",
       "             ('1976', 523),\n",
       "             ('1977', 467),\n",
       "             ('1978', 441),\n",
       "             ('1979', 483),\n",
       "             ('1980', 450),\n",
       "             ('1981', 410),\n",
       "             ('1982', 429),\n",
       "             ('1983', 440),\n",
       "             ('1984', 431),\n",
       "             ('1985', 404),\n",
       "             ('1986', 396),\n",
       "             ('1987', 388),\n",
       "             ('1988', 380),\n",
       "             ('1989', 385),\n",
       "             ('1990', 377),\n",
       "             ('1991', 380),\n",
       "             ('1992', 358),\n",
       "             ('1993', 341),\n",
       "             ('1994', 338),\n",
       "             ('1995', 332),\n",
       "             ('1996', 306),\n",
       "             ('1997', 327),\n",
       "             ('1998', 355),\n",
       "             ('1999', 310),\n",
       "             ('2000', 316),\n",
       "             ('2001', 288),\n",
       "             ('2002', 302),\n",
       "             ('2003', 307),\n",
       "             ('2004', 303),\n",
       "             ('2005', 344),\n",
       "             ('2006', 366),\n",
       "             ('2007', 352),\n",
       "             ('2008', 411),\n",
       "             ('2009', 429),\n",
       "             ('2010', 474),\n",
       "             ('2011', 484),\n",
       "             ('2012', 363),\n",
       "             ('2013', 381),\n",
       "             ('2014', 361),\n",
       "             ('2015', 392),\n",
       "             ('2016', 410),\n",
       "             ('2017', 453),\n",
       "             ('2018', 595),\n",
       "             ('2019', 519),\n",
       "             ('2020', 674),\n",
       "             ('2021', 647),\n",
       "             ('2022', 495)])"
      ]
     },
     "execution_count": 13,
     "metadata": {},
     "output_type": "execute_result"
    }
   ],
   "source": [
    "dict1"
   ]
  },
  {
   "cell_type": "code",
   "execution_count": 46,
   "metadata": {},
   "outputs": [
    {
     "data": {
      "image/png": "[encoded data removed]",
      "text/plain": [
       "<Figure size 504x360 with 1 Axes>"
      ]
     },
     "metadata": {
      "needs_background": "light"
     },
     "output_type": "display_data"
    }
   ],
   "source": [
    "f, ax = plt.subplots(figsize=(7, 5))\n",
    "keys = list(dict1.keys())\n",
    "keys = [key for key in keys]\n",
    "# get values in the same order as keys, and parse percentage values\n",
    "vals = [float(dict1[k]) for k in keys]\n",
    "sns.barplot(x=keys, y=vals)\n",
    "ax.xaxis.set_major_formatter(mpl.ticker.ScalarFormatter())\n",
    "ax.set_xticks([1,21,41,61],labels=['1960', '1980','2000', '2020'])\n",
    "# ax.set_xticks(x=range(len(keys)),ticks=['1960', '1980', '2000', '2020'])\n",
    "plt.xlabel('Years')\n",
    "plt.ylabel('Unique songs')\n",
    "# title of plot\n",
    "plt.title('Unique charting songs over the year')\n",
    "# plt.show()\n",
    "plt.savefig('unique.png',dpi=300)\n"
   ]
  },
  {
   "cell_type": "code",
   "execution_count": 26,
   "metadata": {},
   "outputs": [
    {
     "data": {
      "text/plain": [
       "[<matplotlib.axis.XTick at 0x13accf340>,\n",
       " <matplotlib.axis.XTick at 0x13accf310>,\n",
       " <matplotlib.axis.XTick at 0x13acdfbb0>,\n",
       " <matplotlib.axis.XTick at 0x13acfc760>]"
      ]
     },
     "execution_count": 26,
     "metadata": {},
     "output_type": "execute_result"
    },
    {
     "data": {
      "image/png": "[encoded data removed]",
      "text/plain": [
       "<Figure size 504x360 with 1 Axes>"
      ]
     },
     "metadata": {
      "needs_background": "light"
     },
     "output_type": "display_data"
    }
   ],
   "source": [
    "\n",
    "\n",
    "sns.despine(f)\n",
    "\n",
    "sns.histplot(\n",
    "    y=vals,\n",
    "    x=keys,\n",
    "    linewidth=.5,\n",
    "    log_scale=False,\n",
    ")\n",
    "ax.xaxis.set_major_formatter(mpl.ticker.ScalarFormatter())\n"
   ]
  }
 ],
 "metadata": {
  "kernelspec": {
   "display_name": "Python 3.10.2 64-bit",
   "language": "python",
   "name": "python3"
  },
  "language_info": {
   "codemirror_mode": {
    "name": "ipython",
    "version": 3
   },
   "file_extension": ".py",
   "mimetype": "text/x-python",
   "name": "python",
   "nbconvert_exporter": "python",
   "pygments_lexer": "ipython3",
   "version": "3.10.2"
  },
  "orig_nbformat": 4,
  "vscode": {
   "interpreter": {
    "hash": "aee8b7b246df8f9039afb4144a1f6fd8d2ca17a180786b69acc140d282b71a49"
   }
  }
 },
 "nbformat": 4,
 "nbformat_minor": 2
}
