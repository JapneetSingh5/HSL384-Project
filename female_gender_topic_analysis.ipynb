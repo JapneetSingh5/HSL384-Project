{
 "cells": [
  {
   "cell_type": "code",
   "execution_count": 75,
   "metadata": {},
   "outputs": [],
   "source": [
    "import pandas as pd\n",
    "import numpy as np\n",
    "import seaborn as sns"
   ]
  },
  {
   "cell_type": "code",
   "execution_count": 76,
   "metadata": {},
   "outputs": [],
   "source": [
    "df =  pd.read_csv('female_comprehensive_final_3Nov.csv')\n",
    "df['topic_x'] = df['topic'].apply(lambda x: 'T'+str(x))\n",
    "dm =  pd.read_csv('male_comprehensive_final_3Nov.csv')\n",
    "dm['topic_x'] = dm['topic'].apply(lambda x: 'T'+str(x))"
   ]
  },
  {
   "cell_type": "code",
   "execution_count": 77,
   "metadata": {},
   "outputs": [
    {
     "name": "stderr",
     "output_type": "stream",
     "text": [
      "/var/folders/lk/c66jcxc517j4m73kkh93rvwr0000gn/T/ipykernel_75555/1582958187.py:2: SettingWithCopyWarning: \n",
      "A value is trying to be set on a copy of a slice from a DataFrame.\n",
      "Try using .loc[row_indexer,col_indexer] = value instead\n",
      "\n",
      "See the caveats in the documentation: https://pandas.pydata.org/pandas-docs/stable/user_guide/indexing.html#returning-a-view-versus-a-copy\n",
      "  extractf['decade'] = extractf['year_x'].apply(lambda x : str(x)[2]+'0s')\n"
     ]
    },
    {
     "data": {
      "text/html": [
       "<div>\n",
       "<style scoped>\n",
       "    .dataframe tbody tr th:only-of-type {\n",
       "        vertical-align: middle;\n",
       "    }\n",
       "\n",
       "    .dataframe tbody tr th {\n",
       "        vertical-align: top;\n",
       "    }\n",
       "\n",
       "    .dataframe thead th {\n",
       "        text-align: right;\n",
       "    }\n",
       "</style>\n",
       "<table border=\"1\" class=\"dataframe\">\n",
       "  <thead>\n",
       "    <tr style=\"text-align: right;\">\n",
       "      <th></th>\n",
       "      <th>year_x</th>\n",
       "      <th>processed_tokens</th>\n",
       "      <th>decade</th>\n",
       "      <th>topic_x</th>\n",
       "    </tr>\n",
       "  </thead>\n",
       "  <tbody>\n",
       "    <tr>\n",
       "      <th>0</th>\n",
       "      <td>1959</td>\n",
       "      <td>['hook', 'love', 'porgy', 'let', 'take', 'let'...</td>\n",
       "      <td>50s</td>\n",
       "      <td>T4</td>\n",
       "    </tr>\n",
       "    <tr>\n",
       "      <th>1</th>\n",
       "      <td>1959</td>\n",
       "      <td>['lonely', 'one', 'love', 'lonely', 'soul', 's...</td>\n",
       "      <td>50s</td>\n",
       "      <td>T3</td>\n",
       "    </tr>\n",
       "    <tr>\n",
       "      <th>2</th>\n",
       "      <td>1960</td>\n",
       "      <td>['ueber', 'rio', 'und', 'shanghai', 'ueber', '...</td>\n",
       "      <td>60s</td>\n",
       "      <td>T3</td>\n",
       "    </tr>\n",
       "    <tr>\n",
       "      <th>3</th>\n",
       "      <td>1960</td>\n",
       "      <td>['made', 'night', 'little', 'brighter', 'where...</td>\n",
       "      <td>60s</td>\n",
       "      <td>T1</td>\n",
       "    </tr>\n",
       "    <tr>\n",
       "      <th>4</th>\n",
       "      <td>1960</td>\n",
       "      <td>['shark', 'pretty', 'teeth', 'dear', 'show', '...</td>\n",
       "      <td>60s</td>\n",
       "      <td>T1</td>\n",
       "    </tr>\n",
       "    <tr>\n",
       "      <th>...</th>\n",
       "      <td>...</td>\n",
       "      <td>...</td>\n",
       "      <td>...</td>\n",
       "      <td>...</td>\n",
       "    </tr>\n",
       "    <tr>\n",
       "      <th>2170</th>\n",
       "      <td>2022</td>\n",
       "      <td>['chaotic', 'paralyzing', 'fear', 'maybe', 'no...</td>\n",
       "      <td>20s</td>\n",
       "      <td>T3</td>\n",
       "    </tr>\n",
       "    <tr>\n",
       "      <th>2171</th>\n",
       "      <td>2022</td>\n",
       "      <td>['treat', 'know', 'broke', 'tryna', 'handle', ...</td>\n",
       "      <td>20s</td>\n",
       "      <td>T2</td>\n",
       "    </tr>\n",
       "    <tr>\n",
       "      <th>2172</th>\n",
       "      <td>2022</td>\n",
       "      <td>['dfmu', 'like', 'glimpse', 'past', 'conceal',...</td>\n",
       "      <td>20s</td>\n",
       "      <td>T4</td>\n",
       "    </tr>\n",
       "    <tr>\n",
       "      <th>2173</th>\n",
       "      <td>2022</td>\n",
       "      <td>['snap', '4am', 'turn', 'head', 'wishing', 'me...</td>\n",
       "      <td>20s</td>\n",
       "      <td>T3</td>\n",
       "    </tr>\n",
       "    <tr>\n",
       "      <th>2174</th>\n",
       "      <td>2022</td>\n",
       "      <td>['megan', 'piano', 'intro', 'beat', 'live', 'k...</td>\n",
       "      <td>20s</td>\n",
       "      <td>T2</td>\n",
       "    </tr>\n",
       "  </tbody>\n",
       "</table>\n",
       "<p>2175 rows × 4 columns</p>\n",
       "</div>"
      ],
      "text/plain": [
       "      year_x                                   processed_tokens decade topic_x\n",
       "0       1959  ['hook', 'love', 'porgy', 'let', 'take', 'let'...    50s      T4\n",
       "1       1959  ['lonely', 'one', 'love', 'lonely', 'soul', 's...    50s      T3\n",
       "2       1960  ['ueber', 'rio', 'und', 'shanghai', 'ueber', '...    60s      T3\n",
       "3       1960  ['made', 'night', 'little', 'brighter', 'where...    60s      T1\n",
       "4       1960  ['shark', 'pretty', 'teeth', 'dear', 'show', '...    60s      T1\n",
       "...      ...                                                ...    ...     ...\n",
       "2170    2022  ['chaotic', 'paralyzing', 'fear', 'maybe', 'no...    20s      T3\n",
       "2171    2022  ['treat', 'know', 'broke', 'tryna', 'handle', ...    20s      T2\n",
       "2172    2022  ['dfmu', 'like', 'glimpse', 'past', 'conceal',...    20s      T4\n",
       "2173    2022  ['snap', '4am', 'turn', 'head', 'wishing', 'me...    20s      T3\n",
       "2174    2022  ['megan', 'piano', 'intro', 'beat', 'live', 'k...    20s      T2\n",
       "\n",
       "[2175 rows x 4 columns]"
      ]
     },
     "execution_count": 77,
     "metadata": {},
     "output_type": "execute_result"
    }
   ],
   "source": [
    "extractf = df[['year_x','processed_tokens','decade','topic_x']]\n",
    "extractf['decade'] = extractf['year_x'].apply(lambda x : str(x)[2]+'0s')\n",
    "extractf['decade'].isna().sum()\n",
    "extractf"
   ]
  },
  {
   "cell_type": "code",
   "execution_count": 78,
   "metadata": {},
   "outputs": [
    {
     "data": {
      "text/plain": [
       "['T1', 'T2', 'T3', 'T4']"
      ]
     },
     "execution_count": 78,
     "metadata": {},
     "output_type": "execute_result"
    }
   ],
   "source": [
    "extractf['topic_x'].value_counts()\n",
    "topic_options = extractf['topic_x'].unique()\n",
    "topic_options = sorted(topic_options)\n",
    "topic_options"
   ]
  },
  {
   "cell_type": "code",
   "execution_count": 79,
   "metadata": {},
   "outputs": [
    {
     "name": "stdout",
     "output_type": "stream",
     "text": [
      "<pandas.core.groupby.generic.SeriesGroupBy object at 0x1402f4b50>\n"
     ]
    }
   ],
   "source": [
    "decadal_groups = extractf.groupby(by=['decade']).agg('topic_x')\n",
    "print(decadal_groups)"
   ]
  },
  {
   "cell_type": "code",
   "execution_count": 80,
   "metadata": {},
   "outputs": [
    {
     "data": {
      "text/plain": [
       "<pandas.core.groupby.generic.DataFrameGroupBy object at 0x1402f5570>"
      ]
     },
     "execution_count": 80,
     "metadata": {},
     "output_type": "execute_result"
    }
   ],
   "source": [
    "decade_topic = extractf.groupby(by='decade')[['decade','topic_x']]\n",
    "decade_topic"
   ]
  },
  {
   "cell_type": "code",
   "execution_count": 81,
   "metadata": {},
   "outputs": [
    {
     "data": {
      "text/plain": [
       "array(['50s', '60s', '70s', '80s', '90s', '00s', '10s', '20s'],\n",
       "      dtype=object)"
      ]
     },
     "execution_count": 81,
     "metadata": {},
     "output_type": "execute_result"
    }
   ],
   "source": [
    "decades = extractf['decade'].unique()\n",
    "decades"
   ]
  },
  {
   "cell_type": "code",
   "execution_count": 86,
   "metadata": {},
   "outputs": [
    {
     "data": {
      "text/plain": [
       "decade\n",
       "00s    72\n",
       "Name: T1, dtype: int64"
      ]
     },
     "execution_count": 86,
     "metadata": {},
     "output_type": "execute_result"
    }
   ],
   "source": [
    "decade_df = decade_topic.get_group('00s')\n",
    "decades_final = decade_df.pivot_table(index=\"topic_x\", columns=\"decade\", values=\"topic_x\", aggfunc=np.count_nonzero)\n",
    "decade_df.head()\n",
    "decades_final.loc['T1']"
   ]
  },
  {
   "cell_type": "code",
   "execution_count": 92,
   "metadata": {},
   "outputs": [
    {
     "name": "stdout",
     "output_type": "stream",
     "text": [
      "T1 []\n",
      "T2 []\n",
      "T3 []\n",
      "T4 []\n",
      "T1 [0, 50, 80, 46, 30, 72, 138, 48]\n",
      "T2 [0, 24, 16, 30, 62, 272, 310, 142]\n",
      "T3 [2, 122, 166, 232, 258, 474, 566, 234]\n",
      "T4 [2, 62, 98, 136, 154, 172, 290, 62]\n"
     ]
    }
   ],
   "source": [
    "topic_counts =[[],[],[],[]]\n",
    "for i in range(len(topic_options)):\n",
    "    print(topic_options[i], topic_counts[i])\n",
    "for decade in decades:\n",
    "    # print(decade)\n",
    "    decade_df = decade_topic.get_group(decade)\n",
    "    # print(decade_df)\n",
    "    decades_final = decade_df.pivot_table(index=\"topic_x\", columns=\"decade\", values=\"topic_x\", aggfunc=np.count_nonzero)\n",
    "    for i in range(len(topic_options)):\n",
    "        try:\n",
    "            topic_counts[i].append(int(decades_final.loc[topic_options[i]])) \n",
    "        except:\n",
    "            topic_counts[i].append(0) \n",
    "for i in range(len(topic_options)):\n",
    "    print(topic_options[i], topic_counts[i])"
   ]
  },
  {
   "cell_type": "code",
   "execution_count": 93,
   "metadata": {},
   "outputs": [],
   "source": [
    "import pandas as pd\n",
    "import seaborn as sns\n",
    "import matplotlib.pyplot as plt"
   ]
  },
  {
   "cell_type": "code",
   "execution_count": 95,
   "metadata": {},
   "outputs": [
    {
     "data": {
      "image/png": "[encoded data removed]",
      "text/plain": [
       "<Figure size 432x288 with 1 Axes>"
      ]
     },
     "metadata": {
      "needs_background": "light"
     },
     "output_type": "display_data"
    }
   ],
   "source": [
    "df = pd.DataFrame({'Topic1': topic_counts[0],\n",
    "                   'Topic2': topic_counts[1],\n",
    "                   'Topic3': topic_counts[2],\n",
    "                   'Topic4': topic_counts[3]},\n",
    "                  index=decades)\n",
    "                  # create stacked bar chart for monthly temperatures\n",
    "df.plot(kind='bar', stacked=True, color=['red', 'skyblue', 'green','black'])\n",
    " \n",
    "# labels for x & y axis\n",
    "plt.xlabel('Decades')\n",
    "plt.ylabel('Song Count')\n",
    " \n",
    "# title of plot\n",
    "plt.title('Topic Wise Distribution for Female Artists in Billboard Hot 100 over the years')\n",
    "\n",
    "plt.savefig('female-topics-decades.png', dpi=300)"
   ]
  },
  {
   "cell_type": "code",
   "execution_count": 97,
   "metadata": {},
   "outputs": [
    {
     "name": "stderr",
     "output_type": "stream",
     "text": [
      "/var/folders/lk/c66jcxc517j4m73kkh93rvwr0000gn/T/ipykernel_75555/1514977819.py:3: SettingWithCopyWarning: \n",
      "A value is trying to be set on a copy of a slice from a DataFrame.\n",
      "Try using .loc[row_indexer,col_indexer] = value instead\n",
      "\n",
      "See the caveats in the documentation: https://pandas.pydata.org/pandas-docs/stable/user_guide/indexing.html#returning-a-view-versus-a-copy\n",
      "  df_perct['Topic1'] = df['Topic1']*100/df['total']\n",
      "/var/folders/lk/c66jcxc517j4m73kkh93rvwr0000gn/T/ipykernel_75555/1514977819.py:4: SettingWithCopyWarning: \n",
      "A value is trying to be set on a copy of a slice from a DataFrame.\n",
      "Try using .loc[row_indexer,col_indexer] = value instead\n",
      "\n",
      "See the caveats in the documentation: https://pandas.pydata.org/pandas-docs/stable/user_guide/indexing.html#returning-a-view-versus-a-copy\n",
      "  df_perct['Topic2'] = df['Topic2']*100/df['total']\n",
      "/var/folders/lk/c66jcxc517j4m73kkh93rvwr0000gn/T/ipykernel_75555/1514977819.py:5: SettingWithCopyWarning: \n",
      "A value is trying to be set on a copy of a slice from a DataFrame.\n",
      "Try using .loc[row_indexer,col_indexer] = value instead\n",
      "\n",
      "See the caveats in the documentation: https://pandas.pydata.org/pandas-docs/stable/user_guide/indexing.html#returning-a-view-versus-a-copy\n",
      "  df_perct['Topic3'] = df['Topic3']*100/df['total']\n",
      "/var/folders/lk/c66jcxc517j4m73kkh93rvwr0000gn/T/ipykernel_75555/1514977819.py:6: SettingWithCopyWarning: \n",
      "A value is trying to be set on a copy of a slice from a DataFrame.\n",
      "Try using .loc[row_indexer,col_indexer] = value instead\n",
      "\n",
      "See the caveats in the documentation: https://pandas.pydata.org/pandas-docs/stable/user_guide/indexing.html#returning-a-view-versus-a-copy\n",
      "  df_perct['Topic4'] = 100 - df_perct['Topic1'] - df_perct['Topic2'] - df_perct['Topic3']\n"
     ]
    },
    {
     "data": {
      "image/png": "[encoded data removed]",
      "text/plain": [
       "<Figure size 432x288 with 1 Axes>"
      ]
     },
     "metadata": {
      "needs_background": "light"
     },
     "output_type": "display_data"
    }
   ],
   "source": [
    "df['total'] =  df['Topic1'] + df['Topic2'] + df['Topic3'] + df['Topic4']\n",
    "df_perct = df[['Topic1','Topic2','Topic3', 'Topic4']]\n",
    "df_perct['Topic1'] = df['Topic1']*100/df['total']\n",
    "df_perct['Topic2'] = df['Topic2']*100/df['total']\n",
    "df_perct['Topic3'] = df['Topic3']*100/df['total']\n",
    "df_perct['Topic4'] = 100 - df_perct['Topic1'] - df_perct['Topic2'] - df_perct['Topic3']\n",
    "df_perct.plot(\n",
    "    kind = 'barh',\n",
    "    stacked = True,\n",
    "    title = 'Stacked Bar Graph',\n",
    "    mark_right = True)\n",
    "df_perct\n",
    "\n",
    "# labels for x & y axis\n",
    "plt.ylabel('Decades')\n",
    "plt.xlabel('Percentage of Songs')\n",
    " \n",
    "# title of plot\n",
    "plt.title('Topic Wise Distribution for Female Artists in Billboard Hot 100 over the years')\n",
    "\n",
    "plt.savefig('female-topics-decades-perct.png', dpi=300)"
   ]
  },
  {
   "cell_type": "code",
   "execution_count": 98,
   "metadata": {},
   "outputs": [
    {
     "data": {
      "image/png": "[encoded data removed]",
      "text/plain": [
       "<Figure size 432x288 with 1 Axes>"
      ]
     },
     "metadata": {},
     "output_type": "display_data"
    }
   ],
   "source": [
    "import seaborn as sns\n",
    "sns.set_theme(style=\"darkgrid\")\n",
    "sns.lineplot(data=df_perct)\n",
    "# labels for x & y axis\n",
    "# labels for x & y axis\n",
    "plt.ylabel('Decades')\n",
    "plt.xlabel('Percentage of Songs')\n",
    " \n",
    "# title of plot\n",
    "plt.title('Topic Wise Distribution for Female Artists in Billboard Hot 100 over the years')\n",
    "\n",
    "plt.savefig('female-topics-decades-perct-line.png', dpi=300)"
   ]
  }
 ],
 "metadata": {
  "kernelspec": {
   "display_name": "Python 3.10.2 64-bit",
   "language": "python",
   "name": "python3"
  },
  "language_info": {
   "codemirror_mode": {
    "name": "ipython",
    "version": 3
   },
   "file_extension": ".py",
   "mimetype": "text/x-python",
   "name": "python",
   "nbconvert_exporter": "python",
   "pygments_lexer": "ipython3",
   "version": "3.10.2"
  },
  "orig_nbformat": 4,
  "vscode": {
   "interpreter": {
    "hash": "aee8b7b246df8f9039afb4144a1f6fd8d2ca17a180786b69acc140d282b71a49"
   }
  }
 },
 "nbformat": 4,
 "nbformat_minor": 2
}
