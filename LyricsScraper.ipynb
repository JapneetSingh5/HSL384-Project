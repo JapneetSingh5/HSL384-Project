{
 "cells": [
  {
   "cell_type": "code",
   "execution_count": 1,
   "id": "e0543cfb",
   "metadata": {},
   "outputs": [
    {
     "name": "stdout",
     "output_type": "stream",
     "text": [
      "\u001b[33mDEPRECATION: Configuring installation scheme with distutils config files is deprecated and will no longer work in the near future. If you are using a Homebrew or Linuxbrew Python, please see discussion at https://github.com/Homebrew/homebrew-core/issues/76621\u001b[0m\u001b[33m\n",
      "\u001b[0mCollecting lyricsgenius\n",
      "  Downloading lyricsgenius-3.0.1-py3-none-any.whl (59 kB)\n",
      "\u001b[2K     \u001b[90m━━━━━━━━━━━━━━━━━━━━━━━━━━━━━━━━━━━━━━━\u001b[0m \u001b[32m59.4/59.4 kB\u001b[0m \u001b[31m922.3 kB/s\u001b[0m eta \u001b[36m0:00:00\u001b[0m \u001b[36m0:00:01\u001b[0m\n",
      "\u001b[?25hRequirement already satisfied: requests>=2.20.0 in /Users/navyajain/Library/Python/3.9/lib/python/site-packages (from lyricsgenius) (2.27.1)\n",
      "Requirement already satisfied: beautifulsoup4>=4.6.0 in /opt/homebrew/lib/python3.9/site-packages (from lyricsgenius) (4.11.1)\n",
      "Requirement already satisfied: soupsieve>1.2 in /opt/homebrew/lib/python3.9/site-packages (from beautifulsoup4>=4.6.0->lyricsgenius) (2.3.2.post1)\n",
      "Requirement already satisfied: certifi>=2017.4.17 in /Users/navyajain/Library/Python/3.9/lib/python/site-packages (from requests>=2.20.0->lyricsgenius) (2021.10.8)\n",
      "Requirement already satisfied: idna<4,>=2.5 in /Users/navyajain/Library/Python/3.9/lib/python/site-packages (from requests>=2.20.0->lyricsgenius) (3.3)\n",
      "Requirement already satisfied: charset-normalizer~=2.0.0 in /Users/navyajain/Library/Python/3.9/lib/python/site-packages (from requests>=2.20.0->lyricsgenius) (2.0.12)\n",
      "Requirement already satisfied: urllib3<1.27,>=1.21.1 in /opt/homebrew/lib/python3.9/site-packages (from requests>=2.20.0->lyricsgenius) (1.26.11)\n",
      "Installing collected packages: lyricsgenius\n",
      "\u001b[33m  DEPRECATION: Configuring installation scheme with distutils config files is deprecated and will no longer work in the near future. If you are using a Homebrew or Linuxbrew Python, please see discussion at https://github.com/Homebrew/homebrew-core/issues/76621\u001b[0m\u001b[33m\n",
      "\u001b[0m\u001b[33mDEPRECATION: Configuring installation scheme with distutils config files is deprecated and will no longer work in the near future. If you are using a Homebrew or Linuxbrew Python, please see discussion at https://github.com/Homebrew/homebrew-core/issues/76621\u001b[0m\u001b[33m\n",
      "\u001b[0mSuccessfully installed lyricsgenius-3.0.1\n",
      "\n",
      "\u001b[1m[\u001b[0m\u001b[34;49mnotice\u001b[0m\u001b[1;39;49m]\u001b[0m\u001b[39;49m A new release of pip available: \u001b[0m\u001b[31;49m22.2.2\u001b[0m\u001b[39;49m -> \u001b[0m\u001b[32;49m22.3\u001b[0m\n",
      "\u001b[1m[\u001b[0m\u001b[34;49mnotice\u001b[0m\u001b[1;39;49m]\u001b[0m\u001b[39;49m To update, run: \u001b[0m\u001b[32;49mpython3.9 -m pip install --upgrade pip\u001b[0m\n",
      "Collecting lyricsgenius\n",
      "  Using cached lyricsgenius-3.0.1-py3-none-any.whl (59 kB)\n",
      "Requirement already satisfied: requests>=2.20.0 in /opt/homebrew/lib/python3.10/site-packages (from lyricsgenius) (2.28.1)\n",
      "Requirement already satisfied: beautifulsoup4>=4.6.0 in /opt/homebrew/lib/python3.10/site-packages (from lyricsgenius) (4.11.1)\n",
      "Requirement already satisfied: soupsieve>1.2 in /opt/homebrew/lib/python3.10/site-packages (from beautifulsoup4>=4.6.0->lyricsgenius) (2.3.2.post1)\n",
      "Requirement already satisfied: idna<4,>=2.5 in /opt/homebrew/lib/python3.10/site-packages (from requests>=2.20.0->lyricsgenius) (3.3)\n",
      "Requirement already satisfied: urllib3<1.27,>=1.21.1 in /opt/homebrew/lib/python3.10/site-packages (from requests>=2.20.0->lyricsgenius) (1.26.12)\n",
      "Requirement already satisfied: certifi>=2017.4.17 in /opt/homebrew/lib/python3.10/site-packages (from requests>=2.20.0->lyricsgenius) (2022.6.15)\n",
      "Requirement already satisfied: charset-normalizer<3,>=2 in /opt/homebrew/lib/python3.10/site-packages (from requests>=2.20.0->lyricsgenius) (2.1.1)\n",
      "Installing collected packages: lyricsgenius\n",
      "Successfully installed lyricsgenius-3.0.1\n",
      "\n",
      "\u001b[1m[\u001b[0m\u001b[34;49mnotice\u001b[0m\u001b[1;39;49m]\u001b[0m\u001b[39;49m A new release of pip available: \u001b[0m\u001b[31;49m22.2.2\u001b[0m\u001b[39;49m -> \u001b[0m\u001b[32;49m22.3\u001b[0m\n",
      "\u001b[1m[\u001b[0m\u001b[34;49mnotice\u001b[0m\u001b[1;39;49m]\u001b[0m\u001b[39;49m To update, run: \u001b[0m\u001b[32;49mpython3.10 -m pip install --upgrade pip\u001b[0m\n"
     ]
    }
   ],
   "source": [
    "!pip install lyricsgenius\n",
    "!pip3 install lyricsgenius\n",
    "import lyricsgenius"
   ]
  },
  {
   "cell_type": "code",
   "execution_count": 5,
   "id": "e6784bf1",
   "metadata": {},
   "outputs": [
    {
     "ename": "ModuleNotFoundError",
     "evalue": "No module named 'lyricsgenius'",
     "output_type": "error",
     "traceback": [
      "\u001b[0;31m---------------------------------------------------------------------------\u001b[0m",
      "\u001b[0;31mModuleNotFoundError\u001b[0m                       Traceback (most recent call last)",
      "\u001b[0;32m<ipython-input-5-139ff14e7e68>\u001b[0m in \u001b[0;36m<module>\u001b[0;34m\u001b[0m\n\u001b[1;32m      1\u001b[0m \u001b[0mtoken\u001b[0m \u001b[0;34m=\u001b[0m \u001b[0;34m'BVUCPvV3k4iToDaobKg3khKmDJgFF1-92I5XSTJfvKo9tSCslVtXbV9dddCHyWRe'\u001b[0m\u001b[0;34m;\u001b[0m\u001b[0;34m\u001b[0m\u001b[0;34m\u001b[0m\u001b[0m\n\u001b[0;32m----> 2\u001b[0;31m \u001b[0;32mimport\u001b[0m \u001b[0mlyricsgenius\u001b[0m\u001b[0;34m\u001b[0m\u001b[0;34m\u001b[0m\u001b[0m\n\u001b[0m\u001b[1;32m      3\u001b[0m \u001b[0mgenius\u001b[0m \u001b[0;34m=\u001b[0m \u001b[0mlyricsgenius\u001b[0m\u001b[0;34m.\u001b[0m\u001b[0mGenius\u001b[0m\u001b[0;34m(\u001b[0m\u001b[0mtoken\u001b[0m\u001b[0;34m)\u001b[0m\u001b[0;34m\u001b[0m\u001b[0;34m\u001b[0m\u001b[0m\n\u001b[1;32m      4\u001b[0m \u001b[0martist\u001b[0m \u001b[0;34m=\u001b[0m \u001b[0mgenius\u001b[0m\u001b[0;34m.\u001b[0m\u001b[0msearch_artist\u001b[0m\u001b[0;34m(\u001b[0m\u001b[0;34m\"Badshah\"\u001b[0m\u001b[0;34m,\u001b[0m \u001b[0mmax_songs\u001b[0m\u001b[0;34m=\u001b[0m\u001b[0;36m1\u001b[0m\u001b[0;34m,\u001b[0m \u001b[0msort\u001b[0m\u001b[0;34m=\u001b[0m\u001b[0;34m\"title\"\u001b[0m\u001b[0;34m)\u001b[0m\u001b[0;34m\u001b[0m\u001b[0;34m\u001b[0m\u001b[0m\n\u001b[1;32m      5\u001b[0m \u001b[0;31m# print(artist.songs)\u001b[0m\u001b[0;34m\u001b[0m\u001b[0;34m\u001b[0m\u001b[0m\n",
      "\u001b[0;31mModuleNotFoundError\u001b[0m: No module named 'lyricsgenius'"
     ]
    }
   ],
   "source": [
    "token = 'BVUCPvV3k4iToDaobKg3khKmDJgFF1-92I5XSTJfvKo9tSCslVtXbV9dddCHyWRe';\n",
    "\n",
    "genius = lyricsgenius.Genius(token)\n",
    "artist = genius.search_artist(\"Badshah\", max_songs=1, sort=\"title\")\n",
    "# print(artist.songs)\n",
    "song = artist.song(\"Mercy\")\n",
    "# print(song.lyrics.encode('raw-unicode-escape').decode('utf-8'))"
   ]
  },
  {
   "cell_type": "code",
   "execution_count": 1,
   "id": "beb4e70a",
   "metadata": {},
   "outputs": [
    {
     "name": "stderr",
     "output_type": "stream",
     "text": [
      "  0%|          | 0/13533 [00:00<?, ?it/s]"
     ]
    },
    {
     "name": "stdout",
     "output_type": "stream",
     "text": [
      "Searching for songs by Phil Collins...\n",
      "\n",
      "Done. Found 0 songs.\n",
      "Searching for \"Another Day In Paradise\" by Phil Collins...\n"
     ]
    },
    {
     "name": "stderr",
     "output_type": "stream",
     "text": [
      "  0%|          | 1/13533 [00:04<15:40:48,  4.17s/it]"
     ]
    },
    {
     "name": "stdout",
     "output_type": "stream",
     "text": [
      "Done.\n",
      "Searching for songs by Milli Vanilli...\n",
      "\n",
      "Done. Found 0 songs.\n",
      "Searching for \"Baby Don't Forget My Number\" by Milli Vanilli...\n"
     ]
    },
    {
     "name": "stderr",
     "output_type": "stream",
     "text": [
      "  0%|          | 2/13533 [00:09<19:01:18,  5.06s/it]"
     ]
    },
    {
     "name": "stdout",
     "output_type": "stream",
     "text": [
      "Done.\n",
      "Searching for songs by Prince...\n",
      "\n",
      "Changing artist name to 'RZA'\n",
      "Done. Found 0 songs.\n",
      "Searching for \"Batdance (From \"Batman\")\" by RZA...\n"
     ]
    },
    {
     "name": "stderr",
     "output_type": "stream",
     "text": [
      "  0%|          | 3/13533 [00:12<15:37:04,  4.16s/it]"
     ]
    },
    {
     "name": "stdout",
     "output_type": "stream",
     "text": [
      "Done.\n",
      "Searching for songs by Milli Vanilli...\n",
      "\n",
      "Done. Found 0 songs.\n",
      "Searching for \"Blame It On The Rain\" by Milli Vanilli...\n"
     ]
    },
    {
     "name": "stderr",
     "output_type": "stream",
     "text": [
      "  0%|          | 4/13533 [00:15<13:40:36,  3.64s/it]"
     ]
    },
    {
     "name": "stdout",
     "output_type": "stream",
     "text": [
      "Done.\n",
      "Searching for songs by Paula Abdul...\n",
      "\n",
      "Done. Found 0 songs.\n",
      "Searching for \"Cold Hearted\" by Paula Abdul...\n"
     ]
    },
    {
     "name": "stderr",
     "output_type": "stream",
     "text": [
      "  0%|          | 5/13533 [00:19<14:22:07,  3.82s/it]"
     ]
    },
    {
     "name": "stdout",
     "output_type": "stream",
     "text": [
      "Done.\n",
      "Searching for songs by Gloria Estefan...\n",
      "\n",
      "Done. Found 0 songs.\n",
      "Searching for \"Don't Wanna Lose You\" by Gloria Estefan...\n"
     ]
    },
    {
     "name": "stderr",
     "output_type": "stream",
     "text": [
      "  0%|          | 6/13533 [00:26<17:20:42,  4.62s/it]"
     ]
    },
    {
     "name": "stdout",
     "output_type": "stream",
     "text": [
      "Done.\n",
      "Searching for songs by The Bangles...\n",
      "\n",
      "Done. Found 0 songs.\n",
      "Searching for \"Eternal Flame\" by The Bangles...\n"
     ]
    },
    {
     "name": "stderr",
     "output_type": "stream",
     "text": [
      "  0%|          | 7/13533 [00:28<14:55:41,  3.97s/it]"
     ]
    },
    {
     "name": "stdout",
     "output_type": "stream",
     "text": [
      "Done.\n",
      "Searching for songs by Paula Abdul...\n",
      "\n",
      "Done. Found 0 songs.\n",
      "Searching for \"Forever Your Girl\" by Paula Abdul...\n"
     ]
    },
    {
     "name": "stderr",
     "output_type": "stream",
     "text": [
      "  0%|          | 8/13533 [00:32<14:30:45,  3.86s/it]"
     ]
    },
    {
     "name": "stdout",
     "output_type": "stream",
     "text": [
      "Done.\n",
      "Searching for songs by Milli Vanilli...\n",
      "\n",
      "Done. Found 0 songs.\n",
      "Searching for \"Girl I'm Gonna Miss You\" by Milli Vanilli...\n"
     ]
    },
    {
     "name": "stderr",
     "output_type": "stream",
     "text": [
      "  0%|          | 9/13533 [00:37<15:49:04,  4.21s/it]"
     ]
    },
    {
     "name": "stdout",
     "output_type": "stream",
     "text": [
      "Done.\n",
      "Searching for songs by Fine Young Cannibals...\n",
      "\n",
      "Done. Found 0 songs.\n",
      "Searching for \"Good Thing\" by Fine Young Cannibals...\n"
     ]
    },
    {
     "name": "stderr",
     "output_type": "stream",
     "text": [
      "  0%|          | 10/13533 [00:42<16:24:30,  4.37s/it]"
     ]
    },
    {
     "name": "stdout",
     "output_type": "stream",
     "text": [
      "Done.\n",
      "Searching for songs by New Kids On The Block...\n",
      "\n",
      "Changing artist name to 'New Kids On the Block'\n",
      "Done. Found 0 songs.\n",
      "Searching for \"Hangin' Tough\" by New Kids On the Block...\n"
     ]
    },
    {
     "name": "stderr",
     "output_type": "stream",
     "text": [
      "  0%|          | 11/13533 [00:49<19:37:12,  5.22s/it]"
     ]
    },
    {
     "name": "stdout",
     "output_type": "stream",
     "text": [
      "Done.\n",
      "Searching for songs by New Kids On The Block...\n",
      "\n",
      "Changing artist name to 'New Kids On the Block'\n",
      "Done. Found 0 songs.\n",
      "Searching for \"I'll Be Loving You (Forever)\" by New Kids On the Block...\n"
     ]
    },
    {
     "name": "stderr",
     "output_type": "stream",
     "text": [
      "  0%|          | 12/13533 [00:54<20:09:47,  5.37s/it]"
     ]
    },
    {
     "name": "stdout",
     "output_type": "stream",
     "text": [
      "Done.\n",
      "Searching for songs by Bon Jovi...\n",
      "\n",
      "Done. Found 0 songs.\n",
      "Searching for \"I'll Be There For You\" by Bon Jovi...\n"
     ]
    },
    {
     "name": "stderr",
     "output_type": "stream",
     "text": [
      "  0%|          | 13/13533 [00:58<18:20:23,  4.88s/it]"
     ]
    },
    {
     "name": "stdout",
     "output_type": "stream",
     "text": [
      "Done.\n",
      "Searching for songs by Simply Red...\n",
      "\n",
      "Done. Found 0 songs.\n",
      "Searching for \"If You Don't Know Me By Now\" by Simply Red...\n"
     ]
    },
    {
     "name": "stderr",
     "output_type": "stream",
     "text": [
      "  0%|          | 14/13533 [01:02<17:21:11,  4.62s/it]"
     ]
    },
    {
     "name": "stdout",
     "output_type": "stream",
     "text": [
      "Done.\n",
      "Searching for songs by Madonna...\n",
      "\n",
      "Done. Found 0 songs.\n",
      "Searching for \"Like A Prayer\" by Madonna...\n"
     ]
    },
    {
     "name": "stderr",
     "output_type": "stream",
     "text": [
      "  0%|          | 15/13533 [01:10<21:30:07,  5.73s/it]"
     ]
    },
    {
     "name": "stdout",
     "output_type": "stream",
     "text": [
      "Done.\n",
      "Searching for songs by Roxette...\n",
      "\n",
      "Done. Found 0 songs.\n",
      "Searching for \"Listen To Your Heart\" by Roxette...\n"
     ]
    },
    {
     "name": "stderr",
     "output_type": "stream",
     "text": [
      "  0%|          | 16/13533 [01:15<19:36:43,  5.22s/it]"
     ]
    },
    {
     "name": "stdout",
     "output_type": "stream",
     "text": [
      "Done.\n",
      "Searching for songs by Debbie Gibson...\n",
      "\n",
      "Done. Found 0 songs.\n",
      "Searching for \"Lost In Your Eyes\" by Debbie Gibson...\n"
     ]
    },
    {
     "name": "stderr",
     "output_type": "stream",
     "text": [
      "  0%|          | 17/13533 [01:19<19:09:37,  5.10s/it]"
     ]
    },
    {
     "name": "stdout",
     "output_type": "stream",
     "text": [
      "Done.\n",
      "Searching for songs by Janet Jackson...\n",
      "\n",
      "Done. Found 0 songs.\n",
      "Searching for \"Miss You Much\" by Janet Jackson...\n"
     ]
    },
    {
     "name": "stderr",
     "output_type": "stream",
     "text": [
      "  0%|          | 18/13533 [01:24<18:20:04,  4.88s/it]"
     ]
    },
    {
     "name": "stdout",
     "output_type": "stream",
     "text": [
      "Done.\n",
      "Searching for songs by Bobby Brown...\n",
      "\n",
      "Done. Found 0 songs.\n",
      "Searching for \"My Prerogative\" by Bobby Brown...\n"
     ]
    },
    {
     "name": "stderr",
     "output_type": "stream",
     "text": [
      "  0%|          | 19/13533 [01:27<16:55:38,  4.51s/it]"
     ]
    },
    {
     "name": "stdout",
     "output_type": "stream",
     "text": [
      "Done.\n",
      "Searching for songs by Richard Marx...\n",
      "\n",
      "Done. Found 0 songs.\n",
      "Searching for \"Right Here Waiting\" by Richard Marx...\n"
     ]
    },
    {
     "name": "stderr",
     "output_type": "stream",
     "text": [
      "  0%|          | 20/13533 [01:32<16:40:14,  4.44s/it]"
     ]
    },
    {
     "name": "stdout",
     "output_type": "stream",
     "text": [
      "Done.\n",
      "Searching for songs by Michael Damian...\n",
      "\n",
      "Done. Found 0 songs.\n",
      "Searching for \"Rock On (From \"Dream A Little Dream\")\" by Michael Damian...\n"
     ]
    },
    {
     "name": "stderr",
     "output_type": "stream",
     "text": [
      "  0%|          | 21/13533 [01:36<16:34:17,  4.42s/it]"
     ]
    },
    {
     "name": "stdout",
     "output_type": "stream",
     "text": [
      "Done.\n",
      "Searching for songs by Richard Marx...\n",
      "\n",
      "Done. Found 0 songs.\n",
      "Searching for \"Satisfied\" by Richard Marx...\n"
     ]
    },
    {
     "name": "stderr",
     "output_type": "stream",
     "text": [
      "  0%|          | 22/13533 [01:40<16:33:22,  4.41s/it]"
     ]
    },
    {
     "name": "stdout",
     "output_type": "stream",
     "text": [
      "Done.\n",
      "Searching for songs by Fine Young Cannibals...\n",
      "\n",
      "Done. Found 0 songs.\n",
      "Searching for \"She Drives Me Crazy\" by Fine Young Cannibals...\n"
     ]
    },
    {
     "name": "stderr",
     "output_type": "stream",
     "text": [
      "  0%|          | 23/13533 [01:44<15:35:27,  4.15s/it]"
     ]
    },
    {
     "name": "stdout",
     "output_type": "stream",
     "text": [
      "Done.\n",
      "Searching for songs by Paula Abdul...\n",
      "\n",
      "Done. Found 0 songs.\n",
      "Searching for \"Straight Up\" by Paula Abdul...\n"
     ]
    },
    {
     "name": "stderr",
     "output_type": "stream",
     "text": [
      "  0%|          | 24/13533 [01:51<19:20:13,  5.15s/it]"
     ]
    },
    {
     "name": "stdout",
     "output_type": "stream",
     "text": [
      "Done.\n",
      "Searching for songs by Mike + The Mechanics...\n",
      "\n",
      "Changing artist name to 'Mike + the Mechanics'\n",
      "Done. Found 0 songs.\n",
      "Searching for \"The Living Years\" by Mike + the Mechanics...\n"
     ]
    },
    {
     "name": "stderr",
     "output_type": "stream",
     "text": [
      "  0%|          | 25/13533 [01:58<21:00:58,  5.60s/it]"
     ]
    },
    {
     "name": "stdout",
     "output_type": "stream",
     "text": [
      "Done.\n",
      "Searching for songs by Roxette...\n",
      "\n",
      "Done. Found 0 songs.\n",
      "Searching for \"The Look\" by Roxette...\n"
     ]
    },
    {
     "name": "stderr",
     "output_type": "stream",
     "text": [
      "  0%|          | 26/13533 [02:01<17:35:48,  4.69s/it]"
     ]
    },
    {
     "name": "stdout",
     "output_type": "stream",
     "text": [
      "Done.\n",
      "Searching for songs by Martika...\n",
      "\n",
      "Done. Found 0 songs.\n",
      "Searching for \"Toy Soldiers\" by Martika...\n"
     ]
    },
    {
     "name": "stderr",
     "output_type": "stream",
     "text": [
      "  0%|          | 27/13533 [02:07<19:24:45,  5.17s/it]"
     ]
    },
    {
     "name": "stdout",
     "output_type": "stream",
     "text": [
      "Done.\n",
      "Searching for songs by Phil Collins...\n",
      "\n",
      "Done. Found 0 songs.\n",
      "Searching for \"Two Hearts\" by Phil Collins...\n"
     ]
    },
    {
     "name": "stderr",
     "output_type": "stream",
     "text": [
      "  0%|          | 28/13533 [02:13<20:10:47,  5.38s/it]"
     ]
    },
    {
     "name": "stdout",
     "output_type": "stream",
     "text": [
      "Done.\n",
      "Searching for songs by Billy Joel...\n",
      "\n",
      "Done. Found 0 songs.\n",
      "Searching for \"We Didn't Start The Fire\" by Billy Joel...\n"
     ]
    },
    {
     "name": "stderr",
     "output_type": "stream",
     "text": [
      "  0%|          | 29/13533 [02:17<18:26:49,  4.92s/it]"
     ]
    },
    {
     "name": "stdout",
     "output_type": "stream",
     "text": [
      "Done.\n",
      "Searching for songs by Bad English...\n",
      "\n",
      "Done. Found 0 songs.\n",
      "Searching for \"When I See You Smile\" by Bad English...\n"
     ]
    },
    {
     "name": "stderr",
     "output_type": "stream",
     "text": [
      "  0%|          | 30/13533 [02:20<17:02:03,  4.54s/it]"
     ]
    },
    {
     "name": "stdout",
     "output_type": "stream",
     "text": [
      "Done.\n",
      "Searching for songs by Sheriff...\n",
      "\n",
      "Done. Found 0 songs.\n",
      "Searching for \"When I'm With You\" by Sheriff...\n"
     ]
    },
    {
     "name": "stderr",
     "output_type": "stream",
     "text": [
      "  0%|          | 31/13533 [02:26<18:16:29,  4.87s/it]"
     ]
    },
    {
     "name": "stdout",
     "output_type": "stream",
     "text": [
      "Done.\n",
      "Searching for songs by Bette Midler...\n",
      "\n",
      "Done. Found 0 songs.\n",
      "Searching for \"Wind Beneath My Wings (From \"Beaches\")\" by Bette Midler...\n"
     ]
    },
    {
     "name": "stderr",
     "output_type": "stream",
     "text": [
      "  0%|          | 32/13533 [02:30<16:55:06,  4.51s/it]"
     ]
    },
    {
     "name": "stdout",
     "output_type": "stream",
     "text": [
      "No results found for: 'Wind Beneath My Wings (From \"Beaches\") Bette Midler'\n",
      "Searching for songs by Madonna...\n",
      "\n",
      "Done. Found 0 songs.\n",
      "Searching for \"Cherish\" by Madonna...\n"
     ]
    },
    {
     "name": "stderr",
     "output_type": "stream",
     "text": [
      "  0%|          | 33/13533 [02:34<17:02:49,  4.55s/it]"
     ]
    },
    {
     "name": "stdout",
     "output_type": "stream",
     "text": [
      "Done.\n",
      "Searching for songs by New Kids On The Block...\n",
      "\n",
      "Changing artist name to 'New Kids On the Block'\n",
      "Done. Found 0 songs.\n",
      "Searching for \"Cover Girl\" by New Kids On the Block...\n"
     ]
    },
    {
     "name": "stderr",
     "output_type": "stream",
     "text": [
      "  0%|          | 34/13533 [02:40<18:05:37,  4.83s/it]"
     ]
    },
    {
     "name": "stdout",
     "output_type": "stream",
     "text": [
      "Done.\n",
      "Searching for songs by Linda Ronstadt (Featuring Aaron Neville)...\n",
      "\n"
     ]
    },
    {
     "name": "stderr",
     "output_type": "stream",
     "text": [
      "  0%|          | 35/13533 [02:41<13:35:05,  3.62s/it]"
     ]
    },
    {
     "name": "stdout",
     "output_type": "stream",
     "text": [
      "No results found for 'Linda Ronstadt (Featuring Aaron Neville)'.\n",
      "Searching for songs by Taylor Dayne...\n",
      "\n",
      "Done. Found 0 songs.\n",
      "Searching for \"Don't Rush Me\" by Taylor Dayne...\n"
     ]
    },
    {
     "name": "stderr",
     "output_type": "stream",
     "text": [
      "  0%|          | 36/13533 [02:47<16:38:35,  4.44s/it]"
     ]
    },
    {
     "name": "stdout",
     "output_type": "stream",
     "text": [
      "Done.\n",
      "Searching for songs by Madonna...\n",
      "\n",
      "Done. Found 0 songs.\n",
      "Searching for \"Express Yourself\" by Madonna...\n"
     ]
    },
    {
     "name": "stderr",
     "output_type": "stream",
     "text": [
      "  0%|          | 37/13533 [02:52<17:52:19,  4.77s/it]"
     ]
    },
    {
     "name": "stdout",
     "output_type": "stream",
     "text": [
      "Done.\n",
      "Searching for songs by Milli Vanilli...\n",
      "\n",
      "Done. Found 0 songs.\n",
      "Searching for \"Girl You Know It's True\" by Milli Vanilli...\n"
     ]
    },
    {
     "name": "stderr",
     "output_type": "stream",
     "text": [
      "  0%|          | 38/13533 [02:58<19:01:48,  5.08s/it]"
     ]
    },
    {
     "name": "stdout",
     "output_type": "stream",
     "text": [
      "Done.\n",
      "Searching for songs by Warrant...\n",
      "\n",
      "Done. Found 0 songs.\n",
      "Searching for \"Heaven\" by Warrant...\n"
     ]
    },
    {
     "name": "stderr",
     "output_type": "stream",
     "text": [
      "  0%|          | 39/13533 [03:02<17:39:12,  4.71s/it]"
     ]
    },
    {
     "name": "stdout",
     "output_type": "stream",
     "text": [
      "Done.\n",
      "Searching for songs by The Cure...\n",
      "\n",
      "Done. Found 0 songs.\n",
      "Searching for \"Love Song\" by The Cure...\n"
     ]
    },
    {
     "name": "stderr",
     "output_type": "stream",
     "text": [
      "  0%|          | 40/13533 [03:09<19:59:25,  5.33s/it]"
     ]
    },
    {
     "name": "stdout",
     "output_type": "stream",
     "text": [
      "Done.\n",
      "Searching for songs by Bobby Brown...\n",
      "\n",
      "Done. Found 0 songs.\n",
      "Searching for \"On Our Own (From \"Ghostbusters II\")\" by Bobby Brown...\n"
     ]
    },
    {
     "name": "stderr",
     "output_type": "stream",
     "text": [
      "  0%|          | 41/13533 [03:11<15:52:51,  4.24s/it]"
     ]
    },
    {
     "name": "stdout",
     "output_type": "stream",
     "text": [
      "No results found for: 'On Our Own (From \"Ghostbusters II\") Bobby Brown'\n",
      "Searching for songs by Jody Watley...\n",
      "\n",
      "Done. Found 0 songs.\n",
      "Searching for \"Real Love\" by Jody Watley...\n"
     ]
    },
    {
     "name": "stderr",
     "output_type": "stream",
     "text": [
      "  0%|          | 42/13533 [03:14<15:08:46,  4.04s/it]"
     ]
    },
    {
     "name": "stdout",
     "output_type": "stream",
     "text": [
      "Done.\n",
      "Searching for songs by Donny Osmond...\n",
      "\n",
      "Done. Found 0 songs.\n",
      "Searching for \"Soldier Of Love\" by Donny Osmond...\n"
     ]
    },
    {
     "name": "stderr",
     "output_type": "stream",
     "text": [
      "  0%|          | 43/13533 [03:19<15:55:09,  4.25s/it]"
     ]
    },
    {
     "name": "stdout",
     "output_type": "stream",
     "text": [
      "Done.\n",
      "Searching for songs by Tears For Fears...\n",
      "\n",
      "Changing artist name to 'Tears for Fears'\n",
      "Done. Found 0 songs.\n",
      "Searching for \"Sowing The Seeds Of Love\" by Tears for Fears...\n"
     ]
    },
    {
     "name": "stderr",
     "output_type": "stream",
     "text": [
      "  0%|          | 44/13533 [03:23<15:59:10,  4.27s/it]"
     ]
    },
    {
     "name": "stdout",
     "output_type": "stream",
     "text": [
      "Done.\n",
      "Searching for songs by Sheena Easton...\n",
      "\n",
      "Done. Found 0 songs.\n",
      "Searching for \"The Lover In Me\" by Sheena Easton...\n"
     ]
    },
    {
     "name": "stderr",
     "output_type": "stream",
     "text": [
      "  0%|          | 45/13533 [03:29<17:15:05,  4.60s/it]"
     ]
    },
    {
     "name": "stdout",
     "output_type": "stream",
     "text": [
      "Done.\n",
      "Searching for songs by Tone-Loc...\n",
      "\n",
      "Changing artist name to 'Tone Lōc'\n",
      "Done. Found 0 songs.\n",
      "Searching for \"Wild Thing\" by Tone Lōc...\n"
     ]
    },
    {
     "name": "stderr",
     "output_type": "stream",
     "text": [
      "  0%|          | 46/13533 [03:35<19:47:03,  5.28s/it]"
     ]
    },
    {
     "name": "stdout",
     "output_type": "stream",
     "text": [
      "Done.\n",
      "Searching for songs by Paula Abdul...\n",
      "\n",
      "Done. Found 0 songs.\n",
      "Searching for \"(It's Just) The Way That You Love Me\" by Paula Abdul...\n"
     ]
    },
    {
     "name": "stderr",
     "output_type": "stream",
     "text": [
      "  0%|          | 47/13533 [03:39<18:22:50,  4.91s/it]"
     ]
    },
    {
     "name": "stdout",
     "output_type": "stream",
     "text": [
      "Done.\n",
      "Searching for songs by Def Leppard...\n",
      "\n",
      "Done. Found 0 songs.\n",
      "Searching for \"Armageddon It\" by Def Leppard...\n"
     ]
    },
    {
     "name": "stderr",
     "output_type": "stream",
     "text": [
      "  0%|          | 48/13533 [03:47<20:55:10,  5.58s/it]"
     ]
    },
    {
     "name": "stdout",
     "output_type": "stream",
     "text": [
      "Done.\n",
      "Searching for songs by Bon Jovi...\n",
      "\n",
      "Done. Found 0 songs.\n",
      "Searching for \"Born To Be My Baby\" by Bon Jovi...\n"
     ]
    },
    {
     "name": "stderr",
     "output_type": "stream",
     "text": [
      "  0%|          | 49/13533 [03:54<23:26:26,  6.26s/it]"
     ]
    },
    {
     "name": "stdout",
     "output_type": "stream",
     "text": [
      "Done.\n",
      "Searching for songs by Neneh Cherry...\n",
      "\n",
      "Done. Found 0 songs.\n",
      "Searching for \"Buffalo Stance\" by Neneh Cherry...\n"
     ]
    },
    {
     "name": "stderr",
     "output_type": "stream",
     "text": [
      "  0%|          | 50/13533 [04:01<23:17:32,  6.22s/it]"
     ]
    },
    {
     "name": "stdout",
     "output_type": "stream",
     "text": [
      "Done.\n",
      "Searching for songs by Bobby Brown...\n",
      "\n",
      "Done. Found 0 songs.\n",
      "Searching for \"Every Little Step\" by Bobby Brown...\n"
     ]
    },
    {
     "name": "stderr",
     "output_type": "stream",
     "text": [
      "  0%|          | 51/13533 [04:06<22:46:00,  6.08s/it]"
     ]
    },
    {
     "name": "stdout",
     "output_type": "stream",
     "text": [
      "Done.\n",
      "Searching for songs by Tone-Loc...\n",
      "\n",
      "Changing artist name to 'Tone Lōc'\n",
      "Done. Found 0 songs.\n",
      "Searching for \"Funky Cold Medina\" by Tone Lōc...\n"
     ]
    },
    {
     "name": "stderr",
     "output_type": "stream",
     "text": [
      "  0%|          | 52/13533 [04:11<21:00:10,  5.61s/it]"
     ]
    },
    {
     "name": "stdout",
     "output_type": "stream",
     "text": [
      "Done.\n",
      "Searching for songs by Cher...\n",
      "\n",
      "Done. Found 0 songs.\n",
      "Searching for \"If I Could Turn Back Time\" by Cher...\n"
     ]
    },
    {
     "name": "stderr",
     "output_type": "stream",
     "text": [
      "  0%|          | 53/13533 [04:18<22:46:05,  6.08s/it]"
     ]
    },
    {
     "name": "stdout",
     "output_type": "stream",
     "text": [
      "Done.\n",
      "Searching for songs by The B-52s...\n",
      "\n",
      "Changing artist name to 'The B-52's'\n",
      "Done. Found 0 songs.\n",
      "Searching for \"Love Shack\" by The B-52's...\n"
     ]
    },
    {
     "name": "stderr",
     "output_type": "stream",
     "text": [
      "  0%|          | 54/13533 [04:27<25:33:46,  6.83s/it]"
     ]
    },
    {
     "name": "stdout",
     "output_type": "stream",
     "text": [
      "Done.\n",
      "Searching for songs by Bobby Brown...\n",
      "\n",
      "Done. Found 0 songs.\n",
      "Searching for \"Roni\" by Bobby Brown...\n"
     ]
    },
    {
     "name": "stderr",
     "output_type": "stream",
     "text": [
      "  0%|          | 55/13533 [04:33<24:31:36,  6.55s/it]"
     ]
    },
    {
     "name": "stdout",
     "output_type": "stream",
     "text": [
      "Done.\n",
      "Searching for songs by Love And Rockets...\n",
      "\n",
      "Changing artist name to 'Love and Rockets'\n",
      "Done. Found 0 songs.\n",
      "Searching for \"So Alive\" by Love and Rockets...\n"
     ]
    },
    {
     "name": "stderr",
     "output_type": "stream",
     "text": [
      "  0%|          | 56/13533 [04:38<23:08:25,  6.18s/it]"
     ]
    },
    {
     "name": "stdout",
     "output_type": "stream",
     "text": [
      "Done.\n",
      "Searching for songs by White Lion...\n",
      "\n",
      "Done. Found 0 songs.\n",
      "Searching for \"When The Children Cry\" by White Lion...\n"
     ]
    },
    {
     "name": "stderr",
     "output_type": "stream",
     "text": [
      "  0%|          | 57/13533 [04:43<22:29:12,  6.01s/it]"
     ]
    },
    {
     "name": "stdout",
     "output_type": "stream",
     "text": [
      "Done.\n",
      "Searching for songs by New Kids On The Block...\n",
      "\n",
      "Changing artist name to 'New Kids On the Block'\n",
      "Done. Found 0 songs.\n",
      "Searching for \"You Got It (The Right Stuff)\" by New Kids On the Block...\n"
     ]
    },
    {
     "name": "stderr",
     "output_type": "stream",
     "text": [
      "  0%|          | 58/13533 [04:50<22:47:12,  6.09s/it]"
     ]
    },
    {
     "name": "stdout",
     "output_type": "stream",
     "text": [
      "Done.\n",
      "Searching for songs by Skid Row...\n",
      "\n",
      "Done. Found 0 songs.\n",
      "Searching for \"18 And Life\" by Skid Row...\n"
     ]
    },
    {
     "name": "stderr",
     "output_type": "stream",
     "text": [
      "  0%|          | 59/13533 [04:55<22:25:52,  5.99s/it]"
     ]
    },
    {
     "name": "stdout",
     "output_type": "stream",
     "text": [
      "Done.\n",
      "Searching for songs by Richard Marx...\n",
      "\n",
      "Done. Found 0 songs.\n",
      "Searching for \"Angelia\" by Richard Marx...\n"
     ]
    },
    {
     "name": "stderr",
     "output_type": "stream",
     "text": [
      "  0%|          | 60/13533 [04:59<19:56:23,  5.33s/it]"
     ]
    },
    {
     "name": "stdout",
     "output_type": "stream",
     "text": [
      "Done.\n",
      "Searching for songs by Soul II Soul...\n",
      "\n",
      "Done. Found 0 songs.\n",
      "Searching for \"Back To Life\" by Soul II Soul...\n"
     ]
    },
    {
     "name": "stderr",
     "output_type": "stream",
     "text": [
      "  0%|          | 61/13533 [05:04<18:46:06,  5.02s/it]"
     ]
    },
    {
     "name": "stdout",
     "output_type": "stream",
     "text": [
      "Done.\n",
      "Searching for songs by Rod Stewart...\n",
      "\n",
      "Done. Found 0 songs.\n",
      "Searching for \"My Heart Can't Tell You No\" by Rod Stewart...\n"
     ]
    },
    {
     "name": "stderr",
     "output_type": "stream",
     "text": [
      "  0%|          | 62/13533 [05:10<20:08:30,  5.38s/it]"
     ]
    },
    {
     "name": "stdout",
     "output_type": "stream",
     "text": [
      "Done.\n",
      "Searching for songs by Guns N' Roses...\n",
      "\n",
      "Changing artist name to 'Guns N’ Roses'\n",
      "Done. Found 0 songs.\n",
      "Searching for \"Patience\" by Guns N’ Roses...\n"
     ]
    },
    {
     "name": "stderr",
     "output_type": "stream",
     "text": [
      "  0%|          | 63/13533 [05:14<19:20:14,  5.17s/it]"
     ]
    },
    {
     "name": "stdout",
     "output_type": "stream",
     "text": [
      "Done.\n",
      "Searching for songs by The Jeff Healey Band...\n",
      "\n",
      "Done. Found 0 songs.\n",
      "Searching for \"Angel Eyes\" by The Jeff Healey Band...\n"
     ]
    },
    {
     "name": "stderr",
     "output_type": "stream",
     "text": [
      "  0%|          | 64/13533 [05:18<17:43:00,  4.74s/it]"
     ]
    },
    {
     "name": "stdout",
     "output_type": "stream",
     "text": [
      "Done.\n",
      "Searching for songs by Deon Estus...\n",
      "\n",
      "Done. Found 0 songs.\n",
      "Searching for \"Heaven Help Me\" by Deon Estus...\n"
     ]
    },
    {
     "name": "stderr",
     "output_type": "stream",
     "text": [
      "  0%|          | 65/13533 [05:23<17:43:38,  4.74s/it]"
     ]
    },
    {
     "name": "stdout",
     "output_type": "stream",
     "text": [
      "Done.\n",
      "Searching for songs by The Bangles...\n",
      "\n",
      "Done. Found 0 songs.\n",
      "Searching for \"In Your Room\" by The Bangles...\n"
     ]
    },
    {
     "name": "stderr",
     "output_type": "stream",
     "text": [
      "  0%|          | 66/13533 [05:29<19:03:02,  5.09s/it]"
     ]
    },
    {
     "name": "stdout",
     "output_type": "stream",
     "text": [
      "Done.\n",
      "Searching for songs by Aerosmith...\n",
      "\n",
      "Done. Found 0 songs.\n",
      "Searching for \"Love In An Elevator\" by Aerosmith...\n"
     ]
    },
    {
     "name": "stderr",
     "output_type": "stream",
     "text": [
      "  0%|          | 67/13533 [05:37<22:56:23,  6.13s/it]"
     ]
    },
    {
     "name": "stdout",
     "output_type": "stream",
     "text": [
      "Done.\n",
      "Searching for songs by The Rolling Stones...\n",
      "\n",
      "Done. Found 0 songs.\n",
      "Searching for \"Mixed Emotions\" by The Rolling Stones...\n"
     ]
    },
    {
     "name": "stderr",
     "output_type": "stream",
     "text": [
      "  1%|          | 68/13533 [05:43<22:42:25,  6.07s/it]"
     ]
    },
    {
     "name": "stdout",
     "output_type": "stream",
     "text": [
      "Done.\n",
      "Searching for songs by Great White...\n",
      "\n",
      "Done. Found 0 songs.\n",
      "Searching for \"Once Bitten Twice Shy\" by Great White...\n"
     ]
    },
    {
     "name": "stderr",
     "output_type": "stream",
     "text": [
      "  1%|          | 69/13533 [05:51<24:06:38,  6.45s/it]"
     ]
    },
    {
     "name": "stdout",
     "output_type": "stream",
     "text": [
      "Done.\n",
      "Searching for songs by Guns N' Roses...\n",
      "\n",
      "Changing artist name to 'Guns N’ Roses'\n",
      "Done. Found 0 songs.\n",
      "Searching for \"Paradise City\" by Guns N’ Roses...\n"
     ]
    },
    {
     "name": "stderr",
     "output_type": "stream",
     "text": [
      "  1%|          | 70/13533 [05:59<25:59:08,  6.95s/it]"
     ]
    },
    {
     "name": "stdout",
     "output_type": "stream",
     "text": [
      "Done.\n",
      "Searching for songs by Surface...\n",
      "\n",
      "Done. Found 0 songs.\n",
      "Searching for \"Shower Me With Your Love\" by Surface...\n"
     ]
    },
    {
     "name": "stderr",
     "output_type": "stream",
     "text": [
      "  1%|          | 71/13533 [06:05<25:13:38,  6.75s/it]"
     ]
    },
    {
     "name": "stdout",
     "output_type": "stream",
     "text": [
      "Done.\n",
      "Searching for songs by Taylor Dayne...\n",
      "\n",
      "Done. Found 0 songs.\n",
      "Searching for \"With Every Beat Of My Heart\" by Taylor Dayne...\n"
     ]
    },
    {
     "name": "stderr",
     "output_type": "stream",
     "text": [
      "  1%|          | 72/13533 [06:09<21:51:47,  5.85s/it]"
     ]
    },
    {
     "name": "stdout",
     "output_type": "stream",
     "text": [
      "Done.\n",
      "Searching for songs by Cher & Peter Cetera...\n",
      "\n"
     ]
    },
    {
     "name": "stderr",
     "output_type": "stream",
     "text": [
      "  1%|          | 73/13533 [06:10<16:19:47,  4.37s/it]"
     ]
    },
    {
     "name": "stdout",
     "output_type": "stream",
     "text": [
      "No results found for 'Cher & Peter Cetera'.\n",
      "Searching for songs by Tiffany...\n",
      "\n",
      "Done. Found 0 songs.\n",
      "Searching for \"All This Time\" by Tiffany...\n"
     ]
    },
    {
     "name": "stderr",
     "output_type": "stream",
     "text": [
      "  1%|          | 74/13533 [06:15<17:22:47,  4.65s/it]"
     ]
    },
    {
     "name": "stdout",
     "output_type": "stream",
     "text": [
      "Done.\n",
      "Searching for songs by Motley Crue...\n",
      "\n",
      "Changing artist name to 'Mötley Crüe'\n",
      "Done. Found 0 songs.\n",
      "Searching for \"Dr. Feelgood\" by Mötley Crüe...\n"
     ]
    },
    {
     "name": "stderr",
     "output_type": "stream",
     "text": [
      "  1%|          | 75/13533 [06:21<18:24:16,  4.92s/it]"
     ]
    },
    {
     "name": "stdout",
     "output_type": "stream",
     "text": [
      "Done.\n",
      "Searching for songs by Cyndi Lauper...\n",
      "\n",
      "Done. Found 0 songs.\n",
      "Searching for \"I Drove All Night\" by Cyndi Lauper...\n"
     ]
    },
    {
     "name": "stderr",
     "output_type": "stream",
     "text": [
      "  1%|          | 76/13533 [06:29<22:40:03,  6.06s/it]"
     ]
    },
    {
     "name": "stdout",
     "output_type": "stream",
     "text": [
      "Done.\n",
      "Searching for songs by Thirty Eight Special...\n",
      "\n"
     ]
    },
    {
     "name": "stderr",
     "output_type": "stream",
     "text": [
      "  1%|          | 77/13533 [06:30<17:07:26,  4.58s/it]"
     ]
    },
    {
     "name": "stdout",
     "output_type": "stream",
     "text": [
      "No results found for 'Thirty Eight Special'.\n",
      "Searching for songs by Karyn White...\n",
      "\n",
      "Done. Found 0 songs.\n",
      "Searching for \"Secret Rendezvous\" by Karyn White...\n"
     ]
    },
    {
     "name": "stderr",
     "output_type": "stream",
     "text": [
      "  1%|          | 78/13533 [06:36<18:03:03,  4.83s/it]"
     ]
    },
    {
     "name": "stdout",
     "output_type": "stream",
     "text": [
      "Done.\n",
      "Searching for songs by Rick Astley...\n",
      "\n",
      "Done. Found 0 songs.\n",
      "Searching for \"She Wants To Dance With Me\" by Rick Astley...\n"
     ]
    },
    {
     "name": "stderr",
     "output_type": "stream",
     "text": [
      "  1%|          | 79/13533 [06:41<18:14:28,  4.88s/it]"
     ]
    },
    {
     "name": "stdout",
     "output_type": "stream",
     "text": [
      "Done.\n",
      "Searching for songs by R.E.M....\n",
      "\n",
      "Changing artist name to 'Don Toliver'\n",
      "Done. Found 0 songs.\n",
      "Searching for \"Stand\" by Don Toliver...\n"
     ]
    },
    {
     "name": "stderr",
     "output_type": "stream",
     "text": [
      "  1%|          | 80/13533 [06:46<18:43:58,  5.01s/it]"
     ]
    },
    {
     "name": "stdout",
     "output_type": "stream",
     "text": [
      "Done.\n",
      "Searching for songs by Ann Wilson & Robin Zander...\n",
      "\n"
     ]
    },
    {
     "name": "stderr",
     "output_type": "stream",
     "text": [
      "  1%|          | 81/13533 [06:47<13:56:34,  3.73s/it]"
     ]
    },
    {
     "name": "stdout",
     "output_type": "stream",
     "text": [
      "No results found for 'Ann Wilson & Robin Zander'.\n",
      "Searching for songs by Young M.C....\n",
      "\n",
      "Changing artist name to 'Young MC'\n",
      "Done. Found 0 songs.\n",
      "Searching for \"Bust A Move\" by Young MC...\n"
     ]
    },
    {
     "name": "stderr",
     "output_type": "stream",
     "text": [
      "  1%|          | 82/13533 [06:51<14:01:33,  3.75s/it]"
     ]
    },
    {
     "name": "stdout",
     "output_type": "stream",
     "text": [
      "Done.\n",
      "Searching for songs by Dino...\n",
      "\n",
      "Changing artist name to 'Dinos'\n",
      "Done. Found 0 songs.\n",
      "Searching for \"I Like It\" by Dinos...\n"
     ]
    },
    {
     "name": "stderr",
     "output_type": "stream",
     "text": [
      "  1%|          | 83/13533 [06:56<15:23:55,  4.12s/it]"
     ]
    },
    {
     "name": "stdout",
     "output_type": "stream",
     "text": [
      "Done.\n",
      "Searching for songs by Babyface...\n",
      "\n",
      "Done. Found 0 songs.\n",
      "Searching for \"It's No Crime\" by Babyface...\n"
     ]
    },
    {
     "name": "stderr",
     "output_type": "stream",
     "text": [
      "  1%|          | 84/13533 [07:02<17:28:56,  4.68s/it]"
     ]
    },
    {
     "name": "stdout",
     "output_type": "stream",
     "text": [
      "Done.\n",
      "Searching for songs by Bon Jovi...\n",
      "\n",
      "Done. Found 0 songs.\n",
      "Searching for \"Lay Your Hands On Me\" by Bon Jovi...\n"
     ]
    },
    {
     "name": "stderr",
     "output_type": "stream",
     "text": [
      "  1%|          | 85/13533 [07:05<15:25:11,  4.13s/it]"
     ]
    },
    {
     "name": "stdout",
     "output_type": "stream",
     "text": [
      "Done.\n",
      "Searching for songs by Natalie Cole...\n",
      "\n",
      "Done. Found 0 songs.\n",
      "Searching for \"Miss You Like Crazy\" by Natalie Cole...\n"
     ]
    },
    {
     "name": "stderr",
     "output_type": "stream",
     "text": [
      "  1%|          | 86/13533 [07:10<17:28:24,  4.68s/it]"
     ]
    },
    {
     "name": "stdout",
     "output_type": "stream",
     "text": [
      "Done.\n",
      "Searching for songs by Bee Gees...\n",
      "\n",
      "Done. Found 0 songs.\n",
      "Searching for \"One\" by Bee Gees...\n"
     ]
    },
    {
     "name": "stderr",
     "output_type": "stream",
     "text": [
      "  1%|          | 87/13533 [07:15<17:40:03,  4.73s/it]"
     ]
    },
    {
     "name": "stdout",
     "output_type": "stream",
     "text": [
      "Done.\n",
      "Searching for songs by Alice Cooper...\n",
      "\n",
      "Done. Found 0 songs.\n",
      "Searching for \"Poison\" by Alice Cooper...\n"
     ]
    },
    {
     "name": "stderr",
     "output_type": "stream",
     "text": [
      "  1%|          | 88/13533 [07:20<17:08:17,  4.59s/it]"
     ]
    },
    {
     "name": "stdout",
     "output_type": "stream",
     "text": [
      "Done.\n",
      "Searching for songs by Bobby Brown...\n",
      "\n",
      "Done. Found 0 songs.\n",
      "Searching for \"Rock Wit'cha\" by Bobby Brown...\n"
     ]
    },
    {
     "name": "stderr",
     "output_type": "stream",
     "text": [
      "  1%|          | 89/13533 [07:25<17:31:38,  4.69s/it]"
     ]
    },
    {
     "name": "stdout",
     "output_type": "stream",
     "text": [
      "Done.\n",
      "Searching for songs by Michael Jackson...\n",
      "\n",
      "Done. Found 0 songs.\n",
      "Searching for \"Smooth Criminal\" by Michael Jackson...\n"
     ]
    },
    {
     "name": "stderr",
     "output_type": "stream",
     "text": [
      "  1%|          | 90/13533 [07:29<17:03:27,  4.57s/it]"
     ]
    },
    {
     "name": "stdout",
     "output_type": "stream",
     "text": [
      "Done.\n",
      "Searching for songs by Karyn White...\n",
      "\n",
      "Done. Found 0 songs.\n",
      "Searching for \"The Way You Love Me\" by Karyn White...\n"
     ]
    },
    {
     "name": "stderr",
     "output_type": "stream",
     "text": [
      "  1%|          | 91/13533 [07:33<17:01:36,  4.56s/it]"
     ]
    },
    {
     "name": "stdout",
     "output_type": "stream",
     "text": [
      "Done.\n",
      "Searching for songs by Donna Summer...\n",
      "\n",
      "Done. Found 0 songs.\n",
      "Searching for \"This Time I Know It's For Real\" by Donna Summer...\n"
     ]
    },
    {
     "name": "stderr",
     "output_type": "stream",
     "text": [
      "  1%|          | 92/13533 [07:39<18:07:07,  4.85s/it]"
     ]
    },
    {
     "name": "stdout",
     "output_type": "stream",
     "text": [
      "Done.\n",
      "Searching for songs by Was (Not Was)...\n",
      "\n",
      "Done. Found 0 songs.\n",
      "Searching for \"Walk The Dinosaur\" by Was (Not Was)...\n"
     ]
    },
    {
     "name": "stderr",
     "output_type": "stream",
     "text": [
      "  1%|          | 93/13533 [07:44<18:21:49,  4.92s/it]"
     ]
    },
    {
     "name": "stdout",
     "output_type": "stream",
     "text": [
      "Done.\n",
      "Searching for songs by Edie Brickell & New Bohemians...\n",
      "\n",
      "Done. Found 0 songs.\n",
      "Searching for \"What I Am\" by Edie Brickell & New Bohemians...\n"
     ]
    },
    {
     "name": "stderr",
     "output_type": "stream",
     "text": [
      "  1%|          | 94/13533 [07:49<18:46:17,  5.03s/it]"
     ]
    },
    {
     "name": "stdout",
     "output_type": "stream",
     "text": [
      "Done.\n",
      "Searching for songs by Lita Ford (Duet With Ozzy Osbourne)...\n",
      "\n"
     ]
    },
    {
     "name": "stderr",
     "output_type": "stream",
     "text": [
      "  1%|          | 95/13533 [07:50<14:05:15,  3.77s/it]"
     ]
    },
    {
     "name": "stdout",
     "output_type": "stream",
     "text": [
      "No results found for 'Lita Ford (Duet With Ozzy Osbourne)'.\n",
      "Searching for songs by New Kids On The Block...\n",
      "\n",
      "Changing artist name to 'New Kids On the Block'\n",
      "Done. Found 0 songs.\n",
      "Searching for \"Didn't I (Blow Your Mind)\" by New Kids On the Block...\n"
     ]
    },
    {
     "name": "stderr",
     "output_type": "stream",
     "text": [
      "  1%|          | 96/13533 [07:54<14:26:58,  3.87s/it]"
     ]
    },
    {
     "name": "stdout",
     "output_type": "stream",
     "text": [
      "Done.\n",
      "Searching for songs by Vanessa Williams...\n",
      "\n",
      "Done. Found 0 songs.\n",
      "Searching for \"Dreamin'\" by Vanessa Williams...\n"
     ]
    },
    {
     "name": "stderr",
     "output_type": "stream",
     "text": [
      "  1%|          | 97/13533 [07:59<15:08:53,  4.06s/it]"
     ]
    },
    {
     "name": "stdout",
     "output_type": "stream",
     "text": [
      "Done.\n",
      "Searching for songs by Boys Club...\n",
      "\n",
      "Done. Found 0 songs.\n",
      "Searching for \"I Remember Holding You\" by Boys Club...\n"
     ]
    },
    {
     "name": "stderr",
     "output_type": "stream",
     "text": [
      "  1%|          | 98/13533 [08:03<15:51:26,  4.25s/it]"
     ]
    },
    {
     "name": "stdout",
     "output_type": "stream",
     "text": [
      "Done.\n",
      "Searching for songs by Samantha Fox...\n",
      "\n",
      "Done. Found 0 songs.\n",
      "Searching for \"I Wanna Have Some Fun\" by Samantha Fox...\n"
     ]
    },
    {
     "name": "stderr",
     "output_type": "stream",
     "text": [
      "  1%|          | 99/13533 [08:08<16:13:03,  4.35s/it]"
     ]
    },
    {
     "name": "stdout",
     "output_type": "stream",
     "text": [
      "Done.\n",
      "Searching for songs by Cher...\n",
      "\n",
      "Done. Found 0 songs.\n",
      "Searching for \"Just Like Jesse James\" by Cher...\n"
     ]
    },
    {
     "name": "stderr",
     "output_type": "stream",
     "text": [
      "  1%|          | 100/13533 [08:12<16:21:04,  4.38s/it]"
     ]
    },
    {
     "name": "stdout",
     "output_type": "stream",
     "text": [
      "Done.\n",
      "Searching for songs by Neneh Cherry...\n",
      "\n",
      "Done. Found 0 songs.\n",
      "Searching for \"Kisses On The Wind\" by Neneh Cherry...\n"
     ]
    },
    {
     "name": "stderr",
     "output_type": "stream",
     "text": [
      "  1%|          | 101/13533 [08:18<17:33:00,  4.70s/it]"
     ]
    },
    {
     "name": "stdout",
     "output_type": "stream",
     "text": [
      "Done.\n",
      "Searching for songs by Karyn White...\n",
      "\n",
      "Done. Found 0 songs.\n",
      "Searching for \"Superwoman\" by Karyn White...\n"
     ]
    },
    {
     "name": "stderr",
     "output_type": "stream",
     "text": [
      "  1%|          | 102/13533 [08:23<17:35:43,  4.72s/it]"
     ]
    },
    {
     "name": "stdout",
     "output_type": "stream",
     "text": [
      "Done.\n",
      "Searching for songs by Don Henley...\n",
      "\n",
      "Done. Found 0 songs.\n",
      "Searching for \"The End Of The Innocence\" by Don Henley...\n"
     ]
    },
    {
     "name": "stderr",
     "output_type": "stream",
     "text": [
      "  1%|          | 103/13533 [08:29<19:18:24,  5.18s/it]"
     ]
    },
    {
     "name": "stdout",
     "output_type": "stream",
     "text": [
      "Done.\n",
      "Searching for songs by Expose...\n",
      "\n",
      "Changing artist name to 'Exposé'\n",
      "Done. Found 0 songs.\n",
      "Searching for \"What You Don't Know\" by Exposé...\n"
     ]
    },
    {
     "name": "stderr",
     "output_type": "stream",
     "text": [
      "  1%|          | 104/13533 [08:34<19:42:48,  5.28s/it]"
     ]
    },
    {
     "name": "stdout",
     "output_type": "stream",
     "text": [
      "Done.\n",
      "Searching for songs by Jody Watley With Eric B. & Rakim...\n",
      "\n"
     ]
    },
    {
     "name": "stderr",
     "output_type": "stream",
     "text": [
      "  1%|          | 105/13533 [08:35<14:32:31,  3.90s/it]"
     ]
    },
    {
     "name": "stdout",
     "output_type": "stream",
     "text": [
      "No results found for 'Jody Watley With Eric B. & Rakim'.\n",
      "Searching for songs by Bon Jovi...\n",
      "\n",
      "Done. Found 0 songs.\n",
      "Searching for \"Living In Sin\" by Bon Jovi...\n"
     ]
    },
    {
     "name": "stderr",
     "output_type": "stream",
     "text": [
      "  1%|          | 106/13533 [08:39<14:32:09,  3.90s/it]"
     ]
    },
    {
     "name": "stdout",
     "output_type": "stream",
     "text": [
      "Done.\n",
      "Searching for songs by Annie Lennox & Al Green...\n",
      "\n",
      "Done. Found 0 songs.\n",
      "Searching for \"Put A Little Love In Your Heart\" by Annie Lennox & Al Green...\n"
     ]
    },
    {
     "name": "stderr",
     "output_type": "stream",
     "text": [
      "  1%|          | 107/13533 [08:43<15:06:21,  4.05s/it]"
     ]
    },
    {
     "name": "stdout",
     "output_type": "stream",
     "text": [
      "Done.\n",
      "Searching for songs by Animotion...\n",
      "\n",
      "Done. Found 0 songs.\n",
      "Searching for \"Room To Move\" by Animotion...\n"
     ]
    },
    {
     "name": "stderr",
     "output_type": "stream",
     "text": [
      "  1%|          | 108/13533 [08:48<15:30:44,  4.16s/it]"
     ]
    },
    {
     "name": "stdout",
     "output_type": "stream",
     "text": [
      "Done.\n",
      "Searching for songs by The Doobie Brothers...\n",
      "\n",
      "Done. Found 0 songs.\n",
      "Searching for \"The Doctor\" by The Doobie Brothers...\n"
     ]
    },
    {
     "name": "stderr",
     "output_type": "stream",
     "text": [
      "  1%|          | 109/13533 [08:54<17:40:27,  4.74s/it]"
     ]
    },
    {
     "name": "stdout",
     "output_type": "stream",
     "text": [
      "Done.\n",
      "Searching for songs by Information Society...\n",
      "\n",
      "Done. Found 0 songs.\n",
      "Searching for \"Walking Away\" by Information Society...\n"
     ]
    },
    {
     "name": "stderr",
     "output_type": "stream",
     "text": [
      "  1%|          | 110/13533 [08:59<18:19:15,  4.91s/it]"
     ]
    },
    {
     "name": "stdout",
     "output_type": "stream",
     "text": [
      "Done.\n",
      "Searching for songs by Roy Orbison...\n",
      "\n",
      "Done. Found 0 songs.\n",
      "Searching for \"You Got It\" by Roy Orbison...\n"
     ]
    },
    {
     "name": "stderr",
     "output_type": "stream",
     "text": [
      "  1%|          | 111/13533 [09:02<16:15:52,  4.36s/it]"
     ]
    },
    {
     "name": "stdout",
     "output_type": "stream",
     "text": [
      "Done.\n",
      "Searching for songs by Waterfront...\n",
      "\n",
      "Done. Found 0 songs.\n",
      "Searching for \"Cry\" by Waterfront...\n"
     ]
    },
    {
     "name": "stderr",
     "output_type": "stream",
     "text": [
      "  1%|          | 112/13533 [09:07<16:22:29,  4.39s/it]"
     ]
    },
    {
     "name": "stdout",
     "output_type": "stream",
     "text": [
      "Done.\n",
      "Searching for songs by Breathe...\n",
      "\n",
      "Changing artist name to '​breathe.'\n",
      "Done. Found 0 songs.\n",
      "Searching for \"Don't Tell Me Lies\" by ​breathe....\n"
     ]
    },
    {
     "name": "stderr",
     "output_type": "stream",
     "text": [
      "  1%|          | 113/13533 [09:11<16:18:10,  4.37s/it]"
     ]
    },
    {
     "name": "stdout",
     "output_type": "stream",
     "text": [
      "Done.\n",
      "Searching for songs by Expose...\n",
      "\n",
      "Changing artist name to 'Exposé'\n",
      "Done. Found 0 songs.\n",
      "Searching for \"When I Looked At Him\" by Exposé...\n"
     ]
    },
    {
     "name": "stderr",
     "output_type": "stream",
     "text": [
      "  1%|          | 114/13533 [09:15<15:20:59,  4.12s/it]"
     ]
    },
    {
     "name": "stdout",
     "output_type": "stream",
     "text": [
      "Done.\n",
      "Searching for songs by Jimmy Harnen With Synch...\n",
      "\n"
     ]
    },
    {
     "name": "stderr",
     "output_type": "stream",
     "text": [
      "  1%|          | 115/13533 [09:16<12:06:29,  3.25s/it]"
     ]
    },
    {
     "name": "stdout",
     "output_type": "stream",
     "text": [
      "No results found for 'Jimmy Harnen With Synch'.\n",
      "Searching for songs by Chicago...\n",
      "\n",
      "Done. Found 0 songs.\n",
      "Searching for \"You're Not Alone\" by Chicago...\n"
     ]
    },
    {
     "name": "stderr",
     "output_type": "stream",
     "text": [
      "  1%|          | 116/13533 [09:22<15:07:52,  4.06s/it]"
     ]
    },
    {
     "name": "stdout",
     "output_type": "stream",
     "text": [
      "Done.\n",
      "Searching for songs by Poison...\n",
      "\n",
      "Done. Found 0 songs.\n",
      "Searching for \"Your Mama Don't Dance\" by Poison...\n"
     ]
    },
    {
     "name": "stderr",
     "output_type": "stream",
     "text": [
      "  1%|          | 117/13533 [09:27<16:15:30,  4.36s/it]"
     ]
    },
    {
     "name": "stdout",
     "output_type": "stream",
     "text": [
      "Done.\n",
      "Searching for songs by Rod Stewart...\n",
      "\n",
      "Done. Found 0 songs.\n",
      "Searching for \"Crazy About Her\" by Rod Stewart...\n"
     ]
    },
    {
     "name": "stderr",
     "output_type": "stream",
     "text": [
      "  1%|          | 118/13533 [09:31<16:17:29,  4.37s/it]"
     ]
    },
    {
     "name": "stdout",
     "output_type": "stream",
     "text": [
      "Done.\n",
      "Searching for songs by KIX...\n",
      "\n",
      "Changing artist name to 'Brooks & Dunn'\n",
      "Done. Found 0 songs.\n",
      "Searching for \"Don't Close Your Eyes\" by Brooks & Dunn...\n"
     ]
    },
    {
     "name": "stderr",
     "output_type": "stream",
     "text": [
      "  1%|          | 119/13533 [09:36<16:20:28,  4.39s/it]"
     ]
    },
    {
     "name": "stdout",
     "output_type": "stream",
     "text": [
      "Done.\n",
      "Searching for songs by Fine Young Cannibals...\n",
      "\n",
      "Done. Found 0 songs.\n",
      "Searching for \"Don't Look Back\" by Fine Young Cannibals...\n"
     ]
    },
    {
     "name": "stderr",
     "output_type": "stream",
     "text": [
      "  1%|          | 120/13533 [09:40<16:17:47,  4.37s/it]"
     ]
    },
    {
     "name": "stdout",
     "output_type": "stream",
     "text": [
      "Done.\n",
      "Searching for songs by Debbie Gibson...\n",
      "\n",
      "Done. Found 0 songs.\n",
      "Searching for \"Electric Youth\" by Debbie Gibson...\n"
     ]
    },
    {
     "name": "stderr",
     "output_type": "stream",
     "text": [
      "  1%|          | 121/13533 [09:44<16:04:44,  4.32s/it]"
     ]
    },
    {
     "name": "stdout",
     "output_type": "stream",
     "text": [
      "Done.\n",
      "Searching for songs by Gloria Estefan...\n",
      "\n",
      "Done. Found 0 songs.\n",
      "Searching for \"Get On Your Feet\" by Gloria Estefan...\n"
     ]
    },
    {
     "name": "stderr",
     "output_type": "stream",
     "text": [
      "  1%|          | 122/13533 [09:51<18:22:32,  4.93s/it]"
     ]
    },
    {
     "name": "stdout",
     "output_type": "stream",
     "text": [
      "Done.\n",
      "Searching for songs by Steve Winwood...\n",
      "\n",
      "Done. Found 0 songs.\n",
      "Searching for \"Holding On\" by Steve Winwood...\n"
     ]
    },
    {
     "name": "stderr",
     "output_type": "stream",
     "text": [
      "  1%|          | 123/13533 [09:54<16:59:48,  4.56s/it]"
     ]
    },
    {
     "name": "stdout",
     "output_type": "stream",
     "text": [
      "Done.\n",
      "Searching for songs by Soul II Soul Featuring Caron Wheeler...\n",
      "\n"
     ]
    },
    {
     "name": "stderr",
     "output_type": "stream",
     "text": [
      "  1%|          | 124/13533 [09:58<16:18:44,  4.38s/it]"
     ]
    },
    {
     "name": "stdout",
     "output_type": "stream",
     "text": [
      "No results found for 'Soul II Soul Featuring Caron Wheeler'.\n",
      "Searching for songs by Belinda Carlisle...\n",
      "\n",
      "Done. Found 0 songs.\n",
      "Searching for \"Leave A Light On\" by Belinda Carlisle...\n"
     ]
    },
    {
     "name": "stderr",
     "output_type": "stream",
     "text": [
      "  1%|          | 125/13533 [10:06<19:48:11,  5.32s/it]"
     ]
    },
    {
     "name": "stdout",
     "output_type": "stream",
     "text": [
      "Done.\n",
      "Searching for songs by Howard Jones...\n",
      "\n",
      "Done. Found 0 songs.\n",
      "Searching for \"Everlasting Love\" by Howard Jones...\n"
     ]
    },
    {
     "name": "stderr",
     "output_type": "stream",
     "text": [
      "  1%|          | 126/13533 [10:12<20:59:50,  5.64s/it]"
     ]
    },
    {
     "name": "stdout",
     "output_type": "stream",
     "text": [
      "Done.\n",
      "Searching for songs by Tom Petty...\n",
      "\n",
      "Done. Found 0 songs.\n",
      "Searching for \"I Won't Back Down\" by Tom Petty...\n"
     ]
    },
    {
     "name": "stderr",
     "output_type": "stream",
     "text": [
      "  1%|          | 127/13533 [10:18<21:27:45,  5.76s/it]"
     ]
    },
    {
     "name": "stdout",
     "output_type": "stream",
     "text": [
      "Done.\n",
      "Searching for songs by Starship...\n",
      "\n",
      "Done. Found 0 songs.\n",
      "Searching for \"It's Not Enough\" by Starship...\n"
     ]
    },
    {
     "name": "stderr",
     "output_type": "stream",
     "text": [
      "  1%|          | 128/13533 [10:23<20:38:41,  5.54s/it]"
     ]
    },
    {
     "name": "stdout",
     "output_type": "stream",
     "text": [
      "Done.\n",
      "Searching for songs by Def Leppard...\n",
      "\n",
      "Done. Found 0 songs.\n",
      "Searching for \"Rocket\" by Def Leppard...\n"
     ]
    },
    {
     "name": "stderr",
     "output_type": "stream",
     "text": [
      "  1%|          | 129/13533 [10:27<18:32:17,  4.98s/it]"
     ]
    },
    {
     "name": "stdout",
     "output_type": "stream",
     "text": [
      "Done.\n",
      "Searching for songs by SaFire...\n",
      "\n",
      "Changing artist name to 'Safire'\n",
      "Done. Found 0 songs.\n",
      "Searching for \"Thinking Of You\" by Safire...\n"
     ]
    },
    {
     "name": "stderr",
     "output_type": "stream",
     "text": [
      "  1%|          | 130/13533 [10:31<17:56:19,  4.82s/it]"
     ]
    },
    {
     "name": "stdout",
     "output_type": "stream",
     "text": [
      "Done.\n",
      "Searching for songs by Living Colour...\n",
      "\n",
      "Done. Found 0 songs.\n",
      "Searching for \"Cult Of Personality\" by Living Colour...\n"
     ]
    },
    {
     "name": "stderr",
     "output_type": "stream",
     "text": [
      "  1%|          | 131/13533 [10:36<17:42:13,  4.76s/it]"
     ]
    },
    {
     "name": "stdout",
     "output_type": "stream",
     "text": [
      "Done.\n",
      "Searching for songs by The Boys...\n",
      "\n",
      "Changing artist name to 'The Boys Choir of Harlem'\n",
      "Done. Found 0 songs.\n",
      "Searching for \"Dial My Heart\" by The Boys Choir of Harlem...\n"
     ]
    },
    {
     "name": "stderr",
     "output_type": "stream",
     "text": [
      "  1%|          | 132/13533 [10:42<18:40:31,  5.02s/it]"
     ]
    },
    {
     "name": "stdout",
     "output_type": "stream",
     "text": [
      "Done.\n",
      "Searching for songs by Elton John...\n",
      "\n",
      "Done. Found 0 songs.\n",
      "Searching for \"Healing Hands\" by Elton John...\n"
     ]
    },
    {
     "name": "stderr",
     "output_type": "stream",
     "text": [
      "  1%|          | 133/13533 [10:46<18:28:55,  4.97s/it]"
     ]
    },
    {
     "name": "stdout",
     "output_type": "stream",
     "text": [
      "Done.\n",
      "Searching for songs by Donny Osmond...\n",
      "\n",
      "Done. Found 0 songs.\n",
      "Searching for \"Sacred Emotion\" by Donny Osmond...\n"
     ]
    },
    {
     "name": "stderr",
     "output_type": "stream",
     "text": [
      "  1%|          | 134/13533 [10:51<17:53:58,  4.81s/it]"
     ]
    },
    {
     "name": "stdout",
     "output_type": "stream",
     "text": [
      "Done.\n",
      "Searching for songs by Kenny G...\n",
      "\n",
      "Done. Found 0 songs.\n",
      "Searching for \"Silhouette\" by Kenny G...\n"
     ]
    },
    {
     "name": "stderr",
     "output_type": "stream",
     "text": [
      "  1%|          | 135/13533 [10:54<15:53:33,  4.27s/it]"
     ]
    },
    {
     "name": "stdout",
     "output_type": "stream",
     "text": [
      "Specified song does not contain lyrics. Rejecting.\n",
      "Searching for songs by Erasure...\n",
      "\n",
      "Done. Found 0 songs.\n",
      "Searching for \"A Little Respect\" by Erasure...\n"
     ]
    },
    {
     "name": "stderr",
     "output_type": "stream",
     "text": [
      "  1%|          | 136/13533 [10:58<15:20:50,  4.12s/it]"
     ]
    },
    {
     "name": "stdout",
     "output_type": "stream",
     "text": [
      "Done.\n",
      "Searching for songs by U2...\n",
      "\n",
      "Done. Found 0 songs.\n",
      "Searching for \"Angel Of Harlem\" by U2...\n"
     ]
    },
    {
     "name": "stderr",
     "output_type": "stream",
     "text": [
      "  1%|          | 137/13533 [11:04<17:58:11,  4.83s/it]"
     ]
    },
    {
     "name": "stdout",
     "output_type": "stream",
     "text": [
      "Done.\n",
      "Searching for songs by Roxette...\n",
      "\n",
      "Done. Found 0 songs.\n",
      "Searching for \"Dressed For Success\" by Roxette...\n"
     ]
    },
    {
     "name": "stderr",
     "output_type": "stream",
     "text": [
      "  1%|          | 138/13533 [11:09<18:21:07,  4.93s/it]"
     ]
    },
    {
     "name": "stdout",
     "output_type": "stream",
     "text": [
      "Done.\n",
      "Searching for songs by The Belle Stars...\n",
      "\n",
      "Done. Found 0 songs.\n",
      "Searching for \"Iko Iko (From \"Rain Man\")\" by The Belle Stars...\n"
     ]
    },
    {
     "name": "stderr",
     "output_type": "stream",
     "text": [
      "  1%|          | 139/13533 [11:12<16:07:53,  4.34s/it]"
     ]
    },
    {
     "name": "stdout",
     "output_type": "stream",
     "text": [
      "No results found for: 'Iko Iko (From \"Rain Man\") The Belle Stars'\n",
      "Searching for songs by Anita Baker...\n",
      "\n",
      "Done. Found 0 songs.\n",
      "Searching for \"Just Because\" by Anita Baker...\n"
     ]
    },
    {
     "name": "stderr",
     "output_type": "stream",
     "text": [
      "  1%|          | 140/13533 [11:17<16:11:34,  4.35s/it]"
     ]
    },
    {
     "name": "stdout",
     "output_type": "stream",
     "text": [
      "Done.\n",
      "Searching for songs by Sweet Sensation (With Romeo J.D.)...\n",
      "\n"
     ]
    },
    {
     "name": "stderr",
     "output_type": "stream",
     "text": [
      "  1%|          | 141/13533 [11:17<12:15:25,  3.29s/it]"
     ]
    },
    {
     "name": "stdout",
     "output_type": "stream",
     "text": [
      "No results found for 'Sweet Sensation (With Romeo J.D.)'.\n",
      "Searching for songs by Kon Kan...\n",
      "\n",
      "Done. Found 0 songs.\n",
      "Searching for \"I Beg Your Pardon\" by Kon Kan...\n"
     ]
    },
    {
     "name": "stderr",
     "output_type": "stream",
     "text": [
      "  1%|          | 142/13533 [11:22<13:22:33,  3.60s/it]"
     ]
    },
    {
     "name": "stdout",
     "output_type": "stream",
     "text": [
      "Done.\n",
      "Searching for songs by LL Cool J...\n",
      "\n",
      "Done. Found 0 songs.\n",
      "Searching for \"I'm That Type Of Guy\" by LL Cool J...\n"
     ]
    },
    {
     "name": "stderr",
     "output_type": "stream",
     "text": [
      "  1%|          | 143/13533 [11:27<15:13:37,  4.09s/it]"
     ]
    },
    {
     "name": "stdout",
     "output_type": "stream",
     "text": [
      "Done.\n",
      "Searching for songs by John Mellencamp...\n",
      "\n",
      "Done. Found 0 songs.\n",
      "Searching for \"Pop Singer\" by John Mellencamp...\n"
     ]
    },
    {
     "name": "stderr",
     "output_type": "stream",
     "text": [
      "  1%|          | 144/13533 [11:31<15:26:58,  4.15s/it]"
     ]
    },
    {
     "name": "stdout",
     "output_type": "stream",
     "text": [
      "Done.\n",
      "Searching for songs by Tina Turner...\n",
      "\n",
      "Done. Found 0 songs.\n",
      "Searching for \"The Best\" by Tina Turner...\n"
     ]
    },
    {
     "name": "stderr",
     "output_type": "stream",
     "text": [
      "  1%|          | 145/13533 [11:36<16:06:32,  4.33s/it]"
     ]
    },
    {
     "name": "stdout",
     "output_type": "stream",
     "text": [
      "Done.\n",
      "Searching for songs by Michael Morales...\n",
      "\n",
      "Done. Found 0 songs.\n",
      "Searching for \"Who Do You Give Your Love To?\" by Michael Morales...\n"
     ]
    },
    {
     "name": "stderr",
     "output_type": "stream",
     "text": [
      "  1%|          | 146/13533 [11:41<16:40:05,  4.48s/it]"
     ]
    },
    {
     "name": "stdout",
     "output_type": "stream",
     "text": [
      "Done.\n",
      "Searching for songs by Stevie Nicks...\n",
      "\n",
      "Done. Found 0 songs.\n",
      "Searching for \"Rooms On Fire\" by Stevie Nicks...\n"
     ]
    },
    {
     "name": "stderr",
     "output_type": "stream",
     "text": [
      "  1%|          | 147/13533 [11:46<17:44:01,  4.77s/it]"
     ]
    },
    {
     "name": "stdout",
     "output_type": "stream",
     "text": [
      "Done.\n",
      "Searching for songs by Katrina And The Waves...\n",
      "\n",
      "Changing artist name to 'Katrina and the Waves'\n",
      "Done. Found 0 songs.\n",
      "Searching for \"That's The Way\" by Katrina and the Waves...\n"
     ]
    },
    {
     "name": "stderr",
     "output_type": "stream",
     "text": [
      "  1%|          | 148/13533 [11:50<16:50:37,  4.53s/it]"
     ]
    },
    {
     "name": "stdout",
     "output_type": "stream",
     "text": [
      "Done.\n",
      "Searching for songs by Aretha Franklin & Elton John...\n",
      "\n"
     ]
    },
    {
     "name": "stderr",
     "output_type": "stream",
     "text": [
      "  1%|          | 149/13533 [11:51<12:46:36,  3.44s/it]"
     ]
    },
    {
     "name": "stdout",
     "output_type": "stream",
     "text": [
      "No results found for 'Aretha Franklin & Elton John'.\n",
      "Searching for songs by Debbie Gibson...\n",
      "\n",
      "Done. Found 0 songs.\n",
      "Searching for \"No More Rhyme\" by Debbie Gibson...\n"
     ]
    },
    {
     "name": "stderr",
     "output_type": "stream",
     "text": [
      "  1%|          | 150/13533 [11:55<12:47:20,  3.44s/it]"
     ]
    },
    {
     "name": "stdout",
     "output_type": "stream",
     "text": [
      "Done.\n",
      "Searching for songs by Michael Bolton...\n",
      "\n",
      "Done. Found 0 songs.\n",
      "Searching for \"Soul Provider\" by Michael Bolton...\n"
     ]
    },
    {
     "name": "stderr",
     "output_type": "stream",
     "text": [
      "  1%|          | 151/13533 [12:00<14:38:30,  3.94s/it]"
     ]
    },
    {
     "name": "stdout",
     "output_type": "stream",
     "text": [
      "Done.\n",
      "Searching for songs by Poco...\n",
      "\n",
      "Done. Found 0 songs.\n",
      "Searching for \"Call It Love\" by Poco...\n"
     ]
    },
    {
     "name": "stderr",
     "output_type": "stream",
     "text": [
      "  1%|          | 152/13533 [12:04<15:02:20,  4.05s/it]"
     ]
    },
    {
     "name": "stdout",
     "output_type": "stream",
     "text": [
      "Done.\n",
      "Searching for songs by Kevin Paige...\n",
      "\n",
      "Done. Found 0 songs.\n",
      "Searching for \"Don't Shut Me Out\" by Kevin Paige...\n"
     ]
    },
    {
     "name": "stderr",
     "output_type": "stream",
     "text": [
      "  1%|          | 153/13533 [12:08<15:13:29,  4.10s/it]"
     ]
    },
    {
     "name": "stdout",
     "output_type": "stream",
     "text": [
      "Done.\n",
      "Searching for songs by Henry Lee Summer...\n",
      "\n",
      "Done. Found 0 songs.\n",
      "Searching for \"Hey Baby\" by Henry Lee Summer...\n"
     ]
    },
    {
     "name": "stderr",
     "output_type": "stream",
     "text": [
      "  1%|          | 154/13533 [12:12<14:25:44,  3.88s/it]"
     ]
    },
    {
     "name": "stdout",
     "output_type": "stream",
     "text": [
      "Done.\n",
      "Searching for songs by Martika...\n",
      "\n",
      "Done. Found 0 songs.\n",
      "Searching for \"More Than You Know\" by Martika...\n"
     ]
    },
    {
     "name": "stderr",
     "output_type": "stream",
     "text": [
      "  1%|          | 155/13533 [12:16<15:04:50,  4.06s/it]"
     ]
    },
    {
     "name": "stdout",
     "output_type": "stream",
     "text": [
      "Done.\n",
      "Searching for songs by Prince...\n",
      "\n",
      "Changing artist name to 'RZA'\n",
      "Done. Found 0 songs.\n",
      "Searching for \"Partyman\" by RZA...\n"
     ]
    },
    {
     "name": "stderr",
     "output_type": "stream",
     "text": [
      "  1%|          | 156/13533 [12:22<16:40:09,  4.49s/it]"
     ]
    },
    {
     "name": "stdout",
     "output_type": "stream",
     "text": [
      "Done.\n",
      "Searching for songs by Winger...\n",
      "\n",
      "Done. Found 0 songs.\n",
      "Searching for \"Headed For A Heartbreak\" by Winger...\n"
     ]
    },
    {
     "name": "stderr",
     "output_type": "stream",
     "text": [
      "  1%|          | 157/13533 [12:26<16:20:07,  4.40s/it]"
     ]
    },
    {
     "name": "stdout",
     "output_type": "stream",
     "text": [
      "Done.\n",
      "Searching for songs by Joan Jett & The Blackhearts...\n",
      "\n",
      "Done. Found 0 songs.\n",
      "Searching for \"Little Liar\" by Joan Jett & The Blackhearts...\n"
     ]
    },
    {
     "name": "stderr",
     "output_type": "stream",
     "text": [
      "  1%|          | 158/13533 [12:30<16:12:41,  4.36s/it]"
     ]
    },
    {
     "name": "stdout",
     "output_type": "stream",
     "text": [
      "Done.\n",
      "Searching for songs by Grayson Hugh...\n",
      "\n",
      "Done. Found 0 songs.\n",
      "Searching for \"Talk It Over\" by Grayson Hugh...\n"
     ]
    },
    {
     "name": "stderr",
     "output_type": "stream",
     "text": [
      "  1%|          | 159/13533 [12:34<15:19:17,  4.12s/it]"
     ]
    },
    {
     "name": "stdout",
     "output_type": "stream",
     "text": [
      "Done.\n",
      "Searching for songs by Elvis Costello...\n",
      "\n",
      "Done. Found 0 songs.\n",
      "Searching for \"Veronica\" by Elvis Costello...\n"
     ]
    },
    {
     "name": "stderr",
     "output_type": "stream",
     "text": [
      "  1%|          | 160/13533 [12:39<16:43:42,  4.50s/it]"
     ]
    },
    {
     "name": "stdout",
     "output_type": "stream",
     "text": [
      "Done.\n",
      "Searching for songs by Cinderella...\n",
      "\n",
      "Done. Found 0 songs.\n",
      "Searching for \"Coming Home\" by Cinderella...\n"
     ]
    },
    {
     "name": "stderr",
     "output_type": "stream",
     "text": [
      "  1%|          | 161/13533 [12:43<16:40:44,  4.49s/it]"
     ]
    },
    {
     "name": "stdout",
     "output_type": "stream",
     "text": [
      "Done.\n",
      "Searching for songs by Sybil...\n",
      "\n",
      "Done. Found 0 songs.\n",
      "Searching for \"Don't Make Me Over\" by Sybil...\n"
     ]
    },
    {
     "name": "stderr",
     "output_type": "stream",
     "text": [
      "  1%|          | 162/13533 [12:48<16:29:36,  4.44s/it]"
     ]
    },
    {
     "name": "stdout",
     "output_type": "stream",
     "text": [
      "Done.\n",
      "Searching for songs by Don Henley...\n",
      "\n",
      "Done. Found 0 songs.\n",
      "Searching for \"The Last Worthless Evening\" by Don Henley...\n"
     ]
    },
    {
     "name": "stderr",
     "output_type": "stream",
     "text": [
      "  1%|          | 163/13533 [12:52<15:54:41,  4.28s/it]"
     ]
    },
    {
     "name": "stdout",
     "output_type": "stream",
     "text": [
      "Done.\n",
      "Searching for songs by Duran Duran...\n",
      "\n",
      "Done. Found 0 songs.\n",
      "Searching for \"All She Wants Is\" by Duran Duran...\n"
     ]
    },
    {
     "name": "stderr",
     "output_type": "stream",
     "text": [
      "  1%|          | 164/13533 [12:57<17:07:16,  4.61s/it]"
     ]
    },
    {
     "name": "stdout",
     "output_type": "stream",
     "text": [
      "Done.\n",
      "Searching for songs by Vixen...\n",
      "\n",
      "Done. Found 0 songs.\n",
      "Searching for \"Cryin'\" by Vixen...\n"
     ]
    },
    {
     "name": "stderr",
     "output_type": "stream",
     "text": [
      "  1%|          | 165/13533 [13:02<17:10:01,  4.62s/it]"
     ]
    },
    {
     "name": "stdout",
     "output_type": "stream",
     "text": [
      "Done.\n",
      "Searching for songs by Seduction...\n",
      "\n",
      "Done. Found 0 songs.\n",
      "Searching for \"(You're My One And Only) True Love\" by Seduction...\n"
     ]
    },
    {
     "name": "stderr",
     "output_type": "stream",
     "text": [
      "  1%|          | 166/13533 [13:06<17:12:32,  4.63s/it]"
     ]
    },
    {
     "name": "stdout",
     "output_type": "stream",
     "text": [
      "Done.\n",
      "Searching for songs by Sweet Sensation...\n",
      "\n",
      "Done. Found 0 songs.\n",
      "Searching for \"Hooked On You\" by Sweet Sensation...\n"
     ]
    },
    {
     "name": "stderr",
     "output_type": "stream",
     "text": [
      "  1%|          | 167/13533 [13:11<17:10:49,  4.63s/it]"
     ]
    },
    {
     "name": "stdout",
     "output_type": "stream",
     "text": [
      "Done.\n",
      "Searching for songs by The Rolling Stones...\n",
      "\n",
      "Done. Found 0 songs.\n",
      "Searching for \"Rock And A Hard Place\" by The Rolling Stones...\n"
     ]
    },
    {
     "name": "stderr",
     "output_type": "stream",
     "text": [
      "  1%|          | 168/13533 [13:16<17:23:07,  4.68s/it]"
     ]
    },
    {
     "name": "stdout",
     "output_type": "stream",
     "text": [
      "Done.\n",
      "Searching for songs by Tom Petty...\n",
      "\n",
      "Done. Found 0 songs.\n",
      "Searching for \"Runnin' Down A Dream\" by Tom Petty...\n"
     ]
    },
    {
     "name": "stderr",
     "output_type": "stream",
     "text": [
      "  1%|          | 169/13533 [13:20<17:18:14,  4.66s/it]"
     ]
    },
    {
     "name": "stdout",
     "output_type": "stream",
     "text": [
      "Done.\n",
      "Searching for songs by Dino...\n",
      "\n",
      "Changing artist name to 'Dinos'\n",
      "Done. Found 0 songs.\n",
      "Searching for \"Sunshine\" by Dinos...\n"
     ]
    },
    {
     "name": "stderr",
     "output_type": "stream",
     "text": [
      "  1%|▏         | 170/13533 [13:26<18:06:32,  4.88s/it]"
     ]
    },
    {
     "name": "stdout",
     "output_type": "stream",
     "text": [
      "Done.\n",
      "Searching for songs by Enya...\n",
      "\n",
      "Done. Found 0 songs.\n",
      "Searching for \"Orinoco Flow (Sail Away)\" by Enya...\n"
     ]
    },
    {
     "name": "stderr",
     "output_type": "stream",
     "text": [
      "  1%|▏         | 171/13533 [13:33<20:24:28,  5.50s/it]"
     ]
    },
    {
     "name": "stdout",
     "output_type": "stream",
     "text": [
      "Done.\n",
      "Searching for songs by Eddie Money...\n",
      "\n",
      "Done. Found 0 songs.\n",
      "Searching for \"The Love In Your Eyes\" by Eddie Money...\n"
     ]
    },
    {
     "name": "stderr",
     "output_type": "stream",
     "text": [
      "  1%|▏         | 172/13533 [13:37<19:31:50,  5.26s/it]"
     ]
    },
    {
     "name": "stdout",
     "output_type": "stream",
     "text": [
      "Done.\n",
      "Searching for songs by Roachford...\n",
      "\n",
      "Done. Found 0 songs.\n",
      "Searching for \"Cuddly Toy (Feel For Me)\" by Roachford...\n"
     ]
    },
    {
     "name": "stderr",
     "output_type": "stream",
     "text": [
      "  1%|▏         | 173/13533 [13:40<16:37:54,  4.48s/it]"
     ]
    },
    {
     "name": "stdout",
     "output_type": "stream",
     "text": [
      "No results found for: 'Cuddly Toy (Feel For Me) Roachford'\n",
      "Searching for songs by Martika...\n",
      "\n",
      "Done. Found 0 songs.\n",
      "Searching for \"I Feel The Earth Move\" by Martika...\n"
     ]
    },
    {
     "name": "stderr",
     "output_type": "stream",
     "text": [
      "  1%|▏         | 174/13533 [13:43<15:07:13,  4.07s/it]"
     ]
    },
    {
     "name": "stdout",
     "output_type": "stream",
     "text": [
      "Done.\n",
      "Searching for songs by Paul McCartney...\n",
      "\n",
      "Done. Found 0 songs.\n",
      "Searching for \"My Brave Face\" by Paul McCartney...\n"
     ]
    },
    {
     "name": "stderr",
     "output_type": "stream",
     "text": [
      "  1%|▏         | 175/13533 [13:48<16:24:08,  4.42s/it]"
     ]
    },
    {
     "name": "stdout",
     "output_type": "stream",
     "text": [
      "Done.\n",
      "Searching for songs by The Outfield...\n",
      "\n",
      "Done. Found 0 songs.\n",
      "Searching for \"Voices Of Babylon\" by The Outfield...\n"
     ]
    },
    {
     "name": "stderr",
     "output_type": "stream",
     "text": [
      "  1%|▏         | 176/13533 [13:52<15:45:59,  4.25s/it]"
     ]
    },
    {
     "name": "stdout",
     "output_type": "stream",
     "text": [
      "Done.\n",
      "Searching for songs by Maxi Priest...\n",
      "\n",
      "Done. Found 0 songs.\n",
      "Searching for \"Wild World\" by Maxi Priest...\n"
     ]
    },
    {
     "name": "stderr",
     "output_type": "stream",
     "text": [
      "  1%|▏         | 177/13533 [14:00<19:47:44,  5.34s/it]"
     ]
    },
    {
     "name": "stdout",
     "output_type": "stream",
     "text": [
      "Done.\n",
      "Searching for songs by The 2 Live Crew...\n",
      "\n",
      "Changing artist name to 'The New 2 Live Crew'\n",
      "Done. Found 0 songs.\n",
      "Searching for \"Me So Horny\" by The New 2 Live Crew...\n"
     ]
    },
    {
     "name": "stderr",
     "output_type": "stream",
     "text": [
      "  1%|▏         | 178/13533 [14:05<19:30:51,  5.26s/it]"
     ]
    },
    {
     "name": "stdout",
     "output_type": "stream",
     "text": [
      "Done.\n",
      "Searching for songs by Real Life...\n",
      "\n",
      "Done. Found 0 songs.\n",
      "Searching for \"Send Me An Angel '89\" by Real Life...\n"
     ]
    },
    {
     "name": "stderr",
     "output_type": "stream",
     "text": [
      "  1%|▏         | 179/13533 [14:11<20:00:35,  5.39s/it]"
     ]
    },
    {
     "name": "stdout",
     "output_type": "stream",
     "text": [
      "Done.\n",
      "Searching for songs by Winger...\n",
      "\n",
      "Done. Found 0 songs.\n",
      "Searching for \"Seventeen\" by Winger...\n"
     ]
    },
    {
     "name": "stderr",
     "output_type": "stream",
     "text": [
      "  1%|▏         | 180/13533 [14:16<19:05:37,  5.15s/it]"
     ]
    },
    {
     "name": "stdout",
     "output_type": "stream",
     "text": [
      "Done.\n",
      "Searching for songs by Warrant...\n",
      "\n",
      "Done. Found 0 songs.\n",
      "Searching for \"Down Boys\" by Warrant...\n"
     ]
    },
    {
     "name": "stderr",
     "output_type": "stream",
     "text": [
      "  1%|▏         | 181/13533 [14:22<20:32:02,  5.54s/it]"
     ]
    },
    {
     "name": "stdout",
     "output_type": "stream",
     "text": [
      "Done.\n",
      "Searching for songs by Eddie Murphy...\n",
      "\n",
      "Done. Found 0 songs.\n",
      "Searching for \"Put Your Mouth On Me\" by Eddie Murphy...\n"
     ]
    },
    {
     "name": "stderr",
     "output_type": "stream",
     "text": [
      "  1%|▏         | 182/13533 [14:26<19:19:10,  5.21s/it]"
     ]
    },
    {
     "name": "stdout",
     "output_type": "stream",
     "text": [
      "Done.\n",
      "Searching for songs by The Escape Club...\n",
      "\n",
      "Done. Found 0 songs.\n",
      "Searching for \"Shake For The Sheik\" by The Escape Club...\n"
     ]
    },
    {
     "name": "stderr",
     "output_type": "stream",
     "text": [
      "  1%|▏         | 183/13533 [14:31<18:10:33,  4.90s/it]"
     ]
    },
    {
     "name": "stdout",
     "output_type": "stream",
     "text": [
      "Done.\n",
      "Searching for songs by Thompson Twins...\n",
      "\n",
      "Done. Found 0 songs.\n",
      "Searching for \"Sugar Daddy\" by Thompson Twins...\n"
     ]
    },
    {
     "name": "stderr",
     "output_type": "stream",
     "text": [
      "  1%|▏         | 184/13533 [14:35<17:48:51,  4.80s/it]"
     ]
    },
    {
     "name": "stdout",
     "output_type": "stream",
     "text": [
      "Done.\n",
      "Searching for songs by Michael Morales...\n",
      "\n",
      "Done. Found 0 songs.\n",
      "Searching for \"What I Like About You\" by Michael Morales...\n"
     ]
    },
    {
     "name": "stderr",
     "output_type": "stream",
     "text": [
      "  1%|▏         | 185/13533 [14:39<16:32:52,  4.46s/it]"
     ]
    },
    {
     "name": "stdout",
     "output_type": "stream",
     "text": [
      "Done.\n",
      "Searching for songs by Tommy Page...\n",
      "\n",
      "Done. Found 0 songs.\n",
      "Searching for \"A Shoulder To Cry On\" by Tommy Page...\n"
     ]
    },
    {
     "name": "stderr",
     "output_type": "stream",
     "text": [
      "  1%|▏         | 186/13533 [14:44<17:18:10,  4.67s/it]"
     ]
    },
    {
     "name": "stdout",
     "output_type": "stream",
     "text": [
      "Done.\n",
      "Searching for songs by Lisa Lisa And Cult Jam...\n",
      "\n",
      "Changing artist name to 'Lisa Lisa and Cult Jam'\n",
      "Done. Found 0 songs.\n",
      "Searching for \"Little Jackie Wants To Be A Star\" by Lisa Lisa and Cult Jam...\n"
     ]
    },
    {
     "name": "stderr",
     "output_type": "stream",
     "text": [
      "  1%|▏         | 187/13533 [14:48<16:59:26,  4.58s/it]"
     ]
    },
    {
     "name": "stdout",
     "output_type": "stream",
     "text": [
      "Done.\n",
      "Searching for songs by The Bangles...\n",
      "\n",
      "Done. Found 0 songs.\n",
      "Searching for \"Be With You\" by The Bangles...\n"
     ]
    },
    {
     "name": "stderr",
     "output_type": "stream",
     "text": [
      "  1%|▏         | 188/13533 [14:53<16:33:18,  4.47s/it]"
     ]
    },
    {
     "name": "stdout",
     "output_type": "stream",
     "text": [
      "Done.\n",
      "Searching for songs by Luther Vandross...\n",
      "\n",
      "Done. Found 0 songs.\n",
      "Searching for \"She Won't Talk To Me\" by Luther Vandross...\n"
     ]
    },
    {
     "name": "stderr",
     "output_type": "stream",
     "text": [
      "  1%|▏         | 189/13533 [14:57<16:28:53,  4.45s/it]"
     ]
    },
    {
     "name": "stdout",
     "output_type": "stream",
     "text": [
      "Done.\n",
      "Searching for songs by Great White...\n",
      "\n",
      "Done. Found 0 songs.\n",
      "Searching for \"The Angel Song\" by Great White...\n"
     ]
    },
    {
     "name": "stderr",
     "output_type": "stream",
     "text": [
      "  1%|▏         | 190/13533 [15:01<16:06:00,  4.34s/it]"
     ]
    },
    {
     "name": "stdout",
     "output_type": "stream",
     "text": [
      "Done.\n",
      "Searching for songs by Howard Jones...\n",
      "\n",
      "Done. Found 0 songs.\n",
      "Searching for \"The Prisoner\" by Howard Jones...\n"
     ]
    },
    {
     "name": "stderr",
     "output_type": "stream",
     "text": [
      "  1%|▏         | 191/13533 [15:04<14:44:56,  3.98s/it]"
     ]
    },
    {
     "name": "stdout",
     "output_type": "stream",
     "text": [
      "Done.\n",
      "Searching for songs by Michael Damian...\n",
      "\n",
      "Done. Found 0 songs.\n",
      "Searching for \"Cover Of Love\" by Michael Damian...\n"
     ]
    },
    {
     "name": "stderr",
     "output_type": "stream",
     "text": [
      "  1%|▏         | 192/13533 [15:08<14:08:19,  3.82s/it]"
     ]
    },
    {
     "name": "stdout",
     "output_type": "stream",
     "text": [
      "Done.\n",
      "Searching for songs by Living Colour...\n",
      "\n",
      "Done. Found 0 songs.\n",
      "Searching for \"Glamour Boys\" by Living Colour...\n"
     ]
    },
    {
     "name": "stderr",
     "output_type": "stream",
     "text": [
      "  1%|▏         | 193/13533 [15:11<13:36:53,  3.67s/it]"
     ]
    },
    {
     "name": "stdout",
     "output_type": "stream",
     "text": [
      "Done.\n",
      "Searching for songs by Paul Carrack...\n",
      "\n",
      "Done. Found 0 songs.\n",
      "Searching for \"I Live By The Groove\" by Paul Carrack...\n"
     ]
    },
    {
     "name": "stderr",
     "output_type": "stream",
     "text": [
      "  1%|▏         | 194/13533 [15:15<14:06:38,  3.81s/it]"
     ]
    },
    {
     "name": "stdout",
     "output_type": "stream",
     "text": [
      "Done.\n",
      "Searching for songs by Samantha Fox...\n",
      "\n",
      "Done. Found 0 songs.\n",
      "Searching for \"I Only Wanna Be With You\" by Samantha Fox...\n"
     ]
    },
    {
     "name": "stderr",
     "output_type": "stream",
     "text": [
      "  1%|▏         | 195/13533 [15:19<14:39:04,  3.95s/it]"
     ]
    },
    {
     "name": "stdout",
     "output_type": "stream",
     "text": [
      "Done.\n",
      "Searching for songs by The Art Of Noise Featuring Tom Jones...\n",
      "\n"
     ]
    },
    {
     "name": "stderr",
     "output_type": "stream",
     "text": [
      "  1%|▏         | 196/13533 [15:22<12:57:45,  3.50s/it]"
     ]
    },
    {
     "name": "stdout",
     "output_type": "stream",
     "text": [
      "No results found for 'The Art Of Noise Featuring Tom Jones'.\n",
      "Searching for songs by Stevie B...\n",
      "\n",
      "Done. Found 0 songs.\n",
      "Searching for \"I Wanna Be The One\" by Stevie B...\n"
     ]
    },
    {
     "name": "stderr",
     "output_type": "stream",
     "text": [
      "  1%|▏         | 197/13533 [15:27<14:44:48,  3.98s/it]"
     ]
    },
    {
     "name": "stdout",
     "output_type": "stream",
     "text": [
      "Done.\n",
      "Searching for songs by Billy Ocean...\n",
      "\n",
      "Done. Found 0 songs.\n",
      "Searching for \"Licence To Chill\" by Billy Ocean...\n"
     ]
    },
    {
     "name": "stderr",
     "output_type": "stream",
     "text": [
      "  1%|▏         | 198/13533 [15:32<15:32:25,  4.20s/it]"
     ]
    },
    {
     "name": "stdout",
     "output_type": "stream",
     "text": [
      "Done.\n",
      "Searching for songs by Robbie Nevil...\n",
      "\n",
      "Done. Found 0 songs.\n",
      "Searching for \"Back On Holiday\" by Robbie Nevil...\n"
     ]
    },
    {
     "name": "stderr",
     "output_type": "stream",
     "text": [
      "  1%|▏         | 199/13533 [15:36<15:21:07,  4.14s/it]"
     ]
    },
    {
     "name": "stdout",
     "output_type": "stream",
     "text": [
      "Done.\n",
      "Searching for songs by Sharon Bryant...\n",
      "\n",
      "Done. Found 0 songs.\n",
      "Searching for \"Let Go\" by Sharon Bryant...\n"
     ]
    },
    {
     "name": "stderr",
     "output_type": "stream",
     "text": [
      "  1%|▏         | 200/13533 [15:40<15:29:33,  4.18s/it]"
     ]
    },
    {
     "name": "stdout",
     "output_type": "stream",
     "text": [
      "Done.\n",
      "Searching for songs by De La Soul...\n",
      "\n",
      "Done. Found 0 songs.\n",
      "Searching for \"Me Myself And I\" by De La Soul...\n"
     ]
    },
    {
     "name": "stderr",
     "output_type": "stream",
     "text": [
      "  1%|▏         | 201/13533 [15:47<18:18:41,  4.94s/it]"
     ]
    },
    {
     "name": "stdout",
     "output_type": "stream",
     "text": [
      "Done.\n",
      "Searching for songs by Van Halen...\n",
      "\n",
      "Done. Found 0 songs.\n",
      "Searching for \"Feels So Good\" by Van Halen...\n"
     ]
    },
    {
     "name": "stderr",
     "output_type": "stream",
     "text": [
      "  1%|▏         | 202/13533 [15:50<16:52:28,  4.56s/it]"
     ]
    },
    {
     "name": "stdout",
     "output_type": "stream",
     "text": [
      "Done.\n",
      "Searching for songs by Metallica...\n",
      "\n",
      "Done. Found 0 songs.\n",
      "Searching for \"One\" by Metallica...\n"
     ]
    },
    {
     "name": "stderr",
     "output_type": "stream",
     "text": [
      "  2%|▏         | 203/13533 [15:55<16:31:46,  4.46s/it]"
     ]
    },
    {
     "name": "stdout",
     "output_type": "stream",
     "text": [
      "Done.\n",
      "Searching for songs by Tiffany...\n",
      "\n",
      "Done. Found 0 songs.\n",
      "Searching for \"Radio Romance\" by Tiffany...\n"
     ]
    },
    {
     "name": "stderr",
     "output_type": "stream",
     "text": [
      "  2%|▏         | 204/13533 [15:59<16:03:50,  4.34s/it]"
     ]
    },
    {
     "name": "stdout",
     "output_type": "stream",
     "text": [
      "Done.\n",
      "Searching for songs by Johnny Kemp...\n",
      "\n",
      "Done. Found 0 songs.\n",
      "Searching for \"Birthday Suit (From \"Sing\")\" by Johnny Kemp...\n"
     ]
    },
    {
     "name": "stderr",
     "output_type": "stream",
     "text": [
      "  2%|▏         | 205/13533 [16:02<15:15:42,  4.12s/it]"
     ]
    },
    {
     "name": "stdout",
     "output_type": "stream",
     "text": [
      "Done.\n",
      "Searching for songs by Beastie Boys...\n",
      "\n",
      "Done. Found 0 songs.\n",
      "Searching for \"Hey Ladies\" by Beastie Boys...\n"
     ]
    },
    {
     "name": "stderr",
     "output_type": "stream",
     "text": [
      "  2%|▏         | 206/13533 [16:10<19:52:56,  5.37s/it]"
     ]
    },
    {
     "name": "stdout",
     "output_type": "stream",
     "text": [
      "Done.\n",
      "Searching for songs by Prince With Sheena Easton...\n",
      "\n"
     ]
    },
    {
     "name": "stderr",
     "output_type": "stream",
     "text": [
      "  2%|▏         | 207/13533 [16:11<14:57:01,  4.04s/it]"
     ]
    },
    {
     "name": "stdout",
     "output_type": "stream",
     "text": [
      "No results found for 'Prince With Sheena Easton'.\n",
      "Searching for songs by Cinderella...\n",
      "\n",
      "Done. Found 0 songs.\n",
      "Searching for \"The Last Mile\" by Cinderella...\n"
     ]
    },
    {
     "name": "stderr",
     "output_type": "stream",
     "text": [
      "  2%|▏         | 208/13533 [16:15<14:19:41,  3.87s/it]"
     ]
    },
    {
     "name": "stdout",
     "output_type": "stream",
     "text": [
      "Done.\n",
      "Searching for songs by One 2 Many...\n",
      "\n",
      "Done. Found 0 songs.\n",
      "Searching for \"Downtown\" by One 2 Many...\n"
     ]
    },
    {
     "name": "stderr",
     "output_type": "stream",
     "text": [
      "  2%|▏         | 209/13533 [16:19<14:23:40,  3.89s/it]"
     ]
    },
    {
     "name": "stdout",
     "output_type": "stream",
     "text": [
      "Done.\n",
      "Searching for songs by Whitesnake...\n",
      "\n",
      "Done. Found 0 songs.\n",
      "Searching for \"Fool For Your Loving\" by Whitesnake...\n"
     ]
    },
    {
     "name": "stderr",
     "output_type": "stream",
     "text": [
      "  2%|▏         | 210/13533 [16:23<14:23:15,  3.89s/it]"
     ]
    },
    {
     "name": "stdout",
     "output_type": "stream",
     "text": [
      "Done.\n",
      "Searching for songs by Stevie B...\n",
      "\n",
      "Done. Found 0 songs.\n",
      "Searching for \"In My Eyes\" by Stevie B...\n"
     ]
    },
    {
     "name": "stderr",
     "output_type": "stream",
     "text": [
      "  2%|▏         | 211/13533 [16:26<14:15:20,  3.85s/it]"
     ]
    },
    {
     "name": "stdout",
     "output_type": "stream",
     "text": [
      "Done.\n",
      "Searching for songs by Kylie Minogue...\n",
      "\n",
      "Done. Found 0 songs.\n",
      "Searching for \"It's No Secret\" by Kylie Minogue...\n"
     ]
    },
    {
     "name": "stderr",
     "output_type": "stream",
     "text": [
      "  2%|▏         | 212/13533 [16:32<16:30:08,  4.46s/it]"
     ]
    },
    {
     "name": "stdout",
     "output_type": "stream",
     "text": [
      "Done.\n",
      "Searching for songs by Rick Astley...\n",
      "\n",
      "Done. Found 0 songs.\n",
      "Searching for \"Giving Up On Love\" by Rick Astley...\n"
     ]
    },
    {
     "name": "stderr",
     "output_type": "stream",
     "text": [
      "  2%|▏         | 213/13533 [16:37<16:30:31,  4.46s/it]"
     ]
    },
    {
     "name": "stdout",
     "output_type": "stream",
     "text": [
      "Done.\n",
      "Searching for songs by The Cover Girls...\n",
      "\n",
      "Done. Found 0 songs.\n",
      "Searching for \"My Heart Skips A Beat\" by The Cover Girls...\n"
     ]
    },
    {
     "name": "stderr",
     "output_type": "stream",
     "text": [
      "  2%|▏         | 214/13533 [16:42<17:05:52,  4.62s/it]"
     ]
    },
    {
     "name": "stdout",
     "output_type": "stream",
     "text": [
      "Done.\n",
      "Searching for songs by Eurythmics...\n",
      "\n",
      "Done. Found 0 songs.\n",
      "Searching for \"Don't Ask Me Why\" by Eurythmics...\n"
     ]
    },
    {
     "name": "stderr",
     "output_type": "stream",
     "text": [
      "  2%|▏         | 215/13533 [16:47<17:36:23,  4.76s/it]"
     ]
    },
    {
     "name": "stdout",
     "output_type": "stream",
     "text": [
      "Done.\n",
      "Searching for songs by Aretha Franklin/Whitney Houston...\n",
      "\n"
     ]
    },
    {
     "name": "stderr",
     "output_type": "stream",
     "text": [
      "  2%|▏         | 216/13533 [16:48<13:32:46,  3.66s/it]"
     ]
    },
    {
     "name": "stdout",
     "output_type": "stream",
     "text": [
      "No results found for 'Aretha Franklin/Whitney Houston'.\n",
      "Searching for songs by Soulsister...\n",
      "\n",
      "Done. Found 0 songs.\n",
      "Searching for \"The Way To Your Heart\" by Soulsister...\n"
     ]
    },
    {
     "name": "stderr",
     "output_type": "stream",
     "text": [
      "  2%|▏         | 217/13533 [16:53<15:04:40,  4.08s/it]"
     ]
    },
    {
     "name": "stdout",
     "output_type": "stream",
     "text": [
      "Done.\n",
      "Searching for songs by Dino...\n",
      "\n",
      "Changing artist name to 'Dinos'\n",
      "Done. Found 0 songs.\n",
      "Searching for \"24/7\" by Dinos...\n"
     ]
    },
    {
     "name": "stderr",
     "output_type": "stream",
     "text": [
      "  2%|▏         | 218/13533 [16:57<15:27:37,  4.18s/it]"
     ]
    },
    {
     "name": "stdout",
     "output_type": "stream",
     "text": [
      "Done.\n",
      "Searching for songs by Chuckii Booker...\n",
      "\n",
      "Done. Found 0 songs.\n",
      "Searching for \"Turned Away\" by Chuckii Booker...\n"
     ]
    },
    {
     "name": "stderr",
     "output_type": "stream",
     "text": [
      "  2%|▏         | 219/13533 [17:02<15:51:49,  4.29s/it]"
     ]
    },
    {
     "name": "stdout",
     "output_type": "stream",
     "text": [
      "Done.\n",
      "Searching for songs by Fleetwood Mac...\n",
      "\n",
      "Done. Found 0 songs.\n",
      "Searching for \"As Long As You Follow\" by Fleetwood Mac...\n"
     ]
    },
    {
     "name": "stderr",
     "output_type": "stream",
     "text": [
      "  2%|▏         | 220/13533 [17:07<16:40:14,  4.51s/it]"
     ]
    },
    {
     "name": "stdout",
     "output_type": "stream",
     "text": [
      "Done.\n",
      "Searching for songs by New Edition...\n",
      "\n",
      "Done. Found 0 songs.\n",
      "Searching for \"Can You Stand The Rain\" by New Edition...\n"
     ]
    },
    {
     "name": "stderr",
     "output_type": "stream",
     "text": [
      "  2%|▏         | 221/13533 [17:12<17:10:48,  4.65s/it]"
     ]
    },
    {
     "name": "stdout",
     "output_type": "stream",
     "text": [
      "Done.\n",
      "Searching for songs by 10,000 Maniacs...\n",
      "\n",
      "Done. Found 0 songs.\n",
      "Searching for \"Trouble Me\" by 10,000 Maniacs...\n"
     ]
    },
    {
     "name": "stderr",
     "output_type": "stream",
     "text": [
      "  2%|▏         | 222/13533 [17:17<17:40:46,  4.78s/it]"
     ]
    },
    {
     "name": "stdout",
     "output_type": "stream",
     "text": [
      "Done.\n",
      "Searching for songs by Bad English...\n",
      "\n",
      "Done. Found 0 songs.\n",
      "Searching for \"Forget Me Not\" by Bad English...\n"
     ]
    },
    {
     "name": "stderr",
     "output_type": "stream",
     "text": [
      "  2%|▏         | 223/13533 [17:21<16:24:34,  4.44s/it]"
     ]
    },
    {
     "name": "stdout",
     "output_type": "stream",
     "text": [
      "Done.\n",
      "Searching for songs by The Doobie Brothers...\n",
      "\n",
      "Done. Found 0 songs.\n",
      "Searching for \"Need A Little Taste Of Love\" by The Doobie Brothers...\n"
     ]
    },
    {
     "name": "stderr",
     "output_type": "stream",
     "text": [
      "  2%|▏         | 224/13533 [17:25<16:03:45,  4.34s/it]"
     ]
    },
    {
     "name": "stdout",
     "output_type": "stream",
     "text": [
      "Done.\n",
      "Searching for songs by The Cure...\n",
      "\n",
      "Done. Found 0 songs.\n",
      "Searching for \"Fascination Street\" by The Cure...\n"
     ]
    },
    {
     "name": "stderr",
     "output_type": "stream",
     "text": [
      "  2%|▏         | 225/13533 [17:32<18:40:47,  5.05s/it]"
     ]
    },
    {
     "name": "stdout",
     "output_type": "stream",
     "text": [
      "Done.\n",
      "Searching for songs by The Cult...\n",
      "\n",
      "Done. Found 0 songs.\n",
      "Searching for \"Fire Woman\" by The Cult...\n"
     ]
    },
    {
     "name": "stderr",
     "output_type": "stream",
     "text": [
      "  2%|▏         | 226/13533 [17:36<18:07:26,  4.90s/it]"
     ]
    },
    {
     "name": "stdout",
     "output_type": "stream",
     "text": [
      "Done.\n",
      "Searching for songs by Stage Dolls...\n",
      "\n",
      "Done. Found 0 songs.\n",
      "Searching for \"Love Cries\" by Stage Dolls...\n"
     ]
    },
    {
     "name": "stderr",
     "output_type": "stream",
     "text": [
      "  2%|▏         | 227/13533 [17:41<18:03:12,  4.88s/it]"
     ]
    },
    {
     "name": "stdout",
     "output_type": "stream",
     "text": [
      "Done.\n",
      "Searching for songs by Huey Lewis & The News...\n",
      "\n",
      "Done. Found 0 songs.\n",
      "Searching for \"Give Me The Keys (And I'll Drive You Crazy)\" by Huey Lewis & The News...\n"
     ]
    },
    {
     "name": "stderr",
     "output_type": "stream",
     "text": [
      "  2%|▏         | 228/13533 [17:46<17:50:36,  4.83s/it]"
     ]
    },
    {
     "name": "stdout",
     "output_type": "stream",
     "text": [
      "Done.\n",
      "Searching for songs by Kenny G...\n",
      "\n",
      "Done. Found 0 songs.\n",
      "Searching for \"We've Saved The Best For Last\" by Kenny G...\n"
     ]
    },
    {
     "name": "stderr",
     "output_type": "stream",
     "text": [
      "  2%|▏         | 229/13533 [17:50<17:49:33,  4.82s/it]"
     ]
    },
    {
     "name": "stdout",
     "output_type": "stream",
     "text": [
      "Done.\n",
      "Searching for songs by Edie Brickell & New Bohemians...\n",
      "\n",
      "Done. Found 0 songs.\n",
      "Searching for \"Circle\" by Edie Brickell & New Bohemians...\n"
     ]
    },
    {
     "name": "stderr",
     "output_type": "stream",
     "text": [
      "  2%|▏         | 230/13533 [17:54<16:52:28,  4.57s/it]"
     ]
    },
    {
     "name": "stdout",
     "output_type": "stream",
     "text": [
      "Done.\n",
      "Searching for songs by Tommy Conwell And The Young Rumblers...\n",
      "\n"
     ]
    },
    {
     "name": "stderr",
     "output_type": "stream",
     "text": [
      "  2%|▏         | 231/13533 [17:56<13:22:27,  3.62s/it]"
     ]
    },
    {
     "name": "stdout",
     "output_type": "stream",
     "text": [
      "No results found for 'Tommy Conwell And The Young Rumblers'.\n",
      "Searching for songs by John Mellencamp...\n",
      "\n",
      "Done. Found 0 songs.\n",
      "Searching for \"Jackie Brown\" by John Mellencamp...\n"
     ]
    },
    {
     "name": "stderr",
     "output_type": "stream",
     "text": [
      "  2%|▏         | 232/13533 [18:00<14:01:26,  3.80s/it]"
     ]
    },
    {
     "name": "stdout",
     "output_type": "stream",
     "text": [
      "Done.\n",
      "Searching for songs by Boy Meets Girl...\n",
      "\n",
      "Done. Found 0 songs.\n",
      "Searching for \"Bring Down The Moon\" by Boy Meets Girl...\n"
     ]
    },
    {
     "name": "stderr",
     "output_type": "stream",
     "text": [
      "  2%|▏         | 233/13533 [18:05<14:52:58,  4.03s/it]"
     ]
    },
    {
     "name": "stdout",
     "output_type": "stream",
     "text": [
      "Done.\n",
      "Searching for songs by Carly Simon...\n",
      "\n",
      "Done. Found 0 songs.\n",
      "Searching for \"Let The River Run (Theme From \"Working Girl\")\" by Carly Simon...\n"
     ]
    },
    {
     "name": "stderr",
     "output_type": "stream",
     "text": [
      "  2%|▏         | 234/13533 [18:08<14:28:49,  3.92s/it]"
     ]
    },
    {
     "name": "stdout",
     "output_type": "stream",
     "text": [
      "Done.\n",
      "Searching for songs by Christopher Williams...\n",
      "\n",
      "Done. Found 0 songs.\n",
      "Searching for \"Talk To Myself\" by Christopher Williams...\n"
     ]
    },
    {
     "name": "stderr",
     "output_type": "stream",
     "text": [
      "  2%|▏         | 235/13533 [18:12<14:39:43,  3.97s/it]"
     ]
    },
    {
     "name": "stdout",
     "output_type": "stream",
     "text": [
      "Done.\n",
      "Searching for songs by Lil Louis...\n",
      "\n",
      "Done. Found 0 songs.\n",
      "Searching for \"French Kiss\" by Lil Louis...\n"
     ]
    },
    {
     "name": "stderr",
     "output_type": "stream",
     "text": [
      "  2%|▏         | 236/13533 [18:18<16:31:22,  4.47s/it]"
     ]
    },
    {
     "name": "stdout",
     "output_type": "stream",
     "text": [
      "Done.\n",
      "Searching for songs by Queen...\n",
      "\n",
      "Done. Found 0 songs.\n",
      "Searching for \"I Want It All\" by Queen...\n"
     ]
    },
    {
     "name": "stderr",
     "output_type": "stream",
     "text": [
      "  2%|▏         | 237/13533 [18:23<16:51:50,  4.57s/it]"
     ]
    },
    {
     "name": "stdout",
     "output_type": "stream",
     "text": [
      "Done.\n",
      "Searching for songs by The Alarm...\n",
      "\n",
      "Done. Found 0 songs.\n",
      "Searching for \"Sold Me Down The River\" by The Alarm...\n"
     ]
    },
    {
     "name": "stderr",
     "output_type": "stream",
     "text": [
      "  2%|▏         | 238/13533 [18:29<18:39:49,  5.05s/it]"
     ]
    },
    {
     "name": "stdout",
     "output_type": "stream",
     "text": [
      "Done.\n",
      "Searching for songs by Cinderella...\n",
      "\n",
      "Done. Found 0 songs.\n",
      "Searching for \"Gypsy Road\" by Cinderella...\n"
     ]
    },
    {
     "name": "stderr",
     "output_type": "stream",
     "text": [
      "  2%|▏         | 239/13533 [18:34<18:54:17,  5.12s/it]"
     ]
    },
    {
     "name": "stdout",
     "output_type": "stream",
     "text": [
      "Done.\n",
      "Searching for songs by The Replacements...\n",
      "\n",
      "Done. Found 0 songs.\n",
      "Searching for \"I'll Be You\" by The Replacements...\n"
     ]
    },
    {
     "name": "stderr",
     "output_type": "stream",
     "text": [
      "  2%|▏         | 240/13533 [18:39<18:21:05,  4.97s/it]"
     ]
    },
    {
     "name": "stdout",
     "output_type": "stream",
     "text": [
      "Done.\n",
      "Searching for songs by The Call...\n",
      "\n",
      "Done. Found 0 songs.\n",
      "Searching for \"Let The Day Begin\" by The Call...\n"
     ]
    },
    {
     "name": "stderr",
     "output_type": "stream",
     "text": [
      "  2%|▏         | 241/13533 [18:44<18:33:44,  5.03s/it]"
     ]
    },
    {
     "name": "stdout",
     "output_type": "stream",
     "text": [
      "Done.\n",
      "Searching for songs by Indigo Girls...\n",
      "\n",
      "Done. Found 0 songs.\n",
      "Searching for \"Closer To Fine\" by Indigo Girls...\n"
     ]
    },
    {
     "name": "stderr",
     "output_type": "stream",
     "text": [
      "  2%|▏         | 242/13533 [18:51<20:29:17,  5.55s/it]"
     ]
    },
    {
     "name": "stdout",
     "output_type": "stream",
     "text": [
      "Done.\n",
      "Searching for songs by White Lion...\n",
      "\n",
      "Done. Found 0 songs.\n",
      "Searching for \"Little Fighter\" by White Lion...\n"
     ]
    },
    {
     "name": "stderr",
     "output_type": "stream",
     "text": [
      "  2%|▏         | 243/13533 [18:54<17:41:10,  4.79s/it]"
     ]
    },
    {
     "name": "stdout",
     "output_type": "stream",
     "text": [
      "Done.\n",
      "Searching for songs by The Pasadenas...\n",
      "\n",
      "Done. Found 0 songs.\n",
      "Searching for \"Tribute (Right On)\" by The Pasadenas...\n"
     ]
    },
    {
     "name": "stderr",
     "output_type": "stream",
     "text": [
      "  2%|▏         | 244/13533 [19:00<18:41:33,  5.06s/it]"
     ]
    },
    {
     "name": "stdout",
     "output_type": "stream",
     "text": [
      "Done.\n",
      "Searching for songs by Animotion...\n",
      "\n",
      "Done. Found 0 songs.\n",
      "Searching for \"Calling It Love\" by Animotion...\n"
     ]
    },
    {
     "name": "stderr",
     "output_type": "stream",
     "text": [
      "  2%|▏         | 245/13533 [19:03<17:12:45,  4.66s/it]"
     ]
    },
    {
     "name": "stdout",
     "output_type": "stream",
     "text": [
      "Done.\n",
      "Searching for songs by Steve Winwood...\n",
      "\n",
      "Done. Found 0 songs.\n",
      "Searching for \"Hearts On Fire\" by Steve Winwood...\n"
     ]
    },
    {
     "name": "stderr",
     "output_type": "stream",
     "text": [
      "  2%|▏         | 246/13533 [19:07<16:23:41,  4.44s/it]"
     ]
    },
    {
     "name": "stdout",
     "output_type": "stream",
     "text": [
      "Done.\n",
      "Searching for songs by Basia...\n",
      "\n",
      "Done. Found 0 songs.\n",
      "Searching for \"New Day For You\" by Basia...\n"
     ]
    },
    {
     "name": "stderr",
     "output_type": "stream",
     "text": [
      "  2%|▏         | 247/13533 [19:12<17:11:54,  4.66s/it]"
     ]
    },
    {
     "name": "stdout",
     "output_type": "stream",
     "text": [
      "Done.\n",
      "Searching for songs by Fine Young Cannibals...\n",
      "\n",
      "Done. Found 0 songs.\n",
      "Searching for \"I'm Not The Man I Used To Be\" by Fine Young Cannibals...\n"
     ]
    },
    {
     "name": "stderr",
     "output_type": "stream",
     "text": [
      "  2%|▏         | 248/13533 [19:19<18:52:44,  5.12s/it]"
     ]
    },
    {
     "name": "stdout",
     "output_type": "stream",
     "text": [
      "Done.\n",
      "Searching for songs by Vesta...\n",
      "\n",
      "Done. Found 0 songs.\n",
      "Searching for \"Congratulations\" by Vesta...\n"
     ]
    },
    {
     "name": "stderr",
     "output_type": "stream",
     "text": [
      "  2%|▏         | 249/13533 [19:23<18:00:43,  4.88s/it]"
     ]
    },
    {
     "name": "stdout",
     "output_type": "stream",
     "text": [
      "Done.\n",
      "Searching for songs by The Fixx...\n",
      "\n",
      "Done. Found 0 songs.\n",
      "Searching for \"Driven Out\" by The Fixx...\n"
     ]
    },
    {
     "name": "stderr",
     "output_type": "stream",
     "text": [
      "  2%|▏         | 250/13533 [19:28<18:22:19,  4.98s/it]"
     ]
    },
    {
     "name": "stdout",
     "output_type": "stream",
     "text": [
      "Done.\n",
      "Searching for songs by Eric Clapton...\n",
      "\n",
      "Done. Found 0 songs.\n",
      "Searching for \"Pretending\" by Eric Clapton...\n"
     ]
    },
    {
     "name": "stderr",
     "output_type": "stream",
     "text": [
      "  2%|▏         | 251/13533 [19:33<18:06:35,  4.91s/it]"
     ]
    },
    {
     "name": "stdout",
     "output_type": "stream",
     "text": [
      "Done.\n",
      "Searching for songs by Chicago...\n",
      "\n",
      "Done. Found 0 songs.\n",
      "Searching for \"We Can Last Forever\" by Chicago...\n"
     ]
    },
    {
     "name": "stderr",
     "output_type": "stream",
     "text": [
      "  2%|▏         | 252/13533 [19:38<18:21:08,  4.97s/it]"
     ]
    },
    {
     "name": "stdout",
     "output_type": "stream",
     "text": [
      "Done.\n",
      "Searching for songs by Eighth Wonder...\n",
      "\n",
      "Done. Found 0 songs.\n",
      "Searching for \"Cross My Heart\" by Eighth Wonder...\n"
     ]
    },
    {
     "name": "stderr",
     "output_type": "stream",
     "text": [
      "  2%|▏         | 253/13533 [19:42<17:43:45,  4.81s/it]"
     ]
    },
    {
     "name": "stdout",
     "output_type": "stream",
     "text": [
      "Done.\n",
      "Searching for songs by Stevie B...\n",
      "\n",
      "Done. Found 0 songs.\n",
      "Searching for \"Girl I Am Searching For You\" by Stevie B...\n"
     ]
    },
    {
     "name": "stderr",
     "output_type": "stream",
     "text": [
      "  2%|▏         | 254/13533 [19:46<16:33:30,  4.49s/it]"
     ]
    },
    {
     "name": "stdout",
     "output_type": "stream",
     "text": [
      "Done.\n",
      "Searching for songs by Giant...\n",
      "\n",
      "Changing artist name to 'Young the Giant'\n",
      "Done. Found 0 songs.\n",
      "Searching for \"I'm A Believer\" by Young the Giant...\n"
     ]
    },
    {
     "name": "stderr",
     "output_type": "stream",
     "text": [
      "  2%|▏         | 255/13533 [19:51<17:10:19,  4.66s/it]"
     ]
    },
    {
     "name": "stdout",
     "output_type": "stream",
     "text": [
      "Done.\n",
      "Searching for songs by The Graces...\n",
      "\n",
      "Done. Found 0 songs.\n",
      "Searching for \"Lay Down Your Arms\" by The Graces...\n"
     ]
    },
    {
     "name": "stderr",
     "output_type": "stream",
     "text": [
      "  2%|▏         | 256/13533 [19:57<18:25:02,  4.99s/it]"
     ]
    },
    {
     "name": "stdout",
     "output_type": "stream",
     "text": [
      "Done.\n",
      "Searching for songs by Surface...\n",
      "\n",
      "Done. Found 0 songs.\n",
      "Searching for \"Closer Than Friends\" by Surface...\n"
     ]
    },
    {
     "name": "stderr",
     "output_type": "stream",
     "text": [
      "  2%|▏         | 257/13533 [20:01<17:15:10,  4.68s/it]"
     ]
    },
    {
     "name": "stdout",
     "output_type": "stream",
     "text": [
      "Done.\n",
      "Searching for songs by Simply Red...\n",
      "\n",
      "Done. Found 0 songs.\n",
      "Searching for \"It's Only Love\" by Simply Red...\n"
     ]
    },
    {
     "name": "stderr",
     "output_type": "stream",
     "text": [
      "  2%|▏         | 258/13533 [20:05<16:58:36,  4.60s/it]"
     ]
    },
    {
     "name": "stdout",
     "output_type": "stream",
     "text": [
      "Done.\n",
      "Searching for songs by Billy Squier...\n",
      "\n",
      "Done. Found 0 songs.\n",
      "Searching for \"Don't Say You Love Me\" by Billy Squier...\n"
     ]
    },
    {
     "name": "stderr",
     "output_type": "stream",
     "text": [
      "  2%|▏         | 259/13533 [20:10<17:08:34,  4.65s/it]"
     ]
    },
    {
     "name": "stdout",
     "output_type": "stream",
     "text": [
      "Done.\n",
      "Searching for songs by D.J. Jazzy Jeff & The Fresh Prince...\n",
      "\n",
      "Changing artist name to 'DJ Jazzy Jeff & The Fresh Prince'\n",
      "Done. Found 0 songs.\n",
      "Searching for \"I Think I Can Beat Mike Tyson\" by DJ Jazzy Jeff & The Fresh Prince...\n"
     ]
    },
    {
     "name": "stderr",
     "output_type": "stream",
     "text": [
      "  2%|▏         | 260/13533 [20:15<17:51:49,  4.85s/it]"
     ]
    },
    {
     "name": "stdout",
     "output_type": "stream",
     "text": [
      "Done.\n",
      "Searching for songs by House Of Lords...\n",
      "\n",
      "Changing artist name to 'House of Lords'\n",
      "Done. Found 0 songs.\n",
      "Searching for \"I Wanna Be Loved\" by House of Lords...\n"
     ]
    },
    {
     "name": "stderr",
     "output_type": "stream",
     "text": [
      "  2%|▏         | 261/13533 [20:20<17:23:50,  4.72s/it]"
     ]
    },
    {
     "name": "stdout",
     "output_type": "stream",
     "text": [
      "Done.\n",
      "Searching for songs by Giant Steps...\n",
      "\n",
      "Done. Found 0 songs.\n",
      "Searching for \"Into You\" by Giant Steps...\n"
     ]
    },
    {
     "name": "stderr",
     "output_type": "stream",
     "text": [
      "  2%|▏         | 262/13533 [20:25<17:26:59,  4.73s/it]"
     ]
    },
    {
     "name": "stdout",
     "output_type": "stream",
     "text": [
      "Done.\n",
      "Searching for songs by Rob Base & D.J. E-Z Rock...\n",
      "\n",
      "Changing artist name to 'Rob Base & DJ E-Z Rock'\n",
      "Done. Found 0 songs.\n",
      "Searching for \"Joy And Pain\" by Rob Base & DJ E-Z Rock...\n"
     ]
    },
    {
     "name": "stderr",
     "output_type": "stream",
     "text": [
      "  2%|▏         | 263/13533 [20:30<17:40:55,  4.80s/it]"
     ]
    },
    {
     "name": "stdout",
     "output_type": "stream",
     "text": [
      "Done.\n",
      "Searching for songs by Adrian Belew...\n",
      "\n",
      "Done. Found 0 songs.\n",
      "Searching for \"Oh Daddy\" by Adrian Belew...\n"
     ]
    },
    {
     "name": "stderr",
     "output_type": "stream",
     "text": [
      "  2%|▏         | 264/13533 [20:33<16:20:21,  4.43s/it]"
     ]
    },
    {
     "name": "stdout",
     "output_type": "stream",
     "text": [
      "Done.\n",
      "Searching for songs by Kon Kan...\n",
      "\n",
      "Done. Found 0 songs.\n",
      "Searching for \"Puss N' Boots/These Boots (Are Made For Walkin')\" by Kon Kan...\n"
     ]
    },
    {
     "name": "stderr",
     "output_type": "stream",
     "text": [
      "  2%|▏         | 265/13533 [20:38<17:18:07,  4.69s/it]"
     ]
    },
    {
     "name": "stdout",
     "output_type": "stream",
     "text": [
      "Done.\n",
      "Searching for songs by Pajama Party...\n",
      "\n",
      "Done. Found 0 songs.\n",
      "Searching for \"Over And Over\" by Pajama Party...\n"
     ]
    },
    {
     "name": "stderr",
     "output_type": "stream",
     "text": [
      "  2%|▏         | 266/13533 [20:44<17:57:40,  4.87s/it]"
     ]
    },
    {
     "name": "stdout",
     "output_type": "stream",
     "text": [
      "Done.\n",
      "Searching for songs by White Lion...\n",
      "\n",
      "Done. Found 0 songs.\n",
      "Searching for \"Radar Love\" by White Lion...\n"
     ]
    },
    {
     "name": "stderr",
     "output_type": "stream",
     "text": [
      "  2%|▏         | 267/13533 [20:46<15:23:02,  4.17s/it]"
     ]
    },
    {
     "name": "stdout",
     "output_type": "stream",
     "text": [
      "Done.\n",
      "Searching for songs by Camouflage...\n",
      "\n",
      "Done. Found 0 songs.\n",
      "Searching for \"The Great Commandment\" by Camouflage...\n"
     ]
    },
    {
     "name": "stderr",
     "output_type": "stream",
     "text": [
      "  2%|▏         | 268/13533 [20:52<16:49:54,  4.57s/it]"
     ]
    },
    {
     "name": "stdout",
     "output_type": "stream",
     "text": [
      "Done.\n",
      "Searching for songs by The Jets...\n",
      "\n",
      "Changing artist name to 'The Jets (Group)'\n",
      "Done. Found 0 songs.\n",
      "Searching for \"You Better Dance\" by The Jets (Group)...\n"
     ]
    },
    {
     "name": "stderr",
     "output_type": "stream",
     "text": [
      "  2%|▏         | 269/13533 [20:58<18:53:15,  5.13s/it]"
     ]
    },
    {
     "name": "stdout",
     "output_type": "stream",
     "text": [
      "Done.\n",
      "Searching for songs by Regina Belle...\n",
      "\n",
      "Done. Found 0 songs.\n",
      "Searching for \"Baby Come To Me\" by Regina Belle...\n"
     ]
    },
    {
     "name": "stderr",
     "output_type": "stream",
     "text": [
      "  2%|▏         | 270/13533 [21:03<18:25:48,  5.00s/it]"
     ]
    },
    {
     "name": "stdout",
     "output_type": "stream",
     "text": [
      "Done.\n",
      "Searching for songs by Eddie Money...\n",
      "\n",
      "Done. Found 0 songs.\n",
      "Searching for \"Let Me In\" by Eddie Money...\n"
     ]
    },
    {
     "name": "stderr",
     "output_type": "stream",
     "text": [
      "  2%|▏         | 271/13533 [21:06<16:04:43,  4.36s/it]"
     ]
    },
    {
     "name": "stdout",
     "output_type": "stream",
     "text": [
      "Done.\n",
      "Searching for songs by Kevin Raleigh...\n",
      "\n",
      "Done. Found 0 songs.\n",
      "Searching for \"Moonlight On Water\" by Kevin Raleigh...\n"
     ]
    },
    {
     "name": "stderr",
     "output_type": "stream",
     "text": [
      "  2%|▏         | 272/13533 [21:10<15:56:20,  4.33s/it]"
     ]
    },
    {
     "name": "stdout",
     "output_type": "stream",
     "text": [
      "Done.\n",
      "Searching for songs by Whistle...\n",
      "\n",
      "Done. Found 0 songs.\n",
      "Searching for \"Right Next To Me\" by Whistle...\n"
     ]
    },
    {
     "name": "stderr",
     "output_type": "stream",
     "text": [
      "  2%|▏         | 273/13533 [21:14<15:56:43,  4.33s/it]"
     ]
    },
    {
     "name": "stdout",
     "output_type": "stream",
     "text": [
      "Done.\n",
      "Searching for songs by Robert Palmer...\n",
      "\n",
      "Done. Found 0 songs.\n",
      "Searching for \"Tell Me I'm Not Dreaming\" by Robert Palmer...\n"
     ]
    },
    {
     "name": "stderr",
     "output_type": "stream",
     "text": [
      "  2%|▏         | 274/13533 [21:20<16:57:27,  4.60s/it]"
     ]
    },
    {
     "name": "stdout",
     "output_type": "stream",
     "text": [
      "Done.\n",
      "Searching for songs by Peter Schilling...\n",
      "\n",
      "Done. Found 0 songs.\n",
      "Searching for \"The Different Story (World Of Lust And Crime)\" by Peter Schilling...\n"
     ]
    },
    {
     "name": "stderr",
     "output_type": "stream",
     "text": [
      "  2%|▏         | 275/13533 [21:25<18:08:28,  4.93s/it]"
     ]
    },
    {
     "name": "stdout",
     "output_type": "stream",
     "text": [
      "Done.\n",
      "Searching for songs by Teddy Riley Featuring Guy...\n",
      "\n"
     ]
    },
    {
     "name": "stderr",
     "output_type": "stream",
     "text": [
      "  2%|▏         | 276/13533 [21:26<13:43:53,  3.73s/it]"
     ]
    },
    {
     "name": "stdout",
     "output_type": "stream",
     "text": [
      "No results found for 'Teddy Riley Featuring Guy'.\n",
      "Searching for songs by Cyndi Lauper...\n",
      "\n",
      "Done. Found 0 songs.\n",
      "Searching for \"My First Night Without You\" by Cyndi Lauper...\n"
     ]
    },
    {
     "name": "stderr",
     "output_type": "stream",
     "text": [
      "  2%|▏         | 277/13533 [21:30<13:33:02,  3.68s/it]"
     ]
    },
    {
     "name": "stdout",
     "output_type": "stream",
     "text": [
      "Done.\n",
      "Searching for songs by Mike + The Mechanics...\n",
      "\n",
      "Changing artist name to 'Mike + the Mechanics'\n",
      "Done. Found 0 songs.\n",
      "Searching for \"Seeing Is Believing\" by Mike + the Mechanics...\n"
     ]
    },
    {
     "name": "stderr",
     "output_type": "stream",
     "text": [
      "  2%|▏         | 278/13533 [21:34<14:31:17,  3.94s/it]"
     ]
    },
    {
     "name": "stdout",
     "output_type": "stream",
     "text": [
      "Done.\n",
      "Searching for songs by Saraya...\n",
      "\n",
      "Done. Found 0 songs.\n",
      "Searching for \"Back To The Bullet\" by Saraya...\n"
     ]
    },
    {
     "name": "stderr",
     "output_type": "stream",
     "text": [
      "  2%|▏         | 279/13533 [21:40<17:00:05,  4.62s/it]"
     ]
    },
    {
     "name": "stdout",
     "output_type": "stream",
     "text": [
      "Done.\n",
      "Searching for songs by Traveling Wilburys...\n",
      "\n",
      "Done. Found 0 songs.\n",
      "Searching for \"End Of The Line\" by Traveling Wilburys...\n"
     ]
    },
    {
     "name": "stderr",
     "output_type": "stream",
     "text": [
      "  2%|▏         | 280/13533 [21:45<16:35:52,  4.51s/it]"
     ]
    },
    {
     "name": "stdout",
     "output_type": "stream",
     "text": [
      "Done.\n",
      "Searching for songs by Wang Chung...\n",
      "\n",
      "Done. Found 0 songs.\n",
      "Searching for \"Praying To A New God\" by Wang Chung...\n"
     ]
    },
    {
     "name": "stderr",
     "output_type": "stream",
     "text": [
      "  2%|▏         | 281/13533 [21:50<17:18:21,  4.70s/it]"
     ]
    },
    {
     "name": "stdout",
     "output_type": "stream",
     "text": [
      "Done.\n",
      "Searching for songs by Robbie Nevil...\n",
      "\n",
      "Done. Found 0 songs.\n",
      "Searching for \"Somebody Like You\" by Robbie Nevil...\n"
     ]
    },
    {
     "name": "stderr",
     "output_type": "stream",
     "text": [
      "  2%|▏         | 282/13533 [21:53<16:04:21,  4.37s/it]"
     ]
    },
    {
     "name": "stdout",
     "output_type": "stream",
     "text": [
      "Done.\n",
      "Searching for songs by Saraya...\n",
      "\n",
      "Done. Found 0 songs.\n",
      "Searching for \"Love Has Taken Its Toll\" by Saraya...\n"
     ]
    },
    {
     "name": "stderr",
     "output_type": "stream",
     "text": [
      "  2%|▏         | 283/13533 [21:58<16:06:21,  4.38s/it]"
     ]
    },
    {
     "name": "stdout",
     "output_type": "stream",
     "text": [
      "Done.\n",
      "Searching for songs by New Order...\n",
      "\n",
      "Done. Found 0 songs.\n",
      "Searching for \"Round & Round\" by New Order...\n"
     ]
    },
    {
     "name": "stderr",
     "output_type": "stream",
     "text": [
      "  2%|▏         | 284/13533 [22:05<19:10:20,  5.21s/it]"
     ]
    },
    {
     "name": "stdout",
     "output_type": "stream",
     "text": [
      "Done.\n",
      "Searching for songs by Will To Power...\n",
      "\n",
      "Changing artist name to 'Will to Power'\n",
      "Done. Found 0 songs.\n",
      "Searching for \"Fading Away\" by Will to Power...\n"
     ]
    },
    {
     "name": "stderr",
     "output_type": "stream",
     "text": [
      "  2%|▏         | 285/13533 [22:10<19:24:19,  5.27s/it]"
     ]
    },
    {
     "name": "stdout",
     "output_type": "stream",
     "text": [
      "Done.\n",
      "Searching for songs by Holly Johnson...\n",
      "\n",
      "Done. Found 0 songs.\n",
      "Searching for \"Love Train\" by Holly Johnson...\n"
     ]
    },
    {
     "name": "stderr",
     "output_type": "stream",
     "text": [
      "  2%|▏         | 286/13533 [22:15<18:49:53,  5.12s/it]"
     ]
    },
    {
     "name": "stdout",
     "output_type": "stream",
     "text": [
      "Done.\n",
      "Searching for songs by Sam Brown...\n",
      "\n",
      "Done. Found 0 songs.\n",
      "Searching for \"Stop\" by Sam Brown...\n"
     ]
    },
    {
     "name": "stderr",
     "output_type": "stream",
     "text": [
      "  2%|▏         | 287/13533 [22:22<21:05:23,  5.73s/it]"
     ]
    },
    {
     "name": "stdout",
     "output_type": "stream",
     "text": [
      "Done.\n",
      "Searching for songs by Michelle Shocked...\n",
      "\n",
      "Done. Found 0 songs.\n",
      "Searching for \"Anchorage\" by Michelle Shocked...\n"
     ]
    },
    {
     "name": "stderr",
     "output_type": "stream",
     "text": [
      "  2%|▏         | 288/13533 [22:26<19:06:45,  5.19s/it]"
     ]
    },
    {
     "name": "stdout",
     "output_type": "stream",
     "text": [
      "Done.\n",
      "Searching for songs by The Timelords...\n",
      "\n",
      "Done. Found 0 songs.\n",
      "Searching for \"Doctorin' The Tardis\" by The Timelords...\n"
     ]
    },
    {
     "name": "stderr",
     "output_type": "stream",
     "text": [
      "  2%|▏         | 289/13533 [22:33<20:53:31,  5.68s/it]"
     ]
    },
    {
     "name": "stdout",
     "output_type": "stream",
     "text": [
      "Done.\n",
      "Searching for songs by KISS...\n",
      "\n",
      "Done. Found 0 songs.\n",
      "Searching for \"Hide Your Heart\" by KISS...\n"
     ]
    },
    {
     "name": "stderr",
     "output_type": "stream",
     "text": [
      "  2%|▏         | 290/13533 [22:39<21:15:16,  5.78s/it]"
     ]
    },
    {
     "name": "stdout",
     "output_type": "stream",
     "text": [
      "Done.\n",
      "Searching for songs by John Cafferty & The Beaver Brown Band...\n",
      "\n",
      "Changing artist name to 'John Cafferty And The Beaver Brown Band'\n",
      "Done. Found 0 songs.\n",
      "Searching for \"Pride & Passion\" by John Cafferty And The Beaver Brown Band...\n"
     ]
    },
    {
     "name": "stderr",
     "output_type": "stream",
     "text": [
      "  2%|▏         | 291/13533 [22:44<20:03:21,  5.45s/it]"
     ]
    },
    {
     "name": "stdout",
     "output_type": "stream",
     "text": [
      "Done.\n",
      "Searching for songs by Thirty Eight Special...\n",
      "\n"
     ]
    },
    {
     "name": "stderr",
     "output_type": "stream",
     "text": [
      "  2%|▏         | 292/13533 [22:45<14:53:38,  4.05s/it]"
     ]
    },
    {
     "name": "stdout",
     "output_type": "stream",
     "text": [
      "No results found for 'Thirty Eight Special'.\n",
      "Searching for songs by Enuff Z'Nuff...\n",
      "\n",
      "Changing artist name to 'Enuff Z’Nuff'\n",
      "Done. Found 0 songs.\n",
      "Searching for \"New Thing\" by Enuff Z’Nuff...\n"
     ]
    },
    {
     "name": "stderr",
     "output_type": "stream",
     "text": [
      "  2%|▏         | 293/13533 [22:48<14:25:56,  3.92s/it]"
     ]
    },
    {
     "name": "stdout",
     "output_type": "stream",
     "text": [
      "Done.\n",
      "Searching for songs by Tangier...\n",
      "\n",
      "Done. Found 0 songs.\n",
      "Searching for \"On The Line\" by Tangier...\n"
     ]
    },
    {
     "name": "stderr",
     "output_type": "stream",
     "text": [
      "  2%|▏         | 294/13533 [22:53<15:27:06,  4.20s/it]"
     ]
    },
    {
     "name": "stdout",
     "output_type": "stream",
     "text": [
      "Done.\n",
      "Searching for songs by Underworld...\n",
      "\n",
      "Done. Found 0 songs.\n",
      "Searching for \"Stand Up\" by Underworld...\n"
     ]
    },
    {
     "name": "stderr",
     "output_type": "stream",
     "text": [
      "  2%|▏         | 295/13533 [22:58<16:09:07,  4.39s/it]"
     ]
    },
    {
     "name": "stdout",
     "output_type": "stream",
     "text": [
      "Done.\n",
      "Searching for songs by Marc Almond...\n",
      "\n",
      "Done. Found 0 songs.\n",
      "Searching for \"Tears Run Rings\" by Marc Almond...\n"
     ]
    },
    {
     "name": "stderr",
     "output_type": "stream",
     "text": [
      "  2%|▏         | 296/13533 [23:05<19:18:46,  5.25s/it]"
     ]
    },
    {
     "name": "stdout",
     "output_type": "stream",
     "text": [
      "Done.\n",
      "Searching for songs by Shooting Star...\n",
      "\n",
      "Done. Found 0 songs.\n",
      "Searching for \"Touch Me Tonight\" by Shooting Star...\n"
     ]
    },
    {
     "name": "stderr",
     "output_type": "stream",
     "text": [
      "  2%|▏         | 297/13533 [23:10<19:03:05,  5.18s/it]"
     ]
    },
    {
     "name": "stdout",
     "output_type": "stream",
     "text": [
      "Done.\n",
      "Searching for songs by Figures On A Beach...\n",
      "\n",
      "Changing artist name to 'Figures on a Beach'\n",
      "Done. Found 0 songs.\n",
      "Searching for \"You Ain't Seen Nothing Yet\" by Figures on a Beach...\n"
     ]
    },
    {
     "name": "stderr",
     "output_type": "stream",
     "text": [
      "  2%|▏         | 298/13533 [23:15<18:58:21,  5.16s/it]"
     ]
    },
    {
     "name": "stdout",
     "output_type": "stream",
     "text": [
      "Done.\n",
      "Searching for songs by Bardeux...\n",
      "\n",
      "Done. Found 0 songs.\n",
      "Searching for \"I Love The Bass\" by Bardeux...\n"
     ]
    },
    {
     "name": "stderr",
     "output_type": "stream",
     "text": [
      "  2%|▏         | 299/13533 [23:18<15:58:12,  4.34s/it]"
     ]
    },
    {
     "name": "stdout",
     "output_type": "stream",
     "text": [
      "No results found for: 'I Love The Bass Bardeux'\n",
      "Searching for songs by U2 With B.B. King...\n",
      "\n"
     ]
    },
    {
     "name": "stderr",
     "output_type": "stream",
     "text": [
      "  2%|▏         | 300/13533 [23:19<12:21:21,  3.36s/it]"
     ]
    },
    {
     "name": "stdout",
     "output_type": "stream",
     "text": [
      "No results found for 'U2 With B.B. King'.\n",
      "Searching for songs by Dead Or Alive...\n",
      "\n",
      "Changing artist name to 'Dead or Alive'\n",
      "Done. Found 0 songs.\n",
      "Searching for \"Come Home With Me Baby\" by Dead or Alive...\n"
     ]
    },
    {
     "name": "stderr",
     "output_type": "stream",
     "text": [
      "  2%|▏         | 301/13533 [23:23<13:44:39,  3.74s/it]"
     ]
    },
    {
     "name": "stdout",
     "output_type": "stream",
     "text": [
      "Done.\n",
      "Searching for songs by Crosby, Stills, Nash & Young...\n",
      "\n",
      "Done. Found 0 songs.\n",
      "Searching for \"Got It Made\" by Crosby, Stills, Nash & Young...\n"
     ]
    },
    {
     "name": "stderr",
     "output_type": "stream",
     "text": [
      "  2%|▏         | 302/13533 [23:29<16:10:23,  4.40s/it]"
     ]
    },
    {
     "name": "stdout",
     "output_type": "stream",
     "text": [
      "Done.\n",
      "Searching for songs by Guy...\n",
      "\n",
      "Changing artist name to 'Daft Punk'\n",
      "Done. Found 0 songs.\n",
      "Searching for \"I Like\" by Daft Punk...\n"
     ]
    },
    {
     "name": "stderr",
     "output_type": "stream",
     "text": [
      "  2%|▏         | 303/13533 [23:34<16:56:19,  4.61s/it]"
     ]
    },
    {
     "name": "stdout",
     "output_type": "stream",
     "text": [
      "Done.\n",
      "Searching for songs by Waterfront...\n",
      "\n",
      "Done. Found 0 songs.\n",
      "Searching for \"Nature Of Love\" by Waterfront...\n"
     ]
    },
    {
     "name": "stderr",
     "output_type": "stream",
     "text": [
      "  2%|▏         | 304/13533 [23:38<16:07:36,  4.39s/it]"
     ]
    },
    {
     "name": "stdout",
     "output_type": "stream",
     "text": [
      "Done.\n",
      "Searching for songs by Sir Mix-A-Lot...\n",
      "\n",
      "Changing artist name to 'Sir Mix-a-Lot'\n",
      "Done. Found 0 songs.\n",
      "Searching for \"Posse On Broadway\" by Sir Mix-a-Lot...\n"
     ]
    },
    {
     "name": "stderr",
     "output_type": "stream",
     "text": [
      "  2%|▏         | 305/13533 [23:44<17:36:13,  4.79s/it]"
     ]
    },
    {
     "name": "stdout",
     "output_type": "stream",
     "text": [
      "Done.\n",
      "Searching for songs by SaFire...\n",
      "\n",
      "Changing artist name to 'Safire'\n",
      "Done. Found 0 songs.\n",
      "Searching for \"Gonna Make It\" by Safire...\n"
     ]
    },
    {
     "name": "stderr",
     "output_type": "stream",
     "text": [
      "  2%|▏         | 306/13533 [23:48<17:07:59,  4.66s/it]"
     ]
    },
    {
     "name": "stdout",
     "output_type": "stream",
     "text": [
      "Done.\n",
      "Searching for songs by BulletBoys...\n",
      "\n",
      "Done. Found 0 songs.\n",
      "Searching for \"Smooth Up\" by BulletBoys...\n"
     ]
    },
    {
     "name": "stderr",
     "output_type": "stream",
     "text": [
      "  2%|▏         | 307/13533 [23:53<17:04:06,  4.65s/it]"
     ]
    },
    {
     "name": "stdout",
     "output_type": "stream",
     "text": [
      "Done.\n",
      "Searching for songs by Debbie Gibson...\n",
      "\n",
      "Done. Found 0 songs.\n",
      "Searching for \"We Could Be Together\" by Debbie Gibson...\n"
     ]
    },
    {
     "name": "stderr",
     "output_type": "stream",
     "text": [
      "  2%|▏         | 308/13533 [23:58<17:38:41,  4.80s/it]"
     ]
    },
    {
     "name": "stdout",
     "output_type": "stream",
     "text": [
      "Done.\n",
      "Searching for songs by Duran Duran...\n",
      "\n",
      "Done. Found 0 songs.\n",
      "Searching for \"Do You Believe In Shame?\" by Duran Duran...\n"
     ]
    },
    {
     "name": "stderr",
     "output_type": "stream",
     "text": [
      "  2%|▏         | 309/13533 [24:03<17:45:17,  4.83s/it]"
     ]
    },
    {
     "name": "stdout",
     "output_type": "stream",
     "text": [
      "Done.\n",
      "Searching for songs by The Outfield...\n",
      "\n",
      "Done. Found 0 songs.\n",
      "Searching for \"My Paradise\" by The Outfield...\n"
     ]
    },
    {
     "name": "stderr",
     "output_type": "stream",
     "text": [
      "  2%|▏         | 310/13533 [24:08<18:18:23,  4.98s/it]"
     ]
    },
    {
     "name": "stdout",
     "output_type": "stream",
     "text": [
      "Done.\n",
      "Searching for songs by XTC...\n",
      "\n",
      "Done. Found 0 songs.\n",
      "Searching for \"The Mayor Of Simpleton\" by XTC...\n"
     ]
    },
    {
     "name": "stderr",
     "output_type": "stream",
     "text": [
      "  2%|▏         | 311/13533 [24:13<17:41:25,  4.82s/it]"
     ]
    },
    {
     "name": "stdout",
     "output_type": "stream",
     "text": [
      "Done.\n",
      "Searching for songs by Inner City...\n",
      "\n",
      "Done. Found 0 songs.\n",
      "Searching for \"Good Life\" by Inner City...\n"
     ]
    },
    {
     "name": "stderr",
     "output_type": "stream",
     "text": [
      "  2%|▏         | 312/13533 [24:17<17:09:26,  4.67s/it]"
     ]
    },
    {
     "name": "stdout",
     "output_type": "stream",
     "text": [
      "Done.\n",
      "Searching for songs by Donny Osmond...\n",
      "\n",
      "Done. Found 0 songs.\n",
      "Searching for \"Hold On\" by Donny Osmond...\n"
     ]
    },
    {
     "name": "stderr",
     "output_type": "stream",
     "text": [
      "  2%|▏         | 313/13533 [24:23<18:03:26,  4.92s/it]"
     ]
    },
    {
     "name": "stdout",
     "output_type": "stream",
     "text": [
      "Done.\n",
      "Searching for songs by Starship...\n",
      "\n",
      "Done. Found 0 songs.\n",
      "Searching for \"Wild Again (From \"Cocktail\")\" by Starship...\n"
     ]
    },
    {
     "name": "stderr",
     "output_type": "stream",
     "text": [
      "  2%|▏         | 314/13533 [24:27<17:04:22,  4.65s/it]"
     ]
    },
    {
     "name": "stdout",
     "output_type": "stream",
     "text": [
      "Done.\n",
      "Searching for songs by Chris Rea...\n",
      "\n",
      "Done. Found 0 songs.\n",
      "Searching for \"Working On It\" by Chris Rea...\n"
     ]
    },
    {
     "name": "stderr",
     "output_type": "stream",
     "text": [
      "  2%|▏         | 315/13533 [24:31<16:20:07,  4.45s/it]"
     ]
    },
    {
     "name": "stdout",
     "output_type": "stream",
     "text": [
      "Done.\n",
      "Searching for songs by Survivor...\n",
      "\n",
      "Done. Found 0 songs.\n",
      "Searching for \"Across The Miles\" by Survivor...\n"
     ]
    },
    {
     "name": "stderr",
     "output_type": "stream",
     "text": [
      "  2%|▏         | 316/13533 [24:36<17:43:36,  4.83s/it]"
     ]
    },
    {
     "name": "stdout",
     "output_type": "stream",
     "text": [
      "Done.\n",
      "Searching for songs by The Cure...\n",
      "\n",
      "Done. Found 0 songs.\n",
      "Searching for \"Lullaby\" by The Cure...\n"
     ]
    },
    {
     "name": "stderr",
     "output_type": "stream",
     "text": [
      "  2%|▏         | 317/13533 [24:44<20:11:47,  5.50s/it]"
     ]
    },
    {
     "name": "stdout",
     "output_type": "stream",
     "text": [
      "Done.\n",
      "Searching for songs by Dion...\n",
      "\n",
      "Changing artist name to 'Céline Dion'\n",
      "Done. Found 0 songs.\n",
      "Searching for \"And The Night Stood Still\" by Céline Dion...\n"
     ]
    },
    {
     "name": "stderr",
     "output_type": "stream",
     "text": [
      "  2%|▏         | 318/13533 [24:46<17:26:00,  4.75s/it]"
     ]
    },
    {
     "name": "stdout",
     "output_type": "stream",
     "text": [
      "Done.\n",
      "Searching for songs by Was (Not Was)...\n",
      "\n",
      "Done. Found 0 songs.\n",
      "Searching for \"Anything Can Happen\" by Was (Not Was)...\n"
     ]
    },
    {
     "name": "stderr",
     "output_type": "stream",
     "text": [
      "  2%|▏         | 319/13533 [24:51<16:48:02,  4.58s/it]"
     ]
    },
    {
     "name": "stdout",
     "output_type": "stream",
     "text": [
      "Done.\n",
      "Searching for songs by Q-feel...\n",
      "\n",
      "Changing artist name to 'Q-Feel'\n",
      "Done. Found 0 songs.\n",
      "Searching for \"Dancing In Heaven (Orbital Be-Bop)\" by Q-Feel...\n"
     ]
    },
    {
     "name": "stderr",
     "output_type": "stream",
     "text": [
      "  2%|▏         | 320/13533 [24:55<16:20:46,  4.45s/it]"
     ]
    },
    {
     "name": "stdout",
     "output_type": "stream",
     "text": [
      "Done.\n",
      "Searching for songs by Love And Money...\n",
      "\n",
      "Done. Found 0 songs.\n",
      "Searching for \"Halleluiah Man\" by Love And Money...\n"
     ]
    },
    {
     "name": "stderr",
     "output_type": "stream",
     "text": [
      "  2%|▏         | 321/13533 [25:00<16:51:04,  4.59s/it]"
     ]
    },
    {
     "name": "stdout",
     "output_type": "stream",
     "text": [
      "Done.\n",
      "Searching for songs by Starship...\n",
      "\n",
      "Done. Found 0 songs.\n",
      "Searching for \"I Didn't Mean To Stay All Night\" by Starship...\n"
     ]
    },
    {
     "name": "stderr",
     "output_type": "stream",
     "text": [
      "  2%|▏         | 322/13533 [25:03<15:35:45,  4.25s/it]"
     ]
    },
    {
     "name": "stdout",
     "output_type": "stream",
     "text": [
      "Done.\n",
      "Searching for songs by Cheap Trick...\n",
      "\n",
      "Done. Found 0 songs.\n",
      "Searching for \"Never Had A Lot To Lose\" by Cheap Trick...\n"
     ]
    },
    {
     "name": "stderr",
     "output_type": "stream",
     "text": [
      "  2%|▏         | 323/13533 [25:08<16:04:08,  4.38s/it]"
     ]
    },
    {
     "name": "stdout",
     "output_type": "stream",
     "text": [
      "Done.\n",
      "Searching for songs by Christopher Max...\n",
      "\n",
      "Done. Found 0 songs.\n",
      "Searching for \"Serious Kinda Girl\" by Christopher Max...\n"
     ]
    },
    {
     "name": "stderr",
     "output_type": "stream",
     "text": [
      "  2%|▏         | 324/13533 [25:14<17:47:59,  4.85s/it]"
     ]
    },
    {
     "name": "stdout",
     "output_type": "stream",
     "text": [
      "Done.\n",
      "Searching for songs by Ratt...\n",
      "\n",
      "Changing artist name to 'Current Joys'\n",
      "Done. Found 0 songs.\n",
      "Searching for \"Way Cool Jr.\" by Current Joys...\n"
     ]
    },
    {
     "name": "stderr",
     "output_type": "stream",
     "text": [
      "  2%|▏         | 325/13533 [25:18<17:08:52,  4.67s/it]"
     ]
    },
    {
     "name": "stdout",
     "output_type": "stream",
     "text": [
      "Done.\n",
      "Searching for songs by Pajama Party...\n",
      "\n",
      "Done. Found 0 songs.\n",
      "Searching for \"Yo No Se\" by Pajama Party...\n"
     ]
    },
    {
     "name": "stderr",
     "output_type": "stream",
     "text": [
      "  2%|▏         | 326/13533 [25:21<15:02:06,  4.10s/it]"
     ]
    },
    {
     "name": "stdout",
     "output_type": "stream",
     "text": [
      "Done.\n",
      "Searching for songs by Information Society...\n",
      "\n",
      "Done. Found 0 songs.\n",
      "Searching for \"Repetition\" by Information Society...\n"
     ]
    },
    {
     "name": "stderr",
     "output_type": "stream",
     "text": [
      "  2%|▏         | 327/13533 [25:25<15:24:56,  4.20s/it]"
     ]
    },
    {
     "name": "stdout",
     "output_type": "stream",
     "text": [
      "Done.\n",
      "Searching for songs by Kenny Loggins...\n",
      "\n",
      "Done. Found 0 songs.\n",
      "Searching for \"Tell Her\" by Kenny Loggins...\n"
     ]
    },
    {
     "name": "stderr",
     "output_type": "stream",
     "text": [
      "  2%|▏         | 328/13533 [25:29<15:18:02,  4.17s/it]"
     ]
    },
    {
     "name": "stdout",
     "output_type": "stream",
     "text": [
      "Done.\n",
      "Searching for songs by Cutting Crew...\n",
      "\n",
      "Done. Found 0 songs.\n",
      "Searching for \"(Between A) Rock And A Hard Place\" by Cutting Crew...\n"
     ]
    },
    {
     "name": "stderr",
     "output_type": "stream",
     "text": [
      "  2%|▏         | 329/13533 [25:33<15:11:38,  4.14s/it]"
     ]
    },
    {
     "name": "stdout",
     "output_type": "stream",
     "text": [
      "Done.\n",
      "Searching for songs by Texas...\n",
      "\n",
      "Done. Found 0 songs.\n",
      "Searching for \"I Don't Want A Lover\" by Texas...\n"
     ]
    },
    {
     "name": "stderr",
     "output_type": "stream",
     "text": [
      "  2%|▏         | 330/13533 [25:39<16:51:27,  4.60s/it]"
     ]
    },
    {
     "name": "stdout",
     "output_type": "stream",
     "text": [
      "Done.\n",
      "Searching for songs by The Jacksons...\n",
      "\n",
      "Done. Found 0 songs.\n",
      "Searching for \"Nothin (That Compares 2 U)\" by The Jacksons...\n"
     ]
    },
    {
     "name": "stderr",
     "output_type": "stream",
     "text": [
      "  2%|▏         | 331/13533 [25:44<17:28:03,  4.76s/it]"
     ]
    },
    {
     "name": "stdout",
     "output_type": "stream",
     "text": [
      "Done.\n",
      "Searching for songs by Chunky A...\n",
      "\n",
      "Done. Found 0 songs.\n",
      "Searching for \"Owwww!\" by Chunky A...\n"
     ]
    },
    {
     "name": "stderr",
     "output_type": "stream",
     "text": [
      "  2%|▏         | 332/13533 [25:48<16:38:26,  4.54s/it]"
     ]
    },
    {
     "name": "stdout",
     "output_type": "stream",
     "text": [
      "Done.\n",
      "Searching for songs by BulletBoys...\n",
      "\n",
      "Done. Found 0 songs.\n",
      "Searching for \"For The Love Of Money\" by BulletBoys...\n"
     ]
    },
    {
     "name": "stderr",
     "output_type": "stream",
     "text": [
      "  2%|▏         | 333/13533 [25:52<16:13:00,  4.42s/it]"
     ]
    },
    {
     "name": "stdout",
     "output_type": "stream",
     "text": [
      "Done.\n",
      "Searching for songs by Gina Go-Go...\n",
      "\n",
      "Done. Found 0 songs.\n",
      "Searching for \"I Can't Face The Fact\" by Gina Go-Go...\n"
     ]
    },
    {
     "name": "stderr",
     "output_type": "stream",
     "text": [
      "  2%|▏         | 334/13533 [25:57<16:49:35,  4.59s/it]"
     ]
    },
    {
     "name": "stdout",
     "output_type": "stream",
     "text": [
      "Done.\n",
      "Searching for songs by Kiara (Duet With Shanice Wilson)...\n",
      "\n"
     ]
    },
    {
     "name": "stderr",
     "output_type": "stream",
     "text": [
      "  2%|▏         | 335/13533 [25:58<12:33:44,  3.43s/it]"
     ]
    },
    {
     "name": "stdout",
     "output_type": "stream",
     "text": [
      "No results found for 'Kiara (Duet With Shanice Wilson)'.\n",
      "Searching for songs by Patti LaBelle...\n",
      "\n",
      "Done. Found 0 songs.\n",
      "Searching for \"If You Asked Me To (From \"Licence To Kill\")\" by Patti LaBelle...\n"
     ]
    },
    {
     "name": "stderr",
     "output_type": "stream",
     "text": [
      "  2%|▏         | 336/13533 [26:02<12:56:50,  3.53s/it]"
     ]
    },
    {
     "name": "stdout",
     "output_type": "stream",
     "text": [
      "Done.\n",
      "Searching for songs by Fairground Attraction...\n",
      "\n",
      "Done. Found 0 songs.\n",
      "Searching for \"Perfect\" by Fairground Attraction...\n"
     ]
    },
    {
     "name": "stderr",
     "output_type": "stream",
     "text": [
      "  2%|▏         | 337/13533 [26:08<16:02:05,  4.37s/it]"
     ]
    },
    {
     "name": "stdout",
     "output_type": "stream",
     "text": [
      "Done.\n",
      "Searching for songs by Choirboys...\n",
      "\n",
      "Done. Found 0 songs.\n",
      "Searching for \"Run To Paradise\" by Choirboys...\n"
     ]
    },
    {
     "name": "stderr",
     "output_type": "stream",
     "text": [
      "  2%|▏         | 338/13533 [26:13<15:59:46,  4.36s/it]"
     ]
    },
    {
     "name": "stdout",
     "output_type": "stream",
     "text": [
      "Done.\n",
      "Searching for songs by Michael Morales...\n",
      "\n",
      "Done. Found 0 songs.\n",
      "Searching for \"I Don't Know\" by Michael Morales...\n"
     ]
    },
    {
     "name": "stderr",
     "output_type": "stream",
     "text": [
      "  3%|▎         | 339/13533 [26:16<15:19:04,  4.18s/it]"
     ]
    },
    {
     "name": "stdout",
     "output_type": "stream",
     "text": [
      "Done.\n",
      "Searching for songs by The Escape Club...\n",
      "\n",
      "Done. Found 0 songs.\n",
      "Searching for \"Walking Through Walls\" by The Escape Club...\n"
     ]
    },
    {
     "name": "stderr",
     "output_type": "stream",
     "text": [
      "  3%|▎         | 340/13533 [26:20<14:24:14,  3.93s/it]"
     ]
    },
    {
     "name": "stdout",
     "output_type": "stream",
     "text": [
      "Done.\n",
      "Searching for songs by Paul Shaffer...\n",
      "\n",
      "Done. Found 0 songs.\n",
      "Searching for \"When The Radio Is On\" by Paul Shaffer...\n"
     ]
    },
    {
     "name": "stderr",
     "output_type": "stream",
     "text": [
      "  3%|▎         | 341/13533 [26:24<15:13:23,  4.15s/it]"
     ]
    },
    {
     "name": "stdout",
     "output_type": "stream",
     "text": [
      "Done.\n",
      "Searching for songs by Easterhouse...\n",
      "\n",
      "Done. Found 0 songs.\n",
      "Searching for \"Come Out Fighting\" by Easterhouse...\n"
     ]
    },
    {
     "name": "stderr",
     "output_type": "stream",
     "text": [
      "  3%|▎         | 342/13533 [26:27<13:06:57,  3.58s/it]"
     ]
    },
    {
     "name": "stdout",
     "output_type": "stream",
     "text": [
      "No results found for: 'Come Out Fighting Easterhouse'\n",
      "Searching for songs by Love And Rockets...\n",
      "\n",
      "Changing artist name to 'Love and Rockets'\n",
      "Done. Found 0 songs.\n",
      "Searching for \"No Big Deal\" by Love and Rockets...\n"
     ]
    },
    {
     "name": "stderr",
     "output_type": "stream",
     "text": [
      "  3%|▎         | 343/13533 [26:30<13:17:12,  3.63s/it]"
     ]
    },
    {
     "name": "stdout",
     "output_type": "stream",
     "text": [
      "Done.\n",
      "Searching for songs by Living Colour...\n",
      "\n",
      "Done. Found 0 songs.\n",
      "Searching for \"Open Letter (To A Landlord)\" by Living Colour...\n"
     ]
    },
    {
     "name": "stderr",
     "output_type": "stream",
     "text": [
      "  3%|▎         | 344/13533 [26:35<14:50:03,  4.05s/it]"
     ]
    },
    {
     "name": "stdout",
     "output_type": "stream",
     "text": [
      "Done.\n",
      "Searching for songs by Bad Company...\n",
      "\n",
      "Done. Found 0 songs.\n",
      "Searching for \"Shake It Up\" by Bad Company...\n"
     ]
    },
    {
     "name": "stderr",
     "output_type": "stream",
     "text": [
      "  3%|▎         | 345/13533 [26:40<14:59:00,  4.09s/it]"
     ]
    },
    {
     "name": "stdout",
     "output_type": "stream",
     "text": [
      "Done.\n",
      "Searching for songs by U2...\n",
      "\n",
      "Done. Found 0 songs.\n",
      "Searching for \"All I Want Is You\" by U2...\n"
     ]
    },
    {
     "name": "stderr",
     "output_type": "stream",
     "text": [
      "  3%|▎         | 346/13533 [26:45<15:56:48,  4.35s/it]"
     ]
    },
    {
     "name": "stdout",
     "output_type": "stream",
     "text": [
      "Done.\n",
      "Searching for songs by Information Society...\n",
      "\n",
      "Done. Found 0 songs.\n",
      "Searching for \"Lay All Your Love On Me\" by Information Society...\n"
     ]
    },
    {
     "name": "stderr",
     "output_type": "stream",
     "text": [
      "  3%|▎         | 347/13533 [26:48<15:14:47,  4.16s/it]"
     ]
    },
    {
     "name": "stdout",
     "output_type": "stream",
     "text": [
      "Done.\n",
      "Searching for songs by Eighth Wonder...\n",
      "\n",
      "Done. Found 0 songs.\n",
      "Searching for \"Baby Baby\" by Eighth Wonder...\n"
     ]
    },
    {
     "name": "stderr",
     "output_type": "stream",
     "text": [
      "  3%|▎         | 348/13533 [26:53<15:53:21,  4.34s/it]"
     ]
    },
    {
     "name": "stdout",
     "output_type": "stream",
     "text": [
      "Done.\n",
      "Searching for songs by Diving For Pearls...\n",
      "\n",
      "Done. Found 0 songs.\n",
      "Searching for \"Gimme Your Good Lovin'\" by Diving For Pearls...\n"
     ]
    },
    {
     "name": "stderr",
     "output_type": "stream",
     "text": [
      "  3%|▎         | 349/13533 [26:57<15:26:35,  4.22s/it]"
     ]
    },
    {
     "name": "stdout",
     "output_type": "stream",
     "text": [
      "Done.\n",
      "Searching for songs by Pet Shop Boys...\n",
      "\n",
      "Done. Found 0 songs.\n",
      "Searching for \"Left To My Own Devices\" by Pet Shop Boys...\n"
     ]
    },
    {
     "name": "stderr",
     "output_type": "stream",
     "text": [
      "  3%|▎         | 350/13533 [27:01<15:43:15,  4.29s/it]"
     ]
    },
    {
     "name": "stdout",
     "output_type": "stream",
     "text": [
      "Done.\n",
      "Searching for songs by Shirley Lewis...\n",
      "\n",
      "Done. Found 0 songs.\n",
      "Searching for \"Realistic\" by Shirley Lewis...\n"
     ]
    },
    {
     "name": "stderr",
     "output_type": "stream",
     "text": [
      "  3%|▎         | 351/13533 [27:05<15:28:44,  4.23s/it]"
     ]
    },
    {
     "name": "stdout",
     "output_type": "stream",
     "text": [
      "Done.\n",
      "Searching for songs by Sinitta...\n",
      "\n",
      "Done. Found 0 songs.\n",
      "Searching for \"Right Back Where We Started From\" by Sinitta...\n"
     ]
    },
    {
     "name": "stderr",
     "output_type": "stream",
     "text": [
      "  3%|▎         | 352/13533 [27:11<16:26:07,  4.49s/it]"
     ]
    },
    {
     "name": "stdout",
     "output_type": "stream",
     "text": [
      "Done.\n",
      "Searching for songs by Icehouse...\n",
      "\n",
      "Done. Found 0 songs.\n",
      "Searching for \"Touch The Fire\" by Icehouse...\n"
     ]
    },
    {
     "name": "stderr",
     "output_type": "stream",
     "text": [
      "  3%|▎         | 353/13533 [27:14<15:39:56,  4.28s/it]"
     ]
    },
    {
     "name": "stdout",
     "output_type": "stream",
     "text": [
      "Done.\n",
      "Searching for songs by Surface...\n",
      "\n",
      "Done. Found 0 songs.\n",
      "Searching for \"You Are My Everything\" by Surface...\n"
     ]
    },
    {
     "name": "stderr",
     "output_type": "stream",
     "text": [
      "  3%|▎         | 354/13533 [27:19<15:31:20,  4.24s/it]"
     ]
    },
    {
     "name": "stdout",
     "output_type": "stream",
     "text": [
      "Done.\n",
      "Searching for songs by Winger...\n",
      "\n",
      "Done. Found 0 songs.\n",
      "Searching for \"Hungry\" by Winger...\n"
     ]
    },
    {
     "name": "stderr",
     "output_type": "stream",
     "text": [
      "  3%|▎         | 355/13533 [27:22<15:04:29,  4.12s/it]"
     ]
    },
    {
     "name": "stdout",
     "output_type": "stream",
     "text": [
      "Done.\n",
      "Searching for songs by Tracie Spencer...\n",
      "\n",
      "Done. Found 0 songs.\n",
      "Searching for \"Imagine\" by Tracie Spencer...\n"
     ]
    },
    {
     "name": "stderr",
     "output_type": "stream",
     "text": [
      "  3%|▎         | 356/13533 [27:28<16:25:25,  4.49s/it]"
     ]
    },
    {
     "name": "stdout",
     "output_type": "stream",
     "text": [
      "Done.\n",
      "Searching for songs by Donna Summer...\n",
      "\n",
      "Done. Found 0 songs.\n",
      "Searching for \"Love's About to Change My Heart\" by Donna Summer...\n"
     ]
    },
    {
     "name": "stderr",
     "output_type": "stream",
     "text": [
      "  3%|▎         | 357/13533 [27:32<16:30:55,  4.51s/it]"
     ]
    },
    {
     "name": "stdout",
     "output_type": "stream",
     "text": [
      "Done.\n",
      "Searching for songs by R.E.M....\n",
      "\n",
      "Changing artist name to 'Don Toliver'\n",
      "Done. Found 0 songs.\n",
      "Searching for \"Pop Song 89\" by Don Toliver...\n"
     ]
    },
    {
     "name": "stderr",
     "output_type": "stream",
     "text": [
      "  3%|▎         | 358/13533 [27:35<14:30:41,  3.97s/it]"
     ]
    },
    {
     "name": "stdout",
     "output_type": "stream",
     "text": [
      "No results found for: 'Pop Song 89 Don Toliver'\n",
      "Searching for songs by Swing Out Sister...\n",
      "\n",
      "Done. Found 0 songs.\n",
      "Searching for \"Waiting Game\" by Swing Out Sister...\n"
     ]
    },
    {
     "name": "stderr",
     "output_type": "stream",
     "text": [
      "  3%|▎         | 359/13533 [27:40<15:58:31,  4.37s/it]"
     ]
    },
    {
     "name": "stdout",
     "output_type": "stream",
     "text": [
      "Done.\n",
      "Searching for songs by Tora Tora...\n",
      "\n",
      "Done. Found 0 songs.\n",
      "Searching for \"Walkin' Shoes\" by Tora Tora...\n"
     ]
    },
    {
     "name": "stderr",
     "output_type": "stream",
     "text": [
      "  3%|▎         | 360/13533 [27:44<15:48:08,  4.32s/it]"
     ]
    },
    {
     "name": "stdout",
     "output_type": "stream",
     "text": [
      "Done.\n",
      "Searching for songs by Grayson Hugh...\n",
      "\n",
      "Done. Found 0 songs.\n",
      "Searching for \"Bring It All Back\" by Grayson Hugh...\n"
     ]
    },
    {
     "name": "stderr",
     "output_type": "stream",
     "text": [
      "  3%|▎         | 361/13533 [27:50<16:53:40,  4.62s/it]"
     ]
    },
    {
     "name": "stdout",
     "output_type": "stream",
     "text": [
      "Done.\n",
      "Searching for songs by The Jets...\n",
      "\n",
      "Changing artist name to 'The Jets (Group)'\n",
      "Done. Found 0 songs.\n",
      "Searching for \"The Same Love\" by The Jets (Group)...\n"
     ]
    },
    {
     "name": "stderr",
     "output_type": "stream",
     "text": [
      "  3%|▎         | 362/13533 [27:53<15:30:58,  4.24s/it]"
     ]
    },
    {
     "name": "stdout",
     "output_type": "stream",
     "text": [
      "Done.\n",
      "Searching for songs by Vanessa Williams...\n",
      "\n",
      "Done. Found 0 songs.\n",
      "Searching for \"Darlin' I\" by Vanessa Williams...\n"
     ]
    },
    {
     "name": "stderr",
     "output_type": "stream",
     "text": [
      "  3%|▎         | 363/13533 [27:58<15:51:50,  4.34s/it]"
     ]
    },
    {
     "name": "stdout",
     "output_type": "stream",
     "text": [
      "Done.\n",
      "Searching for songs by Rick Astley...\n",
      "\n",
      "Done. Found 0 songs.\n",
      "Searching for \"Ain't Too Proud To Beg\" by Rick Astley...\n"
     ]
    },
    {
     "name": "stderr",
     "output_type": "stream",
     "text": [
      "  3%|▎         | 364/13533 [28:03<16:35:09,  4.53s/it]"
     ]
    },
    {
     "name": "stdout",
     "output_type": "stream",
     "text": [
      "Done.\n",
      "Searching for songs by Tracy Chapman...\n",
      "\n",
      "Done. Found 0 songs.\n",
      "Searching for \"Crossroads\" by Tracy Chapman...\n"
     ]
    },
    {
     "name": "stderr",
     "output_type": "stream",
     "text": [
      "  3%|▎         | 365/13533 [28:08<17:08:35,  4.69s/it]"
     ]
    },
    {
     "name": "stdout",
     "output_type": "stream",
     "text": [
      "Done.\n",
      "Searching for songs by Sharon Bryant...\n",
      "\n",
      "Done. Found 0 songs.\n",
      "Searching for \"Foolish Heart\" by Sharon Bryant...\n"
     ]
    },
    {
     "name": "stderr",
     "output_type": "stream",
     "text": [
      "  3%|▎         | 366/13533 [28:11<15:55:49,  4.36s/it]"
     ]
    },
    {
     "name": "stdout",
     "output_type": "stream",
     "text": [
      "Done.\n",
      "Searching for songs by Glenn Frey...\n",
      "\n",
      "Done. Found 0 songs.\n",
      "Searching for \"Livin' Right\" by Glenn Frey...\n"
     ]
    },
    {
     "name": "stderr",
     "output_type": "stream",
     "text": [
      "  3%|▎         | 367/13533 [28:16<15:49:45,  4.33s/it]"
     ]
    },
    {
     "name": "stdout",
     "output_type": "stream",
     "text": [
      "Done.\n",
      "Searching for songs by Ivan Neville...\n",
      "\n",
      "Done. Found 0 songs.\n",
      "Searching for \"Falling Out Of Love\" by Ivan Neville...\n"
     ]
    },
    {
     "name": "stderr",
     "output_type": "stream",
     "text": [
      "  3%|▎         | 368/13533 [28:19<14:45:15,  4.03s/it]"
     ]
    },
    {
     "name": "stdout",
     "output_type": "stream",
     "text": [
      "Done.\n",
      "Searching for songs by TKA...\n",
      "\n",
      "Done. Found 0 songs.\n",
      "Searching for \"You Are The One\" by TKA...\n"
     ]
    },
    {
     "name": "stderr",
     "output_type": "stream",
     "text": [
      "  3%|▎         | 369/13533 [28:24<15:59:30,  4.37s/it]"
     ]
    },
    {
     "name": "stdout",
     "output_type": "stream",
     "text": [
      "Done.\n",
      "Searching for songs by Warrant...\n",
      "\n",
      "Done. Found 0 songs.\n",
      "Searching for \"Big Talk\" by Warrant...\n"
     ]
    },
    {
     "name": "stderr",
     "output_type": "stream",
     "text": [
      "  3%|▎         | 370/13533 [28:27<14:52:49,  4.07s/it]"
     ]
    },
    {
     "name": "stdout",
     "output_type": "stream",
     "text": [
      "Done.\n",
      "Searching for songs by The Cult...\n",
      "\n",
      "Done. Found 0 songs.\n",
      "Searching for \"Edie (Ciao Baby)\" by The Cult...\n"
     ]
    },
    {
     "name": "stderr",
     "output_type": "stream",
     "text": [
      "  3%|▎         | 371/13533 [28:32<14:56:32,  4.09s/it]"
     ]
    },
    {
     "name": "stdout",
     "output_type": "stream",
     "text": [
      "Done.\n",
      "Searching for songs by Guns N' Roses...\n",
      "\n",
      "Changing artist name to 'Guns N’ Roses'\n",
      "Done. Found 0 songs.\n",
      "Searching for \"Nightrain\" by Guns N’ Roses...\n"
     ]
    },
    {
     "name": "stderr",
     "output_type": "stream",
     "text": [
      "  3%|▎         | 372/13533 [28:35<14:42:39,  4.02s/it]"
     ]
    },
    {
     "name": "stdout",
     "output_type": "stream",
     "text": [
      "Done.\n",
      "Searching for songs by Julian Lennon...\n",
      "\n",
      "Done. Found 0 songs.\n",
      "Searching for \"Now You're In Heaven\" by Julian Lennon...\n"
     ]
    },
    {
     "name": "stderr",
     "output_type": "stream",
     "text": [
      "  3%|▎         | 373/13533 [28:39<14:17:34,  3.91s/it]"
     ]
    },
    {
     "name": "stdout",
     "output_type": "stream",
     "text": [
      "Done.\n",
      "Searching for songs by The Beach Boys...\n",
      "\n",
      "Done. Found 0 songs.\n",
      "Searching for \"Still Cruisin'\" by The Beach Boys...\n"
     ]
    },
    {
     "name": "stderr",
     "output_type": "stream",
     "text": [
      "  3%|▎         | 374/13533 [28:43<14:32:12,  3.98s/it]"
     ]
    },
    {
     "name": "stdout",
     "output_type": "stream",
     "text": [
      "Done.\n",
      "Searching for songs by Melissa Etheridge...\n",
      "\n",
      "Done. Found 0 songs.\n",
      "Searching for \"Similar Features\" by Melissa Etheridge...\n"
     ]
    },
    {
     "name": "stderr",
     "output_type": "stream",
     "text": [
      "  3%|▎         | 375/13533 [28:48<14:53:23,  4.07s/it]"
     ]
    },
    {
     "name": "stdout",
     "output_type": "stream",
     "text": [
      "Done.\n",
      "Searching for songs by Paul McCartney...\n",
      "\n",
      "Done. Found 0 songs.\n",
      "Searching for \"This One\" by Paul McCartney...\n"
     ]
    },
    {
     "name": "stderr",
     "output_type": "stream",
     "text": [
      "  3%|▎         | 376/13533 [28:52<14:49:01,  4.05s/it]"
     ]
    },
    {
     "name": "stdout",
     "output_type": "stream",
     "text": [
      "Done.\n",
      "Searching for songs by 'Til Tuesday...\n",
      "\n",
      "Changing artist name to '’Til Tuesday'\n",
      "Done. Found 0 songs.\n",
      "Searching for \"(Believed You Were) Lucky\" by ’Til Tuesday...\n"
     ]
    },
    {
     "name": "stderr",
     "output_type": "stream",
     "text": [
      "  3%|▎         | 377/13533 [28:56<15:24:35,  4.22s/it]"
     ]
    },
    {
     "name": "stdout",
     "output_type": "stream",
     "text": [
      "Done.\n",
      "Searching for songs by Midge Ure...\n",
      "\n",
      "Done. Found 0 songs.\n",
      "Searching for \"Dear God\" by Midge Ure...\n"
     ]
    },
    {
     "name": "stderr",
     "output_type": "stream",
     "text": [
      "  3%|▎         | 378/13533 [29:01<15:42:25,  4.30s/it]"
     ]
    },
    {
     "name": "stdout",
     "output_type": "stream",
     "text": [
      "Done.\n",
      "Searching for songs by When In Rome...\n",
      "\n",
      "Changing artist name to 'When in Rome'\n",
      "Done. Found 0 songs.\n",
      "Searching for \"Heaven Knows\" by When in Rome...\n"
     ]
    },
    {
     "name": "stderr",
     "output_type": "stream",
     "text": [
      "  3%|▎         | 379/13533 [29:06<16:26:07,  4.50s/it]"
     ]
    },
    {
     "name": "stdout",
     "output_type": "stream",
     "text": [
      "Done.\n",
      "Searching for songs by Melissa Etheridge...\n",
      "\n",
      "Done. Found 0 songs.\n",
      "Searching for \"No Souvenirs\" by Melissa Etheridge...\n"
     ]
    },
    {
     "name": "stderr",
     "output_type": "stream",
     "text": [
      "  3%|▎         | 380/13533 [29:09<15:16:32,  4.18s/it]"
     ]
    },
    {
     "name": "stdout",
     "output_type": "stream",
     "text": [
      "Done.\n",
      "Searching for songs by Hooters...\n",
      "\n",
      "Changing artist name to 'The Hooters'\n",
      "Done. Found 0 songs.\n",
      "Searching for \"500 Miles\" by The Hooters...\n"
     ]
    },
    {
     "name": "stderr",
     "output_type": "stream",
     "text": [
      "  3%|▎         | 381/13533 [29:14<15:55:46,  4.36s/it]"
     ]
    },
    {
     "name": "stdout",
     "output_type": "stream",
     "text": [
      "Done.\n",
      "Searching for songs by KISS...\n",
      "\n",
      "Done. Found 0 songs.\n",
      "Searching for \"Let's Put The X In Sex\" by KISS...\n"
     ]
    },
    {
     "name": "stderr",
     "output_type": "stream",
     "text": [
      "  3%|▎         | 382/13533 [29:19<16:28:42,  4.51s/it]"
     ]
    },
    {
     "name": "stdout",
     "output_type": "stream",
     "text": [
      "Done.\n",
      "Searching for songs by Mica Paris...\n",
      "\n",
      "Done. Found 0 songs.\n",
      "Searching for \"My One Temptation\" by Mica Paris...\n"
     ]
    },
    {
     "name": "stderr",
     "output_type": "stream",
     "text": [
      "  3%|▎         | 383/13533 [29:24<17:12:12,  4.71s/it]"
     ]
    },
    {
     "name": "stdout",
     "output_type": "stream",
     "text": [
      "Done.\n",
      "Searching for songs by Big Noise...\n",
      "\n",
      "Done. Found 0 songs.\n",
      "Searching for \"Name And Number\" by Big Noise...\n"
     ]
    },
    {
     "name": "stderr",
     "output_type": "stream",
     "text": [
      "  3%|▎         | 384/13533 [29:29<17:11:30,  4.71s/it]"
     ]
    },
    {
     "name": "stdout",
     "output_type": "stream",
     "text": [
      "Done.\n",
      "Searching for songs by Erasure...\n",
      "\n",
      "Done. Found 0 songs.\n",
      "Searching for \"Stop!\" by Erasure...\n"
     ]
    },
    {
     "name": "stderr",
     "output_type": "stream",
     "text": [
      "  3%|▎         | 385/13533 [29:36<20:30:48,  5.62s/it]"
     ]
    },
    {
     "name": "stdout",
     "output_type": "stream",
     "text": [
      "Done.\n",
      "Searching for songs by Skid Row...\n",
      "\n",
      "Done. Found 0 songs.\n",
      "Searching for \"Youth Gone Wild\" by Skid Row...\n"
     ]
    },
    {
     "name": "stderr",
     "output_type": "stream",
     "text": [
      "  3%|▎         | 386/13533 [29:40<18:19:39,  5.02s/it]"
     ]
    },
    {
     "name": "stdout",
     "output_type": "stream",
     "text": [
      "Done.\n",
      "Searching for songs by 1927...\n",
      "\n",
      "Done. Found 0 songs.\n",
      "Searching for \"That's When I Think Of You\" by 1927...\n"
     ]
    },
    {
     "name": "stderr",
     "output_type": "stream",
     "text": [
      "  3%|▎         | 387/13533 [29:45<18:42:21,  5.12s/it]"
     ]
    },
    {
     "name": "stdout",
     "output_type": "stream",
     "text": [
      "Done.\n",
      "Searching for songs by Nelson...\n",
      "\n",
      "Changing artist name to 'Prince'\n",
      "Done. Found 0 songs.\n",
      "Searching for \"(Can't Live Without Your) Love And Affection\" by Prince...\n"
     ]
    },
    {
     "name": "stderr",
     "output_type": "stream",
     "text": [
      "  3%|▎         | 388/13533 [29:50<18:40:23,  5.11s/it]"
     ]
    },
    {
     "name": "stdout",
     "output_type": "stream",
     "text": [
      "Done.\n",
      "Searching for songs by Stevie B...\n",
      "\n",
      "Done. Found 0 songs.\n",
      "Searching for \"Because I Love You (The Postman Song)\" by Stevie B...\n"
     ]
    },
    {
     "name": "stderr",
     "output_type": "stream",
     "text": [
      "  3%|▎         | 389/13533 [29:53<16:15:54,  4.45s/it]"
     ]
    },
    {
     "name": "stdout",
     "output_type": "stream",
     "text": [
      "Done.\n",
      "Searching for songs by Janet Jackson...\n",
      "\n",
      "Done. Found 0 songs.\n",
      "Searching for \"Black Cat\" by Janet Jackson...\n"
     ]
    },
    {
     "name": "stderr",
     "output_type": "stream",
     "text": [
      "  3%|▎         | 390/13533 [29:57<15:16:49,  4.19s/it]"
     ]
    },
    {
     "name": "stdout",
     "output_type": "stream",
     "text": [
      "Done.\n",
      "Searching for songs by Alannah Myles...\n",
      "\n",
      "Done. Found 0 songs.\n",
      "Searching for \"Black Velvet\" by Alannah Myles...\n"
     ]
    },
    {
     "name": "stderr",
     "output_type": "stream",
     "text": [
      "  3%|▎         | 391/13533 [30:01<15:18:24,  4.19s/it]"
     ]
    },
    {
     "name": "stdout",
     "output_type": "stream",
     "text": [
      "Done.\n",
      "Searching for songs by Jon Bon Jovi...\n",
      "\n",
      "Done. Found 0 songs.\n",
      "Searching for \"Blaze Of Glory (From \"Young Guns II\")\" by Jon Bon Jovi...\n"
     ]
    },
    {
     "name": "stderr",
     "output_type": "stream",
     "text": [
      "  3%|▎         | 392/13533 [30:04<14:24:38,  3.95s/it]"
     ]
    },
    {
     "name": "stdout",
     "output_type": "stream",
     "text": [
      "Done.\n",
      "Searching for songs by Maxi Priest...\n",
      "\n",
      "Done. Found 0 songs.\n",
      "Searching for \"Close To You\" by Maxi Priest...\n"
     ]
    },
    {
     "name": "stderr",
     "output_type": "stream",
     "text": [
      "  3%|▎         | 393/13533 [30:09<15:20:40,  4.20s/it]"
     ]
    },
    {
     "name": "stdout",
     "output_type": "stream",
     "text": [
      "Done.\n",
      "Searching for songs by Janet Jackson...\n",
      "\n",
      "Done. Found 0 songs.\n",
      "Searching for \"Escapade\" by Janet Jackson...\n"
     ]
    },
    {
     "name": "stderr",
     "output_type": "stream",
     "text": [
      "  3%|▎         | 394/13533 [30:13<14:30:47,  3.98s/it]"
     ]
    },
    {
     "name": "stdout",
     "output_type": "stream",
     "text": [
      "Done.\n",
      "Searching for songs by Wilson Phillips...\n",
      "\n",
      "Done. Found 0 songs.\n",
      "Searching for \"Hold On\" by Wilson Phillips...\n"
     ]
    },
    {
     "name": "stderr",
     "output_type": "stream",
     "text": [
      "  3%|▎         | 395/13533 [30:21<18:47:24,  5.15s/it]"
     ]
    },
    {
     "name": "stdout",
     "output_type": "stream",
     "text": [
      "Exception \n",
      "\n",
      "Searching for songs by Michael Bolton...\n",
      "\n",
      "Done. Found 0 songs.\n",
      "Searching for \"How Am I Supposed To Live Without You\" by Michael Bolton...\n"
     ]
    },
    {
     "name": "stderr",
     "output_type": "stream",
     "text": [
      "  3%|▎         | 396/13533 [30:29<21:58:21,  6.02s/it]"
     ]
    },
    {
     "name": "stdout",
     "output_type": "stream",
     "text": [
      "Exception \n",
      "\n",
      "Searching for songs by James Ingram...\n",
      "\n",
      "Done. Found 0 songs.\n",
      "Searching for \"I Don't Have The Heart\" by James Ingram...\n"
     ]
    },
    {
     "name": "stderr",
     "output_type": "stream",
     "text": [
      "  3%|▎         | 397/13533 [30:34<20:55:44,  5.74s/it]"
     ]
    },
    {
     "name": "stdout",
     "output_type": "stream",
     "text": [
      "Done.\n",
      "Searching for songs by Tommy Page...\n",
      "\n",
      "Done. Found 0 songs.\n",
      "Searching for \"I'll Be Your Everything\" by Tommy Page...\n"
     ]
    },
    {
     "name": "stderr",
     "output_type": "stream",
     "text": [
      "  3%|▎         | 398/13533 [30:39<20:41:24,  5.67s/it]"
     ]
    },
    {
     "name": "stdout",
     "output_type": "stream",
     "text": [
      "Done.\n",
      "Searching for songs by Whitney Houston...\n",
      "\n",
      "Done. Found 0 songs.\n",
      "Searching for \"I'm Your Baby Tonight\" by Whitney Houston...\n"
     ]
    },
    {
     "name": "stderr",
     "output_type": "stream",
     "text": [
      "  3%|▎         | 399/13533 [30:44<19:18:50,  5.29s/it]"
     ]
    },
    {
     "name": "stdout",
     "output_type": "stream",
     "text": [
      "Done.\n",
      "Searching for songs by Vanilla Ice...\n",
      "\n",
      "Done. Found 0 songs.\n",
      "Searching for \"Ice Ice Baby\" by Vanilla Ice...\n"
     ]
    },
    {
     "name": "stderr",
     "output_type": "stream",
     "text": [
      "  3%|▎         | 400/13533 [30:47<17:39:01,  4.84s/it]"
     ]
    },
    {
     "name": "stdout",
     "output_type": "stream",
     "text": [
      "Done.\n",
      "Searching for songs by Sweet Sensation...\n",
      "\n",
      "Done. Found 0 songs.\n",
      "Searching for \"If Wishes Came True\" by Sweet Sensation...\n"
     ]
    },
    {
     "name": "stderr",
     "output_type": "stream",
     "text": [
      "  3%|▎         | 401/13533 [30:51<16:49:58,  4.61s/it]"
     ]
    },
    {
     "name": "stdout",
     "output_type": "stream",
     "text": [
      "Done.\n",
      "Searching for songs by Roxette...\n",
      "\n",
      "Done. Found 0 songs.\n",
      "Searching for \"It Must Have Been Love (From \"Pretty Woman\")\" by Roxette...\n"
     ]
    },
    {
     "name": "stderr",
     "output_type": "stream",
     "text": [
      "  3%|▎         | 402/13533 [30:56<16:25:56,  4.51s/it]"
     ]
    },
    {
     "name": "stdout",
     "output_type": "stream",
     "text": [
      "Done.\n",
      "Searching for songs by Mariah Carey...\n",
      "\n",
      "Done. Found 0 songs.\n",
      "Searching for \"Love Takes Time\" by Mariah Carey...\n"
     ]
    },
    {
     "name": "stderr",
     "output_type": "stream",
     "text": [
      "  3%|▎         | 403/13533 [31:00<16:30:16,  4.53s/it]"
     ]
    },
    {
     "name": "stdout",
     "output_type": "stream",
     "text": [
      "Done.\n",
      "Searching for songs by Taylor Dayne...\n",
      "\n",
      "Done. Found 0 songs.\n",
      "Searching for \"Love Will Lead You Back\" by Taylor Dayne...\n"
     ]
    },
    {
     "name": "stderr",
     "output_type": "stream",
     "text": [
      "  3%|▎         | 404/13533 [31:06<17:35:20,  4.82s/it]"
     ]
    },
    {
     "name": "stdout",
     "output_type": "stream",
     "text": [
      "Done.\n",
      "Searching for songs by Sinead O'Connor...\n",
      "\n",
      "Changing artist name to 'Sinéad O’Connor'\n",
      "Done. Found 0 songs.\n",
      "Searching for \"Nothing Compares 2 U\" by Sinéad O’Connor...\n"
     ]
    },
    {
     "name": "stderr",
     "output_type": "stream",
     "text": [
      "  3%|▎         | 405/13533 [31:15<22:02:26,  6.04s/it]"
     ]
    },
    {
     "name": "stdout",
     "output_type": "stream",
     "text": [
      "Exception \n",
      "\n",
      "Searching for songs by Paula Abdul (Duet With The Wild Pair)...\n",
      "\n"
     ]
    },
    {
     "name": "stderr",
     "output_type": "stream",
     "text": [
      "  3%|▎         | 406/13533 [31:16<17:21:38,  4.76s/it]"
     ]
    },
    {
     "name": "stdout",
     "output_type": "stream",
     "text": [
      "No results found for 'Paula Abdul (Duet With The Wild Pair)'.\n",
      "Searching for songs by George Michael...\n",
      "\n",
      "Done. Found 0 songs.\n",
      "Searching for \"Praying For Time\" by George Michael...\n"
     ]
    },
    {
     "name": "stderr",
     "output_type": "stream",
     "text": [
      "  3%|▎         | 407/13533 [31:21<16:37:07,  4.56s/it]"
     ]
    },
    {
     "name": "stdout",
     "output_type": "stream",
     "text": [
      "Done.\n",
      "Searching for songs by Wilson Phillips...\n",
      "\n",
      "Done. Found 0 songs.\n",
      "Searching for \"Release Me\" by Wilson Phillips...\n"
     ]
    },
    {
     "name": "stderr",
     "output_type": "stream",
     "text": [
      "  3%|▎         | 408/13533 [31:25<16:27:42,  4.52s/it]"
     ]
    },
    {
     "name": "stdout",
     "output_type": "stream",
     "text": [
      "Done.\n",
      "Searching for songs by Glenn Medeiros Featuring Bobby Brown...\n",
      "\n"
     ]
    },
    {
     "name": "stderr",
     "output_type": "stream",
     "text": [
      "  3%|▎         | 409/13533 [31:26<12:28:55,  3.42s/it]"
     ]
    },
    {
     "name": "stdout",
     "output_type": "stream",
     "text": [
      "No results found for 'Glenn Medeiros Featuring Bobby Brown'.\n",
      "Searching for songs by New Kids On The Block...\n",
      "\n",
      "Changing artist name to 'New Kids On the Block'\n",
      "Done. Found 0 songs.\n",
      "Searching for \"Step By Step\" by New Kids On the Block...\n"
     ]
    },
    {
     "name": "stderr",
     "output_type": "stream",
     "text": [
      "  3%|▎         | 410/13533 [31:34<17:21:28,  4.76s/it]"
     ]
    },
    {
     "name": "stdout",
     "output_type": "stream",
     "text": [
      "Done.\n",
      "Searching for songs by Mariah Carey...\n",
      "\n",
      "Done. Found 0 songs.\n",
      "Searching for \"Vision Of Love\" by Mariah Carey...\n"
     ]
    },
    {
     "name": "stderr",
     "output_type": "stream",
     "text": [
      "  3%|▎         | 411/13533 [31:39<18:19:48,  5.03s/it]"
     ]
    },
    {
     "name": "stdout",
     "output_type": "stream",
     "text": [
      "Done.\n",
      "Searching for songs by Madonna...\n",
      "\n",
      "Done. Found 0 songs.\n",
      "Searching for \"Vogue\" by Madonna...\n"
     ]
    },
    {
     "name": "stderr",
     "output_type": "stream",
     "text": [
      "  3%|▎         | 412/13533 [31:46<19:47:57,  5.43s/it]"
     ]
    },
    {
     "name": "stdout",
     "output_type": "stream",
     "text": [
      "Done.\n",
      "Searching for songs by Heart...\n",
      "\n",
      "Changing artist name to 'The Beatles'\n",
      "Done. Found 0 songs.\n",
      "Searching for \"All I Wanna Do Is Make Love To You\" by The Beatles...\n"
     ]
    },
    {
     "name": "stderr",
     "output_type": "stream",
     "text": [
      "  3%|▎         | 413/13533 [31:51<19:10:28,  5.26s/it]"
     ]
    },
    {
     "name": "stdout",
     "output_type": "stream",
     "text": [
      "Done.\n",
      "Searching for songs by Janet Jackson...\n",
      "\n",
      "Done. Found 0 songs.\n",
      "Searching for \"Come Back To Me\" by Janet Jackson...\n"
     ]
    },
    {
     "name": "stderr",
     "output_type": "stream",
     "text": [
      "  3%|▎         | 414/13533 [31:54<17:08:10,  4.70s/it]"
     ]
    },
    {
     "name": "stdout",
     "output_type": "stream",
     "text": [
      "Done.\n",
      "Searching for songs by Billy Idol...\n",
      "\n",
      "Done. Found 0 songs.\n",
      "Searching for \"Cradle Of Love (From \"Ford Fairlane\")\" by Billy Idol...\n"
     ]
    },
    {
     "name": "stderr",
     "output_type": "stream",
     "text": [
      "  3%|▎         | 415/13533 [31:59<17:55:55,  4.92s/it]"
     ]
    },
    {
     "name": "stdout",
     "output_type": "stream",
     "text": [
      "Done.\n",
      "Searching for songs by Roxette...\n",
      "\n",
      "Done. Found 0 songs.\n",
      "Searching for \"Dangerous\" by Roxette...\n"
     ]
    },
    {
     "name": "stderr",
     "output_type": "stream",
     "text": [
      "  3%|▎         | 416/13533 [32:04<17:43:07,  4.86s/it]"
     ]
    },
    {
     "name": "stdout",
     "output_type": "stream",
     "text": [
      "Done.\n",
      "Searching for songs by Jane Child...\n",
      "\n",
      "Done. Found 0 songs.\n",
      "Searching for \"Don't Wanna Fall In Love\" by Jane Child...\n"
     ]
    },
    {
     "name": "stderr",
     "output_type": "stream",
     "text": [
      "  3%|▎         | 417/13533 [32:09<17:23:02,  4.77s/it]"
     ]
    },
    {
     "name": "stdout",
     "output_type": "stream",
     "text": [
      "Done.\n",
      "Searching for songs by Bette Midler...\n",
      "\n",
      "Done. Found 0 songs.\n",
      "Searching for \"From A Distance\" by Bette Midler...\n"
     ]
    },
    {
     "name": "stderr",
     "output_type": "stream",
     "text": [
      "  3%|▎         | 418/13533 [32:12<15:33:26,  4.27s/it]"
     ]
    },
    {
     "name": "stdout",
     "output_type": "stream",
     "text": [
      "Done.\n",
      "Searching for songs by En Vogue...\n",
      "\n",
      "Done. Found 0 songs.\n",
      "Searching for \"Hold On\" by En Vogue...\n"
     ]
    },
    {
     "name": "stderr",
     "output_type": "stream",
     "text": [
      "  3%|▎         | 419/13533 [32:16<15:08:34,  4.16s/it]"
     ]
    },
    {
     "name": "stdout",
     "output_type": "stream",
     "text": [
      "Done.\n",
      "Searching for songs by Calloway...\n",
      "\n",
      "Changing artist name to 'Cab Calloway'\n",
      "Done. Found 0 songs.\n",
      "Searching for \"I Wanna Be Rich\" by Cab Calloway...\n"
     ]
    },
    {
     "name": "stderr",
     "output_type": "stream",
     "text": [
      "  3%|▎         | 420/13533 [32:20<15:15:03,  4.19s/it]"
     ]
    },
    {
     "name": "stdout",
     "output_type": "stream",
     "text": [
      "Done.\n",
      "Searching for songs by Alias...\n",
      "\n",
      "Changing artist name to 'Sevn Alias'\n",
      "Done. Found 0 songs.\n",
      "Searching for \"More Than Words Can Say\" by Sevn Alias...\n"
     ]
    },
    {
     "name": "stderr",
     "output_type": "stream",
     "text": [
      "  3%|▎         | 421/13533 [32:25<16:21:20,  4.49s/it]"
     ]
    },
    {
     "name": "stdout",
     "output_type": "stream",
     "text": [
      "Done.\n",
      "Searching for songs by M.C. Hammer...\n",
      "\n",
      "Changing artist name to 'MC Hammer'\n",
      "Done. Found 0 songs.\n",
      "Searching for \"Pray\" by MC Hammer...\n"
     ]
    },
    {
     "name": "stderr",
     "output_type": "stream",
     "text": [
      "  3%|▎         | 422/13533 [32:29<15:43:29,  4.32s/it]"
     ]
    },
    {
     "name": "stdout",
     "output_type": "stream",
     "text": [
      "Done.\n",
      "Searching for songs by Technotronic Featuring Felly...\n",
      "\n"
     ]
    },
    {
     "name": "stderr",
     "output_type": "stream",
     "text": [
      "  3%|▎         | 423/13533 [32:30<11:40:27,  3.21s/it]"
     ]
    },
    {
     "name": "stdout",
     "output_type": "stream",
     "text": [
      "No results found for 'Technotronic Featuring Felly'.\n",
      "Searching for songs by Janet Jackson...\n",
      "\n",
      "Done. Found 0 songs.\n",
      "Searching for \"Rhythm Nation\" by Janet Jackson...\n"
     ]
    },
    {
     "name": "stderr",
     "output_type": "stream",
     "text": [
      "  3%|▎         | 424/13533 [32:34<12:24:34,  3.41s/it]"
     ]
    },
    {
     "name": "stdout",
     "output_type": "stream",
     "text": [
      "Done.\n",
      "Searching for songs by Snap!...\n",
      "\n",
      "Done. Found 0 songs.\n",
      "Searching for \"The Power\" by Snap!...\n"
     ]
    },
    {
     "name": "stderr",
     "output_type": "stream",
     "text": [
      "  3%|▎         | 425/13533 [32:42<17:39:16,  4.85s/it]"
     ]
    },
    {
     "name": "stdout",
     "output_type": "stream",
     "text": [
      "Exception \n",
      "\n",
      "Searching for songs by Seduction...\n",
      "\n",
      "Done. Found 0 songs.\n",
      "Searching for \"Two To Make It Right\" by Seduction...\n"
     ]
    },
    {
     "name": "stderr",
     "output_type": "stream",
     "text": [
      "  3%|▎         | 426/13533 [32:47<17:29:14,  4.80s/it]"
     ]
    },
    {
     "name": "stdout",
     "output_type": "stream",
     "text": [
      "Done.\n",
      "Searching for songs by Lisa Stansfield...\n",
      "\n",
      "Done. Found 0 songs.\n",
      "Searching for \"All Around The World\" by Lisa Stansfield...\n"
     ]
    },
    {
     "name": "stderr",
     "output_type": "stream",
     "text": [
      "  3%|▎         | 427/13533 [32:50<16:17:48,  4.48s/it]"
     ]
    },
    {
     "name": "stdout",
     "output_type": "stream",
     "text": [
      "Done.\n",
      "Searching for songs by Bell Biv DeVoe...\n",
      "\n",
      "Done. Found 0 songs.\n",
      "Searching for \"Do Me!\" by Bell Biv DeVoe...\n"
     ]
    },
    {
     "name": "stderr",
     "output_type": "stream",
     "text": [
      "  3%|▎         | 428/13533 [32:54<15:09:19,  4.16s/it]"
     ]
    },
    {
     "name": "stdout",
     "output_type": "stream",
     "text": [
      "Done.\n",
      "Searching for songs by Rod Stewart...\n",
      "\n",
      "Done. Found 0 songs.\n",
      "Searching for \"Downtown Train\" by Rod Stewart...\n"
     ]
    },
    {
     "name": "stderr",
     "output_type": "stream",
     "text": [
      "  3%|▎         | 429/13533 [32:59<16:03:23,  4.41s/it]"
     ]
    },
    {
     "name": "stdout",
     "output_type": "stream",
     "text": [
      "Done.\n",
      "Searching for songs by Michael Bolton...\n",
      "\n",
      "Done. Found 0 songs.\n",
      "Searching for \"How Can We Be Lovers\" by Michael Bolton...\n"
     ]
    },
    {
     "name": "stderr",
     "output_type": "stream",
     "text": [
      "  3%|▎         | 430/13533 [33:02<15:25:00,  4.24s/it]"
     ]
    },
    {
     "name": "stdout",
     "output_type": "stream",
     "text": [
      "Done.\n",
      "Searching for songs by Phil Collins...\n",
      "\n",
      "Done. Found 0 songs.\n",
      "Searching for \"I Wish It Would Rain Down\" by Phil Collins...\n"
     ]
    },
    {
     "name": "stderr",
     "output_type": "stream",
     "text": [
      "  3%|▎         | 431/13533 [33:06<14:23:51,  3.96s/it]"
     ]
    },
    {
     "name": "stdout",
     "output_type": "stream",
     "text": [
      "Done.\n",
      "Searching for songs by Bell Biv DeVoe...\n",
      "\n",
      "Done. Found 0 songs.\n",
      "Searching for \"Poison\" by Bell Biv DeVoe...\n"
     ]
    },
    {
     "name": "stderr",
     "output_type": "stream",
     "text": [
      "  3%|▎         | 432/13533 [33:09<13:52:07,  3.81s/it]"
     ]
    },
    {
     "name": "stdout",
     "output_type": "stream",
     "text": [
      "Done.\n",
      "Searching for songs by The B-52s...\n",
      "\n",
      "Changing artist name to 'The B-52's'\n",
      "Done. Found 0 songs.\n",
      "Searching for \"Roam\" by The B-52's...\n"
     ]
    },
    {
     "name": "stderr",
     "output_type": "stream",
     "text": [
      "  3%|▎         | 433/13533 [33:15<16:04:32,  4.42s/it]"
     ]
    },
    {
     "name": "stdout",
     "output_type": "stream",
     "text": [
      "Done.\n",
      "Searching for songs by Johnny Gill...\n",
      "\n",
      "Done. Found 0 songs.\n",
      "Searching for \"Rub You The Right Way\" by Johnny Gill...\n"
     ]
    },
    {
     "name": "stderr",
     "output_type": "stream",
     "text": [
      "  3%|▎         | 434/13533 [33:21<17:10:41,  4.72s/it]"
     ]
    },
    {
     "name": "stdout",
     "output_type": "stream",
     "text": [
      "Done.\n",
      "Searching for songs by Poison...\n",
      "\n",
      "Done. Found 0 songs.\n",
      "Searching for \"Unskinny Bop\" by Poison...\n"
     ]
    },
    {
     "name": "stderr",
     "output_type": "stream",
     "text": [
      "  3%|▎         | 435/13533 [33:27<18:35:15,  5.11s/it]"
     ]
    },
    {
     "name": "stdout",
     "output_type": "stream",
     "text": [
      "Done.\n",
      "Searching for songs by Milli Vanilli...\n",
      "\n",
      "Done. Found 0 songs.\n",
      "Searching for \"All Or Nothing\" by Milli Vanilli...\n"
     ]
    },
    {
     "name": "stderr",
     "output_type": "stream",
     "text": [
      "  3%|▎         | 436/13533 [33:30<17:10:07,  4.72s/it]"
     ]
    },
    {
     "name": "stdout",
     "output_type": "stream",
     "text": [
      "Done.\n",
      "Searching for songs by Janet Jackson...\n",
      "\n",
      "Done. Found 0 songs.\n",
      "Searching for \"Alright\" by Janet Jackson...\n"
     ]
    },
    {
     "name": "stderr",
     "output_type": "stream",
     "text": [
      "  3%|▎         | 437/13533 [33:36<18:37:48,  5.12s/it]"
     ]
    },
    {
     "name": "stdout",
     "output_type": "stream",
     "text": [
      "Done.\n",
      "Searching for songs by Phil Collins...\n",
      "\n",
      "Done. Found 0 songs.\n",
      "Searching for \"Do You Remember?\" by Phil Collins...\n"
     ]
    },
    {
     "name": "stderr",
     "output_type": "stream",
     "text": [
      "  3%|▎         | 438/13533 [33:39<15:58:00,  4.39s/it]"
     ]
    },
    {
     "name": "stdout",
     "output_type": "stream",
     "text": [
      "Done.\n",
      "Searching for songs by Jody Watley...\n",
      "\n",
      "Done. Found 0 songs.\n",
      "Searching for \"Everything\" by Jody Watley...\n"
     ]
    },
    {
     "name": "stderr",
     "output_type": "stream",
     "text": [
      "  3%|▎         | 439/13533 [33:43<15:57:04,  4.39s/it]"
     ]
    },
    {
     "name": "stdout",
     "output_type": "stream",
     "text": [
      "Done.\n",
      "Searching for songs by Pebbles...\n",
      "\n",
      "Done. Found 0 songs.\n",
      "Searching for \"Giving You The Benefit\" by Pebbles...\n"
     ]
    },
    {
     "name": "stderr",
     "output_type": "stream",
     "text": [
      "  3%|▎         | 440/13533 [33:49<16:56:00,  4.66s/it]"
     ]
    },
    {
     "name": "stdout",
     "output_type": "stream",
     "text": [
      "Done.\n",
      "Searching for songs by Deee-Lite...\n",
      "\n",
      "Done. Found 0 songs.\n",
      "Searching for \"Groove Is In The Heart\" by Deee-Lite...\n"
     ]
    },
    {
     "name": "stderr",
     "output_type": "stream",
     "text": [
      "  3%|▎         | 441/13533 [33:57<20:44:39,  5.70s/it]"
     ]
    },
    {
     "name": "stdout",
     "output_type": "stream",
     "text": [
      "Exception \n",
      "\n",
      "Searching for songs by M.C. Hammer...\n",
      "\n",
      "Changing artist name to 'MC Hammer'\n",
      "Done. Found 0 songs.\n",
      "Searching for \"Have You Seen Her\" by MC Hammer...\n"
     ]
    },
    {
     "name": "stderr",
     "output_type": "stream",
     "text": [
      "  3%|▎         | 442/13533 [34:01<19:03:19,  5.24s/it]"
     ]
    },
    {
     "name": "stdout",
     "output_type": "stream",
     "text": [
      "Done.\n",
      "Searching for songs by Taylor Dayne...\n",
      "\n",
      "Done. Found 0 songs.\n",
      "Searching for \"I'll Be Your Shelter\" by Taylor Dayne...\n"
     ]
    },
    {
     "name": "stderr",
     "output_type": "stream",
     "text": [
      "  3%|▎         | 443/13533 [34:05<18:05:15,  4.97s/it]"
     ]
    },
    {
     "name": "stdout",
     "output_type": "stream",
     "text": [
      "Done.\n",
      "Searching for songs by Wilson Phillips...\n",
      "\n",
      "Done. Found 0 songs.\n",
      "Searching for \"Impulsive\" by Wilson Phillips...\n"
     ]
    },
    {
     "name": "stderr",
     "output_type": "stream",
     "text": [
      "  3%|▎         | 444/13533 [34:10<17:24:57,  4.79s/it]"
     ]
    },
    {
     "name": "stdout",
     "output_type": "stream",
     "text": [
      "Done.\n",
      "Searching for songs by Aerosmith...\n",
      "\n",
      "Done. Found 0 songs.\n",
      "Searching for \"Janie's Got A Gun\" by Aerosmith...\n"
     ]
    },
    {
     "name": "stderr",
     "output_type": "stream",
     "text": [
      "  3%|▎         | 445/13533 [34:15<18:07:07,  4.98s/it]"
     ]
    },
    {
     "name": "stdout",
     "output_type": "stream",
     "text": [
      "Done.\n",
      "Searching for songs by Phil Collins...\n",
      "\n",
      "Done. Found 0 songs.\n",
      "Searching for \"Something Happened On The Way To Heaven\" by Phil Collins...\n"
     ]
    },
    {
     "name": "stderr",
     "output_type": "stream",
     "text": [
      "  3%|▎         | 446/13533 [34:19<16:18:57,  4.49s/it]"
     ]
    },
    {
     "name": "stdout",
     "output_type": "stream",
     "text": [
      "Done.\n",
      "Searching for songs by Poison...\n",
      "\n",
      "Done. Found 0 songs.\n",
      "Searching for \"Something To Believe In\" by Poison...\n"
     ]
    },
    {
     "name": "stderr",
     "output_type": "stream",
     "text": [
      "  3%|▎         | 447/13533 [34:23<16:12:20,  4.46s/it]"
     ]
    },
    {
     "name": "stdout",
     "output_type": "stream",
     "text": [
      "Done.\n",
      "Searching for songs by Bad English...\n",
      "\n",
      "Done. Found 0 songs.\n",
      "Searching for \"Price Of Love\" by Bad English...\n"
     ]
    },
    {
     "name": "stderr",
     "output_type": "stream",
     "text": [
      "  3%|▎         | 448/13533 [34:28<16:43:53,  4.60s/it]"
     ]
    },
    {
     "name": "stdout",
     "output_type": "stream",
     "text": [
      "Done.\n",
      "Searching for songs by Linear...\n",
      "\n",
      "Done. Found 0 songs.\n",
      "Searching for \"Sending All My Love\" by Linear...\n"
     ]
    },
    {
     "name": "stderr",
     "output_type": "stream",
     "text": [
      "  3%|▎         | 449/13533 [34:33<16:52:12,  4.64s/it]"
     ]
    },
    {
     "name": "stdout",
     "output_type": "stream",
     "text": [
      "Done.\n",
      "Searching for songs by DNA Featuring Suzanne Vega...\n",
      "\n"
     ]
    },
    {
     "name": "stderr",
     "output_type": "stream",
     "text": [
      "  3%|▎         | 450/13533 [34:33<12:41:51,  3.49s/it]"
     ]
    },
    {
     "name": "stdout",
     "output_type": "stream",
     "text": [
      "No results found for 'DNA Featuring Suzanne Vega'.\n",
      "Searching for songs by Chicago...\n",
      "\n",
      "Done. Found 0 songs.\n",
      "Searching for \"What Kind Of Man Would I Be?\" by Chicago...\n"
     ]
    },
    {
     "name": "stderr",
     "output_type": "stream",
     "text": [
      "  3%|▎         | 451/13533 [34:40<15:39:48,  4.31s/it]"
     ]
    },
    {
     "name": "stdout",
     "output_type": "stream",
     "text": [
      "Done.\n",
      "Searching for songs by After 7...\n",
      "\n",
      "Done. Found 0 songs.\n",
      "Searching for \"Can't Stop\" by After 7...\n"
     ]
    },
    {
     "name": "stderr",
     "output_type": "stream",
     "text": [
      "  3%|▎         | 452/13533 [34:45<16:21:08,  4.50s/it]"
     ]
    },
    {
     "name": "stdout",
     "output_type": "stream",
     "text": [
      "Done.\n",
      "Searching for songs by Tyler Collins...\n",
      "\n",
      "Done. Found 0 songs.\n",
      "Searching for \"Girls Nite Out\" by Tyler Collins...\n"
     ]
    },
    {
     "name": "stderr",
     "output_type": "stream",
     "text": [
      "  3%|▎         | 453/13533 [34:50<16:54:11,  4.65s/it]"
     ]
    },
    {
     "name": "stdout",
     "output_type": "stream",
     "text": [
      "Done.\n",
      "Searching for songs by Luther Vandross...\n",
      "\n",
      "Done. Found 0 songs.\n",
      "Searching for \"Here And Now\" by Luther Vandross...\n"
     ]
    },
    {
     "name": "stderr",
     "output_type": "stream",
     "text": [
      "  3%|▎         | 454/13533 [34:55<17:48:29,  4.90s/it]"
     ]
    },
    {
     "name": "stdout",
     "output_type": "stream",
     "text": [
      "Done.\n",
      "Searching for songs by Gloria Estefan...\n",
      "\n",
      "Done. Found 0 songs.\n",
      "Searching for \"Here We Are\" by Gloria Estefan...\n"
     ]
    },
    {
     "name": "stderr",
     "output_type": "stream",
     "text": [
      "  3%|▎         | 455/13533 [35:01<18:51:40,  5.19s/it]"
     ]
    },
    {
     "name": "stdout",
     "output_type": "stream",
     "text": [
      "Done.\n",
      "Searching for songs by Billy Joel...\n",
      "\n",
      "Done. Found 0 songs.\n",
      "Searching for \"I Go To Extremes\" by Billy Joel...\n"
     ]
    },
    {
     "name": "stderr",
     "output_type": "stream",
     "text": [
      "  3%|▎         | 456/13533 [35:06<18:43:52,  5.16s/it]"
     ]
    },
    {
     "name": "stdout",
     "output_type": "stream",
     "text": [
      "Done.\n",
      "Searching for songs by Skid Row...\n",
      "\n",
      "Done. Found 0 songs.\n",
      "Searching for \"I Remember You\" by Skid Row...\n"
     ]
    },
    {
     "name": "stderr",
     "output_type": "stream",
     "text": [
      "  3%|▎         | 457/13533 [35:09<16:43:32,  4.60s/it]"
     ]
    },
    {
     "name": "stdout",
     "output_type": "stream",
     "text": [
      "Done.\n",
      "Searching for songs by Lou Gramm...\n",
      "\n",
      "Done. Found 0 songs.\n",
      "Searching for \"Just Between You And Me\" by Lou Gramm...\n"
     ]
    },
    {
     "name": "stderr",
     "output_type": "stream",
     "text": [
      "  3%|▎         | 458/13533 [35:15<17:35:10,  4.84s/it]"
     ]
    },
    {
     "name": "stdout",
     "output_type": "stream",
     "text": [
      "Done.\n",
      "Searching for songs by Dino...\n",
      "\n",
      "Changing artist name to 'Dinos'\n",
      "Done. Found 0 songs.\n",
      "Searching for \"Romeo\" by Dinos...\n"
     ]
    },
    {
     "name": "stderr",
     "output_type": "stream",
     "text": [
      "  3%|▎         | 459/13533 [35:20<17:32:11,  4.83s/it]"
     ]
    },
    {
     "name": "stdout",
     "output_type": "stream",
     "text": [
      "Done.\n",
      "Searching for songs by UB40...\n",
      "\n",
      "Done. Found 0 songs.\n",
      "Searching for \"The Way You Do The Things You Do\" by UB40...\n"
     ]
    },
    {
     "name": "stderr",
     "output_type": "stream",
     "text": [
      "  3%|▎         | 460/13533 [35:23<16:02:42,  4.42s/it]"
     ]
    },
    {
     "name": "stdout",
     "output_type": "stream",
     "text": [
      "Done.\n",
      "Searching for songs by Prince...\n",
      "\n",
      "Changing artist name to 'RZA'\n",
      "Done. Found 0 songs.\n",
      "Searching for \"Thieves In The Temple\" by RZA...\n"
     ]
    },
    {
     "name": "stderr",
     "output_type": "stream",
     "text": [
      "  3%|▎         | 461/13533 [35:25<13:32:57,  3.73s/it]"
     ]
    },
    {
     "name": "stdout",
     "output_type": "stream",
     "text": [
      "No results found for: 'Thieves In The Temple RZA'\n",
      "Searching for songs by Babyface...\n",
      "\n",
      "Done. Found 0 songs.\n",
      "Searching for \"Whip Appeal\" by Babyface...\n"
     ]
    },
    {
     "name": "stderr",
     "output_type": "stream",
     "text": [
      "  3%|▎         | 462/13533 [35:30<15:00:35,  4.13s/it]"
     ]
    },
    {
     "name": "stdout",
     "output_type": "stream",
     "text": [
      "Done.\n",
      "Searching for songs by Tom Petty...\n",
      "\n",
      "Done. Found 0 songs.\n",
      "Searching for \"Free Fallin'\" by Tom Petty...\n"
     ]
    },
    {
     "name": "stderr",
     "output_type": "stream",
     "text": [
      "  3%|▎         | 463/13533 [35:37<18:23:53,  5.07s/it]"
     ]
    },
    {
     "name": "stdout",
     "output_type": "stream",
     "text": [
      "Done.\n",
      "Searching for songs by Technotronic...\n",
      "\n",
      "Done. Found 0 songs.\n",
      "Searching for \"Get Up! (Before The Night Is Over)\" by Technotronic...\n"
     ]
    },
    {
     "name": "stderr",
     "output_type": "stream",
     "text": [
      "  3%|▎         | 464/13533 [35:43<18:29:33,  5.09s/it]"
     ]
    },
    {
     "name": "stdout",
     "output_type": "stream",
     "text": [
      "Done.\n",
      "Searching for songs by Michel'le...\n",
      "\n",
      "Changing artist name to 'Michelle Ingrid Williams'\n",
      "Done. Found 0 songs.\n",
      "Searching for \"No More Lies\" by Michelle Ingrid Williams...\n"
     ]
    },
    {
     "name": "stderr",
     "output_type": "stream",
     "text": [
      "  3%|▎         | 465/13533 [35:47<17:19:43,  4.77s/it]"
     ]
    },
    {
     "name": "stdout",
     "output_type": "stream",
     "text": [
      "Done.\n",
      "Searching for songs by After 7...\n",
      "\n",
      "Done. Found 0 songs.\n",
      "Searching for \"Ready Or Not\" by After 7...\n"
     ]
    },
    {
     "name": "stderr",
     "output_type": "stream",
     "text": [
      "  3%|▎         | 466/13533 [35:49<15:03:16,  4.15s/it]"
     ]
    },
    {
     "name": "stdout",
     "output_type": "stream",
     "text": [
      "Done.\n",
      "Searching for songs by New Kids On The Block...\n",
      "\n",
      "Changing artist name to 'New Kids On the Block'\n",
      "Done. Found 0 songs.\n",
      "Searching for \"This One's For The Children\" by New Kids On the Block...\n"
     ]
    },
    {
     "name": "stderr",
     "output_type": "stream",
     "text": [
      "  3%|▎         | 467/13533 [35:52<13:34:51,  3.74s/it]"
     ]
    },
    {
     "name": "stdout",
     "output_type": "stream",
     "text": [
      "Done.\n",
      "Searching for songs by New Kids On The Block...\n",
      "\n",
      "Changing artist name to 'New Kids On the Block'\n",
      "Done. Found 0 songs.\n",
      "Searching for \"Tonight\" by New Kids On the Block...\n"
     ]
    },
    {
     "name": "stderr",
     "output_type": "stream",
     "text": [
      "  3%|▎         | 468/13533 [35:57<14:53:46,  4.10s/it]"
     ]
    },
    {
     "name": "stdout",
     "output_type": "stream",
     "text": [
      "Done.\n",
      "Searching for songs by Michael Bolton...\n",
      "\n",
      "Done. Found 0 songs.\n",
      "Searching for \"When I'm Back On My Feet Again\" by Michael Bolton...\n"
     ]
    },
    {
     "name": "stderr",
     "output_type": "stream",
     "text": [
      "  3%|▎         | 469/13533 [36:01<14:52:59,  4.10s/it]"
     ]
    },
    {
     "name": "stdout",
     "output_type": "stream",
     "text": [
      "Done.\n",
      "Searching for songs by Depeche Mode...\n",
      "\n",
      "Done. Found 0 songs.\n",
      "Searching for \"Enjoy The Silence\" by Depeche Mode...\n"
     ]
    },
    {
     "name": "stderr",
     "output_type": "stream",
     "text": [
      "  3%|▎         | 470/13533 [36:05<15:00:55,  4.14s/it]"
     ]
    },
    {
     "name": "stdout",
     "output_type": "stream",
     "text": [
      "Done.\n",
      "Searching for songs by Black Box...\n",
      "\n",
      "Done. Found 0 songs.\n",
      "Searching for \"Everybody Everybody\" by Black Box...\n"
     ]
    },
    {
     "name": "stderr",
     "output_type": "stream",
     "text": [
      "  3%|▎         | 471/13533 [36:12<17:47:58,  4.91s/it]"
     ]
    },
    {
     "name": "stdout",
     "output_type": "stream",
     "text": [
      "Done.\n",
      "Searching for songs by KISS...\n",
      "\n",
      "Done. Found 0 songs.\n",
      "Searching for \"Forever\" by KISS...\n"
     ]
    },
    {
     "name": "stderr",
     "output_type": "stream",
     "text": [
      "  3%|▎         | 472/13533 [36:15<15:50:05,  4.36s/it]"
     ]
    },
    {
     "name": "stdout",
     "output_type": "stream",
     "text": [
      "Done.\n",
      "Searching for songs by George Michael...\n",
      "\n",
      "Done. Found 0 songs.\n",
      "Searching for \"Freedom\" by George Michael...\n"
     ]
    },
    {
     "name": "stderr",
     "output_type": "stream",
     "text": [
      "  3%|▎         | 473/13533 [36:18<14:04:22,  3.88s/it]"
     ]
    },
    {
     "name": "stdout",
     "output_type": "stream",
     "text": [
      "Done.\n",
      "Searching for songs by Madonna...\n",
      "\n",
      "Done. Found 0 songs.\n",
      "Searching for \"Keep It Together\" by Madonna...\n"
     ]
    },
    {
     "name": "stderr",
     "output_type": "stream",
     "text": [
      "  4%|▎         | 474/13533 [36:23<15:34:53,  4.30s/it]"
     ]
    },
    {
     "name": "stdout",
     "output_type": "stream",
     "text": [
      "Done.\n",
      "Searching for songs by Go West...\n",
      "\n",
      "Done. Found 0 songs.\n",
      "Searching for \"King Of Wishful Thinking (From \"Pretty Woman\")\" by Go West...\n"
     ]
    },
    {
     "name": "stderr",
     "output_type": "stream",
     "text": [
      "  4%|▎         | 475/13533 [36:27<15:31:20,  4.28s/it]"
     ]
    },
    {
     "name": "stdout",
     "output_type": "stream",
     "text": [
      "Done.\n",
      "Searching for songs by Paul Young...\n",
      "\n",
      "Done. Found 0 songs.\n",
      "Searching for \"Oh Girl\" by Paul Young...\n"
     ]
    },
    {
     "name": "stderr",
     "output_type": "stream",
     "text": [
      "  4%|▎         | 476/13533 [36:33<16:27:49,  4.54s/it]"
     ]
    },
    {
     "name": "stdout",
     "output_type": "stream",
     "text": [
      "Done.\n",
      "Searching for songs by M.C. Hammer...\n",
      "\n",
      "Changing artist name to 'MC Hammer'\n",
      "Done. Found 0 songs.\n",
      "Searching for \"U Can't Touch This\" by MC Hammer...\n"
     ]
    },
    {
     "name": "stderr",
     "output_type": "stream",
     "text": [
      "  4%|▎         | 477/13533 [36:36<15:05:20,  4.16s/it]"
     ]
    },
    {
     "name": "stdout",
     "output_type": "stream",
     "text": [
      "Done.\n",
      "Searching for songs by The Cover Girls...\n",
      "\n",
      "Done. Found 0 songs.\n",
      "Searching for \"We Can't Go Wrong\" by The Cover Girls...\n"
     ]
    },
    {
     "name": "stderr",
     "output_type": "stream",
     "text": [
      "  4%|▎         | 478/13533 [36:40<15:03:55,  4.15s/it]"
     ]
    },
    {
     "name": "stdout",
     "output_type": "stream",
     "text": [
      "Done.\n",
      "Searching for songs by Motley Crue...\n",
      "\n",
      "Changing artist name to 'Mötley Crüe'\n",
      "Done. Found 0 songs.\n",
      "Searching for \"Without You\" by Mötley Crüe...\n"
     ]
    },
    {
     "name": "stderr",
     "output_type": "stream",
     "text": [
      "  4%|▎         | 479/13533 [36:44<15:00:58,  4.14s/it]"
     ]
    },
    {
     "name": "stdout",
     "output_type": "stream",
     "text": [
      "Done.\n",
      "Searching for songs by Faith No More...\n",
      "\n",
      "Done. Found 0 songs.\n",
      "Searching for \"Epic\" by Faith No More...\n"
     ]
    },
    {
     "name": "stderr",
     "output_type": "stream",
     "text": [
      "  4%|▎         | 480/13533 [36:52<19:20:31,  5.33s/it]"
     ]
    },
    {
     "name": "stdout",
     "output_type": "stream",
     "text": [
      "Exception \n",
      "\n",
      "Searching for songs by Tony Toni Tone...\n",
      "\n",
      "Changing artist name to 'Tony! Toni! Toné!'\n",
      "Done. Found 0 songs.\n",
      "Searching for \"Feels Good\" by Tony! Toni! Toné!...\n"
     ]
    },
    {
     "name": "stderr",
     "output_type": "stream",
     "text": [
      "  4%|▎         | 481/13533 [36:57<18:34:30,  5.12s/it]"
     ]
    },
    {
     "name": "stdout",
     "output_type": "stream",
     "text": [
      "Done.\n",
      "Searching for songs by The Time...\n",
      "\n",
      "Changing artist name to '​The Time'\n",
      "Done. Found 0 songs.\n",
      "Searching for \"Jerk Out\" by ​The Time...\n"
     ]
    },
    {
     "name": "stderr",
     "output_type": "stream",
     "text": [
      "  4%|▎         | 482/13533 [37:01<17:47:34,  4.91s/it]"
     ]
    },
    {
     "name": "stdout",
     "output_type": "stream",
     "text": [
      "Done.\n",
      "Searching for songs by Biz Markie...\n",
      "\n",
      "Done. Found 0 songs.\n",
      "Searching for \"Just A Friend\" by Biz Markie...\n"
     ]
    },
    {
     "name": "stderr",
     "output_type": "stream",
     "text": [
      "  4%|▎         | 483/13533 [37:06<17:07:01,  4.72s/it]"
     ]
    },
    {
     "name": "stdout",
     "output_type": "stream",
     "text": [
      "Done.\n",
      "Searching for songs by Candyman...\n",
      "\n",
      "Done. Found 0 songs.\n",
      "Searching for \"Knockin' Boots\" by Candyman...\n"
     ]
    },
    {
     "name": "stderr",
     "output_type": "stream",
     "text": [
      "  4%|▎         | 484/13533 [37:12<18:43:39,  5.17s/it]"
     ]
    },
    {
     "name": "stdout",
     "output_type": "stream",
     "text": [
      "Done.\n",
      "Searching for songs by INXS...\n",
      "\n",
      "Done. Found 0 songs.\n",
      "Searching for \"Suicide Blonde\" by INXS...\n"
     ]
    },
    {
     "name": "stderr",
     "output_type": "stream",
     "text": [
      "  4%|▎         | 485/13533 [37:16<18:10:23,  5.01s/it]"
     ]
    },
    {
     "name": "stdout",
     "output_type": "stream",
     "text": [
      "Done.\n",
      "Searching for songs by Expose...\n",
      "\n",
      "Changing artist name to 'Exposé'\n",
      "Done. Found 0 songs.\n",
      "Searching for \"Tell Me Why\" by Exposé...\n"
     ]
    },
    {
     "name": "stderr",
     "output_type": "stream",
     "text": [
      "  4%|▎         | 486/13533 [37:20<16:54:46,  4.67s/it]"
     ]
    },
    {
     "name": "stdout",
     "output_type": "stream",
     "text": [
      "Done.\n",
      "Searching for songs by Aerosmith...\n",
      "\n",
      "Done. Found 0 songs.\n",
      "Searching for \"What It Takes\" by Aerosmith...\n"
     ]
    },
    {
     "name": "stderr",
     "output_type": "stream",
     "text": [
      "  4%|▎         | 487/13533 [37:24<15:49:38,  4.37s/it]"
     ]
    },
    {
     "name": "stdout",
     "output_type": "stream",
     "text": [
      "Done.\n",
      "Searching for songs by A'me Lorain...\n",
      "\n",
      "Changing artist name to 'A’me Lorain'\n",
      "Done. Found 0 songs.\n",
      "Searching for \"Whole Wide World (From \"True Love\")\" by A’me Lorain...\n"
     ]
    },
    {
     "name": "stderr",
     "output_type": "stream",
     "text": [
      "  4%|▎         | 488/13533 [37:28<15:21:12,  4.24s/it]"
     ]
    },
    {
     "name": "stdout",
     "output_type": "stream",
     "text": [
      "Done.\n",
      "Searching for songs by D-Mob Introducing Cathy Dennis...\n",
      "\n",
      "Changing artist name to 'D-mob Introducing Cathy Dennis'\n",
      "Done. Found 0 songs.\n",
      "Searching for \"C'mon And Get My Love\" by D-mob Introducing Cathy Dennis...\n"
     ]
    },
    {
     "name": "stderr",
     "output_type": "stream",
     "text": [
      "  4%|▎         | 489/13533 [37:33<15:51:11,  4.38s/it]"
     ]
    },
    {
     "name": "stdout",
     "output_type": "stream",
     "text": [
      "Done.\n",
      "Searching for songs by Warrant...\n",
      "\n",
      "Done. Found 0 songs.\n",
      "Searching for \"Cherry Pie\" by Warrant...\n"
     ]
    },
    {
     "name": "stderr",
     "output_type": "stream",
     "text": [
      "  4%|▎         | 490/13533 [37:36<14:59:02,  4.14s/it]"
     ]
    },
    {
     "name": "stdout",
     "output_type": "stream",
     "text": [
      "Done.\n",
      "Searching for songs by Madonna...\n",
      "\n",
      "Done. Found 0 songs.\n",
      "Searching for \"Hanky Panky\" by Madonna...\n"
     ]
    },
    {
     "name": "stderr",
     "output_type": "stream",
     "text": [
      "  4%|▎         | 491/13533 [37:42<16:28:58,  4.55s/it]"
     ]
    },
    {
     "name": "stdout",
     "output_type": "stream",
     "text": [
      "Done.\n",
      "Searching for songs by Tesla...\n",
      "\n",
      "Done. Found 0 songs.\n",
      "Searching for \"Love Song\" by Tesla...\n"
     ]
    },
    {
     "name": "stderr",
     "output_type": "stream",
     "text": [
      "  4%|▎         | 492/13533 [37:46<16:46:58,  4.63s/it]"
     ]
    },
    {
     "name": "stdout",
     "output_type": "stream",
     "text": [
      "Done.\n",
      "Searching for songs by Johnny Gill...\n",
      "\n",
      "Done. Found 0 songs.\n",
      "Searching for \"My, My, My\" by Johnny Gill...\n"
     ]
    },
    {
     "name": "stderr",
     "output_type": "stream",
     "text": [
      "  4%|▎         | 493/13533 [37:52<17:23:07,  4.80s/it]"
     ]
    },
    {
     "name": "stdout",
     "output_type": "stream",
     "text": [
      "Done.\n",
      "Searching for songs by Perfect Gentlemen...\n",
      "\n",
      "Done. Found 0 songs.\n",
      "Searching for \"Ooh La La (I Can't Get Over You)\" by Perfect Gentlemen...\n"
     ]
    },
    {
     "name": "stderr",
     "output_type": "stream",
     "text": [
      "  4%|▎         | 494/13533 [37:56<16:56:11,  4.68s/it]"
     ]
    },
    {
     "name": "stdout",
     "output_type": "stream",
     "text": [
      "Done.\n",
      "Searching for songs by Rod Stewart With Ronald Isley...\n",
      "\n"
     ]
    },
    {
     "name": "stderr",
     "output_type": "stream",
     "text": [
      "  4%|▎         | 495/13533 [37:57<12:44:10,  3.52s/it]"
     ]
    },
    {
     "name": "stdout",
     "output_type": "stream",
     "text": [
      "No results found for 'Rod Stewart With Ronald Isley'.\n",
      "Searching for songs by Linda Ronstadt (Featuring Aaron Neville)...\n",
      "\n"
     ]
    },
    {
     "name": "stderr",
     "output_type": "stream",
     "text": [
      "  4%|▎         | 496/13533 [37:57<9:32:46,  2.64s/it] "
     ]
    },
    {
     "name": "stdout",
     "output_type": "stream",
     "text": [
      "No results found for 'Linda Ronstadt (Featuring Aaron Neville)'.\n",
      "Searching for songs by Seduction...\n",
      "\n",
      "Done. Found 0 songs.\n",
      "Searching for \"Could This Be Love\" by Seduction...\n"
     ]
    },
    {
     "name": "stderr",
     "output_type": "stream",
     "text": [
      "  4%|▎         | 497/13533 [38:02<11:35:05,  3.20s/it]"
     ]
    },
    {
     "name": "stdout",
     "output_type": "stream",
     "text": [
      "Done.\n",
      "Searching for songs by Eddie Money...\n",
      "\n",
      "Done. Found 0 songs.\n",
      "Searching for \"Peace In Our Time\" by Eddie Money...\n"
     ]
    },
    {
     "name": "stderr",
     "output_type": "stream",
     "text": [
      "  4%|▎         | 498/13533 [38:07<13:16:52,  3.67s/it]"
     ]
    },
    {
     "name": "stdout",
     "output_type": "stream",
     "text": [
      "Done.\n",
      "Searching for songs by Daryl Hall John Oates...\n",
      "\n",
      "Changing artist name to 'Hall & Oates'\n",
      "Done. Found 0 songs.\n",
      "Searching for \"So Close\" by Hall & Oates...\n"
     ]
    },
    {
     "name": "stderr",
     "output_type": "stream",
     "text": [
      "  4%|▎         | 499/13533 [38:11<14:14:26,  3.93s/it]"
     ]
    },
    {
     "name": "stdout",
     "output_type": "stream",
     "text": [
      "Done.\n",
      "Searching for songs by Jive Bunny & The Mastermixers...\n",
      "\n",
      "Done. Found 0 songs.\n",
      "Searching for \"Swing The Mood\" by Jive Bunny & The Mastermixers...\n"
     ]
    },
    {
     "name": "stderr",
     "output_type": "stream",
     "text": [
      "  4%|▎         | 500/13533 [38:16<15:35:30,  4.31s/it]"
     ]
    },
    {
     "name": "stdout",
     "output_type": "stream",
     "text": [
      "Done.\n",
      "Searching for songs by Digital Underground...\n",
      "\n",
      "Done. Found 0 songs.\n",
      "Searching for \"The Humpty Dance\" by Digital Underground...\n"
     ]
    },
    {
     "name": "stderr",
     "output_type": "stream",
     "text": [
      "  4%|▎         | 501/13533 [38:21<15:36:00,  4.31s/it]"
     ]
    },
    {
     "name": "stdout",
     "output_type": "stream",
     "text": [
      "Done.\n",
      "Searching for songs by Joe Cocker...\n",
      "\n",
      "Done. Found 0 songs.\n",
      "Searching for \"When The Night Comes\" by Joe Cocker...\n"
     ]
    },
    {
     "name": "stderr",
     "output_type": "stream",
     "text": [
      "  4%|▎         | 502/13533 [38:26<16:46:29,  4.63s/it]"
     ]
    },
    {
     "name": "stdout",
     "output_type": "stream",
     "text": [
      "Done.\n",
      "Searching for songs by Cheap Trick...\n",
      "\n",
      "Done. Found 0 songs.\n",
      "Searching for \"Can't Stop Falling Into Love\" by Cheap Trick...\n"
     ]
    },
    {
     "name": "stderr",
     "output_type": "stream",
     "text": [
      "  4%|▎         | 503/13533 [38:30<16:01:02,  4.43s/it]"
     ]
    },
    {
     "name": "stdout",
     "output_type": "stream",
     "text": [
      "Done.\n",
      "Searching for songs by Taylor Dayne...\n",
      "\n",
      "Done. Found 0 songs.\n",
      "Searching for \"Heart Of Stone\" by Taylor Dayne...\n"
     ]
    },
    {
     "name": "stderr",
     "output_type": "stream",
     "text": [
      "  4%|▎         | 504/13533 [38:34<15:40:59,  4.33s/it]"
     ]
    },
    {
     "name": "stdout",
     "output_type": "stream",
     "text": [
      "Done.\n",
      "Searching for songs by Jon Bon Jovi...\n",
      "\n",
      "Done. Found 0 songs.\n",
      "Searching for \"Miracle (From \"Young Guns II\")\" by Jon Bon Jovi...\n"
     ]
    },
    {
     "name": "stderr",
     "output_type": "stream",
     "text": [
      "  4%|▎         | 505/13533 [38:37<14:00:47,  3.87s/it]"
     ]
    },
    {
     "name": "stdout",
     "output_type": "stream",
     "text": [
      "Done.\n",
      "Searching for songs by Richard Marx...\n",
      "\n",
      "Done. Found 0 songs.\n",
      "Searching for \"Too Late To Say Goodbye\" by Richard Marx...\n"
     ]
    },
    {
     "name": "stderr",
     "output_type": "stream",
     "text": [
      "  4%|▎         | 506/13533 [38:42<15:12:17,  4.20s/it]"
     ]
    },
    {
     "name": "stdout",
     "output_type": "stream",
     "text": [
      "Done.\n",
      "Searching for songs by Richard Marx...\n",
      "\n",
      "Done. Found 0 songs.\n",
      "Searching for \"Children Of The Night\" by Richard Marx...\n"
     ]
    },
    {
     "name": "stderr",
     "output_type": "stream",
     "text": [
      "  4%|▎         | 507/13533 [38:46<14:42:13,  4.06s/it]"
     ]
    },
    {
     "name": "stdout",
     "output_type": "stream",
     "text": [
      "Done.\n",
      "Searching for songs by Seduction...\n",
      "\n",
      "Done. Found 0 songs.\n",
      "Searching for \"Heartbeat\" by Seduction...\n"
     ]
    },
    {
     "name": "stderr",
     "output_type": "stream",
     "text": [
      "  4%|▍         | 508/13533 [38:49<13:53:25,  3.84s/it]"
     ]
    },
    {
     "name": "stdout",
     "output_type": "stream",
     "text": [
      "Done.\n",
      "Searching for songs by Sweet Sensation...\n",
      "\n",
      "Done. Found 0 songs.\n",
      "Searching for \"Love Child\" by Sweet Sensation...\n"
     ]
    },
    {
     "name": "stderr",
     "output_type": "stream",
     "text": [
      "  4%|▍         | 509/13533 [38:53<13:41:40,  3.79s/it]"
     ]
    },
    {
     "name": "stdout",
     "output_type": "stream",
     "text": [
      "Done.\n",
      "Searching for songs by Michael Penn...\n",
      "\n",
      "Done. Found 0 songs.\n",
      "Searching for \"No Myth\" by Michael Penn...\n"
     ]
    },
    {
     "name": "stderr",
     "output_type": "stream",
     "text": [
      "  4%|▍         | 510/13533 [38:58<15:49:14,  4.37s/it]"
     ]
    },
    {
     "name": "stdout",
     "output_type": "stream",
     "text": [
      "Done.\n",
      "Searching for songs by Heart...\n",
      "\n",
      "Changing artist name to 'The Beatles'\n",
      "Done. Found 0 songs.\n",
      "Searching for \"Stranded\" by The Beatles...\n"
     ]
    },
    {
     "name": "stderr",
     "output_type": "stream",
     "text": [
      "  4%|▍         | 511/13533 [39:03<15:52:52,  4.39s/it]"
     ]
    },
    {
     "name": "stdout",
     "output_type": "stream",
     "text": [
      "Done.\n",
      "Searching for songs by Partners In Kryme...\n",
      "\n",
      "Changing artist name to 'Partnerz In Kryme'\n",
      "Done. Found 0 songs.\n",
      "Searching for \"Turtle Power\" by Partnerz In Kryme...\n"
     ]
    },
    {
     "name": "stderr",
     "output_type": "stream",
     "text": [
      "  4%|▍         | 512/13533 [39:09<17:13:57,  4.76s/it]"
     ]
    },
    {
     "name": "stdout",
     "output_type": "stream",
     "text": [
      "Done.\n",
      "Searching for songs by Soho...\n",
      "\n",
      "Changing artist name to 'Dice SoHo'\n",
      "Done. Found 0 songs.\n",
      "Searching for \"Hippychick\" by Dice SoHo...\n"
     ]
    },
    {
     "name": "stderr",
     "output_type": "stream",
     "text": [
      "  4%|▍         | 513/13533 [39:13<17:09:17,  4.74s/it]"
     ]
    },
    {
     "name": "stdout",
     "output_type": "stream",
     "text": [
      "Done.\n",
      "Searching for songs by Keith Sweat...\n",
      "\n",
      "Done. Found 0 songs.\n",
      "Searching for \"Make You Sweat\" by Keith Sweat...\n"
     ]
    },
    {
     "name": "stderr",
     "output_type": "stream",
     "text": [
      "  4%|▍         | 514/13533 [39:18<17:25:40,  4.82s/it]"
     ]
    },
    {
     "name": "stdout",
     "output_type": "stream",
     "text": [
      "Done.\n",
      "Searching for songs by Mellow Man Ace...\n",
      "\n",
      "Done. Found 0 songs.\n",
      "Searching for \"Mentirosa\" by Mellow Man Ace...\n"
     ]
    },
    {
     "name": "stderr",
     "output_type": "stream",
     "text": [
      "  4%|▍         | 515/13533 [39:24<18:11:51,  5.03s/it]"
     ]
    },
    {
     "name": "stdout",
     "output_type": "stream",
     "text": [
      "Done.\n",
      "Searching for songs by Babyface...\n",
      "\n",
      "Done. Found 0 songs.\n",
      "Searching for \"Tender Lover\" by Babyface...\n"
     ]
    },
    {
     "name": "stderr",
     "output_type": "stream",
     "text": [
      "  4%|▍         | 516/13533 [39:27<16:06:58,  4.46s/it]"
     ]
    },
    {
     "name": "stdout",
     "output_type": "stream",
     "text": [
      "Done.\n",
      "Searching for songs by Kyper...\n",
      "\n",
      "Done. Found 0 songs.\n",
      "Searching for \"Tic-Tac-Toe\" by Kyper...\n"
     ]
    },
    {
     "name": "stderr",
     "output_type": "stream",
     "text": [
      "  4%|▍         | 517/13533 [39:32<16:56:01,  4.68s/it]"
     ]
    },
    {
     "name": "stdout",
     "output_type": "stream",
     "text": [
      "Done.\n",
      "Searching for songs by Lisa Stansfield...\n",
      "\n",
      "Done. Found 0 songs.\n",
      "Searching for \"You Can't Deny It\" by Lisa Stansfield...\n"
     ]
    },
    {
     "name": "stderr",
     "output_type": "stream",
     "text": [
      "  4%|▍         | 518/13533 [39:36<15:40:19,  4.33s/it]"
     ]
    },
    {
     "name": "stdout",
     "output_type": "stream",
     "text": [
      "Done.\n",
      "Searching for songs by Stevie B...\n",
      "\n",
      "Done. Found 0 songs.\n",
      "Searching for \"Love And Emotion\" by Stevie B...\n"
     ]
    },
    {
     "name": "stderr",
     "output_type": "stream",
     "text": [
      "  4%|▍         | 519/13533 [39:40<15:25:49,  4.27s/it]"
     ]
    },
    {
     "name": "stdout",
     "output_type": "stream",
     "text": [
      "Done.\n",
      "Searching for songs by Depeche Mode...\n",
      "\n",
      "Done. Found 0 songs.\n",
      "Searching for \"Policy Of Truth\" by Depeche Mode...\n"
     ]
    },
    {
     "name": "stderr",
     "output_type": "stream",
     "text": [
      "  4%|▍         | 520/13533 [39:43<14:18:46,  3.96s/it]"
     ]
    },
    {
     "name": "stdout",
     "output_type": "stream",
     "text": [
      "Done.\n",
      "Searching for songs by 2 In A Room...\n",
      "\n",
      "Changing artist name to '2 in a Room'\n",
      "Done. Found 0 songs.\n",
      "Searching for \"Wiggle It\" by 2 in a Room...\n"
     ]
    },
    {
     "name": "stderr",
     "output_type": "stream",
     "text": [
      "  4%|▍         | 521/13533 [39:47<14:14:33,  3.94s/it]"
     ]
    },
    {
     "name": "stdout",
     "output_type": "stream",
     "text": [
      "Done.\n",
      "Searching for songs by Jude Cole...\n",
      "\n",
      "Done. Found 0 songs.\n",
      "Searching for \"Baby, It's Tonight\" by Jude Cole...\n"
     ]
    },
    {
     "name": "stderr",
     "output_type": "stream",
     "text": [
      "  4%|▍         | 522/13533 [39:52<15:20:17,  4.24s/it]"
     ]
    },
    {
     "name": "stdout",
     "output_type": "stream",
     "text": [
      "Done.\n",
      "Searching for songs by Adam Ant...\n",
      "\n",
      "Done. Found 0 songs.\n",
      "Searching for \"Room At The Top\" by Adam Ant...\n"
     ]
    },
    {
     "name": "stderr",
     "output_type": "stream",
     "text": [
      "  4%|▍         | 523/13533 [39:57<16:48:47,  4.65s/it]"
     ]
    },
    {
     "name": "stdout",
     "output_type": "stream",
     "text": [
      "Done.\n",
      "Searching for songs by Expose...\n",
      "\n",
      "Changing artist name to 'Exposé'\n",
      "Done. Found 0 songs.\n",
      "Searching for \"Your Baby Never Looked Good In Blue\" by Exposé...\n"
     ]
    },
    {
     "name": "stderr",
     "output_type": "stream",
     "text": [
      "  4%|▍         | 524/13533 [40:01<16:00:05,  4.43s/it]"
     ]
    },
    {
     "name": "stdout",
     "output_type": "stream",
     "text": [
      "Done.\n",
      "Searching for songs by Bruce Hornsby & The Range...\n",
      "\n",
      "Changing artist name to 'Bruce Hornsby and the Range'\n",
      "Done. Found 0 songs.\n",
      "Searching for \"Across The River\" by Bruce Hornsby and the Range...\n"
     ]
    },
    {
     "name": "stderr",
     "output_type": "stream",
     "text": [
      "  4%|▍         | 525/13533 [40:06<15:49:05,  4.38s/it]"
     ]
    },
    {
     "name": "stdout",
     "output_type": "stream",
     "text": [
      "Done.\n",
      "Searching for songs by Quincy Jones Featuring Ray Charles & Chaka Khan...\n",
      "\n"
     ]
    },
    {
     "name": "stderr",
     "output_type": "stream",
     "text": [
      "  4%|▍         | 526/13533 [40:06<12:03:33,  3.34s/it]"
     ]
    },
    {
     "name": "stdout",
     "output_type": "stream",
     "text": [
      "No results found for 'Quincy Jones Featuring Ray Charles & Chaka Khan'.\n",
      "Searching for songs by Steve Winwood...\n",
      "\n",
      "Done. Found 0 songs.\n",
      "Searching for \"One And Only Man\" by Steve Winwood...\n"
     ]
    },
    {
     "name": "stderr",
     "output_type": "stream",
     "text": [
      "  4%|▍         | 527/13533 [40:11<13:01:01,  3.60s/it]"
     ]
    },
    {
     "name": "stdout",
     "output_type": "stream",
     "text": [
      "Done.\n",
      "Searching for songs by Elton John...\n",
      "\n",
      "Done. Found 0 songs.\n",
      "Searching for \"Sacrifice\" by Elton John...\n"
     ]
    },
    {
     "name": "stderr",
     "output_type": "stream",
     "text": [
      "  4%|▍         | 528/13533 [40:14<12:58:59,  3.59s/it]"
     ]
    },
    {
     "name": "stdout",
     "output_type": "stream",
     "text": [
      "Done.\n",
      "Searching for songs by Motley Crue...\n",
      "\n",
      "Changing artist name to 'Mötley Crüe'\n",
      "Done. Found 0 songs.\n",
      "Searching for \"Don't Go Away Mad (Just Go Away)\" by Mötley Crüe...\n"
     ]
    },
    {
     "name": "stderr",
     "output_type": "stream",
     "text": [
      "  4%|▍         | 529/13533 [40:17<12:28:12,  3.45s/it]"
     ]
    },
    {
     "name": "stdout",
     "output_type": "stream",
     "text": [
      "Done.\n",
      "Searching for songs by Slaughter...\n",
      "\n",
      "Changing artist name to 'Slaughterhouse'\n",
      "Done. Found 0 songs.\n",
      "Searching for \"Fly To the Angels\" by Slaughterhouse...\n"
     ]
    },
    {
     "name": "stderr",
     "output_type": "stream",
     "text": [
      "  4%|▍         | 530/13533 [40:22<13:40:41,  3.79s/it]"
     ]
    },
    {
     "name": "stdout",
     "output_type": "stream",
     "text": [
      "Done.\n",
      "Searching for songs by Concrete Blonde...\n",
      "\n",
      "Done. Found 0 songs.\n",
      "Searching for \"Joey\" by Concrete Blonde...\n"
     ]
    },
    {
     "name": "stderr",
     "output_type": "stream",
     "text": [
      "  4%|▍         | 531/13533 [40:28<15:56:09,  4.41s/it]"
     ]
    },
    {
     "name": "stdout",
     "output_type": "stream",
     "text": [
      "Done.\n",
      "Searching for songs by Louie Louie...\n",
      "\n",
      "Changing artist name to 'Louie Louie!'\n",
      "Done. Found 0 songs.\n",
      "Searching for \"Sittin' In The Lap Of Luxury\" by Louie Louie!...\n"
     ]
    },
    {
     "name": "stderr",
     "output_type": "stream",
     "text": [
      "  4%|▍         | 532/13533 [40:32<15:52:35,  4.40s/it]"
     ]
    },
    {
     "name": "stdout",
     "output_type": "stream",
     "text": [
      "Done.\n",
      "Searching for songs by Luke Featuring The 2 Live Crew...\n",
      "\n"
     ]
    },
    {
     "name": "stderr",
     "output_type": "stream",
     "text": [
      "  4%|▍         | 533/13533 [40:33<12:30:18,  3.46s/it]"
     ]
    },
    {
     "name": "stdout",
     "output_type": "stream",
     "text": [
      "No results found for 'Luke Featuring The 2 Live Crew'.\n",
      "Searching for songs by Cher...\n",
      "\n",
      "Done. Found 0 songs.\n",
      "Searching for \"Heart Of Stone\" by Cher...\n"
     ]
    },
    {
     "name": "stderr",
     "output_type": "stream",
     "text": [
      "  4%|▍         | 534/13533 [40:38<13:46:55,  3.82s/it]"
     ]
    },
    {
     "name": "stdout",
     "output_type": "stream",
     "text": [
      "Done.\n",
      "Searching for songs by Giant...\n",
      "\n",
      "Changing artist name to 'Young the Giant'\n",
      "Done. Found 0 songs.\n",
      "Searching for \"I'll See You In My Dreams\" by Young the Giant...\n"
     ]
    },
    {
     "name": "stderr",
     "output_type": "stream",
     "text": [
      "  4%|▍         | 535/13533 [40:41<13:13:23,  3.66s/it]"
     ]
    },
    {
     "name": "stdout",
     "output_type": "stream",
     "text": [
      "Done.\n",
      "Searching for songs by Madonna...\n",
      "\n",
      "Done. Found 0 songs.\n",
      "Searching for \"Oh Father\" by Madonna...\n"
     ]
    },
    {
     "name": "stderr",
     "output_type": "stream",
     "text": [
      "  4%|▍         | 536/13533 [40:46<14:19:01,  3.97s/it]"
     ]
    },
    {
     "name": "stdout",
     "output_type": "stream",
     "text": [
      "Done.\n",
      "Searching for songs by Warrant...\n",
      "\n",
      "Done. Found 0 songs.\n",
      "Searching for \"Sometimes She Cries\" by Warrant...\n"
     ]
    },
    {
     "name": "stderr",
     "output_type": "stream",
     "text": [
      "  4%|▍         | 537/13533 [40:49<13:11:39,  3.65s/it]"
     ]
    },
    {
     "name": "stdout",
     "output_type": "stream",
     "text": [
      "Done.\n",
      "Searching for songs by Donny Osmond...\n",
      "\n",
      "Done. Found 0 songs.\n",
      "Searching for \"My Love Is A Fire\" by Donny Osmond...\n"
     ]
    },
    {
     "name": "stderr",
     "output_type": "stream",
     "text": [
      "  4%|▍         | 538/13533 [40:53<13:23:09,  3.71s/it]"
     ]
    },
    {
     "name": "stdout",
     "output_type": "stream",
     "text": [
      "Done.\n",
      "Searching for songs by Nikki...\n",
      "\n",
      "Changing artist name to 'Nikki Giovanni'\n",
      "Done. Found 0 songs.\n",
      "Searching for \"Notice Me\" by Nikki Giovanni...\n"
     ]
    },
    {
     "name": "stderr",
     "output_type": "stream",
     "text": [
      "  4%|▍         | 539/13533 [40:57<14:16:57,  3.96s/it]"
     ]
    },
    {
     "name": "stdout",
     "output_type": "stream",
     "text": [
      "Done.\n",
      "Searching for songs by Bad English...\n",
      "\n",
      "Done. Found 0 songs.\n",
      "Searching for \"Possession\" by Bad English...\n"
     ]
    },
    {
     "name": "stderr",
     "output_type": "stream",
     "text": [
      "  4%|▍         | 540/13533 [41:02<15:25:53,  4.28s/it]"
     ]
    },
    {
     "name": "stdout",
     "output_type": "stream",
     "text": [
      "Done.\n",
      "Searching for songs by Breathe...\n",
      "\n",
      "Changing artist name to '​breathe.'\n",
      "Done. Found 0 songs.\n",
      "Searching for \"Say A Prayer\" by ​breathe....\n"
     ]
    },
    {
     "name": "stderr",
     "output_type": "stream",
     "text": [
      "  4%|▍         | 541/13533 [41:07<15:41:44,  4.35s/it]"
     ]
    },
    {
     "name": "stdout",
     "output_type": "stream",
     "text": [
      "Done.\n",
      "Searching for songs by Don Henley...\n",
      "\n",
      "Done. Found 0 songs.\n",
      "Searching for \"The Heart Of The Matter\" by Don Henley...\n"
     ]
    },
    {
     "name": "stderr",
     "output_type": "stream",
     "text": [
      "  4%|▍         | 542/13533 [41:12<16:16:39,  4.51s/it]"
     ]
    },
    {
     "name": "stdout",
     "output_type": "stream",
     "text": [
      "Done.\n",
      "Searching for songs by Lisa Stansfield...\n",
      "\n",
      "Done. Found 0 songs.\n",
      "Searching for \"This Is The Right Time\" by Lisa Stansfield...\n"
     ]
    },
    {
     "name": "stderr",
     "output_type": "stream",
     "text": [
      "  4%|▍         | 543/13533 [41:15<15:08:18,  4.20s/it]"
     ]
    },
    {
     "name": "stdout",
     "output_type": "stream",
     "text": [
      "Done.\n",
      "Searching for songs by Aerosmith...\n",
      "\n",
      "Done. Found 0 songs.\n",
      "Searching for \"The Other Side\" by Aerosmith...\n"
     ]
    },
    {
     "name": "stderr",
     "output_type": "stream",
     "text": [
      "  4%|▍         | 544/13533 [41:18<13:51:00,  3.84s/it]"
     ]
    },
    {
     "name": "stdout",
     "output_type": "stream",
     "text": [
      "Done.\n",
      "Searching for songs by Heart...\n",
      "\n",
      "Changing artist name to 'The Beatles'\n",
      "Done. Found 0 songs.\n",
      "Searching for \"I Didn't Want To Need You\" by The Beatles...\n"
     ]
    },
    {
     "name": "stderr",
     "output_type": "stream",
     "text": [
      "  4%|▍         | 545/13533 [41:22<13:50:42,  3.84s/it]"
     ]
    },
    {
     "name": "stdout",
     "output_type": "stream",
     "text": [
      "Done.\n",
      "Searching for songs by The U-Krew...\n",
      "\n"
     ]
    },
    {
     "name": "stderr",
     "output_type": "stream",
     "text": [
      "  4%|▍         | 546/13533 [41:23<10:21:15,  2.87s/it]"
     ]
    },
    {
     "name": "stdout",
     "output_type": "stream",
     "text": [
      "No results found for 'The U-Krew'.\n",
      "Searching for songs by Michael Damian...\n",
      "\n",
      "Done. Found 0 songs.\n",
      "Searching for \"Was It Nothing At All\" by Michael Damian...\n"
     ]
    },
    {
     "name": "stderr",
     "output_type": "stream",
     "text": [
      "  4%|▍         | 547/13533 [41:27<11:23:50,  3.16s/it]"
     ]
    },
    {
     "name": "stdout",
     "output_type": "stream",
     "text": [
      "Done.\n",
      "Searching for songs by George LaMond...\n",
      "\n",
      "Done. Found 0 songs.\n",
      "Searching for \"Bad Of The Heart\" by George LaMond...\n"
     ]
    },
    {
     "name": "stderr",
     "output_type": "stream",
     "text": [
      "  4%|▍         | 548/13533 [41:30<11:44:34,  3.26s/it]"
     ]
    },
    {
     "name": "stdout",
     "output_type": "stream",
     "text": [
      "Done.\n",
      "Searching for songs by The Adventures Of Stevie V...\n",
      "\n"
     ]
    },
    {
     "name": "stderr",
     "output_type": "stream",
     "text": [
      "  4%|▍         | 549/13533 [41:31<9:11:17,  2.55s/it] "
     ]
    },
    {
     "name": "stdout",
     "output_type": "stream",
     "text": [
      "No results found for 'The Adventures Of Stevie V'.\n",
      "Searching for songs by Bell Biv DeVoe...\n",
      "\n",
      "Done. Found 0 songs.\n",
      "Searching for \"B.B.D. (I Thought It Was Me)?\" by Bell Biv DeVoe...\n"
     ]
    },
    {
     "name": "stderr",
     "output_type": "stream",
     "text": [
      "  4%|▍         | 550/13533 [41:34<10:15:02,  2.84s/it]"
     ]
    },
    {
     "name": "stdout",
     "output_type": "stream",
     "text": [
      "Done.\n",
      "Searching for songs by Salt-N-Pepa...\n",
      "\n",
      "Done. Found 0 songs.\n",
      "Searching for \"Expression\" by Salt-N-Pepa...\n"
     ]
    },
    {
     "name": "stderr",
     "output_type": "stream",
     "text": [
      "  4%|▍         | 551/13533 [41:41<14:16:25,  3.96s/it]"
     ]
    },
    {
     "name": "stdout",
     "output_type": "stream",
     "text": [
      "Done.\n",
      "Searching for songs by Motley Crue...\n",
      "\n",
      "Changing artist name to 'Mötley Crüe'\n",
      "Done. Found 0 songs.\n",
      "Searching for \"Kickstart My Heart\" by Mötley Crüe...\n"
     ]
    },
    {
     "name": "stderr",
     "output_type": "stream",
     "text": [
      "  4%|▍         | 552/13533 [41:44<13:23:17,  3.71s/it]"
     ]
    },
    {
     "name": "stdout",
     "output_type": "stream",
     "text": [
      "Done.\n",
      "Searching for songs by David Cassidy...\n",
      "\n",
      "Done. Found 0 songs.\n",
      "Searching for \"Lyin' To Myself\" by David Cassidy...\n"
     ]
    },
    {
     "name": "stderr",
     "output_type": "stream",
     "text": [
      "  4%|▍         | 553/13533 [41:48<13:51:31,  3.84s/it]"
     ]
    },
    {
     "name": "stdout",
     "output_type": "stream",
     "text": [
      "Done.\n",
      "Searching for songs by Brother Beyond...\n",
      "\n",
      "Done. Found 0 songs.\n",
      "Searching for \"The Girl I Used To Know\" by Brother Beyond...\n"
     ]
    },
    {
     "name": "stderr",
     "output_type": "stream",
     "text": [
      "  4%|▍         | 554/13533 [41:53<14:31:26,  4.03s/it]"
     ]
    },
    {
     "name": "stdout",
     "output_type": "stream",
     "text": [
      "Done.\n",
      "Searching for songs by Slaughter...\n",
      "\n",
      "Changing artist name to 'Slaughterhouse'\n",
      "Done. Found 0 songs.\n",
      "Searching for \"Up All Night\" by Slaughterhouse...\n"
     ]
    },
    {
     "name": "stderr",
     "output_type": "stream",
     "text": [
      "  4%|▍         | 555/13533 [41:58<15:30:33,  4.30s/it]"
     ]
    },
    {
     "name": "stdout",
     "output_type": "stream",
     "text": [
      "Done.\n",
      "Searching for songs by Elton John...\n",
      "\n",
      "Done. Found 0 songs.\n",
      "Searching for \"Club At The End Of The Street\" by Elton John...\n"
     ]
    },
    {
     "name": "stderr",
     "output_type": "stream",
     "text": [
      "  4%|▍         | 556/13533 [42:01<14:42:04,  4.08s/it]"
     ]
    },
    {
     "name": "stdout",
     "output_type": "stream",
     "text": [
      "Done.\n",
      "Searching for songs by Johnny Gill...\n",
      "\n",
      "Done. Found 0 songs.\n",
      "Searching for \"Fairweather Friend\" by Johnny Gill...\n"
     ]
    },
    {
     "name": "stderr",
     "output_type": "stream",
     "text": [
      "  4%|▍         | 557/13533 [42:05<14:33:08,  4.04s/it]"
     ]
    },
    {
     "name": "stdout",
     "output_type": "stream",
     "text": [
      "Done.\n",
      "Searching for songs by Faster Pussycat...\n",
      "\n",
      "Done. Found 0 songs.\n",
      "Searching for \"House Of Pain\" by Faster Pussycat...\n"
     ]
    },
    {
     "name": "stderr",
     "output_type": "stream",
     "text": [
      "  4%|▍         | 558/13533 [42:09<13:50:33,  3.84s/it]"
     ]
    },
    {
     "name": "stdout",
     "output_type": "stream",
     "text": [
      "Done.\n",
      "Searching for songs by Depeche Mode...\n",
      "\n",
      "Done. Found 0 songs.\n",
      "Searching for \"Personal Jesus\" by Depeche Mode...\n"
     ]
    },
    {
     "name": "stderr",
     "output_type": "stream",
     "text": [
      "  4%|▍         | 559/13533 [42:12<13:20:01,  3.70s/it]"
     ]
    },
    {
     "name": "stdout",
     "output_type": "stream",
     "text": [
      "Done.\n",
      "Searching for songs by Whitesnake...\n",
      "\n",
      "Done. Found 0 songs.\n",
      "Searching for \"The Deeper The Love\" by Whitesnake...\n"
     ]
    },
    {
     "name": "stderr",
     "output_type": "stream",
     "text": [
      "  4%|▍         | 560/13533 [42:15<13:06:17,  3.64s/it]"
     ]
    },
    {
     "name": "stdout",
     "output_type": "stream",
     "text": [
      "Done.\n",
      "Searching for songs by Information Society...\n",
      "\n",
      "Done. Found 0 songs.\n",
      "Searching for \"Think\" by Information Society...\n"
     ]
    },
    {
     "name": "stderr",
     "output_type": "stream",
     "text": [
      "  4%|▍         | 561/13533 [42:20<14:06:22,  3.91s/it]"
     ]
    },
    {
     "name": "stdout",
     "output_type": "stream",
     "text": [
      "Done.\n",
      "Searching for songs by Kevin Paige...\n",
      "\n",
      "Done. Found 0 songs.\n",
      "Searching for \"Anything I Want\" by Kevin Paige...\n"
     ]
    },
    {
     "name": "stderr",
     "output_type": "stream",
     "text": [
      "  4%|▍         | 562/13533 [42:25<14:50:41,  4.12s/it]"
     ]
    },
    {
     "name": "stdout",
     "output_type": "stream",
     "text": [
      "Done.\n",
      "Searching for songs by The Boys...\n",
      "\n",
      "Changing artist name to 'The Boys Choir of Harlem'\n",
      "Done. Found 0 songs.\n",
      "Searching for \"Crazy\" by The Boys Choir of Harlem...\n"
     ]
    },
    {
     "name": "stderr",
     "output_type": "stream",
     "text": [
      "  4%|▍         | 563/13533 [42:29<14:46:32,  4.10s/it]"
     ]
    },
    {
     "name": "stdout",
     "output_type": "stream",
     "text": [
      "Done.\n",
      "Searching for songs by Basia...\n",
      "\n",
      "Done. Found 0 songs.\n",
      "Searching for \"Cruising For Bruising\" by Basia...\n"
     ]
    },
    {
     "name": "stderr",
     "output_type": "stream",
     "text": [
      "  4%|▍         | 564/13533 [42:32<13:45:30,  3.82s/it]"
     ]
    },
    {
     "name": "stdout",
     "output_type": "stream",
     "text": [
      "Done.\n",
      "Searching for songs by Stevie B...\n",
      "\n",
      "Done. Found 0 songs.\n",
      "Searching for \"Love Me For Life\" by Stevie B...\n"
     ]
    },
    {
     "name": "stderr",
     "output_type": "stream",
     "text": [
      "  4%|▍         | 565/13533 [42:35<12:51:31,  3.57s/it]"
     ]
    },
    {
     "name": "stdout",
     "output_type": "stream",
     "text": [
      "Done.\n",
      "Searching for songs by Michel'le...\n",
      "\n",
      "Changing artist name to 'Michelle Ingrid Williams'\n",
      "Done. Found 0 songs.\n",
      "Searching for \"Nicety\" by Michelle Ingrid Williams...\n"
     ]
    },
    {
     "name": "stderr",
     "output_type": "stream",
     "text": [
      "  4%|▍         | 566/13533 [42:37<10:57:05,  3.04s/it]"
     ]
    },
    {
     "name": "stdout",
     "output_type": "stream",
     "text": [
      "No results found for: 'Nicety Michelle Ingrid Williams'\n",
      "Searching for songs by The B-52s...\n",
      "\n",
      "Changing artist name to 'The B-52's'\n",
      "Done. Found 0 songs.\n",
      "Searching for \"Deadbeat Club\" by The B-52's...\n"
     ]
    },
    {
     "name": "stderr",
     "output_type": "stream",
     "text": [
      "  4%|▍         | 567/13533 [42:41<12:47:04,  3.55s/it]"
     ]
    },
    {
     "name": "stdout",
     "output_type": "stream",
     "text": [
      "Done.\n",
      "Searching for songs by Babyface...\n",
      "\n",
      "Done. Found 0 songs.\n",
      "Searching for \"My Kinda Girl\" by Babyface...\n"
     ]
    },
    {
     "name": "stderr",
     "output_type": "stream",
     "text": [
      "  4%|▍         | 568/13533 [42:45<12:22:19,  3.44s/it]"
     ]
    },
    {
     "name": "stdout",
     "output_type": "stream",
     "text": [
      "Done.\n",
      "Searching for songs by Belinda Carlisle...\n",
      "\n",
      "Done. Found 0 songs.\n",
      "Searching for \"Summer Rain\" by Belinda Carlisle...\n"
     ]
    },
    {
     "name": "stderr",
     "output_type": "stream",
     "text": [
      "  4%|▍         | 569/13533 [42:50<14:23:17,  4.00s/it]"
     ]
    },
    {
     "name": "stdout",
     "output_type": "stream",
     "text": [
      "Done.\n",
      "Searching for songs by Lightning Seeds...\n",
      "\n",
      "Changing artist name to 'Baddiel, Skinner & The Lightning Seeds'\n",
      "Done. Found 0 songs.\n",
      "Searching for \"Pure\" by Baddiel, Skinner & The Lightning Seeds...\n"
     ]
    },
    {
     "name": "stderr",
     "output_type": "stream",
     "text": [
      "  4%|▍         | 570/13533 [42:52<12:38:44,  3.51s/it]"
     ]
    },
    {
     "name": "stdout",
     "output_type": "stream",
     "text": [
      "No results found for: 'Pure Baddiel, Skinner & The Lightning Seeds'\n",
      "Searching for songs by Indecent Obsession...\n",
      "\n",
      "Done. Found 0 songs.\n",
      "Searching for \"Tell Me Something\" by Indecent Obsession...\n"
     ]
    },
    {
     "name": "stderr",
     "output_type": "stream",
     "text": [
      "  4%|▍         | 571/13533 [42:57<13:34:14,  3.77s/it]"
     ]
    },
    {
     "name": "stdout",
     "output_type": "stream",
     "text": [
      "Done.\n",
      "Searching for songs by Quincy Jones...\n",
      "\n",
      "Done. Found 0 songs.\n",
      "Searching for \"The Secret Garden\" by Quincy Jones...\n"
     ]
    },
    {
     "name": "stderr",
     "output_type": "stream",
     "text": [
      "  4%|▍         | 572/13533 [43:01<13:52:45,  3.86s/it]"
     ]
    },
    {
     "name": "stdout",
     "output_type": "stream",
     "text": [
      "Done.\n",
      "Searching for songs by Glenn Medeiros Featuring Ray Parker, Jr....\n",
      "\n"
     ]
    },
    {
     "name": "stderr",
     "output_type": "stream",
     "text": [
      "  4%|▍         | 573/13533 [43:01<10:35:32,  2.94s/it]"
     ]
    },
    {
     "name": "stdout",
     "output_type": "stream",
     "text": [
      "No results found for 'Glenn Medeiros Featuring Ray Parker, Jr.'.\n",
      "Searching for songs by Brent Bourgeois...\n",
      "\n",
      "Done. Found 0 songs.\n",
      "Searching for \"Dare To Fall In Love\" by Brent Bourgeois...\n"
     ]
    },
    {
     "name": "stderr",
     "output_type": "stream",
     "text": [
      "  4%|▍         | 574/13533 [43:07<13:31:30,  3.76s/it]"
     ]
    },
    {
     "name": "stdout",
     "output_type": "stream",
     "text": [
      "Done.\n",
      "Searching for songs by The Human League...\n",
      "\n",
      "Done. Found 0 songs.\n",
      "Searching for \"Heart Like A Wheel\" by The Human League...\n"
     ]
    },
    {
     "name": "stderr",
     "output_type": "stream",
     "text": [
      "  4%|▍         | 575/13533 [43:11<14:03:04,  3.90s/it]"
     ]
    },
    {
     "name": "stdout",
     "output_type": "stream",
     "text": [
      "Done.\n",
      "Searching for songs by Jude Cole...\n",
      "\n",
      "Done. Found 0 songs.\n",
      "Searching for \"Time For Letting Go\" by Jude Cole...\n"
     ]
    },
    {
     "name": "stderr",
     "output_type": "stream",
     "text": [
      "  4%|▍         | 576/13533 [43:15<13:13:44,  3.68s/it]"
     ]
    },
    {
     "name": "stdout",
     "output_type": "stream",
     "text": [
      "Done.\n",
      "Searching for songs by Young M.C....\n",
      "\n",
      "Changing artist name to 'Young MC'\n",
      "Done. Found 0 songs.\n",
      "Searching for \"Principal's Office\" by Young MC...\n"
     ]
    },
    {
     "name": "stderr",
     "output_type": "stream",
     "text": [
      "  4%|▍         | 577/13533 [43:19<13:39:49,  3.80s/it]"
     ]
    },
    {
     "name": "stdout",
     "output_type": "stream",
     "text": [
      "Done.\n",
      "Searching for songs by Fleetwood Mac...\n",
      "\n",
      "Done. Found 0 songs.\n",
      "Searching for \"Save Me\" by Fleetwood Mac...\n"
     ]
    },
    {
     "name": "stderr",
     "output_type": "stream",
     "text": [
      "  4%|▍         | 578/13533 [43:24<15:11:04,  4.22s/it]"
     ]
    },
    {
     "name": "stdout",
     "output_type": "stream",
     "text": [
      "Done.\n",
      "Searching for songs by L.A. Guns...\n",
      "\n",
      "Done. Found 0 songs.\n",
      "Searching for \"The Ballad Of Jayne\" by L.A. Guns...\n"
     ]
    },
    {
     "name": "stderr",
     "output_type": "stream",
     "text": [
      "  4%|▍         | 579/13533 [43:30<16:49:21,  4.68s/it]"
     ]
    },
    {
     "name": "stdout",
     "output_type": "stream",
     "text": [
      "Done.\n",
      "Searching for songs by Natalie Cole...\n",
      "\n",
      "Done. Found 0 songs.\n",
      "Searching for \"Wild Women Do (From \"Pretty Woman\")\" by Natalie Cole...\n"
     ]
    },
    {
     "name": "stderr",
     "output_type": "stream",
     "text": [
      "  4%|▍         | 580/13533 [43:34<16:36:40,  4.62s/it]"
     ]
    },
    {
     "name": "stdout",
     "output_type": "stream",
     "text": [
      "Done.\n",
      "Searching for songs by Whistle...\n",
      "\n",
      "Done. Found 0 songs.\n",
      "Searching for \"Always And Forever\" by Whistle...\n"
     ]
    },
    {
     "name": "stderr",
     "output_type": "stream",
     "text": [
      "  4%|▍         | 581/13533 [43:38<16:24:19,  4.56s/it]"
     ]
    },
    {
     "name": "stdout",
     "output_type": "stream",
     "text": [
      "Done.\n",
      "Searching for songs by Del Amitri...\n",
      "\n",
      "Done. Found 0 songs.\n",
      "Searching for \"Kiss This Thing Goodbye\" by Del Amitri...\n"
     ]
    },
    {
     "name": "stderr",
     "output_type": "stream",
     "text": [
      "  4%|▍         | 582/13533 [43:43<16:10:19,  4.50s/it]"
     ]
    },
    {
     "name": "stdout",
     "output_type": "stream",
     "text": [
      "Done.\n",
      "Searching for songs by Snap!...\n",
      "\n",
      "Done. Found 0 songs.\n",
      "Searching for \"Ooops Up\" by Snap!...\n"
     ]
    },
    {
     "name": "stderr",
     "output_type": "stream",
     "text": [
      "  4%|▍         | 583/13533 [43:47<15:48:17,  4.39s/it]"
     ]
    },
    {
     "name": "stdout",
     "output_type": "stream",
     "text": [
      "Done.\n",
      "Searching for songs by The West Coast Rap All-Stars...\n",
      "\n",
      "Changing artist name to 'The West Coast Rap All Stars'\n",
      "Done. Found 0 songs.\n",
      "Searching for \"We're All In the Same Gang\" by The West Coast Rap All Stars...\n"
     ]
    },
    {
     "name": "stderr",
     "output_type": "stream",
     "text": [
      "  4%|▍         | 584/13533 [43:52<16:18:55,  4.54s/it]"
     ]
    },
    {
     "name": "stdout",
     "output_type": "stream",
     "text": [
      "Done.\n",
      "Searching for songs by Joan Jett...\n",
      "\n",
      "Done. Found 0 songs.\n",
      "Searching for \"Dirty Deeds\" by Joan Jett...\n"
     ]
    },
    {
     "name": "stderr",
     "output_type": "stream",
     "text": [
      "  4%|▍         | 585/13533 [43:57<17:11:49,  4.78s/it]"
     ]
    },
    {
     "name": "stdout",
     "output_type": "stream",
     "text": [
      "Done.\n",
      "Searching for songs by Michael Bolton...\n",
      "\n",
      "Done. Found 0 songs.\n",
      "Searching for \"Georgia On My Mind\" by Michael Bolton...\n"
     ]
    },
    {
     "name": "stderr",
     "output_type": "stream",
     "text": [
      "  4%|▍         | 586/13533 [44:01<15:47:06,  4.39s/it]"
     ]
    },
    {
     "name": "stdout",
     "output_type": "stream",
     "text": [
      "Done.\n",
      "Searching for songs by Alannah Myles...\n",
      "\n",
      "Done. Found 0 songs.\n",
      "Searching for \"Love Is\" by Alannah Myles...\n"
     ]
    },
    {
     "name": "stderr",
     "output_type": "stream",
     "text": [
      "  4%|▍         | 587/13533 [44:06<16:44:05,  4.65s/it]"
     ]
    },
    {
     "name": "stdout",
     "output_type": "stream",
     "text": [
      "Done.\n",
      "Searching for songs by Tears For Fears...\n",
      "\n",
      "Changing artist name to 'Tears for Fears'\n",
      "Done. Found 0 songs.\n",
      "Searching for \"Woman In Chains\" by Tears for Fears...\n"
     ]
    },
    {
     "name": "stderr",
     "output_type": "stream",
     "text": [
      "  4%|▍         | 588/13533 [44:10<15:37:01,  4.34s/it]"
     ]
    },
    {
     "name": "stdout",
     "output_type": "stream",
     "text": [
      "Done.\n",
      "Searching for songs by The Brat Pack...\n",
      "\n",
      "Changing artist name to 'PACYE ON THE BEAT'\n",
      "Done. Found 0 songs.\n",
      "Searching for \"You're The Only Woman\" by PACYE ON THE BEAT...\n"
     ]
    },
    {
     "name": "stderr",
     "output_type": "stream",
     "text": [
      "  4%|▍         | 589/13533 [44:16<17:28:15,  4.86s/it]"
     ]
    },
    {
     "name": "stdout",
     "output_type": "stream",
     "text": [
      "Done.\n",
      "Searching for songs by Corey Hart...\n",
      "\n",
      "Done. Found 0 songs.\n",
      "Searching for \"A Little Love\" by Corey Hart...\n"
     ]
    },
    {
     "name": "stderr",
     "output_type": "stream",
     "text": [
      "  4%|▍         | 590/13533 [44:20<17:06:05,  4.76s/it]"
     ]
    },
    {
     "name": "stdout",
     "output_type": "stream",
     "text": [
      "Done.\n",
      "Searching for songs by Billy Joel...\n",
      "\n",
      "Done. Found 0 songs.\n",
      "Searching for \"And So It Goes\" by Billy Joel...\n"
     ]
    },
    {
     "name": "stderr",
     "output_type": "stream",
     "text": [
      "  4%|▍         | 591/13533 [44:25<16:43:18,  4.65s/it]"
     ]
    },
    {
     "name": "stdout",
     "output_type": "stream",
     "text": [
      "Done.\n",
      "Searching for songs by The Smithereens...\n",
      "\n",
      "Done. Found 0 songs.\n",
      "Searching for \"A Girl Like You\" by The Smithereens...\n"
     ]
    },
    {
     "name": "stderr",
     "output_type": "stream",
     "text": [
      "  4%|▍         | 592/13533 [44:31<18:46:01,  5.22s/it]"
     ]
    },
    {
     "name": "stdout",
     "output_type": "stream",
     "text": [
      "Done.\n",
      "Searching for songs by Electronic...\n",
      "\n",
      "Changing artist name to 'Jay Electronica'\n",
      "Done. Found 0 songs.\n",
      "Searching for \"Getting Away With It\" by Jay Electronica...\n"
     ]
    },
    {
     "name": "stderr",
     "output_type": "stream",
     "text": [
      "  4%|▍         | 593/13533 [44:36<18:49:55,  5.24s/it]"
     ]
    },
    {
     "name": "stdout",
     "output_type": "stream",
     "text": [
      "Done.\n",
      "Searching for songs by En Vogue...\n",
      "\n",
      "Done. Found 0 songs.\n",
      "Searching for \"Lies\" by En Vogue...\n"
     ]
    },
    {
     "name": "stderr",
     "output_type": "stream",
     "text": [
      "  4%|▍         | 594/13533 [44:41<17:48:57,  4.96s/it]"
     ]
    },
    {
     "name": "stdout",
     "output_type": "stream",
     "text": [
      "Done.\n",
      "Searching for songs by Poco...\n",
      "\n",
      "Done. Found 0 songs.\n",
      "Searching for \"Nothin' To Hide\" by Poco...\n"
     ]
    },
    {
     "name": "stderr",
     "output_type": "stream",
     "text": [
      "  4%|▍         | 595/13533 [44:45<16:56:37,  4.71s/it]"
     ]
    },
    {
     "name": "stdout",
     "output_type": "stream",
     "text": [
      "Done.\n",
      "Searching for songs by Tina Turner...\n",
      "\n",
      "Done. Found 0 songs.\n",
      "Searching for \"Steamy Windows\" by Tina Turner...\n"
     ]
    },
    {
     "name": "stderr",
     "output_type": "stream",
     "text": [
      "  4%|▍         | 596/13533 [44:49<16:30:06,  4.59s/it]"
     ]
    },
    {
     "name": "stdout",
     "output_type": "stream",
     "text": [
      "Done.\n",
      "Searching for songs by Shana...\n",
      "\n",
      "Changing artist name to 'Ari Lennox'\n",
      "Done. Found 0 songs.\n",
      "Searching for \"I Want You\" by Ari Lennox...\n"
     ]
    },
    {
     "name": "stderr",
     "output_type": "stream",
     "text": [
      "  4%|▍         | 597/13533 [44:53<15:50:05,  4.41s/it]"
     ]
    },
    {
     "name": "stdout",
     "output_type": "stream",
     "text": [
      "Done.\n",
      "Searching for songs by Timmy T....\n",
      "\n",
      "Changing artist name to 'Timbaland'\n",
      "Done. Found 0 songs.\n",
      "Searching for \"Time After Time\" by Timbaland...\n"
     ]
    },
    {
     "name": "stderr",
     "output_type": "stream",
     "text": [
      "  4%|▍         | 598/13533 [44:57<15:42:54,  4.37s/it]"
     ]
    },
    {
     "name": "stdout",
     "output_type": "stream",
     "text": [
      "Done.\n",
      "Searching for songs by Lou Gramm...\n",
      "\n",
      "Done. Found 0 songs.\n",
      "Searching for \"True Blue Love\" by Lou Gramm...\n"
     ]
    },
    {
     "name": "stderr",
     "output_type": "stream",
     "text": [
      "  4%|▍         | 599/13533 [45:01<15:04:41,  4.20s/it]"
     ]
    },
    {
     "name": "stdout",
     "output_type": "stream",
     "text": [
      "Done.\n",
      "Searching for songs by Winger...\n",
      "\n",
      "Done. Found 0 songs.\n",
      "Searching for \"Can't Get Enuff\" by Winger...\n"
     ]
    },
    {
     "name": "stderr",
     "output_type": "stream",
     "text": [
      "  4%|▍         | 600/13533 [45:05<14:11:31,  3.95s/it]"
     ]
    },
    {
     "name": "stdout",
     "output_type": "stream",
     "text": [
      "Done.\n",
      "Searching for songs by Kid Frost...\n",
      "\n",
      "Changing artist name to 'OG Kid Frost'\n",
      "Done. Found 0 songs.\n",
      "Searching for \"La Raza\" by OG Kid Frost...\n"
     ]
    },
    {
     "name": "stderr",
     "output_type": "stream",
     "text": [
      "  4%|▍         | 601/13533 [45:09<14:47:23,  4.12s/it]"
     ]
    },
    {
     "name": "stdout",
     "output_type": "stream",
     "text": [
      "Done.\n",
      "Searching for songs by Al B. Sure!...\n",
      "\n",
      "Done. Found 0 songs.\n",
      "Searching for \"Missunderstanding\" by Al B. Sure!...\n"
     ]
    },
    {
     "name": "stderr",
     "output_type": "stream",
     "text": [
      "  4%|▍         | 602/13533 [45:13<14:27:52,  4.03s/it]"
     ]
    },
    {
     "name": "stdout",
     "output_type": "stream",
     "text": [
      "Done.\n",
      "Searching for songs by Tommy Page...\n",
      "\n",
      "Done. Found 0 songs.\n",
      "Searching for \"When I Dream Of You\" by Tommy Page...\n"
     ]
    },
    {
     "name": "stderr",
     "output_type": "stream",
     "text": [
      "  4%|▍         | 603/13533 [45:18<15:18:38,  4.26s/it]"
     ]
    },
    {
     "name": "stdout",
     "output_type": "stream",
     "text": [
      "Done.\n",
      "Searching for songs by Regina Belle...\n",
      "\n",
      "Done. Found 0 songs.\n",
      "Searching for \"Make It Like It Was\" by Regina Belle...\n"
     ]
    },
    {
     "name": "stderr",
     "output_type": "stream",
     "text": [
      "  4%|▍         | 604/13533 [45:22<15:28:56,  4.31s/it]"
     ]
    },
    {
     "name": "stdout",
     "output_type": "stream",
     "text": [
      "Done.\n",
      "Searching for songs by Gloria Estefan...\n",
      "\n",
      "Done. Found 0 songs.\n",
      "Searching for \"Cuts Both Ways\" by Gloria Estefan...\n"
     ]
    },
    {
     "name": "stderr",
     "output_type": "stream",
     "text": [
      "  4%|▍         | 605/13533 [45:27<16:17:05,  4.53s/it]"
     ]
    },
    {
     "name": "stdout",
     "output_type": "stream",
     "text": [
      "Done.\n",
      "Searching for songs by Vixen...\n",
      "\n",
      "Done. Found 0 songs.\n",
      "Searching for \"How Much Love\" by Vixen...\n"
     ]
    },
    {
     "name": "stderr",
     "output_type": "stream",
     "text": [
      "  4%|▍         | 606/13533 [45:30<14:34:24,  4.06s/it]"
     ]
    },
    {
     "name": "stdout",
     "output_type": "stream",
     "text": [
      "Done.\n",
      "Searching for songs by Jaya...\n",
      "\n",
      "Changing artist name to 'Harris Jayaraj'\n",
      "Done. Found 0 songs.\n",
      "Searching for \"If You Leave Me Now\" by Harris Jayaraj...\n"
     ]
    },
    {
     "name": "stderr",
     "output_type": "stream",
     "text": [
      "  4%|▍         | 607/13533 [45:33<12:49:54,  3.57s/it]"
     ]
    },
    {
     "name": "stdout",
     "output_type": "stream",
     "text": [
      "No results found for: 'If You Leave Me Now Harris Jayaraj'\n",
      "Searching for songs by Anita Baker...\n",
      "\n",
      "Done. Found 0 songs.\n",
      "Searching for \"Talk To Me\" by Anita Baker...\n"
     ]
    },
    {
     "name": "stderr",
     "output_type": "stream",
     "text": [
      "  4%|▍         | 608/13533 [45:37<13:24:35,  3.74s/it]"
     ]
    },
    {
     "name": "stdout",
     "output_type": "stream",
     "text": [
      "Done.\n",
      "Searching for songs by Tom Petty...\n",
      "\n",
      "Done. Found 0 songs.\n",
      "Searching for \"A Face In The Crowd\" by Tom Petty...\n"
     ]
    },
    {
     "name": "stderr",
     "output_type": "stream",
     "text": [
      "  5%|▍         | 609/13533 [45:41<13:36:09,  3.79s/it]"
     ]
    },
    {
     "name": "stdout",
     "output_type": "stream",
     "text": [
      "Done.\n",
      "Searching for songs by Robert Plant...\n",
      "\n",
      "Done. Found 0 songs.\n",
      "Searching for \"Hurting Kind (I've Got My Eyes On You)\" by Robert Plant...\n"
     ]
    },
    {
     "name": "stderr",
     "output_type": "stream",
     "text": [
      "  5%|▍         | 610/13533 [45:45<14:45:12,  4.11s/it]"
     ]
    },
    {
     "name": "stdout",
     "output_type": "stream",
     "text": [
      "Done.\n",
      "Searching for songs by Sydney Youngblood...\n",
      "\n",
      "Done. Found 0 songs.\n",
      "Searching for \"I'd Rather Go Blind\" by Sydney Youngblood...\n"
     ]
    },
    {
     "name": "stderr",
     "output_type": "stream",
     "text": [
      "  5%|▍         | 611/13533 [45:50<15:08:32,  4.22s/it]"
     ]
    },
    {
     "name": "stdout",
     "output_type": "stream",
     "text": [
      "Done.\n",
      "Searching for songs by Kaoma...\n",
      "\n",
      "Done. Found 0 songs.\n",
      "Searching for \"Lambada\" by Kaoma...\n"
     ]
    },
    {
     "name": "stderr",
     "output_type": "stream",
     "text": [
      "  5%|▍         | 612/13533 [45:56<17:10:39,  4.79s/it]"
     ]
    },
    {
     "name": "stdout",
     "output_type": "stream",
     "text": [
      "Done.\n",
      "Searching for songs by Tony Toni Tone...\n",
      "\n",
      "Changing artist name to 'Tony! Toni! Toné!'\n",
      "Done. Found 0 songs.\n",
      "Searching for \"The Blues\" by Tony! Toni! Toné!...\n"
     ]
    },
    {
     "name": "stderr",
     "output_type": "stream",
     "text": [
      "  5%|▍         | 613/13533 [46:00<16:12:16,  4.52s/it]"
     ]
    },
    {
     "name": "stdout",
     "output_type": "stream",
     "text": [
      "Done.\n",
      "Searching for songs by Troop...\n",
      "\n",
      "Done. Found 0 songs.\n",
      "Searching for \"All I Do Is Think Of You\" by Troop...\n"
     ]
    },
    {
     "name": "stderr",
     "output_type": "stream",
     "text": [
      "  5%|▍         | 614/13533 [46:05<17:00:55,  4.74s/it]"
     ]
    },
    {
     "name": "stdout",
     "output_type": "stream",
     "text": [
      "Done.\n",
      "Searching for songs by Midnight Oil...\n",
      "\n",
      "Done. Found 0 songs.\n",
      "Searching for \"Blue Sky Mine\" by Midnight Oil...\n"
     ]
    },
    {
     "name": "stderr",
     "output_type": "stream",
     "text": [
      "  5%|▍         | 615/13533 [46:09<16:20:36,  4.55s/it]"
     ]
    },
    {
     "name": "stdout",
     "output_type": "stream",
     "text": [
      "Done.\n",
      "Searching for songs by Enuff Z'Nuff...\n",
      "\n",
      "Changing artist name to 'Enuff Z’Nuff'\n",
      "Done. Found 0 songs.\n",
      "Searching for \"Fly High Michelle\" by Enuff Z’Nuff...\n"
     ]
    },
    {
     "name": "stderr",
     "output_type": "stream",
     "text": [
      "  5%|▍         | 616/13533 [46:13<15:19:56,  4.27s/it]"
     ]
    },
    {
     "name": "stdout",
     "output_type": "stream",
     "text": [
      "Done.\n",
      "Searching for songs by Skyy...\n",
      "\n",
      "Done. Found 0 songs.\n",
      "Searching for \"Real Love\" by Skyy...\n"
     ]
    },
    {
     "name": "stderr",
     "output_type": "stream",
     "text": [
      "  5%|▍         | 617/13533 [46:20<17:57:39,  5.01s/it]"
     ]
    },
    {
     "name": "stdout",
     "output_type": "stream",
     "text": [
      "Done.\n",
      "Searching for songs by Leila K With Rob 'N' Raz...\n",
      "\n"
     ]
    },
    {
     "name": "stderr",
     "output_type": "stream",
     "text": [
      "  5%|▍         | 618/13533 [46:20<13:14:54,  3.69s/it]"
     ]
    },
    {
     "name": "stdout",
     "output_type": "stream",
     "text": [
      "No results found for 'Leila K With Rob 'N' Raz'.\n",
      "Searching for songs by Don Henley...\n",
      "\n",
      "Done. Found 0 songs.\n",
      "Searching for \"How Bad Do You Want It?\" by Don Henley...\n"
     ]
    },
    {
     "name": "stderr",
     "output_type": "stream",
     "text": [
      "  5%|▍         | 619/13533 [46:24<13:20:37,  3.72s/it]"
     ]
    },
    {
     "name": "stdout",
     "output_type": "stream",
     "text": [
      "Done.\n",
      "Searching for songs by Don Henley...\n",
      "\n",
      "Done. Found 0 songs.\n",
      "Searching for \"New York Minute\" by Don Henley...\n"
     ]
    },
    {
     "name": "stderr",
     "output_type": "stream",
     "text": [
      "  5%|▍         | 620/13533 [46:29<14:34:51,  4.06s/it]"
     ]
    },
    {
     "name": "stdout",
     "output_type": "stream",
     "text": [
      "Done.\n",
      "Searching for songs by Gloria Estefan...\n",
      "\n",
      "Done. Found 0 songs.\n",
      "Searching for \"Oye Mi Canto (Hear My Voice)\" by Gloria Estefan...\n"
     ]
    },
    {
     "name": "stderr",
     "output_type": "stream",
     "text": [
      "  5%|▍         | 621/13533 [46:33<14:36:46,  4.07s/it]"
     ]
    },
    {
     "name": "stdout",
     "output_type": "stream",
     "text": [
      "Done.\n",
      "Searching for songs by LL Cool J...\n",
      "\n",
      "Done. Found 0 songs.\n",
      "Searching for \"The Boomin' System\" by LL Cool J...\n"
     ]
    },
    {
     "name": "stderr",
     "output_type": "stream",
     "text": [
      "  5%|▍         | 622/13533 [46:37<14:04:44,  3.93s/it]"
     ]
    },
    {
     "name": "stdout",
     "output_type": "stream",
     "text": [
      "Done.\n",
      "Searching for songs by The Cover Girls...\n",
      "\n",
      "Done. Found 0 songs.\n",
      "Searching for \"All That Glitters Isn't Gold\" by The Cover Girls...\n"
     ]
    },
    {
     "name": "stderr",
     "output_type": "stream",
     "text": [
      "  5%|▍         | 623/13533 [46:41<14:50:01,  4.14s/it]"
     ]
    },
    {
     "name": "stdout",
     "output_type": "stream",
     "text": [
      "Done.\n",
      "Searching for songs by Danger Danger...\n",
      "\n",
      "Done. Found 0 songs.\n",
      "Searching for \"Bang Bang\" by Danger Danger...\n"
     ]
    },
    {
     "name": "stderr",
     "output_type": "stream",
     "text": [
      "  5%|▍         | 624/13533 [46:46<15:12:43,  4.24s/it]"
     ]
    },
    {
     "name": "stdout",
     "output_type": "stream",
     "text": [
      "Done.\n",
      "Searching for songs by Bonnie Raitt...\n",
      "\n",
      "Done. Found 0 songs.\n",
      "Searching for \"Have A Heart\" by Bonnie Raitt...\n"
     ]
    },
    {
     "name": "stderr",
     "output_type": "stream",
     "text": [
      "  5%|▍         | 625/13533 [46:51<15:58:36,  4.46s/it]"
     ]
    },
    {
     "name": "stdout",
     "output_type": "stream",
     "text": [
      "Done.\n",
      "Searching for songs by Jane Child...\n",
      "\n",
      "Done. Found 0 songs.\n",
      "Searching for \"Welcome To The Real World\" by Jane Child...\n"
     ]
    },
    {
     "name": "stderr",
     "output_type": "stream",
     "text": [
      "  5%|▍         | 626/13533 [46:55<15:22:51,  4.29s/it]"
     ]
    },
    {
     "name": "stdout",
     "output_type": "stream",
     "text": [
      "Done.\n",
      "Searching for songs by The Rolling Stones...\n",
      "\n",
      "Done. Found 0 songs.\n",
      "Searching for \"Almost Hear You Sigh\" by The Rolling Stones...\n"
     ]
    },
    {
     "name": "stderr",
     "output_type": "stream",
     "text": [
      "  5%|▍         | 627/13533 [46:59<15:14:47,  4.25s/it]"
     ]
    },
    {
     "name": "stdout",
     "output_type": "stream",
     "text": [
      "Done.\n",
      "Searching for songs by ZZ Top...\n",
      "\n",
      "Done. Found 0 songs.\n",
      "Searching for \"Doubleback (From \"Back To The Future Part III\")\" by ZZ Top...\n"
     ]
    },
    {
     "name": "stderr",
     "output_type": "stream",
     "text": [
      "  5%|▍         | 628/13533 [47:01<13:15:00,  3.70s/it]"
     ]
    },
    {
     "name": "stdout",
     "output_type": "stream",
     "text": [
      "No results found for: 'Doubleback (From \"Back To The Future Part III\") ZZ Top'\n",
      "Searching for songs by Guy...\n",
      "\n",
      "Changing artist name to 'Daft Punk'\n",
      "Done. Found 0 songs.\n",
      "Searching for \"I Wanna Get With U\" by Daft Punk...\n"
     ]
    },
    {
     "name": "stderr",
     "output_type": "stream",
     "text": [
      "  5%|▍         | 629/13533 [47:07<15:48:16,  4.41s/it]"
     ]
    },
    {
     "name": "stdout",
     "output_type": "stream",
     "text": [
      "Done.\n",
      "Searching for songs by Cheap Trick...\n",
      "\n",
      "Done. Found 0 songs.\n",
      "Searching for \"Wherever Would I Be\" by Cheap Trick...\n"
     ]
    },
    {
     "name": "stderr",
     "output_type": "stream",
     "text": [
      "  5%|▍         | 630/13533 [47:23<28:10:30,  7.86s/it]"
     ]
    },
    {
     "name": "stdout",
     "output_type": "stream",
     "text": [
      "Done.\n",
      "Searching for songs by Marcia Griffiths...\n",
      "\n",
      "Done. Found 0 songs.\n",
      "Searching for \"Electric Boogie\" by Marcia Griffiths...\n"
     ]
    },
    {
     "name": "stderr",
     "output_type": "stream",
     "text": [
      "  5%|▍         | 631/13533 [47:28<24:32:41,  6.85s/it]"
     ]
    },
    {
     "name": "stdout",
     "output_type": "stream",
     "text": [
      "Done.\n",
      "Searching for songs by Doc Box & B. Fresh...\n",
      "\n"
     ]
    },
    {
     "name": "stderr",
     "output_type": "stream",
     "text": [
      "  5%|▍         | 632/13533 [47:29<18:51:54,  5.26s/it]"
     ]
    },
    {
     "name": "stdout",
     "output_type": "stream",
     "text": [
      "No results found for 'Doc Box & B. Fresh'.\n",
      "Searching for songs by Fiona (Duet With Kip Winger)...\n",
      "\n"
     ]
    },
    {
     "name": "stderr",
     "output_type": "stream",
     "text": [
      "  5%|▍         | 633/13533 [47:31<15:41:52,  4.38s/it]"
     ]
    },
    {
     "name": "stdout",
     "output_type": "stream",
     "text": [
      "No results found for 'Fiona (Duet With Kip Winger)'.\n",
      "Searching for songs by Billy Idol...\n",
      "\n",
      "Done. Found 0 songs.\n",
      "Searching for \"L.A. Woman\" by Billy Idol...\n"
     ]
    },
    {
     "name": "stderr",
     "output_type": "stream",
     "text": [
      "  5%|▍         | 634/13533 [47:38<18:03:35,  5.04s/it]"
     ]
    },
    {
     "name": "stdout",
     "output_type": "stream",
     "text": [
      "Done.\n",
      "Searching for songs by St. Paul...\n",
      "\n",
      "Done. Found 0 songs.\n",
      "Searching for \"Stranger To Love\" by St. Paul...\n"
     ]
    },
    {
     "name": "stderr",
     "output_type": "stream",
     "text": [
      "  5%|▍         | 635/13533 [47:42<16:39:56,  4.65s/it]"
     ]
    },
    {
     "name": "stdout",
     "output_type": "stream",
     "text": [
      "Done.\n",
      "Searching for songs by Depeche Mode...\n",
      "\n",
      "Done. Found 0 songs.\n",
      "Searching for \"World In My Eyes\" by Depeche Mode...\n"
     ]
    },
    {
     "name": "stderr",
     "output_type": "stream",
     "text": [
      "  5%|▍         | 636/13533 [47:47<16:56:29,  4.73s/it]"
     ]
    },
    {
     "name": "stdout",
     "output_type": "stream",
     "text": [
      "Done.\n",
      "Searching for songs by Cynthia & Johnny O...\n",
      "\n",
      "Done. Found 0 songs.\n",
      "Searching for \"Dream Boy/Dream Girl\" by Cynthia & Johnny O...\n"
     ]
    },
    {
     "name": "stderr",
     "output_type": "stream",
     "text": [
      "  5%|▍         | 637/13533 [47:53<18:49:08,  5.25s/it]"
     ]
    },
    {
     "name": "stdout",
     "output_type": "stream",
     "text": [
      "Done.\n",
      "Searching for songs by SaFire...\n",
      "\n",
      "Changing artist name to 'Safire'\n",
      "Done. Found 0 songs.\n",
      "Searching for \"I Will Survive\" by Safire...\n"
     ]
    },
    {
     "name": "stderr",
     "output_type": "stream",
     "text": [
      "  5%|▍         | 638/13533 [47:57<17:15:25,  4.82s/it]"
     ]
    },
    {
     "name": "stdout",
     "output_type": "stream",
     "text": [
      "Done.\n",
      "Searching for songs by New Kids On The Block...\n",
      "\n",
      "Changing artist name to 'New Kids On the Block'\n",
      "Done. Found 0 songs.\n",
      "Searching for \"Let's Try It Again\" by New Kids On the Block...\n"
     ]
    },
    {
     "name": "stderr",
     "output_type": "stream",
     "text": [
      "  5%|▍         | 639/13533 [48:02<17:11:52,  4.80s/it]"
     ]
    },
    {
     "name": "stdout",
     "output_type": "stream",
     "text": [
      "Done.\n",
      "Searching for songs by Caron Wheeler...\n",
      "\n",
      "Done. Found 0 songs.\n",
      "Searching for \"Livin' In The Light\" by Caron Wheeler...\n"
     ]
    },
    {
     "name": "stderr",
     "output_type": "stream",
     "text": [
      "  5%|▍         | 640/13533 [48:06<16:49:07,  4.70s/it]"
     ]
    },
    {
     "name": "stdout",
     "output_type": "stream",
     "text": [
      "Done.\n",
      "Searching for songs by Tyler Collins...\n",
      "\n",
      "Done. Found 0 songs.\n",
      "Searching for \"Second Chance\" by Tyler Collins...\n"
     ]
    },
    {
     "name": "stderr",
     "output_type": "stream",
     "text": [
      "  5%|▍         | 641/13533 [48:10<15:50:26,  4.42s/it]"
     ]
    },
    {
     "name": "stdout",
     "output_type": "stream",
     "text": [
      "Done.\n",
      "Searching for songs by Michael Penn...\n",
      "\n",
      "Done. Found 0 songs.\n",
      "Searching for \"This & That\" by Michael Penn...\n"
     ]
    },
    {
     "name": "stderr",
     "output_type": "stream",
     "text": [
      "  5%|▍         | 642/13533 [48:14<15:16:00,  4.26s/it]"
     ]
    },
    {
     "name": "stdout",
     "output_type": "stream",
     "text": [
      "Done.\n",
      "Searching for songs by Young And Restless...\n",
      "\n",
      "Changing artist name to 'Young and Restless'\n",
      "Done. Found 0 songs.\n",
      "Searching for \"\"B\" Girls\" by Young and Restless...\n"
     ]
    },
    {
     "name": "stderr",
     "output_type": "stream",
     "text": [
      "  5%|▍         | 643/13533 [48:19<16:32:37,  4.62s/it]"
     ]
    },
    {
     "name": "stdout",
     "output_type": "stream",
     "text": [
      "Done.\n",
      "Searching for songs by Alisha...\n",
      "\n",
      "Changing artist name to 'Alisha Chinai'\n",
      "Done. Found 0 songs.\n",
      "Searching for \"Bounce Back\" by Alisha Chinai...\n"
     ]
    },
    {
     "name": "stderr",
     "output_type": "stream",
     "text": [
      "  5%|▍         | 644/13533 [48:22<14:13:18,  3.97s/it]"
     ]
    },
    {
     "name": "stdout",
     "output_type": "stream",
     "text": [
      "No results found for: 'Bounce Back Alisha Chinai'\n",
      "Searching for songs by Soul II Soul...\n",
      "\n",
      "Done. Found 0 songs.\n",
      "Searching for \"Get A Life\" by Soul II Soul...\n"
     ]
    },
    {
     "name": "stderr",
     "output_type": "stream",
     "text": [
      "  5%|▍         | 645/13533 [48:26<14:25:26,  4.03s/it]"
     ]
    },
    {
     "name": "stdout",
     "output_type": "stream",
     "text": [
      "Done.\n",
      "Searching for songs by Seiko & Donnie Wahlberg...\n",
      "\n",
      "Changing artist name to 'SEIKO & Donnie Wahlberg'\n",
      "Done. Found 0 songs.\n",
      "Searching for \"The Right Combination\" by SEIKO & Donnie Wahlberg...\n"
     ]
    },
    {
     "name": "stderr",
     "output_type": "stream",
     "text": [
      "  5%|▍         | 646/13533 [48:30<14:25:00,  4.03s/it]"
     ]
    },
    {
     "name": "stdout",
     "output_type": "stream",
     "text": [
      "Done.\n",
      "Searching for songs by Peter Murphy...\n",
      "\n",
      "Done. Found 0 songs.\n",
      "Searching for \"Cuts You Up\" by Peter Murphy...\n"
     ]
    },
    {
     "name": "stderr",
     "output_type": "stream",
     "text": [
      "  5%|▍         | 647/13533 [48:35<15:15:33,  4.26s/it]"
     ]
    },
    {
     "name": "stdout",
     "output_type": "stream",
     "text": [
      "Done.\n",
      "Searching for songs by The Whispers...\n",
      "\n",
      "Done. Found 0 songs.\n",
      "Searching for \"Innocent\" by The Whispers...\n"
     ]
    },
    {
     "name": "stderr",
     "output_type": "stream",
     "text": [
      "  5%|▍         | 648/13533 [48:39<15:45:13,  4.40s/it]"
     ]
    },
    {
     "name": "stdout",
     "output_type": "stream",
     "text": [
      "Done.\n",
      "Searching for songs by Tesla...\n",
      "\n",
      "Done. Found 0 songs.\n",
      "Searching for \"The Way It Is\" by Tesla...\n"
     ]
    },
    {
     "name": "stderr",
     "output_type": "stream",
     "text": [
      "  5%|▍         | 649/13533 [48:46<17:52:26,  4.99s/it]"
     ]
    },
    {
     "name": "stdout",
     "output_type": "stream",
     "text": [
      "Done.\n",
      "Searching for songs by Bonham...\n",
      "\n",
      "Changing artist name to 'Johnny Depp & Helena Bonham Carter'\n",
      "Done. Found 0 songs.\n",
      "Searching for \"Wait For You\" by Johnny Depp & Helena Bonham Carter...\n"
     ]
    },
    {
     "name": "stderr",
     "output_type": "stream",
     "text": [
      "  5%|▍         | 650/13533 [48:48<15:15:31,  4.26s/it]"
     ]
    },
    {
     "name": "stdout",
     "output_type": "stream",
     "text": [
      "No results found for: 'Wait For You Johnny Depp & Helena Bonham Carter'\n",
      "Searching for songs by Kenny G...\n",
      "\n",
      "Done. Found 0 songs.\n",
      "Searching for \"Going Home\" by Kenny G...\n"
     ]
    },
    {
     "name": "stderr",
     "output_type": "stream",
     "text": [
      "  5%|▍         | 651/13533 [48:51<13:09:03,  3.68s/it]"
     ]
    },
    {
     "name": "stdout",
     "output_type": "stream",
     "text": [
      "Specified song does not contain lyrics. Rejecting.\n",
      "Searching for songs by Alice Cooper...\n",
      "\n",
      "Done. Found 0 songs.\n",
      "Searching for \"House Of Fire\" by Alice Cooper...\n"
     ]
    },
    {
     "name": "stderr",
     "output_type": "stream",
     "text": [
      "  5%|▍         | 652/13533 [48:55<14:18:42,  4.00s/it]"
     ]
    },
    {
     "name": "stdout",
     "output_type": "stream",
     "text": [
      "Done.\n",
      "Searching for songs by Billy Joel...\n",
      "\n",
      "Done. Found 0 songs.\n",
      "Searching for \"The Downeaster \"Alexa\"\" by Billy Joel...\n"
     ]
    },
    {
     "name": "stderr",
     "output_type": "stream",
     "text": [
      "  5%|▍         | 653/13533 [48:59<13:17:32,  3.72s/it]"
     ]
    },
    {
     "name": "stdout",
     "output_type": "stream",
     "text": [
      "Done.\n",
      "Searching for songs by Sweet Sensation...\n",
      "\n",
      "Done. Found 0 songs.\n",
      "Searching for \"Each And Every Time\" by Sweet Sensation...\n"
     ]
    },
    {
     "name": "stderr",
     "output_type": "stream",
     "text": [
      "  5%|▍         | 654/13533 [49:03<13:58:35,  3.91s/it]"
     ]
    },
    {
     "name": "stdout",
     "output_type": "stream",
     "text": [
      "Done.\n",
      "Searching for songs by Laura Branigan...\n",
      "\n",
      "Done. Found 0 songs.\n",
      "Searching for \"Moonlight On Water\" by Laura Branigan...\n"
     ]
    },
    {
     "name": "stderr",
     "output_type": "stream",
     "text": [
      "  5%|▍         | 655/13533 [49:08<15:03:17,  4.21s/it]"
     ]
    },
    {
     "name": "stdout",
     "output_type": "stream",
     "text": [
      "Done.\n",
      "Searching for songs by D-Mob With Cathy Dennis...\n",
      "\n"
     ]
    },
    {
     "name": "stderr",
     "output_type": "stream",
     "text": [
      "  5%|▍         | 656/13533 [49:09<11:19:53,  3.17s/it]"
     ]
    },
    {
     "name": "stdout",
     "output_type": "stream",
     "text": [
      "No results found for 'D-Mob With Cathy Dennis'.\n",
      "Searching for songs by Damn Yankees...\n",
      "\n",
      "Done. Found 0 songs.\n",
      "Searching for \"Coming Of Age\" by Damn Yankees...\n"
     ]
    },
    {
     "name": "stderr",
     "output_type": "stream",
     "text": [
      "  5%|▍         | 657/13533 [49:13<12:38:07,  3.53s/it]"
     ]
    },
    {
     "name": "stdout",
     "output_type": "stream",
     "text": [
      "Done.\n",
      "Searching for songs by Sinead O'Connor...\n",
      "\n",
      "Changing artist name to 'Sinéad O’Connor'\n",
      "Done. Found 0 songs.\n",
      "Searching for \"The Emperor's New Clothes\" by Sinéad O’Connor...\n"
     ]
    },
    {
     "name": "stderr",
     "output_type": "stream",
     "text": [
      "  5%|▍         | 658/13533 [49:17<13:16:01,  3.71s/it]"
     ]
    },
    {
     "name": "stdout",
     "output_type": "stream",
     "text": [
      "Done.\n",
      "Searching for songs by Dino...\n",
      "\n",
      "Changing artist name to 'Dinos'\n",
      "Done. Found 0 songs.\n",
      "Searching for \"Never 2 Much Of U\" by Dinos...\n"
     ]
    },
    {
     "name": "stderr",
     "output_type": "stream",
     "text": [
      "  5%|▍         | 659/13533 [49:21<13:53:54,  3.89s/it]"
     ]
    },
    {
     "name": "stdout",
     "output_type": "stream",
     "text": [
      "Done.\n",
      "Searching for songs by Howard Hewett...\n",
      "\n",
      "Done. Found 0 songs.\n",
      "Searching for \"Show Me\" by Howard Hewett...\n"
     ]
    },
    {
     "name": "stderr",
     "output_type": "stream",
     "text": [
      "  5%|▍         | 660/13533 [49:26<15:07:26,  4.23s/it]"
     ]
    },
    {
     "name": "stdout",
     "output_type": "stream",
     "text": [
      "Done.\n",
      "Searching for songs by Pet Shop Boys...\n",
      "\n",
      "Done. Found 0 songs.\n",
      "Searching for \"So Hard\" by Pet Shop Boys...\n"
     ]
    },
    {
     "name": "stderr",
     "output_type": "stream",
     "text": [
      "  5%|▍         | 661/13533 [49:33<17:21:51,  4.86s/it]"
     ]
    },
    {
     "name": "stdout",
     "output_type": "stream",
     "text": [
      "Done.\n",
      "Searching for songs by Calloway...\n",
      "\n",
      "Changing artist name to 'Cab Calloway'\n",
      "Done. Found 0 songs.\n",
      "Searching for \"All The Way\" by Cab Calloway...\n"
     ]
    },
    {
     "name": "stderr",
     "output_type": "stream",
     "text": [
      "  5%|▍         | 662/13533 [49:38<17:49:55,  4.99s/it]"
     ]
    },
    {
     "name": "stdout",
     "output_type": "stream",
     "text": [
      "Done.\n",
      "Searching for songs by George LaMond...\n",
      "\n",
      "Done. Found 0 songs.\n",
      "Searching for \"Look Into My Eyes\" by George LaMond...\n"
     ]
    },
    {
     "name": "stderr",
     "output_type": "stream",
     "text": [
      "  5%|▍         | 663/13533 [49:43<17:29:06,  4.89s/it]"
     ]
    },
    {
     "name": "stdout",
     "output_type": "stream",
     "text": [
      "Done.\n",
      "Searching for songs by Asia...\n",
      "\n",
      "Changing artist name to 'Asian Doll'\n",
      "Done. Found 0 songs.\n",
      "Searching for \"Days Like These\" by Asian Doll...\n"
     ]
    },
    {
     "name": "stderr",
     "output_type": "stream",
     "text": [
      "  5%|▍         | 664/13533 [49:47<16:26:35,  4.60s/it]"
     ]
    },
    {
     "name": "stdout",
     "output_type": "stream",
     "text": [
      "Done.\n",
      "Searching for songs by Jermaine Jackson...\n",
      "\n",
      "Done. Found 0 songs.\n",
      "Searching for \"Don't Take It Personal\" by Jermaine Jackson...\n"
     ]
    },
    {
     "name": "stderr",
     "output_type": "stream",
     "text": [
      "  5%|▍         | 665/13533 [49:51<16:12:25,  4.53s/it]"
     ]
    },
    {
     "name": "stdout",
     "output_type": "stream",
     "text": [
      "Done.\n",
      "Searching for songs by Prince...\n",
      "\n",
      "Changing artist name to 'RZA'\n",
      "Done. Found 0 songs.\n",
      "Searching for \"New Power Generation\" by RZA...\n"
     ]
    },
    {
     "name": "stderr",
     "output_type": "stream",
     "text": [
      "  5%|▍         | 666/13533 [49:55<15:35:07,  4.36s/it]"
     ]
    },
    {
     "name": "stdout",
     "output_type": "stream",
     "text": [
      "Done.\n",
      "Searching for songs by Duran Duran...\n",
      "\n",
      "Done. Found 0 songs.\n",
      "Searching for \"Violence Of Summer (Love's Taking Over)\" by Duran Duran...\n"
     ]
    },
    {
     "name": "stderr",
     "output_type": "stream",
     "text": [
      "  5%|▍         | 667/13533 [50:01<16:54:18,  4.73s/it]"
     ]
    },
    {
     "name": "stdout",
     "output_type": "stream",
     "text": [
      "Done.\n",
      "Searching for songs by TKA...\n",
      "\n",
      "Done. Found 0 songs.\n",
      "Searching for \"I Won't Give Up On You\" by TKA...\n"
     ]
    },
    {
     "name": "stderr",
     "output_type": "stream",
     "text": [
      "  5%|▍         | 668/13533 [50:05<16:59:33,  4.76s/it]"
     ]
    },
    {
     "name": "stdout",
     "output_type": "stream",
     "text": [
      "Done.\n",
      "Searching for songs by Anything Box...\n",
      "\n",
      "Done. Found 0 songs.\n",
      "Searching for \"Living In Oblivion\" by Anything Box...\n"
     ]
    },
    {
     "name": "stderr",
     "output_type": "stream",
     "text": [
      "  5%|▍         | 669/13533 [50:12<18:39:29,  5.22s/it]"
     ]
    },
    {
     "name": "stdout",
     "output_type": "stream",
     "text": [
      "Done.\n",
      "Searching for songs by REO Speedwagon...\n",
      "\n",
      "Done. Found 0 songs.\n",
      "Searching for \"Love Is A Rock\" by REO Speedwagon...\n"
     ]
    },
    {
     "name": "stderr",
     "output_type": "stream",
     "text": [
      "  5%|▍         | 670/13533 [50:16<18:14:37,  5.11s/it]"
     ]
    },
    {
     "name": "stdout",
     "output_type": "stream",
     "text": [
      "Done.\n",
      "Searching for songs by Vaughan Brothers...\n",
      "\n",
      "Changing artist name to 'The Vaughan Brothers'\n",
      "Done. Found 0 songs.\n",
      "Searching for \"Tick Tock\" by The Vaughan Brothers...\n"
     ]
    },
    {
     "name": "stderr",
     "output_type": "stream",
     "text": [
      "  5%|▍         | 671/13533 [50:22<18:49:50,  5.27s/it]"
     ]
    },
    {
     "name": "stdout",
     "output_type": "stream",
     "text": [
      "Done.\n",
      "Searching for songs by Ana...\n",
      "\n",
      "Changing artist name to 'Lil Wayne'\n",
      "Done. Found 0 songs.\n",
      "Searching for \"Got To Tell Me Something\" by Lil Wayne...\n"
     ]
    },
    {
     "name": "stderr",
     "output_type": "stream",
     "text": [
      "  5%|▍         | 672/13533 [50:28<19:12:23,  5.38s/it]"
     ]
    },
    {
     "name": "stdout",
     "output_type": "stream",
     "text": [
      "Done.\n",
      "Searching for songs by Bad English...\n",
      "\n",
      "Done. Found 0 songs.\n",
      "Searching for \"Heaven Is A 4 Letter Word\" by Bad English...\n"
     ]
    },
    {
     "name": "stderr",
     "output_type": "stream",
     "text": [
      "  5%|▍         | 673/13533 [50:32<17:33:00,  4.91s/it]"
     ]
    },
    {
     "name": "stdout",
     "output_type": "stream",
     "text": [
      "Done.\n",
      "Searching for songs by Grayson Hugh & Betty Wright...\n",
      "\n"
     ]
    },
    {
     "name": "stderr",
     "output_type": "stream",
     "text": [
      "  5%|▍         | 674/13533 [50:32<12:57:42,  3.63s/it]"
     ]
    },
    {
     "name": "stdout",
     "output_type": "stream",
     "text": [
      "No results found for 'Grayson Hugh & Betty Wright'.\n",
      "Searching for songs by Gene Loves Jezebel...\n",
      "\n",
      "Done. Found 0 songs.\n",
      "Searching for \"Jealous\" by Gene Loves Jezebel...\n"
     ]
    },
    {
     "name": "stderr",
     "output_type": "stream",
     "text": [
      "  5%|▍         | 675/13533 [50:36<13:32:33,  3.79s/it]"
     ]
    },
    {
     "name": "stdout",
     "output_type": "stream",
     "text": [
      "Done.\n",
      "Searching for songs by The U-Krew...\n",
      "\n"
     ]
    },
    {
     "name": "stderr",
     "output_type": "stream",
     "text": [
      "  5%|▍         | 676/13533 [50:37<10:05:24,  2.83s/it]"
     ]
    },
    {
     "name": "stdout",
     "output_type": "stream",
     "text": [
      "No results found for 'The U-Krew'.\n",
      "Searching for songs by McAuley Schenker Group...\n",
      "\n",
      "Changing artist name to 'McAuley-Schenker Group'\n",
      "Done. Found 0 songs.\n",
      "Searching for \"Anytime\" by McAuley-Schenker Group...\n"
     ]
    },
    {
     "name": "stderr",
     "output_type": "stream",
     "text": [
      "  5%|▌         | 677/13533 [50:41<11:35:21,  3.25s/it]"
     ]
    },
    {
     "name": "stdout",
     "output_type": "stream",
     "text": [
      "Done.\n",
      "Searching for songs by Louie Louie...\n",
      "\n",
      "Changing artist name to 'Louie Louie!'\n",
      "Done. Found 0 songs.\n",
      "Searching for \"I Wanna Get Back With You\" by Louie Louie!...\n"
     ]
    },
    {
     "name": "stderr",
     "output_type": "stream",
     "text": [
      "  5%|▌         | 678/13533 [50:46<13:28:36,  3.77s/it]"
     ]
    },
    {
     "name": "stdout",
     "output_type": "stream",
     "text": [
      "Done.\n",
      "Searching for songs by Favorite Angel...\n",
      "\n",
      "Changing artist name to 'Jay Wheeler'\n",
      "Done. Found 0 songs.\n",
      "Searching for \"Only Women Bleed\" by Jay Wheeler...\n"
     ]
    },
    {
     "name": "stderr",
     "output_type": "stream",
     "text": [
      "  5%|▌         | 679/13533 [50:50<13:38:28,  3.82s/it]"
     ]
    },
    {
     "name": "stdout",
     "output_type": "stream",
     "text": [
      "Done.\n",
      "Searching for songs by Hi Tek 3 Featuring Ya Kid K...\n",
      "\n"
     ]
    },
    {
     "name": "stderr",
     "output_type": "stream",
     "text": [
      "  5%|▌         | 680/13533 [50:51<10:25:00,  2.92s/it]"
     ]
    },
    {
     "name": "stdout",
     "output_type": "stream",
     "text": [
      "No results found for 'Hi Tek 3 Featuring Ya Kid K'.\n",
      "Searching for songs by Jive Bunny & The Mastermixers...\n",
      "\n",
      "Done. Found 0 songs.\n",
      "Searching for \"That's What I Like\" by Jive Bunny & The Mastermixers...\n"
     ]
    },
    {
     "name": "stderr",
     "output_type": "stream",
     "text": [
      "  5%|▌         | 681/13533 [50:55<11:23:50,  3.19s/it]"
     ]
    },
    {
     "name": "stdout",
     "output_type": "stream",
     "text": [
      "Done.\n",
      "Searching for songs by Joey Kid...\n",
      "\n",
      "Done. Found 0 songs.\n",
      "Searching for \"Counting The Days\" by Joey Kid...\n"
     ]
    },
    {
     "name": "stderr",
     "output_type": "stream",
     "text": [
      "  5%|▌         | 682/13533 [51:01<14:25:24,  4.04s/it]"
     ]
    },
    {
     "name": "stdout",
     "output_type": "stream",
     "text": [
      "Done.\n",
      "Searching for songs by Linear...\n",
      "\n",
      "Done. Found 0 songs.\n",
      "Searching for \"Don't You Come Cryin'\" by Linear...\n"
     ]
    },
    {
     "name": "stderr",
     "output_type": "stream",
     "text": [
      "  5%|▌         | 683/13533 [51:05<14:35:14,  4.09s/it]"
     ]
    },
    {
     "name": "stdout",
     "output_type": "stream",
     "text": [
      "Done.\n",
      "Searching for songs by Joyce \"Fenderella\" Irby...\n",
      "\n",
      "Changing artist name to 'Joyce Irby'\n",
      "Done. Found 0 songs.\n",
      "Searching for \"I'll Be There\" by Joyce Irby...\n"
     ]
    },
    {
     "name": "stderr",
     "output_type": "stream",
     "text": [
      "  5%|▌         | 684/13533 [51:07<12:17:17,  3.44s/it]"
     ]
    },
    {
     "name": "stdout",
     "output_type": "stream",
     "text": [
      "No results found for: 'I'll Be There Joyce Irby'\n",
      "Searching for songs by Entouch Featuring Keith Sweat...\n",
      "\n"
     ]
    },
    {
     "name": "stderr",
     "output_type": "stream",
     "text": [
      "  5%|▌         | 685/13533 [51:08<9:16:05,  2.60s/it] "
     ]
    },
    {
     "name": "stdout",
     "output_type": "stream",
     "text": [
      "No results found for 'Entouch Featuring Keith Sweat'.\n",
      "Searching for songs by The Brat Pack...\n",
      "\n",
      "Changing artist name to 'PACYE ON THE BEAT'\n",
      "Done. Found 0 songs.\n",
      "Searching for \"I'm Never Gonna Give You Up\" by PACYE ON THE BEAT...\n"
     ]
    },
    {
     "name": "stderr",
     "output_type": "stream",
     "text": [
      "  5%|▌         | 686/13533 [51:12<10:55:16,  3.06s/it]"
     ]
    },
    {
     "name": "stdout",
     "output_type": "stream",
     "text": [
      "Done.\n",
      "Searching for songs by Vixen...\n",
      "\n",
      "Done. Found 0 songs.\n",
      "Searching for \"Love Is A Killer\" by Vixen...\n"
     ]
    },
    {
     "name": "stderr",
     "output_type": "stream",
     "text": [
      "  5%|▌         | 687/13533 [51:16<12:06:58,  3.40s/it]"
     ]
    },
    {
     "name": "stdout",
     "output_type": "stream",
     "text": [
      "Done.\n",
      "Searching for songs by The Cure...\n",
      "\n",
      "Done. Found 0 songs.\n",
      "Searching for \"Pictures Of You\" by The Cure...\n"
     ]
    },
    {
     "name": "stderr",
     "output_type": "stream",
     "text": [
      "  5%|▌         | 688/13533 [51:21<14:28:12,  4.06s/it]"
     ]
    },
    {
     "name": "stdout",
     "output_type": "stream",
     "text": [
      "Done.\n",
      "Searching for songs by Tricia Leigh Fisher...\n",
      "\n"
     ]
    },
    {
     "name": "stderr",
     "output_type": "stream",
     "text": [
      "  5%|▌         | 689/13533 [51:22<10:54:47,  3.06s/it]"
     ]
    },
    {
     "name": "stdout",
     "output_type": "stream",
     "text": [
      "No results found for 'Tricia Leigh Fisher'.\n",
      "Searching for songs by A'me Lorain...\n",
      "\n",
      "Changing artist name to 'A’me Lorain'\n",
      "Done. Found 0 songs.\n",
      "Searching for \"Follow My Heartbeat\" by A’me Lorain...\n"
     ]
    },
    {
     "name": "stderr",
     "output_type": "stream",
     "text": [
      "  5%|▌         | 690/13533 [51:26<11:40:14,  3.27s/it]"
     ]
    },
    {
     "name": "stdout",
     "output_type": "stream",
     "text": [
      "Done.\n",
      "Searching for songs by The Cure...\n",
      "\n",
      "Done. Found 0 songs.\n",
      "Searching for \"Never Enough\" by The Cure...\n"
     ]
    },
    {
     "name": "stderr",
     "output_type": "stream",
     "text": [
      "  5%|▌         | 691/13533 [51:29<11:33:46,  3.24s/it]"
     ]
    },
    {
     "name": "stdout",
     "output_type": "stream",
     "text": [
      "Done.\n",
      "Searching for songs by Anita Baker...\n",
      "\n",
      "Done. Found 0 songs.\n",
      "Searching for \"Soul Inspiration\" by Anita Baker...\n"
     ]
    },
    {
     "name": "stderr",
     "output_type": "stream",
     "text": [
      "  5%|▌         | 692/13533 [51:34<13:40:33,  3.83s/it]"
     ]
    },
    {
     "name": "stdout",
     "output_type": "stream",
     "text": [
      "Done.\n",
      "Searching for songs by The Party...\n",
      "\n",
      "Changing artist name to 'The Partysquad'\n",
      "Done. Found 0 songs.\n",
      "Searching for \"Summer Vacation\" by The Partysquad...\n"
     ]
    },
    {
     "name": "stderr",
     "output_type": "stream",
     "text": [
      "  5%|▌         | 693/13533 [51:37<12:32:13,  3.52s/it]"
     ]
    },
    {
     "name": "stdout",
     "output_type": "stream",
     "text": [
      "No results found for: 'Summer Vacation The Partysquad'\n",
      "Searching for songs by Neneh Cherry...\n",
      "\n",
      "Done. Found 0 songs.\n",
      "Searching for \"Heart\" by Neneh Cherry...\n"
     ]
    },
    {
     "name": "stderr",
     "output_type": "stream",
     "text": [
      "  5%|▌         | 694/13533 [51:41<13:06:34,  3.68s/it]"
     ]
    },
    {
     "name": "stdout",
     "output_type": "stream",
     "text": [
      "Done.\n",
      "Searching for songs by Pajama Party...\n",
      "\n",
      "Done. Found 0 songs.\n",
      "Searching for \"Hide And Seek\" by Pajama Party...\n"
     ]
    },
    {
     "name": "stderr",
     "output_type": "stream",
     "text": [
      "  5%|▌         | 695/13533 [51:46<14:17:23,  4.01s/it]"
     ]
    },
    {
     "name": "stdout",
     "output_type": "stream",
     "text": [
      "Done.\n",
      "Searching for songs by Ms. Adventures...\n",
      "\n",
      "Changing artist name to 'Ms Adventures'\n",
      "Done. Found 0 songs.\n",
      "Searching for \"Undeniable\" by Ms Adventures...\n"
     ]
    },
    {
     "name": "stderr",
     "output_type": "stream",
     "text": [
      "  5%|▌         | 696/13533 [51:50<14:04:33,  3.95s/it]"
     ]
    },
    {
     "name": "stdout",
     "output_type": "stream",
     "text": [
      "Done.\n",
      "Searching for songs by Sybil...\n",
      "\n",
      "Done. Found 0 songs.\n",
      "Searching for \"Walk On By\" by Sybil...\n"
     ]
    },
    {
     "name": "stderr",
     "output_type": "stream",
     "text": [
      "  5%|▌         | 697/13533 [51:54<14:10:07,  3.97s/it]"
     ]
    },
    {
     "name": "stdout",
     "output_type": "stream",
     "text": [
      "Done.\n",
      "Searching for songs by Chicago...\n",
      "\n",
      "Done. Found 0 songs.\n",
      "Searching for \"Hearts In Trouble (From \"Days Of Thunder\")\" by Chicago...\n"
     ]
    },
    {
     "name": "stderr",
     "output_type": "stream",
     "text": [
      "  5%|▌         | 698/13533 [51:58<14:32:35,  4.08s/it]"
     ]
    },
    {
     "name": "stdout",
     "output_type": "stream",
     "text": [
      "Done.\n",
      "Searching for songs by Young M.C....\n",
      "\n",
      "Changing artist name to 'Young MC'\n",
      "Done. Found 0 songs.\n",
      "Searching for \"I Come Off\" by Young MC...\n"
     ]
    },
    {
     "name": "stderr",
     "output_type": "stream",
     "text": [
      "  5%|▌         | 699/13533 [52:03<15:07:46,  4.24s/it]"
     ]
    },
    {
     "name": "stdout",
     "output_type": "stream",
     "text": [
      "Done.\n",
      "Searching for songs by The Black Crowes...\n",
      "\n",
      "Done. Found 0 songs.\n",
      "Searching for \"Jealous Again\" by The Black Crowes...\n"
     ]
    },
    {
     "name": "stderr",
     "output_type": "stream",
     "text": [
      "  5%|▌         | 700/13533 [52:06<14:30:32,  4.07s/it]"
     ]
    },
    {
     "name": "stdout",
     "output_type": "stream",
     "text": [
      "Done.\n",
      "Searching for songs by Quincy Jones With Tevin Campbell...\n",
      "\n"
     ]
    },
    {
     "name": "stderr",
     "output_type": "stream",
     "text": [
      "  5%|▌         | 701/13533 [52:07<11:06:23,  3.12s/it]"
     ]
    },
    {
     "name": "stdout",
     "output_type": "stream",
     "text": [
      "No results found for 'Quincy Jones With Tevin Campbell'.\n",
      "Searching for songs by Electric Boys...\n",
      "\n",
      "Done. Found 0 songs.\n",
      "Searching for \"All Lips N' Hips\" by Electric Boys...\n"
     ]
    },
    {
     "name": "stderr",
     "output_type": "stream",
     "text": [
      "  5%|▌         | 702/13533 [52:11<11:28:28,  3.22s/it]"
     ]
    },
    {
     "name": "stdout",
     "output_type": "stream",
     "text": [
      "Done.\n",
      "Searching for songs by Beats International...\n",
      "\n",
      "Done. Found 0 songs.\n",
      "Searching for \"Dub Be Good To Me\" by Beats International...\n"
     ]
    },
    {
     "name": "stderr",
     "output_type": "stream",
     "text": [
      "  5%|▌         | 703/13533 [52:18<15:58:23,  4.48s/it]"
     ]
    },
    {
     "name": "stdout",
     "output_type": "stream",
     "text": [
      "Done.\n",
      "Searching for songs by The London Quireboys...\n",
      "\n"
     ]
    },
    {
     "name": "stderr",
     "output_type": "stream",
     "text": [
      "  5%|▌         | 704/13533 [52:19<11:53:40,  3.34s/it]"
     ]
    },
    {
     "name": "stdout",
     "output_type": "stream",
     "text": [
      "No results found for 'The London Quireboys'.\n",
      "Searching for songs by Modern English...\n",
      "\n",
      "Done. Found 0 songs.\n",
      "Searching for \"I Melt With You\" by Modern English...\n"
     ]
    },
    {
     "name": "stderr",
     "output_type": "stream",
     "text": [
      "  5%|▌         | 705/13533 [52:23<12:20:20,  3.46s/it]"
     ]
    },
    {
     "name": "stdout",
     "output_type": "stream",
     "text": [
      "Done.\n",
      "Searching for songs by Inner City...\n",
      "\n",
      "Done. Found 0 songs.\n",
      "Searching for \"Whatcha Gonna Do With My Lovin'\" by Inner City...\n"
     ]
    },
    {
     "name": "stderr",
     "output_type": "stream",
     "text": [
      "  5%|▌         | 706/13533 [52:27<12:56:31,  3.63s/it]"
     ]
    },
    {
     "name": "stdout",
     "output_type": "stream",
     "text": [
      "Done.\n",
      "Searching for songs by Beats International...\n",
      "\n",
      "Done. Found 0 songs.\n",
      "Searching for \"Won't Talk About It\" by Beats International...\n"
     ]
    },
    {
     "name": "stderr",
     "output_type": "stream",
     "text": [
      "  5%|▌         | 707/13533 [52:30<12:32:33,  3.52s/it]"
     ]
    },
    {
     "name": "stdout",
     "output_type": "stream",
     "text": [
      "Done.\n",
      "Searching for songs by The 4 Of Us...\n",
      "\n",
      "Changing artist name to 'The 4 of Us'\n",
      "Done. Found 0 songs.\n",
      "Searching for \"Drag My Bad Name Down\" by The 4 of Us...\n"
     ]
    },
    {
     "name": "stderr",
     "output_type": "stream",
     "text": [
      "  5%|▌         | 708/13533 [52:34<13:17:08,  3.73s/it]"
     ]
    },
    {
     "name": "stdout",
     "output_type": "stream",
     "text": [
      "Done.\n",
      "Searching for songs by Andrew Ridgeley...\n",
      "\n",
      "Done. Found 0 songs.\n",
      "Searching for \"Shake\" by Andrew Ridgeley...\n"
     ]
    },
    {
     "name": "stderr",
     "output_type": "stream",
     "text": [
      "  5%|▌         | 709/13533 [52:40<15:34:01,  4.37s/it]"
     ]
    },
    {
     "name": "stdout",
     "output_type": "stream",
     "text": [
      "Done.\n",
      "Searching for songs by Billy Joel...\n",
      "\n",
      "Done. Found 0 songs.\n",
      "Searching for \"That's Not Her Style\" by Billy Joel...\n"
     ]
    },
    {
     "name": "stderr",
     "output_type": "stream",
     "text": [
      "  5%|▌         | 710/13533 [52:44<15:03:42,  4.23s/it]"
     ]
    },
    {
     "name": "stdout",
     "output_type": "stream",
     "text": [
      "Done.\n",
      "Searching for songs by Peter Wolf...\n",
      "\n",
      "Done. Found 0 songs.\n",
      "Searching for \"99 Worlds\" by Peter Wolf...\n"
     ]
    },
    {
     "name": "stderr",
     "output_type": "stream",
     "text": [
      "  5%|▌         | 711/13533 [52:48<15:09:18,  4.26s/it]"
     ]
    },
    {
     "name": "stdout",
     "output_type": "stream",
     "text": [
      "Done.\n",
      "Searching for songs by 49-ers...\n",
      "\n",
      "Changing artist name to 'The 49ers'\n",
      "Done. Found 0 songs.\n",
      "Searching for \"Don't You Love Me\" by The 49ers...\n"
     ]
    },
    {
     "name": "stderr",
     "output_type": "stream",
     "text": [
      "  5%|▌         | 712/13533 [52:53<15:42:51,  4.41s/it]"
     ]
    },
    {
     "name": "stdout",
     "output_type": "stream",
     "text": [
      "Done.\n",
      "Searching for songs by Glenn Medeiros (Featuring The Stylistics)...\n",
      "\n"
     ]
    },
    {
     "name": "stderr",
     "output_type": "stream",
     "text": [
      "  5%|▌         | 713/13533 [52:54<11:53:27,  3.34s/it]"
     ]
    },
    {
     "name": "stdout",
     "output_type": "stream",
     "text": [
      "No results found for 'Glenn Medeiros (Featuring The Stylistics)'.\n",
      "Searching for songs by Motley Crue...\n",
      "\n",
      "Changing artist name to 'Mötley Crüe'\n",
      "Done. Found 0 songs.\n",
      "Searching for \"Same Ol' Situation (S.O.S.)\" by Mötley Crüe...\n"
     ]
    },
    {
     "name": "stderr",
     "output_type": "stream",
     "text": [
      "  5%|▌         | 714/13533 [52:58<13:04:54,  3.67s/it]"
     ]
    },
    {
     "name": "stdout",
     "output_type": "stream",
     "text": [
      "Done.\n",
      "Searching for songs by Jimmy Ryser...\n",
      "\n",
      "Done. Found 0 songs.\n",
      "Searching for \"Same Old Look\" by Jimmy Ryser...\n"
     ]
    },
    {
     "name": "stderr",
     "output_type": "stream",
     "text": [
      "  5%|▌         | 715/13533 [53:03<13:44:20,  3.86s/it]"
     ]
    },
    {
     "name": "stdout",
     "output_type": "stream",
     "text": [
      "Done.\n",
      "Searching for songs by Linda Ronstadt (Featuring Aaron Neville)...\n",
      "\n"
     ]
    },
    {
     "name": "stderr",
     "output_type": "stream",
     "text": [
      "  5%|▌         | 716/13533 [53:03<10:12:16,  2.87s/it]"
     ]
    },
    {
     "name": "stdout",
     "output_type": "stream",
     "text": [
      "No results found for 'Linda Ronstadt (Featuring Aaron Neville)'.\n",
      "Searching for songs by The Party...\n",
      "\n",
      "Changing artist name to 'The Partysquad'\n",
      "Done. Found 0 songs.\n",
      "Searching for \"I Found Love\" by The Partysquad...\n"
     ]
    },
    {
     "name": "stderr",
     "output_type": "stream",
     "text": [
      "  5%|▌         | 717/13533 [53:05<8:51:03,  2.49s/it] "
     ]
    },
    {
     "name": "stdout",
     "output_type": "stream",
     "text": [
      "No results found for: 'I Found Love The Partysquad'\n",
      "Searching for songs by The Soup Dragons...\n",
      "\n",
      "Done. Found 0 songs.\n",
      "Searching for \"I'm Free\" by The Soup Dragons...\n"
     ]
    },
    {
     "name": "stderr",
     "output_type": "stream",
     "text": [
      "  5%|▌         | 718/13533 [53:10<11:37:16,  3.26s/it]"
     ]
    },
    {
     "name": "stdout",
     "output_type": "stream",
     "text": [
      "Done.\n",
      "Searching for songs by TKA Featuring Michelle Visage...\n",
      "\n"
     ]
    },
    {
     "name": "stderr",
     "output_type": "stream",
     "text": [
      "  5%|▌         | 719/13533 [53:10<8:53:58,  2.50s/it] "
     ]
    },
    {
     "name": "stdout",
     "output_type": "stream",
     "text": [
      "No results found for 'TKA Featuring Michelle Visage'.\n",
      "Searching for songs by Styx...\n",
      "\n",
      "Done. Found 0 songs.\n",
      "Searching for \"Love Is The Ritual\" by Styx...\n"
     ]
    },
    {
     "name": "stderr",
     "output_type": "stream",
     "text": [
      "  5%|▌         | 720/13533 [53:16<12:11:09,  3.42s/it]"
     ]
    },
    {
     "name": "stdout",
     "output_type": "stream",
     "text": [
      "Done.\n",
      "Searching for songs by Tiana...\n",
      "\n",
      "Changing artist name to 'Tiana Major9'\n",
      "Done. Found 0 songs.\n",
      "Searching for \"First True Love\" by Tiana Major9...\n"
     ]
    },
    {
     "name": "stderr",
     "output_type": "stream",
     "text": [
      "  5%|▌         | 721/13533 [53:23<16:18:25,  4.58s/it]"
     ]
    },
    {
     "name": "stdout",
     "output_type": "stream",
     "text": [
      "Done.\n",
      "Searching for songs by KISS...\n",
      "\n",
      "Done. Found 0 songs.\n",
      "Searching for \"Rise To It\" by KISS...\n"
     ]
    },
    {
     "name": "stderr",
     "output_type": "stream",
     "text": [
      "  5%|▌         | 722/13533 [53:28<15:52:15,  4.46s/it]"
     ]
    },
    {
     "name": "stdout",
     "output_type": "stream",
     "text": [
      "Done.\n",
      "Searching for songs by Gorky Park...\n",
      "\n",
      "Done. Found 0 songs.\n",
      "Searching for \"Try To Find Me\" by Gorky Park...\n"
     ]
    },
    {
     "name": "stderr",
     "output_type": "stream",
     "text": [
      "  5%|▌         | 723/13533 [53:33<17:04:41,  4.80s/it]"
     ]
    },
    {
     "name": "stdout",
     "output_type": "stream",
     "text": [
      "Done.\n",
      "Searching for songs by Seduction...\n",
      "\n",
      "Done. Found 0 songs.\n",
      "Searching for \"Breakdown\" by Seduction...\n"
     ]
    },
    {
     "name": "stderr",
     "output_type": "stream",
     "text": [
      "  5%|▌         | 724/13533 [53:37<15:34:07,  4.38s/it]"
     ]
    },
    {
     "name": "stdout",
     "output_type": "stream",
     "text": [
      "Done.\n",
      "Searching for songs by Mantronix Featuring Wondress...\n",
      "\n"
     ]
    },
    {
     "name": "stderr",
     "output_type": "stream",
     "text": [
      "  5%|▌         | 725/13533 [53:37<11:46:01,  3.31s/it]"
     ]
    },
    {
     "name": "stdout",
     "output_type": "stream",
     "text": [
      "No results found for 'Mantronix Featuring Wondress'.\n",
      "Searching for songs by Shana...\n",
      "\n",
      "Changing artist name to 'Ari Lennox'\n",
      "Done. Found 0 songs.\n",
      "Searching for \"You Can't Get Away\" by Ari Lennox...\n"
     ]
    },
    {
     "name": "stderr",
     "output_type": "stream",
     "text": [
      "  5%|▌         | 726/13533 [53:41<12:33:55,  3.53s/it]"
     ]
    },
    {
     "name": "stdout",
     "output_type": "stream",
     "text": [
      "Done.\n",
      "Searching for songs by John Farnham...\n",
      "\n",
      "Done. Found 0 songs.\n",
      "Searching for \"You're The Voice\" by John Farnham...\n"
     ]
    },
    {
     "name": "stderr",
     "output_type": "stream",
     "text": [
      "  5%|▌         | 727/13533 [53:50<18:04:29,  5.08s/it]"
     ]
    },
    {
     "name": "stdout",
     "output_type": "stream",
     "text": [
      "Done.\n",
      "Searching for songs by Great White...\n",
      "\n",
      "Done. Found 0 songs.\n",
      "Searching for \"House Of Broken Love\" by Great White...\n"
     ]
    },
    {
     "name": "stderr",
     "output_type": "stream",
     "text": [
      "  5%|▌         | 728/13533 [53:54<17:12:02,  4.84s/it]"
     ]
    },
    {
     "name": "stdout",
     "output_type": "stream",
     "text": [
      "Done.\n",
      "Searching for songs by Bruce Hornsby & The Range With Shawn Colvin...\n",
      "\n"
     ]
    },
    {
     "name": "stderr",
     "output_type": "stream",
     "text": [
      "  5%|▌         | 729/13533 [53:55<12:50:10,  3.61s/it]"
     ]
    },
    {
     "name": "stdout",
     "output_type": "stream",
     "text": [
      "No results found for 'Bruce Hornsby & The Range With Shawn Colvin'.\n",
      "Searching for songs by Loverboy...\n",
      "\n",
      "Done. Found 0 songs.\n",
      "Searching for \"Too Hot\" by Loverboy...\n"
     ]
    },
    {
     "name": "stderr",
     "output_type": "stream",
     "text": [
      "  5%|▌         | 730/13533 [53:59<13:27:41,  3.79s/it]"
     ]
    },
    {
     "name": "stdout",
     "output_type": "stream",
     "text": [
      "Done.\n",
      "Searching for songs by Soul II Soul...\n",
      "\n",
      "Done. Found 0 songs.\n",
      "Searching for \"A Dreams A Dream\" by Soul II Soul...\n"
     ]
    },
    {
     "name": "stderr",
     "output_type": "stream",
     "text": [
      "  5%|▌         | 731/13533 [54:04<14:04:00,  3.96s/it]"
     ]
    },
    {
     "name": "stdout",
     "output_type": "stream",
     "text": [
      "Done.\n",
      "Searching for songs by Biscuit...\n",
      "\n",
      "Changing artist name to 'Petit Biscuit'\n",
      "Done. Found 0 songs.\n",
      "Searching for \"Biscuit's In The House\" by Petit Biscuit...\n"
     ]
    },
    {
     "name": "stderr",
     "output_type": "stream",
     "text": [
      "  5%|▌         | 732/13533 [54:10<16:24:59,  4.62s/it]"
     ]
    },
    {
     "name": "stdout",
     "output_type": "stream",
     "text": [
      "Done.\n",
      "Searching for songs by Xymox...\n",
      "\n",
      "Done. Found 0 songs.\n",
      "Searching for \"Imagination\" by Xymox...\n"
     ]
    },
    {
     "name": "stderr",
     "output_type": "stream",
     "text": [
      "  5%|▌         | 733/13533 [54:15<16:38:39,  4.68s/it]"
     ]
    },
    {
     "name": "stdout",
     "output_type": "stream",
     "text": [
      "Done.\n",
      "Searching for songs by Saraya...\n",
      "\n",
      "Done. Found 0 songs.\n",
      "Searching for \"Timeless Love (From \"Shocker\")\" by Saraya...\n"
     ]
    },
    {
     "name": "stderr",
     "output_type": "stream",
     "text": [
      "  5%|▌         | 734/13533 [54:17<13:40:11,  3.84s/it]"
     ]
    },
    {
     "name": "stdout",
     "output_type": "stream",
     "text": [
      "No results found for: 'Timeless Love (From \"Shocker\") Saraya'\n",
      "Searching for songs by The Chimes...\n",
      "\n",
      "Changing artist name to 'The Chimes (UK)'\n",
      "Done. Found 0 songs.\n",
      "Searching for \"1-2-3\" by The Chimes (UK)...\n"
     ]
    },
    {
     "name": "stderr",
     "output_type": "stream",
     "text": [
      "  5%|▌         | 735/13533 [54:19<11:46:01,  3.31s/it]"
     ]
    },
    {
     "name": "stdout",
     "output_type": "stream",
     "text": [
      "No results found for: '1-2-3 The Chimes (UK)'\n",
      "Searching for songs by Denise Lopez...\n",
      "\n",
      "Done. Found 0 songs.\n",
      "Searching for \"Don't You Wanna Be Mine\" by Denise Lopez...\n"
     ]
    },
    {
     "name": "stderr",
     "output_type": "stream",
     "text": [
      "  5%|▌         | 736/13533 [54:23<12:44:21,  3.58s/it]"
     ]
    },
    {
     "name": "stdout",
     "output_type": "stream",
     "text": [
      "Done.\n",
      "Searching for songs by Jody Watley...\n",
      "\n",
      "Done. Found 0 songs.\n",
      "Searching for \"Precious Love\" by Jody Watley...\n"
     ]
    },
    {
     "name": "stderr",
     "output_type": "stream",
     "text": [
      "  5%|▌         | 737/13533 [54:27<13:12:38,  3.72s/it]"
     ]
    },
    {
     "name": "stdout",
     "output_type": "stream",
     "text": [
      "Done.\n",
      "Searching for songs by Jimmy Somerville...\n",
      "\n",
      "Done. Found 0 songs.\n",
      "Searching for \"You Make Me Feel (Mighty Real)\" by Jimmy Somerville...\n"
     ]
    },
    {
     "name": "stderr",
     "output_type": "stream",
     "text": [
      "  5%|▌         | 738/13533 [54:32<14:17:39,  4.02s/it]"
     ]
    },
    {
     "name": "stdout",
     "output_type": "stream",
     "text": [
      "Done.\n",
      "Searching for songs by Eric Clapton...\n",
      "\n",
      "Done. Found 0 songs.\n",
      "Searching for \"Bad Love\" by Eric Clapton...\n"
     ]
    },
    {
     "name": "stderr",
     "output_type": "stream",
     "text": [
      "  5%|▌         | 739/13533 [54:36<14:42:46,  4.14s/it]"
     ]
    },
    {
     "name": "stdout",
     "output_type": "stream",
     "text": [
      "Done.\n",
      "Searching for songs by Little Caesar...\n",
      "\n",
      "Done. Found 0 songs.\n",
      "Searching for \"Chain Of Fools\" by Little Caesar...\n"
     ]
    },
    {
     "name": "stderr",
     "output_type": "stream",
     "text": [
      "  5%|▌         | 740/13533 [54:40<15:04:44,  4.24s/it]"
     ]
    },
    {
     "name": "stdout",
     "output_type": "stream",
     "text": [
      "Done.\n",
      "Searching for songs by Yvonne...\n",
      "\n",
      "Changing artist name to 'Yvonne Elliman'\n",
      "Done. Found 0 songs.\n",
      "Searching for \"There's A Party Going On\" by Yvonne Elliman...\n"
     ]
    },
    {
     "name": "stderr",
     "output_type": "stream",
     "text": [
      "  5%|▌         | 741/13533 [54:44<14:09:07,  3.98s/it]"
     ]
    },
    {
     "name": "stdout",
     "output_type": "stream",
     "text": [
      "No results found for: 'There's A Party Going On Yvonne Elliman'\n",
      "Searching for songs by Tears For Fears...\n",
      "\n",
      "Changing artist name to 'Tears for Fears'\n",
      "Done. Found 0 songs.\n",
      "Searching for \"Advice For The Young At Heart\" by Tears for Fears...\n"
     ]
    },
    {
     "name": "stderr",
     "output_type": "stream",
     "text": [
      "  5%|▌         | 742/13533 [54:49<14:55:13,  4.20s/it]"
     ]
    },
    {
     "name": "stdout",
     "output_type": "stream",
     "text": [
      "Done.\n",
      "Searching for songs by Bad Company...\n",
      "\n",
      "Done. Found 0 songs.\n",
      "Searching for \"Holy Water\" by Bad Company...\n"
     ]
    },
    {
     "name": "stderr",
     "output_type": "stream",
     "text": [
      "  5%|▌         | 743/13533 [54:53<15:11:28,  4.28s/it]"
     ]
    },
    {
     "name": "stdout",
     "output_type": "stream",
     "text": [
      "Done.\n",
      "Searching for songs by Lenny Kravitz...\n",
      "\n",
      "Done. Found 0 songs.\n",
      "Searching for \"Let Love Rule\" by Lenny Kravitz...\n"
     ]
    },
    {
     "name": "stderr",
     "output_type": "stream",
     "text": [
      "  5%|▌         | 744/13533 [54:58<16:03:04,  4.52s/it]"
     ]
    },
    {
     "name": "stdout",
     "output_type": "stream",
     "text": [
      "Done.\n",
      "Searching for songs by Alice Cooper...\n",
      "\n",
      "Done. Found 0 songs.\n",
      "Searching for \"Only My Heart Talkin'\" by Alice Cooper...\n"
     ]
    },
    {
     "name": "stderr",
     "output_type": "stream",
     "text": [
      "  6%|▌         | 745/13533 [55:03<16:44:07,  4.71s/it]"
     ]
    },
    {
     "name": "stdout",
     "output_type": "stream",
     "text": [
      "Done.\n",
      "Searching for songs by Abstrac'...\n",
      "\n",
      "Changing artist name to 'Q-Tip'\n",
      "Done. Found 0 songs.\n",
      "Searching for \"Right And Hype\" by Q-Tip...\n"
     ]
    },
    {
     "name": "stderr",
     "output_type": "stream",
     "text": [
      "  6%|▌         | 746/13533 [55:07<16:00:20,  4.51s/it]"
     ]
    },
    {
     "name": "stdout",
     "output_type": "stream",
     "text": [
      "Done.\n",
      "Searching for songs by Betty Boo...\n",
      "\n",
      "Done. Found 0 songs.\n",
      "Searching for \"Doin' The Do\" by Betty Boo...\n"
     ]
    },
    {
     "name": "stderr",
     "output_type": "stream",
     "text": [
      "  6%|▌         | 747/13533 [55:14<18:37:51,  5.25s/it]"
     ]
    },
    {
     "name": "stdout",
     "output_type": "stream",
     "text": [
      "Done.\n",
      "Searching for songs by Fine Young Cannibals...\n",
      "\n",
      "Done. Found 0 songs.\n",
      "Searching for \"I'm Not Satisfied\" by Fine Young Cannibals...\n"
     ]
    },
    {
     "name": "stderr",
     "output_type": "stream",
     "text": [
      "  6%|▌         | 748/13533 [55:20<18:53:32,  5.32s/it]"
     ]
    },
    {
     "name": "stdout",
     "output_type": "stream",
     "text": [
      "Done.\n",
      "Searching for songs by Notorious...\n",
      "\n",
      "Changing artist name to 'The Notorious B.I.G.'\n",
      "Done. Found 0 songs.\n",
      "Searching for \"The Swalk\" by The Notorious B.I.G....\n"
     ]
    },
    {
     "name": "stderr",
     "output_type": "stream",
     "text": [
      "  6%|▌         | 749/13533 [55:25<19:01:15,  5.36s/it]"
     ]
    },
    {
     "name": "stdout",
     "output_type": "stream",
     "text": [
      "Done.\n",
      "Searching for songs by Special Generation...\n",
      "\n",
      "Done. Found 0 songs.\n",
      "Searching for \"Love Me Just For Me\" by Special Generation...\n"
     ]
    },
    {
     "name": "stderr",
     "output_type": "stream",
     "text": [
      "  6%|▌         | 750/13533 [55:30<18:12:51,  5.13s/it]"
     ]
    },
    {
     "name": "stdout",
     "output_type": "stream",
     "text": [
      "Done.\n",
      "Searching for songs by Faith No More...\n",
      "\n",
      "Done. Found 0 songs.\n",
      "Searching for \"Falling To Pieces\" by Faith No More...\n"
     ]
    },
    {
     "name": "stderr",
     "output_type": "stream",
     "text": [
      "  6%|▌         | 751/13533 [55:34<17:21:09,  4.89s/it]"
     ]
    },
    {
     "name": "stdout",
     "output_type": "stream",
     "text": [
      "Done.\n",
      "Searching for songs by Paul McCartney...\n",
      "\n",
      "Done. Found 0 songs.\n",
      "Searching for \"Figure Of Eight\" by Paul McCartney...\n"
     ]
    },
    {
     "name": "stderr",
     "output_type": "stream",
     "text": [
      "  6%|▌         | 752/13533 [55:39<17:06:26,  4.82s/it]"
     ]
    },
    {
     "name": "stdout",
     "output_type": "stream",
     "text": [
      "Done.\n",
      "Searching for songs by Bonnie Raitt...\n",
      "\n",
      "Done. Found 0 songs.\n",
      "Searching for \"Nick Of Time\" by Bonnie Raitt...\n"
     ]
    },
    {
     "name": "stderr",
     "output_type": "stream",
     "text": [
      "  6%|▌         | 753/13533 [55:44<17:15:02,  4.86s/it]"
     ]
    },
    {
     "name": "stdout",
     "output_type": "stream",
     "text": [
      "Done.\n",
      "Searching for songs by Bang...\n",
      "\n",
      "Changing artist name to 'BTS'\n",
      "Done. Found 0 songs.\n",
      "Searching for \"Holding My Heart\" by BTS...\n"
     ]
    },
    {
     "name": "stderr",
     "output_type": "stream",
     "text": [
      "  6%|▌         | 754/13533 [55:49<17:55:38,  5.05s/it]"
     ]
    },
    {
     "name": "stdout",
     "output_type": "stream",
     "text": [
      "Done.\n",
      "Searching for songs by The Smithereens...\n",
      "\n",
      "Done. Found 0 songs.\n",
      "Searching for \"Blues Before And After\" by The Smithereens...\n"
     ]
    },
    {
     "name": "stderr",
     "output_type": "stream",
     "text": [
      "  6%|▌         | 755/13533 [55:54<17:54:25,  5.05s/it]"
     ]
    },
    {
     "name": "stdout",
     "output_type": "stream",
     "text": [
      "Done.\n",
      "Searching for songs by Technotronic...\n",
      "\n",
      "Done. Found 0 songs.\n",
      "Searching for \"Rockin' Over The Beat\" by Technotronic...\n"
     ]
    },
    {
     "name": "stderr",
     "output_type": "stream",
     "text": [
      "  6%|▌         | 756/13533 [55:57<15:42:02,  4.42s/it]"
     ]
    },
    {
     "name": "stdout",
     "output_type": "stream",
     "text": [
      "Done.\n",
      "Searching for songs by Whitesnake...\n",
      "\n",
      "Done. Found 0 songs.\n",
      "Searching for \"Now You're Gone\" by Whitesnake...\n"
     ]
    },
    {
     "name": "stderr",
     "output_type": "stream",
     "text": [
      "  6%|▌         | 757/13533 [56:00<14:23:03,  4.05s/it]"
     ]
    },
    {
     "name": "stdout",
     "output_type": "stream",
     "text": [
      "Done.\n",
      "Searching for songs by Joe Cocker...\n",
      "\n",
      "Done. Found 0 songs.\n",
      "Searching for \"What Are You Doing With A Fool Like Me\" by Joe Cocker...\n"
     ]
    },
    {
     "name": "stderr",
     "output_type": "stream",
     "text": [
      "  6%|▌         | 758/13533 [56:05<14:48:10,  4.17s/it]"
     ]
    },
    {
     "name": "stdout",
     "output_type": "stream",
     "text": [
      "Done.\n",
      "Searching for songs by Timmy T....\n",
      "\n",
      "Changing artist name to 'Timbaland'\n",
      "Done. Found 0 songs.\n",
      "Searching for \"What Will I Do\" by Timbaland...\n"
     ]
    },
    {
     "name": "stderr",
     "output_type": "stream",
     "text": [
      "  6%|▌         | 759/13533 [56:11<16:23:59,  4.62s/it]"
     ]
    },
    {
     "name": "stdout",
     "output_type": "stream",
     "text": [
      "Done.\n",
      "Searching for songs by Lita Ford...\n",
      "\n",
      "Done. Found 0 songs.\n",
      "Searching for \"Hungry\" by Lita Ford...\n"
     ]
    },
    {
     "name": "stderr",
     "output_type": "stream",
     "text": [
      "  6%|▌         | 760/13533 [56:15<16:44:10,  4.72s/it]"
     ]
    },
    {
     "name": "stdout",
     "output_type": "stream",
     "text": [
      "Done.\n",
      "Searching for songs by Michael McDonald...\n",
      "\n",
      "Done. Found 0 songs.\n",
      "Searching for \"Take It To Heart\" by Michael McDonald...\n"
     ]
    },
    {
     "name": "stderr",
     "output_type": "stream",
     "text": [
      "  6%|▌         | 761/13533 [56:21<17:34:07,  4.95s/it]"
     ]
    },
    {
     "name": "stdout",
     "output_type": "stream",
     "text": [
      "Done.\n",
      "Searching for songs by Bryan Adams...\n",
      "\n",
      "Done. Found 0 songs.\n",
      "Searching for \"(Everything I Do) I Do It For You\" by Bryan Adams...\n"
     ]
    },
    {
     "name": "stderr",
     "output_type": "stream",
     "text": [
      "  6%|▌         | 762/13533 [56:28<19:42:14,  5.55s/it]"
     ]
    },
    {
     "name": "stdout",
     "output_type": "stream",
     "text": [
      "Done.\n",
      "Searching for songs by Whitney Houston...\n",
      "\n",
      "Done. Found 0 songs.\n",
      "Searching for \"All The Man That I Need\" by Whitney Houston...\n"
     ]
    },
    {
     "name": "stderr",
     "output_type": "stream",
     "text": [
      "  6%|▌         | 763/13533 [56:32<17:57:49,  5.06s/it]"
     ]
    },
    {
     "name": "stdout",
     "output_type": "stream",
     "text": [
      "Done.\n",
      "Searching for songs by Amy Grant...\n",
      "\n",
      "Done. Found 0 songs.\n",
      "Searching for \"Baby Baby\" by Amy Grant...\n"
     ]
    },
    {
     "name": "stderr",
     "output_type": "stream",
     "text": [
      "  6%|▌         | 764/13533 [56:37<17:34:46,  4.96s/it]"
     ]
    },
    {
     "name": "stdout",
     "output_type": "stream",
     "text": [
      "Done.\n",
      "Searching for songs by Michael Jackson...\n",
      "\n",
      "Done. Found 0 songs.\n",
      "Searching for \"Black Or White\" by Michael Jackson...\n"
     ]
    },
    {
     "name": "stderr",
     "output_type": "stream",
     "text": [
      "  6%|▌         | 765/13533 [56:41<17:18:44,  4.88s/it]"
     ]
    },
    {
     "name": "stdout",
     "output_type": "stream",
     "text": [
      "Done.\n",
      "Searching for songs by Gloria Estefan...\n",
      "\n",
      "Done. Found 0 songs.\n",
      "Searching for \"Coming Out Of The Dark\" by Gloria Estefan...\n"
     ]
    },
    {
     "name": "stderr",
     "output_type": "stream",
     "text": [
      "  6%|▌         | 766/13533 [56:44<15:23:30,  4.34s/it]"
     ]
    },
    {
     "name": "stdout",
     "output_type": "stream",
     "text": [
      "Done.\n",
      "Searching for songs by Prince And The N.P.G....\n",
      "\n"
     ]
    },
    {
     "name": "stderr",
     "output_type": "stream",
     "text": [
      "  6%|▌         | 767/13533 [56:45<11:58:41,  3.38s/it]"
     ]
    },
    {
     "name": "stdout",
     "output_type": "stream",
     "text": [
      "No results found for 'Prince And The N.P.G.'.\n",
      "Searching for songs by Mariah Carey...\n",
      "\n",
      "Done. Found 0 songs.\n",
      "Searching for \"Emotions\" by Mariah Carey...\n"
     ]
    },
    {
     "name": "stderr",
     "output_type": "stream",
     "text": [
      "  6%|▌         | 768/13533 [56:49<11:46:42,  3.32s/it]"
     ]
    },
    {
     "name": "stdout",
     "output_type": "stream",
     "text": [
      "Done.\n",
      "Searching for songs by C+C Music Factory...\n",
      "\n",
      "Done. Found 0 songs.\n",
      "Searching for \"Gonna Make You Sweat (Everybody Dance Now)\" by C+C Music Factory...\n"
     ]
    },
    {
     "name": "stderr",
     "output_type": "stream",
     "text": [
      "  6%|▌         | 769/13533 [56:57<17:10:56,  4.85s/it]"
     ]
    },
    {
     "name": "stdout",
     "output_type": "stream",
     "text": [
      "Exception \n",
      "\n",
      "Searching for songs by Marky Mark & The Funky Bunch Featuring Loleatta Holloway...\n",
      "\n"
     ]
    },
    {
     "name": "stderr",
     "output_type": "stream",
     "text": [
      "  6%|▌         | 770/13533 [56:58<13:03:00,  3.68s/it]"
     ]
    },
    {
     "name": "stdout",
     "output_type": "stream",
     "text": [
      "No results found for 'Marky Mark & The Funky Bunch Featuring Loleatta Holloway'.\n",
      "Searching for songs by Color Me Badd...\n",
      "\n",
      "Done. Found 0 songs.\n",
      "Searching for \"I Adore Mi Amor\" by Color Me Badd...\n"
     ]
    },
    {
     "name": "stderr",
     "output_type": "stream",
     "text": [
      "  6%|▌         | 771/13533 [57:04<15:45:03,  4.44s/it]"
     ]
    },
    {
     "name": "stdout",
     "output_type": "stream",
     "text": [
      "Done.\n",
      "Searching for songs by Mariah Carey...\n",
      "\n",
      "Done. Found 0 songs.\n",
      "Searching for \"I Don't Wanna Cry\" by Mariah Carey...\n"
     ]
    },
    {
     "name": "stderr",
     "output_type": "stream",
     "text": [
      "  6%|▌         | 772/13533 [57:07<14:07:43,  3.99s/it]"
     ]
    },
    {
     "name": "stdout",
     "output_type": "stream",
     "text": [
      "Done.\n",
      "Searching for songs by Hi-Five...\n",
      "\n"
     ]
    },
    {
     "name": "stderr",
     "output_type": "stream",
     "text": [
      "  6%|▌         | 773/13533 [57:08<10:42:31,  3.02s/it]"
     ]
    },
    {
     "name": "stdout",
     "output_type": "stream",
     "text": [
      "Exception \n",
      "\n",
      "Searching for songs by Londonbeat...\n",
      "\n",
      "Done. Found 0 songs.\n",
      "Searching for \"I've Been Thinking About You\" by Londonbeat...\n"
     ]
    },
    {
     "name": "stderr",
     "output_type": "stream",
     "text": [
      "  6%|▌         | 774/13533 [57:12<11:28:04,  3.24s/it]"
     ]
    },
    {
     "name": "stdout",
     "output_type": "stream",
     "text": [
      "Done.\n",
      "Searching for songs by Roxette...\n",
      "\n"
     ]
    }
   ],
   "source": [
    "# this script appends data to the csv file\n",
    "csv_file = 'lyrics_1989_onwards.csv'\n",
    "# make sure file is empty/ non existent before script starts\n",
    "import pickle\n",
    "import pandas as pd\n",
    "from tqdm import tqdm\n",
    "import csv\n",
    "\n",
    "token = 'BVUCPvV3k4iToDaobKg3khKmDJgFF1-92I5XSTJfvKo9tSCslVtXbV9dddCHyWRe';\n",
    "import lyricsgenius\n",
    "genius = lyricsgenius.Genius(token)\n",
    "\n",
    "df = pd.read_csv('hot100_cleaned_1989.csv')\n",
    "df_dict = df.to_dict('records')\n",
    "f=open(csv_file, 'a')\n",
    "iter = 0\n",
    "success = 0\n",
    "failed = 0\n",
    "csvw = csv.writer(f, delimiter=',')\n",
    "csvw.writerow(['title', 'artist','lyrics'])\n",
    "for row in tqdm(df_dict):\n",
    "    try:\n",
    "        # iter+=1\n",
    "        # if(iter==10):\n",
    "        #     break\n",
    "        # print(row['artist'])\n",
    "        artist = genius.search_artist(row['artist'], allow_name_change=True, max_songs=0)\n",
    "        if(artist==None):\n",
    "            failed+=1\n",
    "            # print(\"Not found\")\n",
    "            csvw.writerow([row['title'], row['artist'], ''])\n",
    "        else:\n",
    "            # print(row['title'])\n",
    "            song = artist.song(row['title'])\n",
    "            if(song==None):\n",
    "                csvw.writerow([row['title'], row['artist'],''])\n",
    "                failed+=1\n",
    "            elif(song.lyrics==None):\n",
    "                csvw.writerow([row['title'], row['artist'],''])\n",
    "                failed+=1\n",
    "            else:\n",
    "                csvw.writerow([row['title'], row['artist'], song.lyrics])\n",
    "                success+=1\n",
    "            # print(song.lyrics)\n",
    "    except:\n",
    "        print(\"Exception \\n\")\n",
    "    f.flush()\n",
    "print(f'Success count: {success}, Failure count: {failed}')\n",
    "\n"
   ]
  },
  {
   "cell_type": "code",
   "execution_count": null,
   "id": "f47c73e2",
   "metadata": {},
   "outputs": [],
   "source": []
  }
 ],
 "metadata": {
  "kernelspec": {
   "display_name": "Python 3.10.6 64-bit",
   "language": "python",
   "name": "python3"
  },
  "language_info": {
   "codemirror_mode": {
    "name": "ipython",
    "version": 3
   },
   "file_extension": ".py",
   "mimetype": "text/x-python",
   "name": "python",
   "nbconvert_exporter": "python",
   "pygments_lexer": "ipython3",
   "version": "3.10.6"
  },
  "vscode": {
   "interpreter": {
    "hash": "b0fa6594d8f4cbf19f97940f81e996739fb7646882a419484c72d19e05852a7e"
   }
  }
 },
 "nbformat": 4,
 "nbformat_minor": 5
}
